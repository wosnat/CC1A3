{
 "cells": [
  {
   "cell_type": "raw",
   "id": "3b188dbb",
   "metadata": {},
   "source": [
    "if (!requireNamespace(\"BiocManager\"))\n",
    "    install.packages(\"BiocManager\")\n",
    "BiocManager::install(c(\"limma\", \"edgeR\", \"Glimma\", \"org.Mm.eg.db\", \"gplots\", \"RColorBrewer\", \"NMF\", \"BiasedUrn\"))"
   ]
  },
  {
   "cell_type": "raw",
   "id": "e58597eb",
   "metadata": {},
   "source": [
    "if (!requireNamespace(\"BiocManager\"))\n",
    "    install.packages(\"BiocManager\")\n",
    "BiocManager::install(c(\"apeglm\"))"
   ]
  },
  {
   "cell_type": "raw",
   "id": "b0de091a",
   "metadata": {},
   "source": [
    "install.packages('statmod')"
   ]
  },
  {
   "cell_type": "code",
   "execution_count": 1,
   "id": "c691b500",
   "metadata": {},
   "outputs": [
    {
     "name": "stderr",
     "output_type": "stream",
     "text": [
      "Loading required package: S4Vectors\n",
      "\n",
      "Loading required package: stats4\n",
      "\n",
      "Loading required package: BiocGenerics\n",
      "\n",
      "\n",
      "Attaching package: 'BiocGenerics'\n",
      "\n",
      "\n",
      "The following objects are masked from 'package:stats':\n",
      "\n",
      "    IQR, mad, sd, var, xtabs\n",
      "\n",
      "\n",
      "The following objects are masked from 'package:base':\n",
      "\n",
      "    anyDuplicated, aperm, append, as.data.frame, basename, cbind,\n",
      "    colnames, dirname, do.call, duplicated, eval, evalq, Filter, Find,\n",
      "    get, grep, grepl, intersect, is.unsorted, lapply, Map, mapply,\n",
      "    match, mget, order, paste, pmax, pmax.int, pmin, pmin.int,\n",
      "    Position, rank, rbind, Reduce, rownames, sapply, setdiff, sort,\n",
      "    table, tapply, union, unique, unsplit, which.max, which.min\n",
      "\n",
      "\n",
      "\n",
      "Attaching package: 'S4Vectors'\n",
      "\n",
      "\n",
      "The following objects are masked from 'package:base':\n",
      "\n",
      "    expand.grid, I, unname\n",
      "\n",
      "\n",
      "Loading required package: IRanges\n",
      "\n",
      "\n",
      "Attaching package: 'IRanges'\n",
      "\n",
      "\n",
      "The following object is masked from 'package:grDevices':\n",
      "\n",
      "    windows\n",
      "\n",
      "\n",
      "Loading required package: GenomicRanges\n",
      "\n",
      "Loading required package: GenomeInfoDb\n",
      "\n",
      "Loading required package: SummarizedExperiment\n",
      "\n",
      "Loading required package: MatrixGenerics\n",
      "\n",
      "Loading required package: matrixStats\n",
      "\n",
      "\n",
      "Attaching package: 'MatrixGenerics'\n",
      "\n",
      "\n",
      "The following objects are masked from 'package:matrixStats':\n",
      "\n",
      "    colAlls, colAnyNAs, colAnys, colAvgsPerRowSet, colCollapse,\n",
      "    colCounts, colCummaxs, colCummins, colCumprods, colCumsums,\n",
      "    colDiffs, colIQRDiffs, colIQRs, colLogSumExps, colMadDiffs,\n",
      "    colMads, colMaxs, colMeans2, colMedians, colMins, colOrderStats,\n",
      "    colProds, colQuantiles, colRanges, colRanks, colSdDiffs, colSds,\n",
      "    colSums2, colTabulates, colVarDiffs, colVars, colWeightedMads,\n",
      "    colWeightedMeans, colWeightedMedians, colWeightedSds,\n",
      "    colWeightedVars, rowAlls, rowAnyNAs, rowAnys, rowAvgsPerColSet,\n",
      "    rowCollapse, rowCounts, rowCummaxs, rowCummins, rowCumprods,\n",
      "    rowCumsums, rowDiffs, rowIQRDiffs, rowIQRs, rowLogSumExps,\n",
      "    rowMadDiffs, rowMads, rowMaxs, rowMeans2, rowMedians, rowMins,\n",
      "    rowOrderStats, rowProds, rowQuantiles, rowRanges, rowRanks,\n",
      "    rowSdDiffs, rowSds, rowSums2, rowTabulates, rowVarDiffs, rowVars,\n",
      "    rowWeightedMads, rowWeightedMeans, rowWeightedMedians,\n",
      "    rowWeightedSds, rowWeightedVars\n",
      "\n",
      "\n",
      "Loading required package: Biobase\n",
      "\n",
      "Welcome to Bioconductor\n",
      "\n",
      "    Vignettes contain introductory material; view with\n",
      "    'browseVignettes()'. To cite Bioconductor, see\n",
      "    'citation(\"Biobase\")', and for packages 'citation(\"pkgname\")'.\n",
      "\n",
      "\n",
      "\n",
      "Attaching package: 'Biobase'\n",
      "\n",
      "\n",
      "The following object is masked from 'package:MatrixGenerics':\n",
      "\n",
      "    rowMedians\n",
      "\n",
      "\n",
      "The following objects are masked from 'package:matrixStats':\n",
      "\n",
      "    anyMissing, rowMedians\n",
      "\n",
      "\n"
     ]
    }
   ],
   "source": [
    "library(DESeq2)\n",
    "library(RColorBrewer)"
   ]
  },
  {
   "cell_type": "code",
   "execution_count": 2,
   "id": "f832e13d",
   "metadata": {},
   "outputs": [],
   "source": [
    "library(reshape2)\n"
   ]
  },
  {
   "cell_type": "code",
   "execution_count": 3,
   "id": "0b9b53ac",
   "metadata": {},
   "outputs": [
    {
     "name": "stderr",
     "output_type": "stream",
     "text": [
      "\n",
      "Attaching package: 'gplots'\n",
      "\n",
      "\n",
      "The following object is masked from 'package:IRanges':\n",
      "\n",
      "    space\n",
      "\n",
      "\n",
      "The following object is masked from 'package:S4Vectors':\n",
      "\n",
      "    space\n",
      "\n",
      "\n",
      "The following object is masked from 'package:stats':\n",
      "\n",
      "    lowess\n",
      "\n",
      "\n"
     ]
    }
   ],
   "source": [
    "library(\"gplots\")\n"
   ]
  },
  {
   "cell_type": "code",
   "execution_count": 4,
   "id": "89c1f516",
   "metadata": {},
   "outputs": [
    {
     "name": "stderr",
     "output_type": "stream",
     "text": [
      "── \u001b[1mAttaching core tidyverse packages\u001b[22m ──────────────────────────────────────────────────────────────── tidyverse 2.0.0 ──\n",
      "\u001b[32m✔\u001b[39m \u001b[34mdplyr    \u001b[39m 1.1.0     \u001b[32m✔\u001b[39m \u001b[34mreadr    \u001b[39m 2.1.4\n",
      "\u001b[32m✔\u001b[39m \u001b[34mforcats  \u001b[39m 1.0.0     \u001b[32m✔\u001b[39m \u001b[34mstringr  \u001b[39m 1.5.0\n",
      "\u001b[32m✔\u001b[39m \u001b[34mggplot2  \u001b[39m 3.4.1     \u001b[32m✔\u001b[39m \u001b[34mtibble   \u001b[39m 3.1.8\n",
      "\u001b[32m✔\u001b[39m \u001b[34mlubridate\u001b[39m 1.9.2     \u001b[32m✔\u001b[39m \u001b[34mtidyr    \u001b[39m 1.3.0\n",
      "\u001b[32m✔\u001b[39m \u001b[34mpurrr    \u001b[39m 1.0.1     \n",
      "── \u001b[1mConflicts\u001b[22m ────────────────────────────────────────────────────────────────────────────────── tidyverse_conflicts() ──\n",
      "\u001b[31m✖\u001b[39m \u001b[34mlubridate\u001b[39m::\u001b[32m%within%()\u001b[39m masks \u001b[34mIRanges\u001b[39m::%within%()\n",
      "\u001b[31m✖\u001b[39m \u001b[34mdplyr\u001b[39m::\u001b[32mcollapse()\u001b[39m     masks \u001b[34mIRanges\u001b[39m::collapse()\n",
      "\u001b[31m✖\u001b[39m \u001b[34mdplyr\u001b[39m::\u001b[32mcombine()\u001b[39m      masks \u001b[34mBiobase\u001b[39m::combine(), \u001b[34mBiocGenerics\u001b[39m::combine()\n",
      "\u001b[31m✖\u001b[39m \u001b[34mdplyr\u001b[39m::\u001b[32mcount()\u001b[39m        masks \u001b[34mmatrixStats\u001b[39m::count()\n",
      "\u001b[31m✖\u001b[39m \u001b[34mdplyr\u001b[39m::\u001b[32mdesc()\u001b[39m         masks \u001b[34mIRanges\u001b[39m::desc()\n",
      "\u001b[31m✖\u001b[39m \u001b[34mtidyr\u001b[39m::\u001b[32mexpand()\u001b[39m       masks \u001b[34mS4Vectors\u001b[39m::expand()\n",
      "\u001b[31m✖\u001b[39m \u001b[34mdplyr\u001b[39m::\u001b[32mfilter()\u001b[39m       masks \u001b[34mstats\u001b[39m::filter()\n",
      "\u001b[31m✖\u001b[39m \u001b[34mdplyr\u001b[39m::\u001b[32mfirst()\u001b[39m        masks \u001b[34mS4Vectors\u001b[39m::first()\n",
      "\u001b[31m✖\u001b[39m \u001b[34mdplyr\u001b[39m::\u001b[32mlag()\u001b[39m          masks \u001b[34mstats\u001b[39m::lag()\n",
      "\u001b[31m✖\u001b[39m \u001b[34mggplot2\u001b[39m::\u001b[32mPosition()\u001b[39m   masks \u001b[34mBiocGenerics\u001b[39m::Position(), \u001b[34mbase\u001b[39m::Position()\n",
      "\u001b[31m✖\u001b[39m \u001b[34mpurrr\u001b[39m::\u001b[32mreduce()\u001b[39m       masks \u001b[34mGenomicRanges\u001b[39m::reduce(), \u001b[34mIRanges\u001b[39m::reduce()\n",
      "\u001b[31m✖\u001b[39m \u001b[34mdplyr\u001b[39m::\u001b[32mrename()\u001b[39m       masks \u001b[34mS4Vectors\u001b[39m::rename()\n",
      "\u001b[31m✖\u001b[39m \u001b[34mlubridate\u001b[39m::\u001b[32msecond()\u001b[39m   masks \u001b[34mS4Vectors\u001b[39m::second()\n",
      "\u001b[31m✖\u001b[39m \u001b[34mlubridate\u001b[39m::\u001b[32msecond<-()\u001b[39m masks \u001b[34mS4Vectors\u001b[39m::second<-()\n",
      "\u001b[31m✖\u001b[39m \u001b[34mdplyr\u001b[39m::\u001b[32mslice()\u001b[39m        masks \u001b[34mIRanges\u001b[39m::slice()\n",
      "\u001b[36mℹ\u001b[39m Use the conflicted package (\u001b[3m\u001b[34m<http://conflicted.r-lib.org/>\u001b[39m\u001b[23m) to force all conflicts to become errors\n"
     ]
    }
   ],
   "source": [
    "library(readxl)\n",
    "library(tidyverse)"
   ]
  },
  {
   "cell_type": "code",
   "execution_count": 5,
   "id": "0050dbcb",
   "metadata": {},
   "outputs": [],
   "source": [
    "library(\"pheatmap\")\n",
    "library(\"RColorBrewer\")"
   ]
  },
  {
   "cell_type": "code",
   "execution_count": 6,
   "id": "6956aecf",
   "metadata": {},
   "outputs": [],
   "source": [
    "options(repr.plot.width = 10, repr.plot.height = 10, repr.plot.res = 300)"
   ]
  },
  {
   "cell_type": "code",
   "execution_count": 7,
   "id": "39762d19",
   "metadata": {},
   "outputs": [],
   "source": [
    "HCOLOR = '#E26A2C'\n",
    "HCOLOR_light = '#FDA65D'\n",
    "PCOLOR = '#99cc99'\n",
    "PCOLOR_light = '#aad5aa'\n",
    "PRO_COLOR = 'MediumSeaGreen'\n",
    "\n",
    "DONCOLOR = '#7285b7'\n",
    "RDONCOLOR = 'black' #'#00334D'\n",
    "DINCOLOR = '#bbdaff' #'#000066'\n",
    "\n",
    "DOCCOLOR = '#cc6666'\n",
    "RDOCCOLOR = 'black' #'#00334D'\n",
    "DICCOLOR = '#ff9da4' #'#000066'\n",
    "\n",
    "\n",
    "tpal = brewer.pal(5, \"Purples\")\n",
    "gpal = brewer.pal(4, 'Dark2')\n",
    "\n",
    "green_palette = c(\n",
    "    \"#A8E6CF\",  # Light Mint – soft and fresh\n",
    "    \"#66CDAA\",  # Medium Aquamarine – fresh and lively\n",
    "    \"#2CA58D\",  # Viridian – rich and cool-toned\n",
    "    \"#2E8B57\",  # Sea Green – deep and elegant\n",
    "    \"#14532D\",   # Dark Forest – dramatic and grounding\n",
    "    \"#3CB371\",  # Medium Sea Green – balanced and vibrant\n",
    "\n",
    "    \"#228B22\",  # Forest Green – strong and grounded\n",
    "    \"#006400\",   # Dark Green – bold and dramatic\n",
    "\n",
    "    \"#56C596\",  # Jade Green – vibrant and noticeable\n",
    "    \"#1E5631\"  # Deep Moss – earthy and bold\n",
    ")\n",
    "ann_colors = list(\n",
    "    Timepoint = c('1'=green_palette[1], '2'=green_palette[2], '3'=green_palette[3], \n",
    "                  '4'=green_palette[4], '5'=green_palette[5]),\n",
    "    Group.Timepoint = c(\n",
    "        'P1'=green_palette[1], 'P2'=green_palette[2], 'P3'=green_palette[3], \n",
    "                  'P4'=green_palette[4], 'P5'=green_palette[5],\n",
    "        'C1'=green_palette[1], 'C2'=green_palette[2], 'C3'=green_palette[3], \n",
    "                  'C4'=green_palette[4], 'C5'=green_palette[5]\n",
    "    ),\n",
    "    Group = c(P = PCOLOR_light, C = PRO_COLOR),\n",
    "    treatment = c(ref = gpal[2], long.term=gpal[4]),\n",
    "    Group.Timepoint.shapes = c(C1=21,C2=22,C3=24,C4=23,C5=25,P1=1,P2=0 # ,2,#5, 6\n",
    "                              )\n",
    ")\n"
   ]
  },
  {
   "cell_type": "code",
   "execution_count": 8,
   "id": "32d13a10",
   "metadata": {},
   "outputs": [
    {
     "data": {
      "text/html": [
       "<style>\n",
       ".list-inline {list-style: none; margin:0; padding: 0}\n",
       ".list-inline>li {display: inline-block}\n",
       ".list-inline>li:not(:last-child)::after {content: \"\\00b7\"; padding: 0 .5ex}\n",
       "</style>\n",
       "<ol class=list-inline><li>'CC1A3 RNASEQ 1A3 DESeq ref vs longterm.ipynb'</li><li>'CC1A3 RNASEQ 1A3 DESeq.ipynb'</li><li>'CC1A3 RNASEQ MED4 correlation.ipynb'</li><li>'CC1A3 RNASEQ MED4 DESeq ref vs longterm.ipynb'</li><li>'CC1A3 RNASEQ MED4 DESeq.ipynb'</li><li>'CC1A3 RNASEQ MED4 DESeq_longterm2.ipynb'</li><li>'CC1A3 WGCNA CC.ipynb'</li><li>'data'</li><li>'DE_results'</li><li>'figures'</li></ol>\n"
      ],
      "text/latex": [
       "\\begin{enumerate*}\n",
       "\\item 'CC1A3 RNASEQ 1A3 DESeq ref vs longterm.ipynb'\n",
       "\\item 'CC1A3 RNASEQ 1A3 DESeq.ipynb'\n",
       "\\item 'CC1A3 RNASEQ MED4 correlation.ipynb'\n",
       "\\item 'CC1A3 RNASEQ MED4 DESeq ref vs longterm.ipynb'\n",
       "\\item 'CC1A3 RNASEQ MED4 DESeq.ipynb'\n",
       "\\item 'CC1A3 RNASEQ MED4 DESeq\\_longterm2.ipynb'\n",
       "\\item 'CC1A3 WGCNA CC.ipynb'\n",
       "\\item 'data'\n",
       "\\item 'DE\\_results'\n",
       "\\item 'figures'\n",
       "\\end{enumerate*}\n"
      ],
      "text/markdown": [
       "1. 'CC1A3 RNASEQ 1A3 DESeq ref vs longterm.ipynb'\n",
       "2. 'CC1A3 RNASEQ 1A3 DESeq.ipynb'\n",
       "3. 'CC1A3 RNASEQ MED4 correlation.ipynb'\n",
       "4. 'CC1A3 RNASEQ MED4 DESeq ref vs longterm.ipynb'\n",
       "5. 'CC1A3 RNASEQ MED4 DESeq.ipynb'\n",
       "6. 'CC1A3 RNASEQ MED4 DESeq_longterm2.ipynb'\n",
       "7. 'CC1A3 WGCNA CC.ipynb'\n",
       "8. 'data'\n",
       "9. 'DE_results'\n",
       "10. 'figures'\n",
       "\n",
       "\n"
      ],
      "text/plain": [
       " [1] \"CC1A3 RNASEQ 1A3 DESeq ref vs longterm.ipynb\" \n",
       " [2] \"CC1A3 RNASEQ 1A3 DESeq.ipynb\"                 \n",
       " [3] \"CC1A3 RNASEQ MED4 correlation.ipynb\"          \n",
       " [4] \"CC1A3 RNASEQ MED4 DESeq ref vs longterm.ipynb\"\n",
       " [5] \"CC1A3 RNASEQ MED4 DESeq.ipynb\"                \n",
       " [6] \"CC1A3 RNASEQ MED4 DESeq_longterm2.ipynb\"      \n",
       " [7] \"CC1A3 WGCNA CC.ipynb\"                         \n",
       " [8] \"data\"                                         \n",
       " [9] \"DE_results\"                                   \n",
       "[10] \"figures\"                                      "
      ]
     },
     "metadata": {},
     "output_type": "display_data"
    }
   ],
   "source": [
    "list.files()"
   ]
  },
  {
   "cell_type": "code",
   "execution_count": 9,
   "id": "cb5aef00",
   "metadata": {},
   "outputs": [],
   "source": [
    "fname_counts = file.path('data', 'MED4_counts_combined.txt')"
   ]
  },
  {
   "cell_type": "code",
   "execution_count": 10,
   "id": "cf6bf3d0",
   "metadata": {},
   "outputs": [],
   "source": [
    "cdf = read.csv(fname_counts, sep='\\t' )"
   ]
  },
  {
   "cell_type": "code",
   "execution_count": 11,
   "id": "abbcc141",
   "metadata": {},
   "outputs": [],
   "source": [
    "rownames(cdf) = cdf$gene_id"
   ]
  },
  {
   "cell_type": "code",
   "execution_count": 12,
   "id": "b88b3d0c",
   "metadata": {},
   "outputs": [],
   "source": [
    "md = read_excel(file.path('data','CC1A3_RNASEQ_metadata.xlsx'))"
   ]
  },
  {
   "cell_type": "code",
   "execution_count": 13,
   "id": "9001f83b",
   "metadata": {},
   "outputs": [
    {
     "data": {
      "text/html": [
       "<style>\n",
       ".list-inline {list-style: none; margin:0; padding: 0}\n",
       ".list-inline>li {display: inline-block}\n",
       ".list-inline>li:not(:last-child)::after {content: \"\\00b7\"; padding: 0 .5ex}\n",
       "</style>\n",
       "<ol class=list-inline><li>'sample_id'</li><li>'TGCnew#'</li><li>'sample'</li><li>'Conc.Qubit TGC [ng/ul]'</li><li>'starting input RNA (ng)'</li><li>'Lib_conc [ng/ul]'</li><li>'Group'</li><li>'Timepoint'</li><li>'Replicate'</li><li>'Day'</li><li>'extraction'</li><li>'techincal_replicate'</li></ol>\n"
      ],
      "text/latex": [
       "\\begin{enumerate*}\n",
       "\\item 'sample\\_id'\n",
       "\\item 'TGCnew\\#'\n",
       "\\item 'sample'\n",
       "\\item 'Conc.Qubit TGC {[}ng/ul{]}'\n",
       "\\item 'starting input RNA (ng)'\n",
       "\\item 'Lib\\_conc {[}ng/ul{]}'\n",
       "\\item 'Group'\n",
       "\\item 'Timepoint'\n",
       "\\item 'Replicate'\n",
       "\\item 'Day'\n",
       "\\item 'extraction'\n",
       "\\item 'techincal\\_replicate'\n",
       "\\end{enumerate*}\n"
      ],
      "text/markdown": [
       "1. 'sample_id'\n",
       "2. 'TGCnew#'\n",
       "3. 'sample'\n",
       "4. 'Conc.Qubit TGC [ng/ul]'\n",
       "5. 'starting input RNA (ng)'\n",
       "6. 'Lib_conc [ng/ul]'\n",
       "7. 'Group'\n",
       "8. 'Timepoint'\n",
       "9. 'Replicate'\n",
       "10. 'Day'\n",
       "11. 'extraction'\n",
       "12. 'techincal_replicate'\n",
       "\n",
       "\n"
      ],
      "text/plain": [
       " [1] \"sample_id\"               \"TGCnew#\"                \n",
       " [3] \"sample\"                  \"Conc.Qubit TGC [ng/ul]\" \n",
       " [5] \"starting input RNA (ng)\" \"Lib_conc [ng/ul]\"       \n",
       " [7] \"Group\"                   \"Timepoint\"              \n",
       " [9] \"Replicate\"               \"Day\"                    \n",
       "[11] \"extraction\"              \"techincal_replicate\"    "
      ]
     },
     "metadata": {},
     "output_type": "display_data"
    }
   ],
   "source": [
    "names(md)"
   ]
  },
  {
   "cell_type": "code",
   "execution_count": 14,
   "id": "8e705303",
   "metadata": {},
   "outputs": [],
   "source": [
    "md = md %>% rename('init_RNA' = 'starting input RNA (ng)')"
   ]
  },
  {
   "cell_type": "code",
   "execution_count": 15,
   "id": "2bdfa458",
   "metadata": {},
   "outputs": [],
   "source": [
    "md = md %>% mutate(phase = factor(recode(Timepoint, \n",
    "                                  '1' = 'logExp', \n",
    "                                  '2' = 'decline' , \n",
    "                                  '3' = 'long-term' ,\n",
    "                                  '4' = 'long-term' ,\n",
    "                                  '5' = 'long-term' ,\n",
    "                                         .default = 'NA'\n",
    "                                 ), levels=c('logExp', 'decline', 'long-term', 'NA')))"
   ]
  },
  {
   "cell_type": "code",
   "execution_count": 16,
   "id": "7a596dad",
   "metadata": {},
   "outputs": [
    {
     "data": {
      "text/html": [
       "<style>\n",
       ".list-inline {list-style: none; margin:0; padding: 0}\n",
       ".list-inline>li {display: inline-block}\n",
       ".list-inline>li:not(:last-child)::after {content: \"\\00b7\"; padding: 0 .5ex}\n",
       "</style>\n",
       "<ol class=list-inline><li>'A1'</li><li>'A1'</li><li>'A1'</li><li>'A2'</li><li>'A2'</li><li>'A2'</li><li>'A3'</li><li>'A3'</li><li>'A3'</li><li>'C1'</li><li>'C1'</li><li>'C1'</li><li>'C2'</li><li>'C2'</li><li>'C2'</li><li>'C2'</li><li>'C2'</li><li>'C3'</li><li>'C3'</li><li>'C3'</li><li>'C3'</li><li>'C3'</li><li>'C4'</li><li>'C4'</li><li>'C4'</li><li>'C5'</li><li>'C5'</li><li>'C5'</li><li>'MockMock'</li><li>'P1'</li><li>'P1'</li><li>'P1'</li><li>'P2'</li><li>'P2'</li><li>'P2'</li></ol>\n"
      ],
      "text/latex": [
       "\\begin{enumerate*}\n",
       "\\item 'A1'\n",
       "\\item 'A1'\n",
       "\\item 'A1'\n",
       "\\item 'A2'\n",
       "\\item 'A2'\n",
       "\\item 'A2'\n",
       "\\item 'A3'\n",
       "\\item 'A3'\n",
       "\\item 'A3'\n",
       "\\item 'C1'\n",
       "\\item 'C1'\n",
       "\\item 'C1'\n",
       "\\item 'C2'\n",
       "\\item 'C2'\n",
       "\\item 'C2'\n",
       "\\item 'C2'\n",
       "\\item 'C2'\n",
       "\\item 'C3'\n",
       "\\item 'C3'\n",
       "\\item 'C3'\n",
       "\\item 'C3'\n",
       "\\item 'C3'\n",
       "\\item 'C4'\n",
       "\\item 'C4'\n",
       "\\item 'C4'\n",
       "\\item 'C5'\n",
       "\\item 'C5'\n",
       "\\item 'C5'\n",
       "\\item 'MockMock'\n",
       "\\item 'P1'\n",
       "\\item 'P1'\n",
       "\\item 'P1'\n",
       "\\item 'P2'\n",
       "\\item 'P2'\n",
       "\\item 'P2'\n",
       "\\end{enumerate*}\n"
      ],
      "text/markdown": [
       "1. 'A1'\n",
       "2. 'A1'\n",
       "3. 'A1'\n",
       "4. 'A2'\n",
       "5. 'A2'\n",
       "6. 'A2'\n",
       "7. 'A3'\n",
       "8. 'A3'\n",
       "9. 'A3'\n",
       "10. 'C1'\n",
       "11. 'C1'\n",
       "12. 'C1'\n",
       "13. 'C2'\n",
       "14. 'C2'\n",
       "15. 'C2'\n",
       "16. 'C2'\n",
       "17. 'C2'\n",
       "18. 'C3'\n",
       "19. 'C3'\n",
       "20. 'C3'\n",
       "21. 'C3'\n",
       "22. 'C3'\n",
       "23. 'C4'\n",
       "24. 'C4'\n",
       "25. 'C4'\n",
       "26. 'C5'\n",
       "27. 'C5'\n",
       "28. 'C5'\n",
       "29. 'MockMock'\n",
       "30. 'P1'\n",
       "31. 'P1'\n",
       "32. 'P1'\n",
       "33. 'P2'\n",
       "34. 'P2'\n",
       "35. 'P2'\n",
       "\n",
       "\n"
      ],
      "text/plain": [
       " [1] \"A1\"       \"A1\"       \"A1\"       \"A2\"       \"A2\"       \"A2\"      \n",
       " [7] \"A3\"       \"A3\"       \"A3\"       \"C1\"       \"C1\"       \"C1\"      \n",
       "[13] \"C2\"       \"C2\"       \"C2\"       \"C2\"       \"C2\"       \"C3\"      \n",
       "[19] \"C3\"       \"C3\"       \"C3\"       \"C3\"       \"C4\"       \"C4\"      \n",
       "[25] \"C4\"       \"C5\"       \"C5\"       \"C5\"       \"MockMock\" \"P1\"      \n",
       "[31] \"P1\"       \"P1\"       \"P2\"       \"P2\"       \"P2\"      "
      ]
     },
     "metadata": {},
     "output_type": "display_data"
    }
   ],
   "source": [
    "group <- paste0(md$Group, md$Timepoint)\n",
    "group\n",
    "md$groupandtime = group"
   ]
  },
  {
   "cell_type": "code",
   "execution_count": 17,
   "id": "e511f7ed",
   "metadata": {},
   "outputs": [],
   "source": [
    "md = md %>% mutate(treatment = factor(recode(groupandtime, \n",
    "                                  'P1' = 'P1', \n",
    "                                  'C1' = 'C1' , \n",
    "                                  'C1' = 'C2' , \n",
    "                                  'C3' = 'long-term' ,\n",
    "                                  'C4' = 'long-term' ,\n",
    "                                  'C5' = 'long-term' ,\n",
    "                                         .default = 'NA'\n",
    "                                 ), levels=c('P1', 'C1', 'C2', 'long-term', 'NA')))"
   ]
  },
  {
   "cell_type": "code",
   "execution_count": 18,
   "id": "c93e1cc3",
   "metadata": {},
   "outputs": [
    {
     "data": {
      "text/html": [
       "<table class=\"dataframe\">\n",
       "<caption>A tibble: 6 × 15</caption>\n",
       "<thead>\n",
       "\t<tr><th scope=col>sample_id</th><th scope=col>TGCnew#</th><th scope=col>sample</th><th scope=col>Conc.Qubit TGC [ng/ul]</th><th scope=col>init_RNA</th><th scope=col>Lib_conc [ng/ul]</th><th scope=col>Group</th><th scope=col>Timepoint</th><th scope=col>Replicate</th><th scope=col>Day</th><th scope=col>extraction</th><th scope=col>techincal_replicate</th><th scope=col>phase</th><th scope=col>groupandtime</th><th scope=col>treatment</th></tr>\n",
       "\t<tr><th scope=col>&lt;chr&gt;</th><th scope=col>&lt;dbl&gt;</th><th scope=col>&lt;chr&gt;</th><th scope=col>&lt;dbl&gt;</th><th scope=col>&lt;dbl&gt;</th><th scope=col>&lt;dbl&gt;</th><th scope=col>&lt;chr&gt;</th><th scope=col>&lt;chr&gt;</th><th scope=col>&lt;chr&gt;</th><th scope=col>&lt;chr&gt;</th><th scope=col>&lt;dbl&gt;</th><th scope=col>&lt;dbl&gt;</th><th scope=col>&lt;fct&gt;</th><th scope=col>&lt;chr&gt;</th><th scope=col>&lt;fct&gt;</th></tr>\n",
       "</thead>\n",
       "<tbody>\n",
       "\t<tr><td>A1A_S7 </td><td> 7</td><td>A1A</td><td>168.0</td><td>100</td><td>0.888</td><td>A</td><td>1</td><td>A</td><td>11</td><td>1</td><td>0</td><td>logExp </td><td>A1</td><td>NA</td></tr>\n",
       "\t<tr><td>A1B_S8 </td><td> 8</td><td>A1B</td><td> 99.8</td><td>100</td><td>0.850</td><td>A</td><td>1</td><td>B</td><td>11</td><td>1</td><td>0</td><td>logExp </td><td>A1</td><td>NA</td></tr>\n",
       "\t<tr><td>A1C_S9 </td><td> 9</td><td>A1C</td><td> 57.3</td><td>100</td><td>1.570</td><td>A</td><td>1</td><td>C</td><td>11</td><td>1</td><td>0</td><td>logExp </td><td>A1</td><td>NA</td></tr>\n",
       "\t<tr><td>A2A_S10</td><td>10</td><td>A2A</td><td> 69.0</td><td>100</td><td>0.592</td><td>A</td><td>2</td><td>A</td><td>18</td><td>2</td><td>0</td><td>decline</td><td>A2</td><td>NA</td></tr>\n",
       "\t<tr><td>A2B_S11</td><td>11</td><td>A2B</td><td> 41.9</td><td>100</td><td>0.570</td><td>A</td><td>2</td><td>B</td><td>18</td><td>2</td><td>0</td><td>decline</td><td>A2</td><td>NA</td></tr>\n",
       "\t<tr><td>A2C_S12</td><td>12</td><td>A2C</td><td> 67.2</td><td>100</td><td>0.980</td><td>A</td><td>2</td><td>C</td><td>18</td><td>4</td><td>0</td><td>decline</td><td>A2</td><td>NA</td></tr>\n",
       "</tbody>\n",
       "</table>\n"
      ],
      "text/latex": [
       "A tibble: 6 × 15\n",
       "\\begin{tabular}{lllllllllllllll}\n",
       " sample\\_id & TGCnew\\# & sample & Conc.Qubit TGC {[}ng/ul{]} & init\\_RNA & Lib\\_conc {[}ng/ul{]} & Group & Timepoint & Replicate & Day & extraction & techincal\\_replicate & phase & groupandtime & treatment\\\\\n",
       " <chr> & <dbl> & <chr> & <dbl> & <dbl> & <dbl> & <chr> & <chr> & <chr> & <chr> & <dbl> & <dbl> & <fct> & <chr> & <fct>\\\\\n",
       "\\hline\n",
       "\t A1A\\_S7  &  7 & A1A & 168.0 & 100 & 0.888 & A & 1 & A & 11 & 1 & 0 & logExp  & A1 & NA\\\\\n",
       "\t A1B\\_S8  &  8 & A1B &  99.8 & 100 & 0.850 & A & 1 & B & 11 & 1 & 0 & logExp  & A1 & NA\\\\\n",
       "\t A1C\\_S9  &  9 & A1C &  57.3 & 100 & 1.570 & A & 1 & C & 11 & 1 & 0 & logExp  & A1 & NA\\\\\n",
       "\t A2A\\_S10 & 10 & A2A &  69.0 & 100 & 0.592 & A & 2 & A & 18 & 2 & 0 & decline & A2 & NA\\\\\n",
       "\t A2B\\_S11 & 11 & A2B &  41.9 & 100 & 0.570 & A & 2 & B & 18 & 2 & 0 & decline & A2 & NA\\\\\n",
       "\t A2C\\_S12 & 12 & A2C &  67.2 & 100 & 0.980 & A & 2 & C & 18 & 4 & 0 & decline & A2 & NA\\\\\n",
       "\\end{tabular}\n"
      ],
      "text/markdown": [
       "\n",
       "A tibble: 6 × 15\n",
       "\n",
       "| sample_id &lt;chr&gt; | TGCnew# &lt;dbl&gt; | sample &lt;chr&gt; | Conc.Qubit TGC [ng/ul] &lt;dbl&gt; | init_RNA &lt;dbl&gt; | Lib_conc [ng/ul] &lt;dbl&gt; | Group &lt;chr&gt; | Timepoint &lt;chr&gt; | Replicate &lt;chr&gt; | Day &lt;chr&gt; | extraction &lt;dbl&gt; | techincal_replicate &lt;dbl&gt; | phase &lt;fct&gt; | groupandtime &lt;chr&gt; | treatment &lt;fct&gt; |\n",
       "|---|---|---|---|---|---|---|---|---|---|---|---|---|---|---|\n",
       "| A1A_S7  |  7 | A1A | 168.0 | 100 | 0.888 | A | 1 | A | 11 | 1 | 0 | logExp  | A1 | NA |\n",
       "| A1B_S8  |  8 | A1B |  99.8 | 100 | 0.850 | A | 1 | B | 11 | 1 | 0 | logExp  | A1 | NA |\n",
       "| A1C_S9  |  9 | A1C |  57.3 | 100 | 1.570 | A | 1 | C | 11 | 1 | 0 | logExp  | A1 | NA |\n",
       "| A2A_S10 | 10 | A2A |  69.0 | 100 | 0.592 | A | 2 | A | 18 | 2 | 0 | decline | A2 | NA |\n",
       "| A2B_S11 | 11 | A2B |  41.9 | 100 | 0.570 | A | 2 | B | 18 | 2 | 0 | decline | A2 | NA |\n",
       "| A2C_S12 | 12 | A2C |  67.2 | 100 | 0.980 | A | 2 | C | 18 | 4 | 0 | decline | A2 | NA |\n",
       "\n"
      ],
      "text/plain": [
       "  sample_id TGCnew# sample Conc.Qubit TGC [ng/ul] init_RNA Lib_conc [ng/ul]\n",
       "1 A1A_S7     7      A1A    168.0                  100      0.888           \n",
       "2 A1B_S8     8      A1B     99.8                  100      0.850           \n",
       "3 A1C_S9     9      A1C     57.3                  100      1.570           \n",
       "4 A2A_S10   10      A2A     69.0                  100      0.592           \n",
       "5 A2B_S11   11      A2B     41.9                  100      0.570           \n",
       "6 A2C_S12   12      A2C     67.2                  100      0.980           \n",
       "  Group Timepoint Replicate Day extraction techincal_replicate phase  \n",
       "1 A     1         A         11  1          0                   logExp \n",
       "2 A     1         B         11  1          0                   logExp \n",
       "3 A     1         C         11  1          0                   logExp \n",
       "4 A     2         A         18  2          0                   decline\n",
       "5 A     2         B         18  2          0                   decline\n",
       "6 A     2         C         18  4          0                   decline\n",
       "  groupandtime treatment\n",
       "1 A1           NA       \n",
       "2 A1           NA       \n",
       "3 A1           NA       \n",
       "4 A2           NA       \n",
       "5 A2           NA       \n",
       "6 A2           NA       "
      ]
     },
     "metadata": {},
     "output_type": "display_data"
    }
   ],
   "source": [
    "head(md)"
   ]
  },
  {
   "cell_type": "code",
   "execution_count": 19,
   "id": "2cab95c9",
   "metadata": {},
   "outputs": [],
   "source": [
    "md$Group = factor(md$Group, levels = c('P', 'C', 'A', 'Mock'))\n"
   ]
  },
  {
   "cell_type": "code",
   "execution_count": 20,
   "id": "8cde6c05",
   "metadata": {},
   "outputs": [
    {
     "data": {
      "text/html": [
       "<table class=\"dataframe\">\n",
       "<caption>A data.frame: 6 × 40</caption>\n",
       "<thead>\n",
       "\t<tr><th></th><th scope=col>gene_id</th><th scope=col>gene</th><th scope=col>product</th><th scope=col>protein_id</th><th scope=col>old_locus_tag</th><th scope=col>A1A_S7</th><th scope=col>A1B_S8</th><th scope=col>A1C_S9</th><th scope=col>A2A_S10</th><th scope=col>A2B_S11</th><th scope=col>⋯</th><th scope=col>C5A_S32</th><th scope=col>C5B_S33</th><th scope=col>C5C_S34</th><th scope=col>Mock_S35</th><th scope=col>P6A_S1</th><th scope=col>P6B_S2</th><th scope=col>P6C_S3</th><th scope=col>P7A_S4</th><th scope=col>P7B_S5</th><th scope=col>P7C_S6</th></tr>\n",
       "\t<tr><th></th><th scope=col>&lt;chr&gt;</th><th scope=col>&lt;chr&gt;</th><th scope=col>&lt;chr&gt;</th><th scope=col>&lt;chr&gt;</th><th scope=col>&lt;lgl&gt;</th><th scope=col>&lt;int&gt;</th><th scope=col>&lt;int&gt;</th><th scope=col>&lt;int&gt;</th><th scope=col>&lt;int&gt;</th><th scope=col>&lt;int&gt;</th><th scope=col>⋯</th><th scope=col>&lt;int&gt;</th><th scope=col>&lt;int&gt;</th><th scope=col>&lt;int&gt;</th><th scope=col>&lt;int&gt;</th><th scope=col>&lt;int&gt;</th><th scope=col>&lt;int&gt;</th><th scope=col>&lt;int&gt;</th><th scope=col>&lt;int&gt;</th><th scope=col>&lt;int&gt;</th><th scope=col>&lt;int&gt;</th></tr>\n",
       "</thead>\n",
       "<tbody>\n",
       "\t<tr><th scope=row>TX50_RS00020</th><td>TX50_RS00020</td><td>dnaN</td><td>DNA polymerase III subunit beta                        </td><td>WP_011131639.1</td><td>NA</td><td>0</td><td>0</td><td>0</td><td>1</td><td>0</td><td>⋯</td><td>1303</td><td>591</td><td>765</td><td>0</td><td>3076</td><td>3135</td><td>2995</td><td>2956</td><td>4869</td><td>4302</td></tr>\n",
       "\t<tr><th scope=row>TX50_RS00025</th><td>TX50_RS00025</td><td>    </td><td>hypothetical protein                                   </td><td>WP_011131640.1</td><td>NA</td><td>2</td><td>2</td><td>0</td><td>0</td><td>0</td><td>⋯</td><td>  85</td><td> 23</td><td> 66</td><td>2</td><td> 427</td><td> 310</td><td> 491</td><td> 111</td><td> 198</td><td> 191</td></tr>\n",
       "\t<tr><th scope=row>TX50_RS00030</th><td>TX50_RS00030</td><td>purL</td><td>phosphoribosylformylglycinamidine synthase subunit PurL</td><td>WP_011131641.1</td><td>NA</td><td>0</td><td>4</td><td>3</td><td>3</td><td>3</td><td>⋯</td><td> 513</td><td>328</td><td>518</td><td>0</td><td>1162</td><td>1365</td><td>1266</td><td>1878</td><td>3482</td><td>3459</td></tr>\n",
       "\t<tr><th scope=row>TX50_RS00035</th><td>TX50_RS00035</td><td>purF</td><td>amidophosphoribosyltransferase                         </td><td>WP_011131642.1</td><td>NA</td><td>0</td><td>1</td><td>1</td><td>0</td><td>0</td><td>⋯</td><td> 238</td><td>115</td><td>209</td><td>0</td><td> 914</td><td>1196</td><td>1035</td><td> 516</td><td>1070</td><td>1166</td></tr>\n",
       "\t<tr><th scope=row>TX50_RS00040</th><td>TX50_RS00040</td><td>    </td><td>DNA topoisomerase 4 subunit A                          </td><td>WP_011131643.1</td><td>NA</td><td>0</td><td>8</td><td>0</td><td>2</td><td>5</td><td>⋯</td><td> 491</td><td>218</td><td>354</td><td>0</td><td>1761</td><td>2014</td><td>1799</td><td>1399</td><td>1297</td><td>1216</td></tr>\n",
       "\t<tr><th scope=row>TX50_RS00045</th><td>TX50_RS00045</td><td>    </td><td>tetratricopeptide repeat protein                       </td><td>WP_011131644.1</td><td>NA</td><td>0</td><td>0</td><td>0</td><td>0</td><td>0</td><td>⋯</td><td>  80</td><td> 33</td><td> 55</td><td>0</td><td> 273</td><td> 200</td><td> 305</td><td> 250</td><td> 517</td><td> 345</td></tr>\n",
       "</tbody>\n",
       "</table>\n"
      ],
      "text/latex": [
       "A data.frame: 6 × 40\n",
       "\\begin{tabular}{r|lllllllllllllllllllll}\n",
       "  & gene\\_id & gene & product & protein\\_id & old\\_locus\\_tag & A1A\\_S7 & A1B\\_S8 & A1C\\_S9 & A2A\\_S10 & A2B\\_S11 & ⋯ & C5A\\_S32 & C5B\\_S33 & C5C\\_S34 & Mock\\_S35 & P6A\\_S1 & P6B\\_S2 & P6C\\_S3 & P7A\\_S4 & P7B\\_S5 & P7C\\_S6\\\\\n",
       "  & <chr> & <chr> & <chr> & <chr> & <lgl> & <int> & <int> & <int> & <int> & <int> & ⋯ & <int> & <int> & <int> & <int> & <int> & <int> & <int> & <int> & <int> & <int>\\\\\n",
       "\\hline\n",
       "\tTX50\\_RS00020 & TX50\\_RS00020 & dnaN & DNA polymerase III subunit beta                         & WP\\_011131639.1 & NA & 0 & 0 & 0 & 1 & 0 & ⋯ & 1303 & 591 & 765 & 0 & 3076 & 3135 & 2995 & 2956 & 4869 & 4302\\\\\n",
       "\tTX50\\_RS00025 & TX50\\_RS00025 &      & hypothetical protein                                    & WP\\_011131640.1 & NA & 2 & 2 & 0 & 0 & 0 & ⋯ &   85 &  23 &  66 & 2 &  427 &  310 &  491 &  111 &  198 &  191\\\\\n",
       "\tTX50\\_RS00030 & TX50\\_RS00030 & purL & phosphoribosylformylglycinamidine synthase subunit PurL & WP\\_011131641.1 & NA & 0 & 4 & 3 & 3 & 3 & ⋯ &  513 & 328 & 518 & 0 & 1162 & 1365 & 1266 & 1878 & 3482 & 3459\\\\\n",
       "\tTX50\\_RS00035 & TX50\\_RS00035 & purF & amidophosphoribosyltransferase                          & WP\\_011131642.1 & NA & 0 & 1 & 1 & 0 & 0 & ⋯ &  238 & 115 & 209 & 0 &  914 & 1196 & 1035 &  516 & 1070 & 1166\\\\\n",
       "\tTX50\\_RS00040 & TX50\\_RS00040 &      & DNA topoisomerase 4 subunit A                           & WP\\_011131643.1 & NA & 0 & 8 & 0 & 2 & 5 & ⋯ &  491 & 218 & 354 & 0 & 1761 & 2014 & 1799 & 1399 & 1297 & 1216\\\\\n",
       "\tTX50\\_RS00045 & TX50\\_RS00045 &      & tetratricopeptide repeat protein                        & WP\\_011131644.1 & NA & 0 & 0 & 0 & 0 & 0 & ⋯ &   80 &  33 &  55 & 0 &  273 &  200 &  305 &  250 &  517 &  345\\\\\n",
       "\\end{tabular}\n"
      ],
      "text/markdown": [
       "\n",
       "A data.frame: 6 × 40\n",
       "\n",
       "| <!--/--> | gene_id &lt;chr&gt; | gene &lt;chr&gt; | product &lt;chr&gt; | protein_id &lt;chr&gt; | old_locus_tag &lt;lgl&gt; | A1A_S7 &lt;int&gt; | A1B_S8 &lt;int&gt; | A1C_S9 &lt;int&gt; | A2A_S10 &lt;int&gt; | A2B_S11 &lt;int&gt; | ⋯ ⋯ | C5A_S32 &lt;int&gt; | C5B_S33 &lt;int&gt; | C5C_S34 &lt;int&gt; | Mock_S35 &lt;int&gt; | P6A_S1 &lt;int&gt; | P6B_S2 &lt;int&gt; | P6C_S3 &lt;int&gt; | P7A_S4 &lt;int&gt; | P7B_S5 &lt;int&gt; | P7C_S6 &lt;int&gt; |\n",
       "|---|---|---|---|---|---|---|---|---|---|---|---|---|---|---|---|---|---|---|---|---|---|\n",
       "| TX50_RS00020 | TX50_RS00020 | dnaN | DNA polymerase III subunit beta                         | WP_011131639.1 | NA | 0 | 0 | 0 | 1 | 0 | ⋯ | 1303 | 591 | 765 | 0 | 3076 | 3135 | 2995 | 2956 | 4869 | 4302 |\n",
       "| TX50_RS00025 | TX50_RS00025 | <!----> | hypothetical protein                                    | WP_011131640.1 | NA | 2 | 2 | 0 | 0 | 0 | ⋯ |   85 |  23 |  66 | 2 |  427 |  310 |  491 |  111 |  198 |  191 |\n",
       "| TX50_RS00030 | TX50_RS00030 | purL | phosphoribosylformylglycinamidine synthase subunit PurL | WP_011131641.1 | NA | 0 | 4 | 3 | 3 | 3 | ⋯ |  513 | 328 | 518 | 0 | 1162 | 1365 | 1266 | 1878 | 3482 | 3459 |\n",
       "| TX50_RS00035 | TX50_RS00035 | purF | amidophosphoribosyltransferase                          | WP_011131642.1 | NA | 0 | 1 | 1 | 0 | 0 | ⋯ |  238 | 115 | 209 | 0 |  914 | 1196 | 1035 |  516 | 1070 | 1166 |\n",
       "| TX50_RS00040 | TX50_RS00040 | <!----> | DNA topoisomerase 4 subunit A                           | WP_011131643.1 | NA | 0 | 8 | 0 | 2 | 5 | ⋯ |  491 | 218 | 354 | 0 | 1761 | 2014 | 1799 | 1399 | 1297 | 1216 |\n",
       "| TX50_RS00045 | TX50_RS00045 | <!----> | tetratricopeptide repeat protein                        | WP_011131644.1 | NA | 0 | 0 | 0 | 0 | 0 | ⋯ |   80 |  33 |  55 | 0 |  273 |  200 |  305 |  250 |  517 |  345 |\n",
       "\n"
      ],
      "text/plain": [
       "             gene_id      gene\n",
       "TX50_RS00020 TX50_RS00020 dnaN\n",
       "TX50_RS00025 TX50_RS00025     \n",
       "TX50_RS00030 TX50_RS00030 purL\n",
       "TX50_RS00035 TX50_RS00035 purF\n",
       "TX50_RS00040 TX50_RS00040     \n",
       "TX50_RS00045 TX50_RS00045     \n",
       "             product                                                \n",
       "TX50_RS00020 DNA polymerase III subunit beta                        \n",
       "TX50_RS00025 hypothetical protein                                   \n",
       "TX50_RS00030 phosphoribosylformylglycinamidine synthase subunit PurL\n",
       "TX50_RS00035 amidophosphoribosyltransferase                         \n",
       "TX50_RS00040 DNA topoisomerase 4 subunit A                          \n",
       "TX50_RS00045 tetratricopeptide repeat protein                       \n",
       "             protein_id     old_locus_tag A1A_S7 A1B_S8 A1C_S9 A2A_S10 A2B_S11\n",
       "TX50_RS00020 WP_011131639.1 NA            0      0      0      1       0      \n",
       "TX50_RS00025 WP_011131640.1 NA            2      2      0      0       0      \n",
       "TX50_RS00030 WP_011131641.1 NA            0      4      3      3       3      \n",
       "TX50_RS00035 WP_011131642.1 NA            0      1      1      0       0      \n",
       "TX50_RS00040 WP_011131643.1 NA            0      8      0      2       5      \n",
       "TX50_RS00045 WP_011131644.1 NA            0      0      0      0       0      \n",
       "             ⋯ C5A_S32 C5B_S33 C5C_S34 Mock_S35 P6A_S1 P6B_S2 P6C_S3 P7A_S4\n",
       "TX50_RS00020 ⋯ 1303    591     765     0        3076   3135   2995   2956  \n",
       "TX50_RS00025 ⋯   85     23      66     2         427    310    491    111  \n",
       "TX50_RS00030 ⋯  513    328     518     0        1162   1365   1266   1878  \n",
       "TX50_RS00035 ⋯  238    115     209     0         914   1196   1035    516  \n",
       "TX50_RS00040 ⋯  491    218     354     0        1761   2014   1799   1399  \n",
       "TX50_RS00045 ⋯   80     33      55     0         273    200    305    250  \n",
       "             P7B_S5 P7C_S6\n",
       "TX50_RS00020 4869   4302  \n",
       "TX50_RS00025  198    191  \n",
       "TX50_RS00030 3482   3459  \n",
       "TX50_RS00035 1070   1166  \n",
       "TX50_RS00040 1297   1216  \n",
       "TX50_RS00045  517    345  "
      ]
     },
     "metadata": {},
     "output_type": "display_data"
    }
   ],
   "source": [
    "head(cdf)"
   ]
  },
  {
   "cell_type": "raw",
   "id": "e2971721",
   "metadata": {},
   "source": [
    "fpath = file.path('/fast_data/Osnat/CC1A3/genomes/MED4', 'uniprot-taxonomy-59919.tab')\n",
    "gene_data_df = read.csv(fpath, sep='\\t')"
   ]
  },
  {
   "cell_type": "code",
   "execution_count": 21,
   "id": "5031e183",
   "metadata": {},
   "outputs": [],
   "source": [
    "counts = cdf[,-c(1,2,3,4,5)]\n",
    "genes = cdf[,c(1,2,3,4,5)]"
   ]
  },
  {
   "cell_type": "code",
   "execution_count": 22,
   "id": "a481420b",
   "metadata": {},
   "outputs": [
    {
     "data": {
      "text/html": [
       "<table class=\"dataframe\">\n",
       "<caption>A tibble: 6 × 15</caption>\n",
       "<thead>\n",
       "\t<tr><th scope=col>sample_id</th><th scope=col>TGCnew#</th><th scope=col>sample</th><th scope=col>Conc.Qubit TGC [ng/ul]</th><th scope=col>init_RNA</th><th scope=col>Lib_conc [ng/ul]</th><th scope=col>Group</th><th scope=col>Timepoint</th><th scope=col>Replicate</th><th scope=col>Day</th><th scope=col>extraction</th><th scope=col>techincal_replicate</th><th scope=col>phase</th><th scope=col>groupandtime</th><th scope=col>treatment</th></tr>\n",
       "\t<tr><th scope=col>&lt;chr&gt;</th><th scope=col>&lt;dbl&gt;</th><th scope=col>&lt;chr&gt;</th><th scope=col>&lt;dbl&gt;</th><th scope=col>&lt;dbl&gt;</th><th scope=col>&lt;dbl&gt;</th><th scope=col>&lt;fct&gt;</th><th scope=col>&lt;chr&gt;</th><th scope=col>&lt;chr&gt;</th><th scope=col>&lt;chr&gt;</th><th scope=col>&lt;dbl&gt;</th><th scope=col>&lt;dbl&gt;</th><th scope=col>&lt;fct&gt;</th><th scope=col>&lt;chr&gt;</th><th scope=col>&lt;fct&gt;</th></tr>\n",
       "</thead>\n",
       "<tbody>\n",
       "\t<tr><td>A1A_S7 </td><td> 7</td><td>A1A</td><td>168.0</td><td>100</td><td>0.888</td><td>A</td><td>1</td><td>A</td><td>11</td><td>1</td><td>0</td><td>logExp </td><td>A1</td><td>NA</td></tr>\n",
       "\t<tr><td>A1B_S8 </td><td> 8</td><td>A1B</td><td> 99.8</td><td>100</td><td>0.850</td><td>A</td><td>1</td><td>B</td><td>11</td><td>1</td><td>0</td><td>logExp </td><td>A1</td><td>NA</td></tr>\n",
       "\t<tr><td>A1C_S9 </td><td> 9</td><td>A1C</td><td> 57.3</td><td>100</td><td>1.570</td><td>A</td><td>1</td><td>C</td><td>11</td><td>1</td><td>0</td><td>logExp </td><td>A1</td><td>NA</td></tr>\n",
       "\t<tr><td>A2A_S10</td><td>10</td><td>A2A</td><td> 69.0</td><td>100</td><td>0.592</td><td>A</td><td>2</td><td>A</td><td>18</td><td>2</td><td>0</td><td>decline</td><td>A2</td><td>NA</td></tr>\n",
       "\t<tr><td>A2B_S11</td><td>11</td><td>A2B</td><td> 41.9</td><td>100</td><td>0.570</td><td>A</td><td>2</td><td>B</td><td>18</td><td>2</td><td>0</td><td>decline</td><td>A2</td><td>NA</td></tr>\n",
       "\t<tr><td>A2C_S12</td><td>12</td><td>A2C</td><td> 67.2</td><td>100</td><td>0.980</td><td>A</td><td>2</td><td>C</td><td>18</td><td>4</td><td>0</td><td>decline</td><td>A2</td><td>NA</td></tr>\n",
       "</tbody>\n",
       "</table>\n"
      ],
      "text/latex": [
       "A tibble: 6 × 15\n",
       "\\begin{tabular}{lllllllllllllll}\n",
       " sample\\_id & TGCnew\\# & sample & Conc.Qubit TGC {[}ng/ul{]} & init\\_RNA & Lib\\_conc {[}ng/ul{]} & Group & Timepoint & Replicate & Day & extraction & techincal\\_replicate & phase & groupandtime & treatment\\\\\n",
       " <chr> & <dbl> & <chr> & <dbl> & <dbl> & <dbl> & <fct> & <chr> & <chr> & <chr> & <dbl> & <dbl> & <fct> & <chr> & <fct>\\\\\n",
       "\\hline\n",
       "\t A1A\\_S7  &  7 & A1A & 168.0 & 100 & 0.888 & A & 1 & A & 11 & 1 & 0 & logExp  & A1 & NA\\\\\n",
       "\t A1B\\_S8  &  8 & A1B &  99.8 & 100 & 0.850 & A & 1 & B & 11 & 1 & 0 & logExp  & A1 & NA\\\\\n",
       "\t A1C\\_S9  &  9 & A1C &  57.3 & 100 & 1.570 & A & 1 & C & 11 & 1 & 0 & logExp  & A1 & NA\\\\\n",
       "\t A2A\\_S10 & 10 & A2A &  69.0 & 100 & 0.592 & A & 2 & A & 18 & 2 & 0 & decline & A2 & NA\\\\\n",
       "\t A2B\\_S11 & 11 & A2B &  41.9 & 100 & 0.570 & A & 2 & B & 18 & 2 & 0 & decline & A2 & NA\\\\\n",
       "\t A2C\\_S12 & 12 & A2C &  67.2 & 100 & 0.980 & A & 2 & C & 18 & 4 & 0 & decline & A2 & NA\\\\\n",
       "\\end{tabular}\n"
      ],
      "text/markdown": [
       "\n",
       "A tibble: 6 × 15\n",
       "\n",
       "| sample_id &lt;chr&gt; | TGCnew# &lt;dbl&gt; | sample &lt;chr&gt; | Conc.Qubit TGC [ng/ul] &lt;dbl&gt; | init_RNA &lt;dbl&gt; | Lib_conc [ng/ul] &lt;dbl&gt; | Group &lt;fct&gt; | Timepoint &lt;chr&gt; | Replicate &lt;chr&gt; | Day &lt;chr&gt; | extraction &lt;dbl&gt; | techincal_replicate &lt;dbl&gt; | phase &lt;fct&gt; | groupandtime &lt;chr&gt; | treatment &lt;fct&gt; |\n",
       "|---|---|---|---|---|---|---|---|---|---|---|---|---|---|---|\n",
       "| A1A_S7  |  7 | A1A | 168.0 | 100 | 0.888 | A | 1 | A | 11 | 1 | 0 | logExp  | A1 | NA |\n",
       "| A1B_S8  |  8 | A1B |  99.8 | 100 | 0.850 | A | 1 | B | 11 | 1 | 0 | logExp  | A1 | NA |\n",
       "| A1C_S9  |  9 | A1C |  57.3 | 100 | 1.570 | A | 1 | C | 11 | 1 | 0 | logExp  | A1 | NA |\n",
       "| A2A_S10 | 10 | A2A |  69.0 | 100 | 0.592 | A | 2 | A | 18 | 2 | 0 | decline | A2 | NA |\n",
       "| A2B_S11 | 11 | A2B |  41.9 | 100 | 0.570 | A | 2 | B | 18 | 2 | 0 | decline | A2 | NA |\n",
       "| A2C_S12 | 12 | A2C |  67.2 | 100 | 0.980 | A | 2 | C | 18 | 4 | 0 | decline | A2 | NA |\n",
       "\n"
      ],
      "text/plain": [
       "  sample_id TGCnew# sample Conc.Qubit TGC [ng/ul] init_RNA Lib_conc [ng/ul]\n",
       "1 A1A_S7     7      A1A    168.0                  100      0.888           \n",
       "2 A1B_S8     8      A1B     99.8                  100      0.850           \n",
       "3 A1C_S9     9      A1C     57.3                  100      1.570           \n",
       "4 A2A_S10   10      A2A     69.0                  100      0.592           \n",
       "5 A2B_S11   11      A2B     41.9                  100      0.570           \n",
       "6 A2C_S12   12      A2C     67.2                  100      0.980           \n",
       "  Group Timepoint Replicate Day extraction techincal_replicate phase  \n",
       "1 A     1         A         11  1          0                   logExp \n",
       "2 A     1         B         11  1          0                   logExp \n",
       "3 A     1         C         11  1          0                   logExp \n",
       "4 A     2         A         18  2          0                   decline\n",
       "5 A     2         B         18  2          0                   decline\n",
       "6 A     2         C         18  4          0                   decline\n",
       "  groupandtime treatment\n",
       "1 A1           NA       \n",
       "2 A1           NA       \n",
       "3 A1           NA       \n",
       "4 A2           NA       \n",
       "5 A2           NA       \n",
       "6 A2           NA       "
      ]
     },
     "metadata": {},
     "output_type": "display_data"
    },
    {
     "data": {
      "text/html": [
       "<table class=\"dataframe\">\n",
       "<caption>A data.frame: 6 × 35</caption>\n",
       "<thead>\n",
       "\t<tr><th></th><th scope=col>A1A_S7</th><th scope=col>A1B_S8</th><th scope=col>A1C_S9</th><th scope=col>A2A_S10</th><th scope=col>A2B_S11</th><th scope=col>A2C_S12</th><th scope=col>A3A_S13</th><th scope=col>A3B_S14</th><th scope=col>A3C_S15</th><th scope=col>C1A_S16</th><th scope=col>⋯</th><th scope=col>C5A_S32</th><th scope=col>C5B_S33</th><th scope=col>C5C_S34</th><th scope=col>Mock_S35</th><th scope=col>P6A_S1</th><th scope=col>P6B_S2</th><th scope=col>P6C_S3</th><th scope=col>P7A_S4</th><th scope=col>P7B_S5</th><th scope=col>P7C_S6</th></tr>\n",
       "\t<tr><th></th><th scope=col>&lt;int&gt;</th><th scope=col>&lt;int&gt;</th><th scope=col>&lt;int&gt;</th><th scope=col>&lt;int&gt;</th><th scope=col>&lt;int&gt;</th><th scope=col>&lt;int&gt;</th><th scope=col>&lt;int&gt;</th><th scope=col>&lt;int&gt;</th><th scope=col>&lt;int&gt;</th><th scope=col>&lt;int&gt;</th><th scope=col>⋯</th><th scope=col>&lt;int&gt;</th><th scope=col>&lt;int&gt;</th><th scope=col>&lt;int&gt;</th><th scope=col>&lt;int&gt;</th><th scope=col>&lt;int&gt;</th><th scope=col>&lt;int&gt;</th><th scope=col>&lt;int&gt;</th><th scope=col>&lt;int&gt;</th><th scope=col>&lt;int&gt;</th><th scope=col>&lt;int&gt;</th></tr>\n",
       "</thead>\n",
       "<tbody>\n",
       "\t<tr><th scope=row>TX50_RS00020</th><td>0</td><td>0</td><td>0</td><td>1</td><td>0</td><td>4</td><td>0</td><td>0</td><td>0</td><td>1119</td><td>⋯</td><td>1303</td><td>591</td><td>765</td><td>0</td><td>3076</td><td>3135</td><td>2995</td><td>2956</td><td>4869</td><td>4302</td></tr>\n",
       "\t<tr><th scope=row>TX50_RS00025</th><td>2</td><td>2</td><td>0</td><td>0</td><td>0</td><td>0</td><td>0</td><td>0</td><td>0</td><td> 127</td><td>⋯</td><td>  85</td><td> 23</td><td> 66</td><td>2</td><td> 427</td><td> 310</td><td> 491</td><td> 111</td><td> 198</td><td> 191</td></tr>\n",
       "\t<tr><th scope=row>TX50_RS00030</th><td>0</td><td>4</td><td>3</td><td>3</td><td>3</td><td>4</td><td>2</td><td>0</td><td>5</td><td> 359</td><td>⋯</td><td> 513</td><td>328</td><td>518</td><td>0</td><td>1162</td><td>1365</td><td>1266</td><td>1878</td><td>3482</td><td>3459</td></tr>\n",
       "\t<tr><th scope=row>TX50_RS00035</th><td>0</td><td>1</td><td>1</td><td>0</td><td>0</td><td>4</td><td>0</td><td>0</td><td>0</td><td> 326</td><td>⋯</td><td> 238</td><td>115</td><td>209</td><td>0</td><td> 914</td><td>1196</td><td>1035</td><td> 516</td><td>1070</td><td>1166</td></tr>\n",
       "\t<tr><th scope=row>TX50_RS00040</th><td>0</td><td>8</td><td>0</td><td>2</td><td>5</td><td>0</td><td>4</td><td>7</td><td>0</td><td> 600</td><td>⋯</td><td> 491</td><td>218</td><td>354</td><td>0</td><td>1761</td><td>2014</td><td>1799</td><td>1399</td><td>1297</td><td>1216</td></tr>\n",
       "\t<tr><th scope=row>TX50_RS00045</th><td>0</td><td>0</td><td>0</td><td>0</td><td>0</td><td>3</td><td>1</td><td>0</td><td>0</td><td> 113</td><td>⋯</td><td>  80</td><td> 33</td><td> 55</td><td>0</td><td> 273</td><td> 200</td><td> 305</td><td> 250</td><td> 517</td><td> 345</td></tr>\n",
       "</tbody>\n",
       "</table>\n"
      ],
      "text/latex": [
       "A data.frame: 6 × 35\n",
       "\\begin{tabular}{r|lllllllllllllllllllll}\n",
       "  & A1A\\_S7 & A1B\\_S8 & A1C\\_S9 & A2A\\_S10 & A2B\\_S11 & A2C\\_S12 & A3A\\_S13 & A3B\\_S14 & A3C\\_S15 & C1A\\_S16 & ⋯ & C5A\\_S32 & C5B\\_S33 & C5C\\_S34 & Mock\\_S35 & P6A\\_S1 & P6B\\_S2 & P6C\\_S3 & P7A\\_S4 & P7B\\_S5 & P7C\\_S6\\\\\n",
       "  & <int> & <int> & <int> & <int> & <int> & <int> & <int> & <int> & <int> & <int> & ⋯ & <int> & <int> & <int> & <int> & <int> & <int> & <int> & <int> & <int> & <int>\\\\\n",
       "\\hline\n",
       "\tTX50\\_RS00020 & 0 & 0 & 0 & 1 & 0 & 4 & 0 & 0 & 0 & 1119 & ⋯ & 1303 & 591 & 765 & 0 & 3076 & 3135 & 2995 & 2956 & 4869 & 4302\\\\\n",
       "\tTX50\\_RS00025 & 2 & 2 & 0 & 0 & 0 & 0 & 0 & 0 & 0 &  127 & ⋯ &   85 &  23 &  66 & 2 &  427 &  310 &  491 &  111 &  198 &  191\\\\\n",
       "\tTX50\\_RS00030 & 0 & 4 & 3 & 3 & 3 & 4 & 2 & 0 & 5 &  359 & ⋯ &  513 & 328 & 518 & 0 & 1162 & 1365 & 1266 & 1878 & 3482 & 3459\\\\\n",
       "\tTX50\\_RS00035 & 0 & 1 & 1 & 0 & 0 & 4 & 0 & 0 & 0 &  326 & ⋯ &  238 & 115 & 209 & 0 &  914 & 1196 & 1035 &  516 & 1070 & 1166\\\\\n",
       "\tTX50\\_RS00040 & 0 & 8 & 0 & 2 & 5 & 0 & 4 & 7 & 0 &  600 & ⋯ &  491 & 218 & 354 & 0 & 1761 & 2014 & 1799 & 1399 & 1297 & 1216\\\\\n",
       "\tTX50\\_RS00045 & 0 & 0 & 0 & 0 & 0 & 3 & 1 & 0 & 0 &  113 & ⋯ &   80 &  33 &  55 & 0 &  273 &  200 &  305 &  250 &  517 &  345\\\\\n",
       "\\end{tabular}\n"
      ],
      "text/markdown": [
       "\n",
       "A data.frame: 6 × 35\n",
       "\n",
       "| <!--/--> | A1A_S7 &lt;int&gt; | A1B_S8 &lt;int&gt; | A1C_S9 &lt;int&gt; | A2A_S10 &lt;int&gt; | A2B_S11 &lt;int&gt; | A2C_S12 &lt;int&gt; | A3A_S13 &lt;int&gt; | A3B_S14 &lt;int&gt; | A3C_S15 &lt;int&gt; | C1A_S16 &lt;int&gt; | ⋯ ⋯ | C5A_S32 &lt;int&gt; | C5B_S33 &lt;int&gt; | C5C_S34 &lt;int&gt; | Mock_S35 &lt;int&gt; | P6A_S1 &lt;int&gt; | P6B_S2 &lt;int&gt; | P6C_S3 &lt;int&gt; | P7A_S4 &lt;int&gt; | P7B_S5 &lt;int&gt; | P7C_S6 &lt;int&gt; |\n",
       "|---|---|---|---|---|---|---|---|---|---|---|---|---|---|---|---|---|---|---|---|---|---|\n",
       "| TX50_RS00020 | 0 | 0 | 0 | 1 | 0 | 4 | 0 | 0 | 0 | 1119 | ⋯ | 1303 | 591 | 765 | 0 | 3076 | 3135 | 2995 | 2956 | 4869 | 4302 |\n",
       "| TX50_RS00025 | 2 | 2 | 0 | 0 | 0 | 0 | 0 | 0 | 0 |  127 | ⋯ |   85 |  23 |  66 | 2 |  427 |  310 |  491 |  111 |  198 |  191 |\n",
       "| TX50_RS00030 | 0 | 4 | 3 | 3 | 3 | 4 | 2 | 0 | 5 |  359 | ⋯ |  513 | 328 | 518 | 0 | 1162 | 1365 | 1266 | 1878 | 3482 | 3459 |\n",
       "| TX50_RS00035 | 0 | 1 | 1 | 0 | 0 | 4 | 0 | 0 | 0 |  326 | ⋯ |  238 | 115 | 209 | 0 |  914 | 1196 | 1035 |  516 | 1070 | 1166 |\n",
       "| TX50_RS00040 | 0 | 8 | 0 | 2 | 5 | 0 | 4 | 7 | 0 |  600 | ⋯ |  491 | 218 | 354 | 0 | 1761 | 2014 | 1799 | 1399 | 1297 | 1216 |\n",
       "| TX50_RS00045 | 0 | 0 | 0 | 0 | 0 | 3 | 1 | 0 | 0 |  113 | ⋯ |   80 |  33 |  55 | 0 |  273 |  200 |  305 |  250 |  517 |  345 |\n",
       "\n"
      ],
      "text/plain": [
       "             A1A_S7 A1B_S8 A1C_S9 A2A_S10 A2B_S11 A2C_S12 A3A_S13 A3B_S14\n",
       "TX50_RS00020 0      0      0      1       0       4       0       0      \n",
       "TX50_RS00025 2      2      0      0       0       0       0       0      \n",
       "TX50_RS00030 0      4      3      3       3       4       2       0      \n",
       "TX50_RS00035 0      1      1      0       0       4       0       0      \n",
       "TX50_RS00040 0      8      0      2       5       0       4       7      \n",
       "TX50_RS00045 0      0      0      0       0       3       1       0      \n",
       "             A3C_S15 C1A_S16 ⋯ C5A_S32 C5B_S33 C5C_S34 Mock_S35 P6A_S1 P6B_S2\n",
       "TX50_RS00020 0       1119    ⋯ 1303    591     765     0        3076   3135  \n",
       "TX50_RS00025 0        127    ⋯   85     23      66     2         427    310  \n",
       "TX50_RS00030 5        359    ⋯  513    328     518     0        1162   1365  \n",
       "TX50_RS00035 0        326    ⋯  238    115     209     0         914   1196  \n",
       "TX50_RS00040 0        600    ⋯  491    218     354     0        1761   2014  \n",
       "TX50_RS00045 0        113    ⋯   80     33      55     0         273    200  \n",
       "             P6C_S3 P7A_S4 P7B_S5 P7C_S6\n",
       "TX50_RS00020 2995   2956   4869   4302  \n",
       "TX50_RS00025  491    111    198    191  \n",
       "TX50_RS00030 1266   1878   3482   3459  \n",
       "TX50_RS00035 1035    516   1070   1166  \n",
       "TX50_RS00040 1799   1399   1297   1216  \n",
       "TX50_RS00045  305    250    517    345  "
      ]
     },
     "metadata": {},
     "output_type": "display_data"
    },
    {
     "data": {
      "text/html": [
       "<table class=\"dataframe\">\n",
       "<caption>A data.frame: 6 × 5</caption>\n",
       "<thead>\n",
       "\t<tr><th></th><th scope=col>gene_id</th><th scope=col>gene</th><th scope=col>product</th><th scope=col>protein_id</th><th scope=col>old_locus_tag</th></tr>\n",
       "\t<tr><th></th><th scope=col>&lt;chr&gt;</th><th scope=col>&lt;chr&gt;</th><th scope=col>&lt;chr&gt;</th><th scope=col>&lt;chr&gt;</th><th scope=col>&lt;lgl&gt;</th></tr>\n",
       "</thead>\n",
       "<tbody>\n",
       "\t<tr><th scope=row>TX50_RS00020</th><td>TX50_RS00020</td><td>dnaN</td><td>DNA polymerase III subunit beta                        </td><td>WP_011131639.1</td><td>NA</td></tr>\n",
       "\t<tr><th scope=row>TX50_RS00025</th><td>TX50_RS00025</td><td>    </td><td>hypothetical protein                                   </td><td>WP_011131640.1</td><td>NA</td></tr>\n",
       "\t<tr><th scope=row>TX50_RS00030</th><td>TX50_RS00030</td><td>purL</td><td>phosphoribosylformylglycinamidine synthase subunit PurL</td><td>WP_011131641.1</td><td>NA</td></tr>\n",
       "\t<tr><th scope=row>TX50_RS00035</th><td>TX50_RS00035</td><td>purF</td><td>amidophosphoribosyltransferase                         </td><td>WP_011131642.1</td><td>NA</td></tr>\n",
       "\t<tr><th scope=row>TX50_RS00040</th><td>TX50_RS00040</td><td>    </td><td>DNA topoisomerase 4 subunit A                          </td><td>WP_011131643.1</td><td>NA</td></tr>\n",
       "\t<tr><th scope=row>TX50_RS00045</th><td>TX50_RS00045</td><td>    </td><td>tetratricopeptide repeat protein                       </td><td>WP_011131644.1</td><td>NA</td></tr>\n",
       "</tbody>\n",
       "</table>\n"
      ],
      "text/latex": [
       "A data.frame: 6 × 5\n",
       "\\begin{tabular}{r|lllll}\n",
       "  & gene\\_id & gene & product & protein\\_id & old\\_locus\\_tag\\\\\n",
       "  & <chr> & <chr> & <chr> & <chr> & <lgl>\\\\\n",
       "\\hline\n",
       "\tTX50\\_RS00020 & TX50\\_RS00020 & dnaN & DNA polymerase III subunit beta                         & WP\\_011131639.1 & NA\\\\\n",
       "\tTX50\\_RS00025 & TX50\\_RS00025 &      & hypothetical protein                                    & WP\\_011131640.1 & NA\\\\\n",
       "\tTX50\\_RS00030 & TX50\\_RS00030 & purL & phosphoribosylformylglycinamidine synthase subunit PurL & WP\\_011131641.1 & NA\\\\\n",
       "\tTX50\\_RS00035 & TX50\\_RS00035 & purF & amidophosphoribosyltransferase                          & WP\\_011131642.1 & NA\\\\\n",
       "\tTX50\\_RS00040 & TX50\\_RS00040 &      & DNA topoisomerase 4 subunit A                           & WP\\_011131643.1 & NA\\\\\n",
       "\tTX50\\_RS00045 & TX50\\_RS00045 &      & tetratricopeptide repeat protein                        & WP\\_011131644.1 & NA\\\\\n",
       "\\end{tabular}\n"
      ],
      "text/markdown": [
       "\n",
       "A data.frame: 6 × 5\n",
       "\n",
       "| <!--/--> | gene_id &lt;chr&gt; | gene &lt;chr&gt; | product &lt;chr&gt; | protein_id &lt;chr&gt; | old_locus_tag &lt;lgl&gt; |\n",
       "|---|---|---|---|---|---|\n",
       "| TX50_RS00020 | TX50_RS00020 | dnaN | DNA polymerase III subunit beta                         | WP_011131639.1 | NA |\n",
       "| TX50_RS00025 | TX50_RS00025 | <!----> | hypothetical protein                                    | WP_011131640.1 | NA |\n",
       "| TX50_RS00030 | TX50_RS00030 | purL | phosphoribosylformylglycinamidine synthase subunit PurL | WP_011131641.1 | NA |\n",
       "| TX50_RS00035 | TX50_RS00035 | purF | amidophosphoribosyltransferase                          | WP_011131642.1 | NA |\n",
       "| TX50_RS00040 | TX50_RS00040 | <!----> | DNA topoisomerase 4 subunit A                           | WP_011131643.1 | NA |\n",
       "| TX50_RS00045 | TX50_RS00045 | <!----> | tetratricopeptide repeat protein                        | WP_011131644.1 | NA |\n",
       "\n"
      ],
      "text/plain": [
       "             gene_id      gene\n",
       "TX50_RS00020 TX50_RS00020 dnaN\n",
       "TX50_RS00025 TX50_RS00025     \n",
       "TX50_RS00030 TX50_RS00030 purL\n",
       "TX50_RS00035 TX50_RS00035 purF\n",
       "TX50_RS00040 TX50_RS00040     \n",
       "TX50_RS00045 TX50_RS00045     \n",
       "             product                                                \n",
       "TX50_RS00020 DNA polymerase III subunit beta                        \n",
       "TX50_RS00025 hypothetical protein                                   \n",
       "TX50_RS00030 phosphoribosylformylglycinamidine synthase subunit PurL\n",
       "TX50_RS00035 amidophosphoribosyltransferase                         \n",
       "TX50_RS00040 DNA topoisomerase 4 subunit A                          \n",
       "TX50_RS00045 tetratricopeptide repeat protein                       \n",
       "             protein_id     old_locus_tag\n",
       "TX50_RS00020 WP_011131639.1 NA           \n",
       "TX50_RS00025 WP_011131640.1 NA           \n",
       "TX50_RS00030 WP_011131641.1 NA           \n",
       "TX50_RS00035 WP_011131642.1 NA           \n",
       "TX50_RS00040 WP_011131643.1 NA           \n",
       "TX50_RS00045 WP_011131644.1 NA           "
      ]
     },
     "metadata": {},
     "output_type": "display_data"
    }
   ],
   "source": [
    "head(md)\n",
    "head(counts)\n",
    "head(genes)"
   ]
  },
  {
   "cell_type": "code",
   "execution_count": 23,
   "id": "a70f9bd5",
   "metadata": {},
   "outputs": [
    {
     "data": {
      "text/plain": [
       "\n",
       "TRUE \n",
       "  35 "
      ]
     },
     "metadata": {},
     "output_type": "display_data"
    }
   ],
   "source": [
    "table(md$sample_id == names(counts))"
   ]
  },
  {
   "cell_type": "markdown",
   "id": "4edcaa5d",
   "metadata": {},
   "source": [
    "# Remove the 60ng technical replicate and non P ,C samples"
   ]
  },
  {
   "cell_type": "code",
   "execution_count": 24,
   "id": "35d72d0f",
   "metadata": {},
   "outputs": [],
   "source": [
    "counts = cdf[,-c(1,2,3,4,5)]\n",
    "genes = cdf[,c(1,2,3,4,5)]"
   ]
  },
  {
   "cell_type": "code",
   "execution_count": 25,
   "id": "f0d0532d",
   "metadata": {},
   "outputs": [],
   "source": [
    "# remove last 5 lines that are not genes\n",
    "counts = head(counts, -5)\n",
    "genes = head(genes, -5)"
   ]
  },
  {
   "cell_type": "code",
   "execution_count": 26,
   "id": "853d4813",
   "metadata": {},
   "outputs": [],
   "source": [
    "md_noalt = filter(md, Group %in% c('P', 'C'), techincal_replicate %in% 0)\n"
   ]
  },
  {
   "cell_type": "code",
   "execution_count": 27,
   "id": "ebf5d458",
   "metadata": {},
   "outputs": [],
   "source": [
    "counts_no_alt = select(counts, md_noalt$sample_id)"
   ]
  },
  {
   "cell_type": "code",
   "execution_count": 28,
   "id": "ec57ab8b",
   "metadata": {},
   "outputs": [
    {
     "data": {
      "text/plain": [
       "\n",
       "TRUE \n",
       "  21 "
      ]
     },
     "metadata": {},
     "output_type": "display_data"
    }
   ],
   "source": [
    "table(md_noalt$sample_id == names(counts_no_alt))"
   ]
  },
  {
   "cell_type": "code",
   "execution_count": 29,
   "id": "77b77baa",
   "metadata": {},
   "outputs": [],
   "source": [
    "cts = counts_no_alt\n",
    "coldata= md_noalt\n"
   ]
  },
  {
   "cell_type": "code",
   "execution_count": 30,
   "id": "728d4477",
   "metadata": {},
   "outputs": [
    {
     "data": {
      "text/html": [
       "<table class=\"dataframe\">\n",
       "<caption>A tibble: 6 × 15</caption>\n",
       "<thead>\n",
       "\t<tr><th scope=col>sample_id</th><th scope=col>TGCnew#</th><th scope=col>sample</th><th scope=col>Conc.Qubit TGC [ng/ul]</th><th scope=col>init_RNA</th><th scope=col>Lib_conc [ng/ul]</th><th scope=col>Group</th><th scope=col>Timepoint</th><th scope=col>Replicate</th><th scope=col>Day</th><th scope=col>extraction</th><th scope=col>techincal_replicate</th><th scope=col>phase</th><th scope=col>groupandtime</th><th scope=col>treatment</th></tr>\n",
       "\t<tr><th scope=col>&lt;chr&gt;</th><th scope=col>&lt;dbl&gt;</th><th scope=col>&lt;chr&gt;</th><th scope=col>&lt;dbl&gt;</th><th scope=col>&lt;dbl&gt;</th><th scope=col>&lt;dbl&gt;</th><th scope=col>&lt;fct&gt;</th><th scope=col>&lt;chr&gt;</th><th scope=col>&lt;chr&gt;</th><th scope=col>&lt;chr&gt;</th><th scope=col>&lt;dbl&gt;</th><th scope=col>&lt;dbl&gt;</th><th scope=col>&lt;fct&gt;</th><th scope=col>&lt;chr&gt;</th><th scope=col>&lt;fct&gt;</th></tr>\n",
       "</thead>\n",
       "<tbody>\n",
       "\t<tr><td>C1A_S16      </td><td>16</td><td>C1A  </td><td>300.0</td><td>100</td><td>1.15</td><td>C</td><td>1</td><td>A</td><td>11</td><td>1</td><td>0</td><td>logExp </td><td>C1</td><td>C1</td></tr>\n",
       "\t<tr><td>C1B_S17      </td><td>17</td><td>C1B  </td><td> 84.9</td><td>100</td><td>1.91</td><td>C</td><td>1</td><td>B</td><td>11</td><td>1</td><td>0</td><td>logExp </td><td>C1</td><td>C1</td></tr>\n",
       "\t<tr><td>C1C_S18      </td><td>18</td><td>C1C  </td><td> 56.5</td><td>100</td><td>2.24</td><td>C</td><td>1</td><td>C</td><td>11</td><td>2</td><td>0</td><td>logExp </td><td>C1</td><td>C1</td></tr>\n",
       "\t<tr><td>C2A_60ng_S19 </td><td>19</td><td>C2A  </td><td>  6.3</td><td> 60</td><td>1.87</td><td>C</td><td>2</td><td>A</td><td>18</td><td>4</td><td>0</td><td>decline</td><td>C2</td><td>NA</td></tr>\n",
       "\t<tr><td>C2B_100ng_S20</td><td>20</td><td>C2B_1</td><td> 31.1</td><td>100</td><td>2.28</td><td>C</td><td>2</td><td>B</td><td>18</td><td>2</td><td>0</td><td>decline</td><td>C2</td><td>NA</td></tr>\n",
       "\t<tr><td>C2C_100ng_S22</td><td>22</td><td>C2C_1</td><td> 15.7</td><td>100</td><td>2.80</td><td>C</td><td>2</td><td>C</td><td>18</td><td>2</td><td>0</td><td>decline</td><td>C2</td><td>NA</td></tr>\n",
       "</tbody>\n",
       "</table>\n"
      ],
      "text/latex": [
       "A tibble: 6 × 15\n",
       "\\begin{tabular}{lllllllllllllll}\n",
       " sample\\_id & TGCnew\\# & sample & Conc.Qubit TGC {[}ng/ul{]} & init\\_RNA & Lib\\_conc {[}ng/ul{]} & Group & Timepoint & Replicate & Day & extraction & techincal\\_replicate & phase & groupandtime & treatment\\\\\n",
       " <chr> & <dbl> & <chr> & <dbl> & <dbl> & <dbl> & <fct> & <chr> & <chr> & <chr> & <dbl> & <dbl> & <fct> & <chr> & <fct>\\\\\n",
       "\\hline\n",
       "\t C1A\\_S16       & 16 & C1A   & 300.0 & 100 & 1.15 & C & 1 & A & 11 & 1 & 0 & logExp  & C1 & C1\\\\\n",
       "\t C1B\\_S17       & 17 & C1B   &  84.9 & 100 & 1.91 & C & 1 & B & 11 & 1 & 0 & logExp  & C1 & C1\\\\\n",
       "\t C1C\\_S18       & 18 & C1C   &  56.5 & 100 & 2.24 & C & 1 & C & 11 & 2 & 0 & logExp  & C1 & C1\\\\\n",
       "\t C2A\\_60ng\\_S19  & 19 & C2A   &   6.3 &  60 & 1.87 & C & 2 & A & 18 & 4 & 0 & decline & C2 & NA\\\\\n",
       "\t C2B\\_100ng\\_S20 & 20 & C2B\\_1 &  31.1 & 100 & 2.28 & C & 2 & B & 18 & 2 & 0 & decline & C2 & NA\\\\\n",
       "\t C2C\\_100ng\\_S22 & 22 & C2C\\_1 &  15.7 & 100 & 2.80 & C & 2 & C & 18 & 2 & 0 & decline & C2 & NA\\\\\n",
       "\\end{tabular}\n"
      ],
      "text/markdown": [
       "\n",
       "A tibble: 6 × 15\n",
       "\n",
       "| sample_id &lt;chr&gt; | TGCnew# &lt;dbl&gt; | sample &lt;chr&gt; | Conc.Qubit TGC [ng/ul] &lt;dbl&gt; | init_RNA &lt;dbl&gt; | Lib_conc [ng/ul] &lt;dbl&gt; | Group &lt;fct&gt; | Timepoint &lt;chr&gt; | Replicate &lt;chr&gt; | Day &lt;chr&gt; | extraction &lt;dbl&gt; | techincal_replicate &lt;dbl&gt; | phase &lt;fct&gt; | groupandtime &lt;chr&gt; | treatment &lt;fct&gt; |\n",
       "|---|---|---|---|---|---|---|---|---|---|---|---|---|---|---|\n",
       "| C1A_S16       | 16 | C1A   | 300.0 | 100 | 1.15 | C | 1 | A | 11 | 1 | 0 | logExp  | C1 | C1 |\n",
       "| C1B_S17       | 17 | C1B   |  84.9 | 100 | 1.91 | C | 1 | B | 11 | 1 | 0 | logExp  | C1 | C1 |\n",
       "| C1C_S18       | 18 | C1C   |  56.5 | 100 | 2.24 | C | 1 | C | 11 | 2 | 0 | logExp  | C1 | C1 |\n",
       "| C2A_60ng_S19  | 19 | C2A   |   6.3 |  60 | 1.87 | C | 2 | A | 18 | 4 | 0 | decline | C2 | NA |\n",
       "| C2B_100ng_S20 | 20 | C2B_1 |  31.1 | 100 | 2.28 | C | 2 | B | 18 | 2 | 0 | decline | C2 | NA |\n",
       "| C2C_100ng_S22 | 22 | C2C_1 |  15.7 | 100 | 2.80 | C | 2 | C | 18 | 2 | 0 | decline | C2 | NA |\n",
       "\n"
      ],
      "text/plain": [
       "  sample_id     TGCnew# sample Conc.Qubit TGC [ng/ul] init_RNA Lib_conc [ng/ul]\n",
       "1 C1A_S16       16      C1A    300.0                  100      1.15            \n",
       "2 C1B_S17       17      C1B     84.9                  100      1.91            \n",
       "3 C1C_S18       18      C1C     56.5                  100      2.24            \n",
       "4 C2A_60ng_S19  19      C2A      6.3                   60      1.87            \n",
       "5 C2B_100ng_S20 20      C2B_1   31.1                  100      2.28            \n",
       "6 C2C_100ng_S22 22      C2C_1   15.7                  100      2.80            \n",
       "  Group Timepoint Replicate Day extraction techincal_replicate phase  \n",
       "1 C     1         A         11  1          0                   logExp \n",
       "2 C     1         B         11  1          0                   logExp \n",
       "3 C     1         C         11  2          0                   logExp \n",
       "4 C     2         A         18  4          0                   decline\n",
       "5 C     2         B         18  2          0                   decline\n",
       "6 C     2         C         18  2          0                   decline\n",
       "  groupandtime treatment\n",
       "1 C1           C1       \n",
       "2 C1           C1       \n",
       "3 C1           C1       \n",
       "4 C2           NA       \n",
       "5 C2           NA       \n",
       "6 C2           NA       "
      ]
     },
     "metadata": {},
     "output_type": "display_data"
    }
   ],
   "source": [
    "head(coldata)"
   ]
  },
  {
   "cell_type": "code",
   "execution_count": 31,
   "id": "f2acb0e0",
   "metadata": {},
   "outputs": [
    {
     "data": {
      "text/html": [
       "<table class=\"dataframe\">\n",
       "<caption>A data.frame: 6 × 21</caption>\n",
       "<thead>\n",
       "\t<tr><th></th><th scope=col>C1A_S16</th><th scope=col>C1B_S17</th><th scope=col>C1C_S18</th><th scope=col>C2A_60ng_S19</th><th scope=col>C2B_100ng_S20</th><th scope=col>C2C_100ng_S22</th><th scope=col>C3A_100ng_S24</th><th scope=col>C3B_60ng_S26</th><th scope=col>C3C_100ng_S27</th><th scope=col>C4A_S29</th><th scope=col>⋯</th><th scope=col>C4C_S31</th><th scope=col>C5A_S32</th><th scope=col>C5B_S33</th><th scope=col>C5C_S34</th><th scope=col>P6A_S1</th><th scope=col>P6B_S2</th><th scope=col>P6C_S3</th><th scope=col>P7A_S4</th><th scope=col>P7B_S5</th><th scope=col>P7C_S6</th></tr>\n",
       "\t<tr><th></th><th scope=col>&lt;int&gt;</th><th scope=col>&lt;int&gt;</th><th scope=col>&lt;int&gt;</th><th scope=col>&lt;int&gt;</th><th scope=col>&lt;int&gt;</th><th scope=col>&lt;int&gt;</th><th scope=col>&lt;int&gt;</th><th scope=col>&lt;int&gt;</th><th scope=col>&lt;int&gt;</th><th scope=col>&lt;int&gt;</th><th scope=col>⋯</th><th scope=col>&lt;int&gt;</th><th scope=col>&lt;int&gt;</th><th scope=col>&lt;int&gt;</th><th scope=col>&lt;int&gt;</th><th scope=col>&lt;int&gt;</th><th scope=col>&lt;int&gt;</th><th scope=col>&lt;int&gt;</th><th scope=col>&lt;int&gt;</th><th scope=col>&lt;int&gt;</th><th scope=col>&lt;int&gt;</th></tr>\n",
       "</thead>\n",
       "<tbody>\n",
       "\t<tr><th scope=row>TX50_RS00020</th><td>1119</td><td>2394</td><td>5314</td><td>613</td><td>2227</td><td>3769</td><td>355</td><td>2220</td><td>1046</td><td>1384</td><td>⋯</td><td>1526</td><td>1303</td><td>591</td><td>765</td><td>3076</td><td>3135</td><td>2995</td><td>2956</td><td>4869</td><td>4302</td></tr>\n",
       "\t<tr><th scope=row>TX50_RS00025</th><td> 127</td><td> 331</td><td> 450</td><td> 93</td><td> 141</td><td> 268</td><td> 26</td><td> 106</td><td>  29</td><td>  86</td><td>⋯</td><td>  93</td><td>  85</td><td> 23</td><td> 66</td><td> 427</td><td> 310</td><td> 491</td><td> 111</td><td> 198</td><td> 191</td></tr>\n",
       "\t<tr><th scope=row>TX50_RS00030</th><td> 359</td><td> 907</td><td>1796</td><td>238</td><td> 542</td><td>1061</td><td>239</td><td> 961</td><td> 471</td><td> 671</td><td>⋯</td><td>1169</td><td> 513</td><td>328</td><td>518</td><td>1162</td><td>1365</td><td>1266</td><td>1878</td><td>3482</td><td>3459</td></tr>\n",
       "\t<tr><th scope=row>TX50_RS00035</th><td> 326</td><td> 767</td><td> 540</td><td>181</td><td> 385</td><td> 692</td><td>102</td><td> 492</td><td> 150</td><td> 328</td><td>⋯</td><td> 404</td><td> 238</td><td>115</td><td>209</td><td> 914</td><td>1196</td><td>1035</td><td> 516</td><td>1070</td><td>1166</td></tr>\n",
       "\t<tr><th scope=row>TX50_RS00040</th><td> 600</td><td>1572</td><td>2758</td><td>408</td><td>1242</td><td>1833</td><td>182</td><td> 745</td><td> 313</td><td> 621</td><td>⋯</td><td> 689</td><td> 491</td><td>218</td><td>354</td><td>1761</td><td>2014</td><td>1799</td><td>1399</td><td>1297</td><td>1216</td></tr>\n",
       "\t<tr><th scope=row>TX50_RS00045</th><td> 113</td><td> 212</td><td> 538</td><td>111</td><td> 150</td><td> 249</td><td> 17</td><td> 221</td><td>  69</td><td> 134</td><td>⋯</td><td>  79</td><td>  80</td><td> 33</td><td> 55</td><td> 273</td><td> 200</td><td> 305</td><td> 250</td><td> 517</td><td> 345</td></tr>\n",
       "</tbody>\n",
       "</table>\n"
      ],
      "text/latex": [
       "A data.frame: 6 × 21\n",
       "\\begin{tabular}{r|lllllllllllllllllllll}\n",
       "  & C1A\\_S16 & C1B\\_S17 & C1C\\_S18 & C2A\\_60ng\\_S19 & C2B\\_100ng\\_S20 & C2C\\_100ng\\_S22 & C3A\\_100ng\\_S24 & C3B\\_60ng\\_S26 & C3C\\_100ng\\_S27 & C4A\\_S29 & ⋯ & C4C\\_S31 & C5A\\_S32 & C5B\\_S33 & C5C\\_S34 & P6A\\_S1 & P6B\\_S2 & P6C\\_S3 & P7A\\_S4 & P7B\\_S5 & P7C\\_S6\\\\\n",
       "  & <int> & <int> & <int> & <int> & <int> & <int> & <int> & <int> & <int> & <int> & ⋯ & <int> & <int> & <int> & <int> & <int> & <int> & <int> & <int> & <int> & <int>\\\\\n",
       "\\hline\n",
       "\tTX50\\_RS00020 & 1119 & 2394 & 5314 & 613 & 2227 & 3769 & 355 & 2220 & 1046 & 1384 & ⋯ & 1526 & 1303 & 591 & 765 & 3076 & 3135 & 2995 & 2956 & 4869 & 4302\\\\\n",
       "\tTX50\\_RS00025 &  127 &  331 &  450 &  93 &  141 &  268 &  26 &  106 &   29 &   86 & ⋯ &   93 &   85 &  23 &  66 &  427 &  310 &  491 &  111 &  198 &  191\\\\\n",
       "\tTX50\\_RS00030 &  359 &  907 & 1796 & 238 &  542 & 1061 & 239 &  961 &  471 &  671 & ⋯ & 1169 &  513 & 328 & 518 & 1162 & 1365 & 1266 & 1878 & 3482 & 3459\\\\\n",
       "\tTX50\\_RS00035 &  326 &  767 &  540 & 181 &  385 &  692 & 102 &  492 &  150 &  328 & ⋯ &  404 &  238 & 115 & 209 &  914 & 1196 & 1035 &  516 & 1070 & 1166\\\\\n",
       "\tTX50\\_RS00040 &  600 & 1572 & 2758 & 408 & 1242 & 1833 & 182 &  745 &  313 &  621 & ⋯ &  689 &  491 & 218 & 354 & 1761 & 2014 & 1799 & 1399 & 1297 & 1216\\\\\n",
       "\tTX50\\_RS00045 &  113 &  212 &  538 & 111 &  150 &  249 &  17 &  221 &   69 &  134 & ⋯ &   79 &   80 &  33 &  55 &  273 &  200 &  305 &  250 &  517 &  345\\\\\n",
       "\\end{tabular}\n"
      ],
      "text/markdown": [
       "\n",
       "A data.frame: 6 × 21\n",
       "\n",
       "| <!--/--> | C1A_S16 &lt;int&gt; | C1B_S17 &lt;int&gt; | C1C_S18 &lt;int&gt; | C2A_60ng_S19 &lt;int&gt; | C2B_100ng_S20 &lt;int&gt; | C2C_100ng_S22 &lt;int&gt; | C3A_100ng_S24 &lt;int&gt; | C3B_60ng_S26 &lt;int&gt; | C3C_100ng_S27 &lt;int&gt; | C4A_S29 &lt;int&gt; | ⋯ ⋯ | C4C_S31 &lt;int&gt; | C5A_S32 &lt;int&gt; | C5B_S33 &lt;int&gt; | C5C_S34 &lt;int&gt; | P6A_S1 &lt;int&gt; | P6B_S2 &lt;int&gt; | P6C_S3 &lt;int&gt; | P7A_S4 &lt;int&gt; | P7B_S5 &lt;int&gt; | P7C_S6 &lt;int&gt; |\n",
       "|---|---|---|---|---|---|---|---|---|---|---|---|---|---|---|---|---|---|---|---|---|---|\n",
       "| TX50_RS00020 | 1119 | 2394 | 5314 | 613 | 2227 | 3769 | 355 | 2220 | 1046 | 1384 | ⋯ | 1526 | 1303 | 591 | 765 | 3076 | 3135 | 2995 | 2956 | 4869 | 4302 |\n",
       "| TX50_RS00025 |  127 |  331 |  450 |  93 |  141 |  268 |  26 |  106 |   29 |   86 | ⋯ |   93 |   85 |  23 |  66 |  427 |  310 |  491 |  111 |  198 |  191 |\n",
       "| TX50_RS00030 |  359 |  907 | 1796 | 238 |  542 | 1061 | 239 |  961 |  471 |  671 | ⋯ | 1169 |  513 | 328 | 518 | 1162 | 1365 | 1266 | 1878 | 3482 | 3459 |\n",
       "| TX50_RS00035 |  326 |  767 |  540 | 181 |  385 |  692 | 102 |  492 |  150 |  328 | ⋯ |  404 |  238 | 115 | 209 |  914 | 1196 | 1035 |  516 | 1070 | 1166 |\n",
       "| TX50_RS00040 |  600 | 1572 | 2758 | 408 | 1242 | 1833 | 182 |  745 |  313 |  621 | ⋯ |  689 |  491 | 218 | 354 | 1761 | 2014 | 1799 | 1399 | 1297 | 1216 |\n",
       "| TX50_RS00045 |  113 |  212 |  538 | 111 |  150 |  249 |  17 |  221 |   69 |  134 | ⋯ |   79 |   80 |  33 |  55 |  273 |  200 |  305 |  250 |  517 |  345 |\n",
       "\n"
      ],
      "text/plain": [
       "             C1A_S16 C1B_S17 C1C_S18 C2A_60ng_S19 C2B_100ng_S20 C2C_100ng_S22\n",
       "TX50_RS00020 1119    2394    5314    613          2227          3769         \n",
       "TX50_RS00025  127     331     450     93           141           268         \n",
       "TX50_RS00030  359     907    1796    238           542          1061         \n",
       "TX50_RS00035  326     767     540    181           385           692         \n",
       "TX50_RS00040  600    1572    2758    408          1242          1833         \n",
       "TX50_RS00045  113     212     538    111           150           249         \n",
       "             C3A_100ng_S24 C3B_60ng_S26 C3C_100ng_S27 C4A_S29 ⋯ C4C_S31 C5A_S32\n",
       "TX50_RS00020 355           2220         1046          1384    ⋯ 1526    1303   \n",
       "TX50_RS00025  26            106           29            86    ⋯   93      85   \n",
       "TX50_RS00030 239            961          471           671    ⋯ 1169     513   \n",
       "TX50_RS00035 102            492          150           328    ⋯  404     238   \n",
       "TX50_RS00040 182            745          313           621    ⋯  689     491   \n",
       "TX50_RS00045  17            221           69           134    ⋯   79      80   \n",
       "             C5B_S33 C5C_S34 P6A_S1 P6B_S2 P6C_S3 P7A_S4 P7B_S5 P7C_S6\n",
       "TX50_RS00020 591     765     3076   3135   2995   2956   4869   4302  \n",
       "TX50_RS00025  23      66      427    310    491    111    198    191  \n",
       "TX50_RS00030 328     518     1162   1365   1266   1878   3482   3459  \n",
       "TX50_RS00035 115     209      914   1196   1035    516   1070   1166  \n",
       "TX50_RS00040 218     354     1761   2014   1799   1399   1297   1216  \n",
       "TX50_RS00045  33      55      273    200    305    250    517    345  "
      ]
     },
     "metadata": {},
     "output_type": "display_data"
    }
   ],
   "source": [
    "head(cts)"
   ]
  },
  {
   "cell_type": "code",
   "execution_count": 32,
   "id": "b885e3e9",
   "metadata": {},
   "outputs": [],
   "source": [
    "coldata$groupandtime = factor(coldata$groupandtime, levels=c(\"C1\", \"P2\",\"P1\", \"C2\", \"C3\", \"C4\", \"C5\"))\n",
    "coldata$treatment = factor(coldata$treatment, levels=c('P1', 'C1', 'C2', 'long-term', 'NA'))\n",
    "\n",
    "\n",
    "coldata$Group = factor(coldata$Group, levels=c(\"P\", \"C\"))\n",
    "coldata$Timepoint = factor(coldata$Timepoint, levels=c(1,2,3,4,5))\n",
    "coldata$extraction = factor(coldata$extraction)\n"
   ]
  },
  {
   "cell_type": "code",
   "execution_count": 33,
   "id": "f5200ecd",
   "metadata": {},
   "outputs": [
    {
     "name": "stderr",
     "output_type": "stream",
     "text": [
      "Warning message:\n",
      "\"Setting row names on a tibble is deprecated.\"\n"
     ]
    }
   ],
   "source": [
    "colnames(cts) = coldata$sample\n",
    "rownames(coldata) = coldata$sample\n"
   ]
  },
  {
   "cell_type": "code",
   "execution_count": 34,
   "id": "3b256387",
   "metadata": {},
   "outputs": [
    {
     "name": "stdout",
     "output_type": "stream",
     "text": [
      "structure(c(1L, 4L, 5L, 6L, 7L, 3L, 2L), levels = c(\"C1\", \"P2\", \n",
      "\"P1\", \"C2\", \"C3\", \"C4\", \"C5\"), class = \"factor\")\n",
      "structure(2:1, levels = c(\"P\", \"C\"), class = \"factor\")\n"
     ]
    }
   ],
   "source": [
    "dput(unique(coldata$groupandtime))\n",
    "dput(unique(coldata$Group))"
   ]
  },
  {
   "cell_type": "code",
   "execution_count": 35,
   "id": "a0572883",
   "metadata": {},
   "outputs": [
    {
     "name": "stderr",
     "output_type": "stream",
     "text": [
      "Warning message:\n",
      "\"Setting row names on a tibble is deprecated.\"\n"
     ]
    }
   ],
   "source": [
    "rownames(coldata) = coldata$sample\n",
    "\n"
   ]
  },
  {
   "cell_type": "code",
   "execution_count": 36,
   "id": "248c3ec8",
   "metadata": {},
   "outputs": [
    {
     "data": {
      "text/html": [
       "<style>\n",
       ".list-inline {list-style: none; margin:0; padding: 0}\n",
       ".list-inline>li {display: inline-block}\n",
       ".list-inline>li:not(:last-child)::after {content: \"\\00b7\"; padding: 0 .5ex}\n",
       "</style>\n",
       "<ol class=list-inline><li>'C1A'</li><li>'C1B'</li><li>'C1C'</li><li>'C2A'</li><li>'C2B_1'</li><li>'C2C_1'</li><li>'C3A_1'</li><li>'C3B'</li><li>'C3C_1'</li><li>'C4A'</li><li>'C4B'</li><li>'C4C'</li><li>'C5A'</li><li>'C5B'</li><li>'C5C'</li><li>'P1A'</li><li>'P1B'</li><li>'P1C'</li><li>'P2A'</li><li>'P2B'</li><li>'P2C'</li></ol>\n"
      ],
      "text/latex": [
       "\\begin{enumerate*}\n",
       "\\item 'C1A'\n",
       "\\item 'C1B'\n",
       "\\item 'C1C'\n",
       "\\item 'C2A'\n",
       "\\item 'C2B\\_1'\n",
       "\\item 'C2C\\_1'\n",
       "\\item 'C3A\\_1'\n",
       "\\item 'C3B'\n",
       "\\item 'C3C\\_1'\n",
       "\\item 'C4A'\n",
       "\\item 'C4B'\n",
       "\\item 'C4C'\n",
       "\\item 'C5A'\n",
       "\\item 'C5B'\n",
       "\\item 'C5C'\n",
       "\\item 'P1A'\n",
       "\\item 'P1B'\n",
       "\\item 'P1C'\n",
       "\\item 'P2A'\n",
       "\\item 'P2B'\n",
       "\\item 'P2C'\n",
       "\\end{enumerate*}\n"
      ],
      "text/markdown": [
       "1. 'C1A'\n",
       "2. 'C1B'\n",
       "3. 'C1C'\n",
       "4. 'C2A'\n",
       "5. 'C2B_1'\n",
       "6. 'C2C_1'\n",
       "7. 'C3A_1'\n",
       "8. 'C3B'\n",
       "9. 'C3C_1'\n",
       "10. 'C4A'\n",
       "11. 'C4B'\n",
       "12. 'C4C'\n",
       "13. 'C5A'\n",
       "14. 'C5B'\n",
       "15. 'C5C'\n",
       "16. 'P1A'\n",
       "17. 'P1B'\n",
       "18. 'P1C'\n",
       "19. 'P2A'\n",
       "20. 'P2B'\n",
       "21. 'P2C'\n",
       "\n",
       "\n"
      ],
      "text/plain": [
       " [1] \"C1A\"   \"C1B\"   \"C1C\"   \"C2A\"   \"C2B_1\" \"C2C_1\" \"C3A_1\" \"C3B\"   \"C3C_1\"\n",
       "[10] \"C4A\"   \"C4B\"   \"C4C\"   \"C5A\"   \"C5B\"   \"C5C\"   \"P1A\"   \"P1B\"   \"P1C\"  \n",
       "[19] \"P2A\"   \"P2B\"   \"P2C\"  "
      ]
     },
     "metadata": {},
     "output_type": "display_data"
    }
   ],
   "source": [
    "rownames(coldata)"
   ]
  },
  {
   "cell_type": "code",
   "execution_count": 37,
   "id": "286befcd",
   "metadata": {},
   "outputs": [
    {
     "data": {
      "text/html": [
       "TRUE"
      ],
      "text/latex": [
       "TRUE"
      ],
      "text/markdown": [
       "TRUE"
      ],
      "text/plain": [
       "[1] TRUE"
      ]
     },
     "metadata": {},
     "output_type": "display_data"
    }
   ],
   "source": [
    "all(rownames(coldata) == colnames(cts))"
   ]
  },
  {
   "cell_type": "code",
   "execution_count": 38,
   "id": "e8e1eae2",
   "metadata": {},
   "outputs": [],
   "source": [
    "design = model.matrix(~ 0+ extraction + groupandtime, data = coldata)"
   ]
  },
  {
   "cell_type": "code",
   "execution_count": 39,
   "id": "c61729e9",
   "metadata": {},
   "outputs": [
    {
     "data": {
      "text/html": [
       "<table class=\"dataframe\">\n",
       "<caption>A matrix: 21 × 13 of type dbl</caption>\n",
       "<thead>\n",
       "\t<tr><th></th><th scope=col>extraction1</th><th scope=col>extraction2</th><th scope=col>extraction3</th><th scope=col>extraction4</th><th scope=col>extraction5</th><th scope=col>extraction6</th><th scope=col>extraction7</th><th scope=col>groupandtimeP2</th><th scope=col>groupandtimeP1</th><th scope=col>groupandtimeC2</th><th scope=col>groupandtimeC3</th><th scope=col>groupandtimeC4</th><th scope=col>groupandtimeC5</th></tr>\n",
       "</thead>\n",
       "<tbody>\n",
       "\t<tr><th scope=row>C1A</th><td>1</td><td>0</td><td>0</td><td>0</td><td>0</td><td>0</td><td>0</td><td>0</td><td>0</td><td>0</td><td>0</td><td>0</td><td>0</td></tr>\n",
       "\t<tr><th scope=row>C1B</th><td>1</td><td>0</td><td>0</td><td>0</td><td>0</td><td>0</td><td>0</td><td>0</td><td>0</td><td>0</td><td>0</td><td>0</td><td>0</td></tr>\n",
       "\t<tr><th scope=row>C1C</th><td>0</td><td>1</td><td>0</td><td>0</td><td>0</td><td>0</td><td>0</td><td>0</td><td>0</td><td>0</td><td>0</td><td>0</td><td>0</td></tr>\n",
       "\t<tr><th scope=row>C2A</th><td>0</td><td>0</td><td>0</td><td>1</td><td>0</td><td>0</td><td>0</td><td>0</td><td>0</td><td>1</td><td>0</td><td>0</td><td>0</td></tr>\n",
       "\t<tr><th scope=row>C2B_1</th><td>0</td><td>1</td><td>0</td><td>0</td><td>0</td><td>0</td><td>0</td><td>0</td><td>0</td><td>1</td><td>0</td><td>0</td><td>0</td></tr>\n",
       "\t<tr><th scope=row>C2C_1</th><td>0</td><td>1</td><td>0</td><td>0</td><td>0</td><td>0</td><td>0</td><td>0</td><td>0</td><td>1</td><td>0</td><td>0</td><td>0</td></tr>\n",
       "\t<tr><th scope=row>C3A_1</th><td>0</td><td>0</td><td>0</td><td>1</td><td>0</td><td>0</td><td>0</td><td>0</td><td>0</td><td>0</td><td>1</td><td>0</td><td>0</td></tr>\n",
       "\t<tr><th scope=row>C3B</th><td>0</td><td>0</td><td>0</td><td>0</td><td>1</td><td>0</td><td>0</td><td>0</td><td>0</td><td>0</td><td>1</td><td>0</td><td>0</td></tr>\n",
       "\t<tr><th scope=row>C3C_1</th><td>0</td><td>0</td><td>0</td><td>1</td><td>0</td><td>0</td><td>0</td><td>0</td><td>0</td><td>0</td><td>1</td><td>0</td><td>0</td></tr>\n",
       "\t<tr><th scope=row>C4A</th><td>0</td><td>0</td><td>0</td><td>0</td><td>1</td><td>0</td><td>0</td><td>0</td><td>0</td><td>0</td><td>0</td><td>1</td><td>0</td></tr>\n",
       "\t<tr><th scope=row>C4B</th><td>0</td><td>0</td><td>0</td><td>0</td><td>1</td><td>0</td><td>0</td><td>0</td><td>0</td><td>0</td><td>0</td><td>1</td><td>0</td></tr>\n",
       "\t<tr><th scope=row>C4C</th><td>0</td><td>0</td><td>0</td><td>0</td><td>1</td><td>0</td><td>0</td><td>0</td><td>0</td><td>0</td><td>0</td><td>1</td><td>0</td></tr>\n",
       "\t<tr><th scope=row>C5A</th><td>0</td><td>0</td><td>0</td><td>0</td><td>0</td><td>1</td><td>0</td><td>0</td><td>0</td><td>0</td><td>0</td><td>0</td><td>1</td></tr>\n",
       "\t<tr><th scope=row>C5B</th><td>0</td><td>0</td><td>0</td><td>0</td><td>0</td><td>1</td><td>0</td><td>0</td><td>0</td><td>0</td><td>0</td><td>0</td><td>1</td></tr>\n",
       "\t<tr><th scope=row>C5C</th><td>0</td><td>0</td><td>0</td><td>0</td><td>0</td><td>0</td><td>1</td><td>0</td><td>0</td><td>0</td><td>0</td><td>0</td><td>1</td></tr>\n",
       "\t<tr><th scope=row>P1A</th><td>0</td><td>0</td><td>1</td><td>0</td><td>0</td><td>0</td><td>0</td><td>0</td><td>1</td><td>0</td><td>0</td><td>0</td><td>0</td></tr>\n",
       "\t<tr><th scope=row>P1B</th><td>0</td><td>1</td><td>0</td><td>0</td><td>0</td><td>0</td><td>0</td><td>0</td><td>1</td><td>0</td><td>0</td><td>0</td><td>0</td></tr>\n",
       "\t<tr><th scope=row>P1C</th><td>0</td><td>1</td><td>0</td><td>0</td><td>0</td><td>0</td><td>0</td><td>0</td><td>1</td><td>0</td><td>0</td><td>0</td><td>0</td></tr>\n",
       "\t<tr><th scope=row>P2A</th><td>0</td><td>1</td><td>0</td><td>0</td><td>0</td><td>0</td><td>0</td><td>1</td><td>0</td><td>0</td><td>0</td><td>0</td><td>0</td></tr>\n",
       "\t<tr><th scope=row>P2B</th><td>0</td><td>1</td><td>0</td><td>0</td><td>0</td><td>0</td><td>0</td><td>1</td><td>0</td><td>0</td><td>0</td><td>0</td><td>0</td></tr>\n",
       "\t<tr><th scope=row>P2C</th><td>0</td><td>1</td><td>0</td><td>0</td><td>0</td><td>0</td><td>0</td><td>1</td><td>0</td><td>0</td><td>0</td><td>0</td><td>0</td></tr>\n",
       "</tbody>\n",
       "</table>\n"
      ],
      "text/latex": [
       "A matrix: 21 × 13 of type dbl\n",
       "\\begin{tabular}{r|lllllllllllll}\n",
       "  & extraction1 & extraction2 & extraction3 & extraction4 & extraction5 & extraction6 & extraction7 & groupandtimeP2 & groupandtimeP1 & groupandtimeC2 & groupandtimeC3 & groupandtimeC4 & groupandtimeC5\\\\\n",
       "\\hline\n",
       "\tC1A & 1 & 0 & 0 & 0 & 0 & 0 & 0 & 0 & 0 & 0 & 0 & 0 & 0\\\\\n",
       "\tC1B & 1 & 0 & 0 & 0 & 0 & 0 & 0 & 0 & 0 & 0 & 0 & 0 & 0\\\\\n",
       "\tC1C & 0 & 1 & 0 & 0 & 0 & 0 & 0 & 0 & 0 & 0 & 0 & 0 & 0\\\\\n",
       "\tC2A & 0 & 0 & 0 & 1 & 0 & 0 & 0 & 0 & 0 & 1 & 0 & 0 & 0\\\\\n",
       "\tC2B\\_1 & 0 & 1 & 0 & 0 & 0 & 0 & 0 & 0 & 0 & 1 & 0 & 0 & 0\\\\\n",
       "\tC2C\\_1 & 0 & 1 & 0 & 0 & 0 & 0 & 0 & 0 & 0 & 1 & 0 & 0 & 0\\\\\n",
       "\tC3A\\_1 & 0 & 0 & 0 & 1 & 0 & 0 & 0 & 0 & 0 & 0 & 1 & 0 & 0\\\\\n",
       "\tC3B & 0 & 0 & 0 & 0 & 1 & 0 & 0 & 0 & 0 & 0 & 1 & 0 & 0\\\\\n",
       "\tC3C\\_1 & 0 & 0 & 0 & 1 & 0 & 0 & 0 & 0 & 0 & 0 & 1 & 0 & 0\\\\\n",
       "\tC4A & 0 & 0 & 0 & 0 & 1 & 0 & 0 & 0 & 0 & 0 & 0 & 1 & 0\\\\\n",
       "\tC4B & 0 & 0 & 0 & 0 & 1 & 0 & 0 & 0 & 0 & 0 & 0 & 1 & 0\\\\\n",
       "\tC4C & 0 & 0 & 0 & 0 & 1 & 0 & 0 & 0 & 0 & 0 & 0 & 1 & 0\\\\\n",
       "\tC5A & 0 & 0 & 0 & 0 & 0 & 1 & 0 & 0 & 0 & 0 & 0 & 0 & 1\\\\\n",
       "\tC5B & 0 & 0 & 0 & 0 & 0 & 1 & 0 & 0 & 0 & 0 & 0 & 0 & 1\\\\\n",
       "\tC5C & 0 & 0 & 0 & 0 & 0 & 0 & 1 & 0 & 0 & 0 & 0 & 0 & 1\\\\\n",
       "\tP1A & 0 & 0 & 1 & 0 & 0 & 0 & 0 & 0 & 1 & 0 & 0 & 0 & 0\\\\\n",
       "\tP1B & 0 & 1 & 0 & 0 & 0 & 0 & 0 & 0 & 1 & 0 & 0 & 0 & 0\\\\\n",
       "\tP1C & 0 & 1 & 0 & 0 & 0 & 0 & 0 & 0 & 1 & 0 & 0 & 0 & 0\\\\\n",
       "\tP2A & 0 & 1 & 0 & 0 & 0 & 0 & 0 & 1 & 0 & 0 & 0 & 0 & 0\\\\\n",
       "\tP2B & 0 & 1 & 0 & 0 & 0 & 0 & 0 & 1 & 0 & 0 & 0 & 0 & 0\\\\\n",
       "\tP2C & 0 & 1 & 0 & 0 & 0 & 0 & 0 & 1 & 0 & 0 & 0 & 0 & 0\\\\\n",
       "\\end{tabular}\n"
      ],
      "text/markdown": [
       "\n",
       "A matrix: 21 × 13 of type dbl\n",
       "\n",
       "| <!--/--> | extraction1 | extraction2 | extraction3 | extraction4 | extraction5 | extraction6 | extraction7 | groupandtimeP2 | groupandtimeP1 | groupandtimeC2 | groupandtimeC3 | groupandtimeC4 | groupandtimeC5 |\n",
       "|---|---|---|---|---|---|---|---|---|---|---|---|---|---|\n",
       "| C1A | 1 | 0 | 0 | 0 | 0 | 0 | 0 | 0 | 0 | 0 | 0 | 0 | 0 |\n",
       "| C1B | 1 | 0 | 0 | 0 | 0 | 0 | 0 | 0 | 0 | 0 | 0 | 0 | 0 |\n",
       "| C1C | 0 | 1 | 0 | 0 | 0 | 0 | 0 | 0 | 0 | 0 | 0 | 0 | 0 |\n",
       "| C2A | 0 | 0 | 0 | 1 | 0 | 0 | 0 | 0 | 0 | 1 | 0 | 0 | 0 |\n",
       "| C2B_1 | 0 | 1 | 0 | 0 | 0 | 0 | 0 | 0 | 0 | 1 | 0 | 0 | 0 |\n",
       "| C2C_1 | 0 | 1 | 0 | 0 | 0 | 0 | 0 | 0 | 0 | 1 | 0 | 0 | 0 |\n",
       "| C3A_1 | 0 | 0 | 0 | 1 | 0 | 0 | 0 | 0 | 0 | 0 | 1 | 0 | 0 |\n",
       "| C3B | 0 | 0 | 0 | 0 | 1 | 0 | 0 | 0 | 0 | 0 | 1 | 0 | 0 |\n",
       "| C3C_1 | 0 | 0 | 0 | 1 | 0 | 0 | 0 | 0 | 0 | 0 | 1 | 0 | 0 |\n",
       "| C4A | 0 | 0 | 0 | 0 | 1 | 0 | 0 | 0 | 0 | 0 | 0 | 1 | 0 |\n",
       "| C4B | 0 | 0 | 0 | 0 | 1 | 0 | 0 | 0 | 0 | 0 | 0 | 1 | 0 |\n",
       "| C4C | 0 | 0 | 0 | 0 | 1 | 0 | 0 | 0 | 0 | 0 | 0 | 1 | 0 |\n",
       "| C5A | 0 | 0 | 0 | 0 | 0 | 1 | 0 | 0 | 0 | 0 | 0 | 0 | 1 |\n",
       "| C5B | 0 | 0 | 0 | 0 | 0 | 1 | 0 | 0 | 0 | 0 | 0 | 0 | 1 |\n",
       "| C5C | 0 | 0 | 0 | 0 | 0 | 0 | 1 | 0 | 0 | 0 | 0 | 0 | 1 |\n",
       "| P1A | 0 | 0 | 1 | 0 | 0 | 0 | 0 | 0 | 1 | 0 | 0 | 0 | 0 |\n",
       "| P1B | 0 | 1 | 0 | 0 | 0 | 0 | 0 | 0 | 1 | 0 | 0 | 0 | 0 |\n",
       "| P1C | 0 | 1 | 0 | 0 | 0 | 0 | 0 | 0 | 1 | 0 | 0 | 0 | 0 |\n",
       "| P2A | 0 | 1 | 0 | 0 | 0 | 0 | 0 | 1 | 0 | 0 | 0 | 0 | 0 |\n",
       "| P2B | 0 | 1 | 0 | 0 | 0 | 0 | 0 | 1 | 0 | 0 | 0 | 0 | 0 |\n",
       "| P2C | 0 | 1 | 0 | 0 | 0 | 0 | 0 | 1 | 0 | 0 | 0 | 0 | 0 |\n",
       "\n"
      ],
      "text/plain": [
       "      extraction1 extraction2 extraction3 extraction4 extraction5 extraction6\n",
       "C1A   1           0           0           0           0           0          \n",
       "C1B   1           0           0           0           0           0          \n",
       "C1C   0           1           0           0           0           0          \n",
       "C2A   0           0           0           1           0           0          \n",
       "C2B_1 0           1           0           0           0           0          \n",
       "C2C_1 0           1           0           0           0           0          \n",
       "C3A_1 0           0           0           1           0           0          \n",
       "C3B   0           0           0           0           1           0          \n",
       "C3C_1 0           0           0           1           0           0          \n",
       "C4A   0           0           0           0           1           0          \n",
       "C4B   0           0           0           0           1           0          \n",
       "C4C   0           0           0           0           1           0          \n",
       "C5A   0           0           0           0           0           1          \n",
       "C5B   0           0           0           0           0           1          \n",
       "C5C   0           0           0           0           0           0          \n",
       "P1A   0           0           1           0           0           0          \n",
       "P1B   0           1           0           0           0           0          \n",
       "P1C   0           1           0           0           0           0          \n",
       "P2A   0           1           0           0           0           0          \n",
       "P2B   0           1           0           0           0           0          \n",
       "P2C   0           1           0           0           0           0          \n",
       "      extraction7 groupandtimeP2 groupandtimeP1 groupandtimeC2 groupandtimeC3\n",
       "C1A   0           0              0              0              0             \n",
       "C1B   0           0              0              0              0             \n",
       "C1C   0           0              0              0              0             \n",
       "C2A   0           0              0              1              0             \n",
       "C2B_1 0           0              0              1              0             \n",
       "C2C_1 0           0              0              1              0             \n",
       "C3A_1 0           0              0              0              1             \n",
       "C3B   0           0              0              0              1             \n",
       "C3C_1 0           0              0              0              1             \n",
       "C4A   0           0              0              0              0             \n",
       "C4B   0           0              0              0              0             \n",
       "C4C   0           0              0              0              0             \n",
       "C5A   0           0              0              0              0             \n",
       "C5B   0           0              0              0              0             \n",
       "C5C   1           0              0              0              0             \n",
       "P1A   0           0              1              0              0             \n",
       "P1B   0           0              1              0              0             \n",
       "P1C   0           0              1              0              0             \n",
       "P2A   0           1              0              0              0             \n",
       "P2B   0           1              0              0              0             \n",
       "P2C   0           1              0              0              0             \n",
       "      groupandtimeC4 groupandtimeC5\n",
       "C1A   0              0             \n",
       "C1B   0              0             \n",
       "C1C   0              0             \n",
       "C2A   0              0             \n",
       "C2B_1 0              0             \n",
       "C2C_1 0              0             \n",
       "C3A_1 0              0             \n",
       "C3B   0              0             \n",
       "C3C_1 0              0             \n",
       "C4A   1              0             \n",
       "C4B   1              0             \n",
       "C4C   1              0             \n",
       "C5A   0              1             \n",
       "C5B   0              1             \n",
       "C5C   0              1             \n",
       "P1A   0              0             \n",
       "P1B   0              0             \n",
       "P1C   0              0             \n",
       "P2A   0              0             \n",
       "P2B   0              0             \n",
       "P2C   0              0             "
      ]
     },
     "metadata": {},
     "output_type": "display_data"
    }
   ],
   "source": [
    "design"
   ]
  },
  {
   "cell_type": "code",
   "execution_count": 40,
   "id": "88588757",
   "metadata": {},
   "outputs": [],
   "source": [
    "design = subset(design, select=-c(extraction7))"
   ]
  },
  {
   "cell_type": "code",
   "execution_count": null,
   "id": "4bc0ef13",
   "metadata": {},
   "outputs": [],
   "source": []
  },
  {
   "cell_type": "code",
   "execution_count": 41,
   "id": "a2cc268e",
   "metadata": {},
   "outputs": [],
   "source": [
    "dds <- DESeqDataSetFromMatrix(countData = cts,\n",
    "                              colData = coldata,\n",
    "                              design= ~groupandtime)"
   ]
  },
  {
   "cell_type": "code",
   "execution_count": 42,
   "id": "0eb77766",
   "metadata": {},
   "outputs": [
    {
     "data": {
      "text/plain": [
       "DataFrame with 1865 rows and 5 columns\n",
       "                  gene_id        gene                product     protein_id\n",
       "              <character> <character>            <character>    <character>\n",
       "TX50_RS00020 TX50_RS00020        dnaN DNA polymerase III s.. WP_011131639.1\n",
       "TX50_RS00025 TX50_RS00025               hypothetical protein WP_011131640.1\n",
       "TX50_RS00030 TX50_RS00030        purL phosphoribosylformyl.. WP_011131641.1\n",
       "TX50_RS00035 TX50_RS00035        purF amidophosphoribosylt.. WP_011131642.1\n",
       "TX50_RS00040 TX50_RS00040             DNA topoisomerase 4 .. WP_011131643.1\n",
       "...                   ...         ...                    ...            ...\n",
       "TX50_RS09870 TX50_RS09870               hypothetical protein WP_225866747.1\n",
       "TX50_RS09875 TX50_RS09875               hypothetical protein WP_225866749.1\n",
       "TX50_RS09880 TX50_RS09880             SxtJ family membrane.. WP_011132879.1\n",
       "TX50_RS09885 TX50_RS09885             DUF5989 family protein WP_225866752.1\n",
       "TX50_RS09890 TX50_RS09890               hypothetical protein WP_042116151.1\n",
       "             old_locus_tag\n",
       "                 <logical>\n",
       "TX50_RS00020            NA\n",
       "TX50_RS00025            NA\n",
       "TX50_RS00030            NA\n",
       "TX50_RS00035            NA\n",
       "TX50_RS00040            NA\n",
       "...                    ...\n",
       "TX50_RS09870            NA\n",
       "TX50_RS09875            NA\n",
       "TX50_RS09880            NA\n",
       "TX50_RS09885            NA\n",
       "TX50_RS09890            NA"
      ]
     },
     "metadata": {},
     "output_type": "display_data"
    }
   ],
   "source": [
    "mcols(dds) <- DataFrame(mcols(dds), genes)\n",
    "mcols(dds)"
   ]
  },
  {
   "cell_type": "code",
   "execution_count": 43,
   "id": "5c1b43f0",
   "metadata": {},
   "outputs": [
    {
     "data": {
      "text/plain": [
       "class: DESeqDataSet \n",
       "dim: 1865 21 \n",
       "metadata(1): version\n",
       "assays(1): counts\n",
       "rownames(1865): TX50_RS00020 TX50_RS00025 ... TX50_RS09885 TX50_RS09890\n",
       "rowData names(5): gene_id gene product protein_id old_locus_tag\n",
       "colnames(21): C1A C1B ... P2B P2C\n",
       "colData names(15): sample_id TGCnew# ... groupandtime treatment"
      ]
     },
     "metadata": {},
     "output_type": "display_data"
    }
   ],
   "source": [
    "dds"
   ]
  },
  {
   "cell_type": "code",
   "execution_count": 44,
   "id": "fc72b948",
   "metadata": {},
   "outputs": [
    {
     "data": {
      "text/plain": [
       "keep\n",
       "FALSE  TRUE \n",
       "   10  1855 "
      ]
     },
     "metadata": {},
     "output_type": "display_data"
    }
   ],
   "source": [
    "keep <- rowSums(counts(dds)) >= 10\n",
    "table(keep)\n",
    "dds <- dds[keep,]"
   ]
  },
  {
   "cell_type": "code",
   "execution_count": 45,
   "id": "c0af40ae",
   "metadata": {},
   "outputs": [
    {
     "data": {
      "text/html": [
       "<style>\n",
       ".list-inline {list-style: none; margin:0; padding: 0}\n",
       ".list-inline>li {display: inline-block}\n",
       ".list-inline>li:not(:last-child)::after {content: \"\\00b7\"; padding: 0 .5ex}\n",
       "</style>\n",
       "<ol class=list-inline><li>'sample_id'</li><li>'TGCnew#'</li><li>'sample'</li><li>'Conc.Qubit TGC [ng/ul]'</li><li>'init_RNA'</li><li>'Lib_conc [ng/ul]'</li><li>'Group'</li><li>'Timepoint'</li><li>'Replicate'</li><li>'Day'</li><li>'extraction'</li><li>'techincal_replicate'</li><li>'phase'</li><li>'groupandtime'</li><li>'treatment'</li></ol>\n"
      ],
      "text/latex": [
       "\\begin{enumerate*}\n",
       "\\item 'sample\\_id'\n",
       "\\item 'TGCnew\\#'\n",
       "\\item 'sample'\n",
       "\\item 'Conc.Qubit TGC {[}ng/ul{]}'\n",
       "\\item 'init\\_RNA'\n",
       "\\item 'Lib\\_conc {[}ng/ul{]}'\n",
       "\\item 'Group'\n",
       "\\item 'Timepoint'\n",
       "\\item 'Replicate'\n",
       "\\item 'Day'\n",
       "\\item 'extraction'\n",
       "\\item 'techincal\\_replicate'\n",
       "\\item 'phase'\n",
       "\\item 'groupandtime'\n",
       "\\item 'treatment'\n",
       "\\end{enumerate*}\n"
      ],
      "text/markdown": [
       "1. 'sample_id'\n",
       "2. 'TGCnew#'\n",
       "3. 'sample'\n",
       "4. 'Conc.Qubit TGC [ng/ul]'\n",
       "5. 'init_RNA'\n",
       "6. 'Lib_conc [ng/ul]'\n",
       "7. 'Group'\n",
       "8. 'Timepoint'\n",
       "9. 'Replicate'\n",
       "10. 'Day'\n",
       "11. 'extraction'\n",
       "12. 'techincal_replicate'\n",
       "13. 'phase'\n",
       "14. 'groupandtime'\n",
       "15. 'treatment'\n",
       "\n",
       "\n"
      ],
      "text/plain": [
       " [1] \"sample_id\"              \"TGCnew#\"                \"sample\"                \n",
       " [4] \"Conc.Qubit TGC [ng/ul]\" \"init_RNA\"               \"Lib_conc [ng/ul]\"      \n",
       " [7] \"Group\"                  \"Timepoint\"              \"Replicate\"             \n",
       "[10] \"Day\"                    \"extraction\"             \"techincal_replicate\"   \n",
       "[13] \"phase\"                  \"groupandtime\"           \"treatment\"             "
      ]
     },
     "metadata": {},
     "output_type": "display_data"
    }
   ],
   "source": [
    "names(colData(dds))"
   ]
  },
  {
   "cell_type": "code",
   "execution_count": 46,
   "id": "c46da071",
   "metadata": {},
   "outputs": [],
   "source": [
    "dds$groupandtime = factor(dds$groupandtime, levels=c(\"C1\", \"P2\",\"P1\", \"C2\", \"C3\", \"C4\", \"C5\"))\n",
    "dds$Group = factor(dds$Group, levels=c(\"P\", \"C\"))\n",
    "dds$Timepoint = factor(dds$Timepoint, levels=c(1,2,3,4,5))\n",
    "dds$extraction = factor(dds$extraction)\n"
   ]
  },
  {
   "cell_type": "code",
   "execution_count": 47,
   "id": "7f246b4f",
   "metadata": {},
   "outputs": [
    {
     "data": {
      "text/html": [
       "<table class=\"dataframe\">\n",
       "<caption>A matrix: 3 × 21 of type dbl</caption>\n",
       "<thead>\n",
       "\t<tr><th></th><th scope=col>C1A</th><th scope=col>C1B</th><th scope=col>C1C</th><th scope=col>C2A</th><th scope=col>C2B_1</th><th scope=col>C2C_1</th><th scope=col>C3A_1</th><th scope=col>C3B</th><th scope=col>C3C_1</th><th scope=col>C4A</th><th scope=col>⋯</th><th scope=col>C4C</th><th scope=col>C5A</th><th scope=col>C5B</th><th scope=col>C5C</th><th scope=col>P1A</th><th scope=col>P1B</th><th scope=col>P1C</th><th scope=col>P2A</th><th scope=col>P2B</th><th scope=col>P2C</th></tr>\n",
       "</thead>\n",
       "<tbody>\n",
       "\t<tr><th scope=row>TX50_RS00020</th><td>10.199306</td><td>10.13861</td><td>11.552435</td><td>10.233089</td><td>10.846940</td><td>10.968598</td><td>10.277762</td><td>10.708205</td><td>10.925488</td><td>10.788772</td><td>⋯</td><td>10.673880</td><td>10.903510</td><td>10.828046</td><td>10.566447</td><td>10.145981</td><td>10.133392</td><td>9.980252</td><td>11.671632</td><td>12.075326</td><td>12.089237</td></tr>\n",
       "\t<tr><th scope=row>TX50_RS00025</th><td> 7.201485</td><td> 7.40318</td><td> 8.070099</td><td> 7.613555</td><td> 7.034628</td><td> 7.294078</td><td> 6.716129</td><td> 6.561249</td><td> 6.098862</td><td> 6.959015</td><td>⋯</td><td> 6.833144</td><td> 7.123598</td><td> 6.415651</td><td> 7.179944</td><td> 7.415239</td><td> 6.965448</td><td>7.480714</td><td> 7.102511</td><td> 7.573653</td><td> 7.703449</td></tr>\n",
       "\t<tr><th scope=row>TX50_RS00030</th><td> 8.599562</td><td> 8.77112</td><td>10.002316</td><td> 8.897714</td><td> 8.846223</td><td> 9.168677</td><td> 9.715876</td><td> 9.518070</td><td> 9.788721</td><td> 9.758011</td><td>⋯</td><td>10.293683</td><td> 9.577001</td><td> 9.988663</td><td>10.011130</td><td> 8.774283</td><td> 8.959921</td><td>8.768441</td><td>11.021224</td><td>11.593740</td><td>11.775872</td></tr>\n",
       "</tbody>\n",
       "</table>\n"
      ],
      "text/latex": [
       "A matrix: 3 × 21 of type dbl\n",
       "\\begin{tabular}{r|lllllllllllllllllllll}\n",
       "  & C1A & C1B & C1C & C2A & C2B\\_1 & C2C\\_1 & C3A\\_1 & C3B & C3C\\_1 & C4A & ⋯ & C4C & C5A & C5B & C5C & P1A & P1B & P1C & P2A & P2B & P2C\\\\\n",
       "\\hline\n",
       "\tTX50\\_RS00020 & 10.199306 & 10.13861 & 11.552435 & 10.233089 & 10.846940 & 10.968598 & 10.277762 & 10.708205 & 10.925488 & 10.788772 & ⋯ & 10.673880 & 10.903510 & 10.828046 & 10.566447 & 10.145981 & 10.133392 & 9.980252 & 11.671632 & 12.075326 & 12.089237\\\\\n",
       "\tTX50\\_RS00025 &  7.201485 &  7.40318 &  8.070099 &  7.613555 &  7.034628 &  7.294078 &  6.716129 &  6.561249 &  6.098862 &  6.959015 & ⋯ &  6.833144 &  7.123598 &  6.415651 &  7.179944 &  7.415239 &  6.965448 & 7.480714 &  7.102511 &  7.573653 &  7.703449\\\\\n",
       "\tTX50\\_RS00030 &  8.599562 &  8.77112 & 10.002316 &  8.897714 &  8.846223 &  9.168677 &  9.715876 &  9.518070 &  9.788721 &  9.758011 & ⋯ & 10.293683 &  9.577001 &  9.988663 & 10.011130 &  8.774283 &  8.959921 & 8.768441 & 11.021224 & 11.593740 & 11.775872\\\\\n",
       "\\end{tabular}\n"
      ],
      "text/markdown": [
       "\n",
       "A matrix: 3 × 21 of type dbl\n",
       "\n",
       "| <!--/--> | C1A | C1B | C1C | C2A | C2B_1 | C2C_1 | C3A_1 | C3B | C3C_1 | C4A | ⋯ | C4C | C5A | C5B | C5C | P1A | P1B | P1C | P2A | P2B | P2C |\n",
       "|---|---|---|---|---|---|---|---|---|---|---|---|---|---|---|---|---|---|---|---|---|---|\n",
       "| TX50_RS00020 | 10.199306 | 10.13861 | 11.552435 | 10.233089 | 10.846940 | 10.968598 | 10.277762 | 10.708205 | 10.925488 | 10.788772 | ⋯ | 10.673880 | 10.903510 | 10.828046 | 10.566447 | 10.145981 | 10.133392 | 9.980252 | 11.671632 | 12.075326 | 12.089237 |\n",
       "| TX50_RS00025 |  7.201485 |  7.40318 |  8.070099 |  7.613555 |  7.034628 |  7.294078 |  6.716129 |  6.561249 |  6.098862 |  6.959015 | ⋯ |  6.833144 |  7.123598 |  6.415651 |  7.179944 |  7.415239 |  6.965448 | 7.480714 |  7.102511 |  7.573653 |  7.703449 |\n",
       "| TX50_RS00030 |  8.599562 |  8.77112 | 10.002316 |  8.897714 |  8.846223 |  9.168677 |  9.715876 |  9.518070 |  9.788721 |  9.758011 | ⋯ | 10.293683 |  9.577001 |  9.988663 | 10.011130 |  8.774283 |  8.959921 | 8.768441 | 11.021224 | 11.593740 | 11.775872 |\n",
       "\n"
      ],
      "text/plain": [
       "             C1A       C1B      C1C       C2A       C2B_1     C2C_1    \n",
       "TX50_RS00020 10.199306 10.13861 11.552435 10.233089 10.846940 10.968598\n",
       "TX50_RS00025  7.201485  7.40318  8.070099  7.613555  7.034628  7.294078\n",
       "TX50_RS00030  8.599562  8.77112 10.002316  8.897714  8.846223  9.168677\n",
       "             C3A_1     C3B       C3C_1     C4A       ⋯ C4C       C5A      \n",
       "TX50_RS00020 10.277762 10.708205 10.925488 10.788772 ⋯ 10.673880 10.903510\n",
       "TX50_RS00025  6.716129  6.561249  6.098862  6.959015 ⋯  6.833144  7.123598\n",
       "TX50_RS00030  9.715876  9.518070  9.788721  9.758011 ⋯ 10.293683  9.577001\n",
       "             C5B       C5C       P1A       P1B       P1C      P2A      \n",
       "TX50_RS00020 10.828046 10.566447 10.145981 10.133392 9.980252 11.671632\n",
       "TX50_RS00025  6.415651  7.179944  7.415239  6.965448 7.480714  7.102511\n",
       "TX50_RS00030  9.988663 10.011130  8.774283  8.959921 8.768441 11.021224\n",
       "             P2B       P2C      \n",
       "TX50_RS00020 12.075326 12.089237\n",
       "TX50_RS00025  7.573653  7.703449\n",
       "TX50_RS00030 11.593740 11.775872"
      ]
     },
     "metadata": {},
     "output_type": "display_data"
    }
   ],
   "source": [
    "vsd <- vst(dds, blind = FALSE)\n",
    "head(assay(vsd), 3)"
   ]
  },
  {
   "cell_type": "code",
   "execution_count": 48,
   "id": "b50650fc",
   "metadata": {},
   "outputs": [
    {
     "data": {
      "text/plain": [
       "DataFrame with 6 rows and 16 columns\n",
       "          sample_id   TGCnew#      sample Conc.Qubit TGC [ng/ul]  init_RNA\n",
       "        <character> <numeric> <character>              <numeric> <numeric>\n",
       "C1A         C1A_S16        16         C1A                  300.0       100\n",
       "C1B         C1B_S17        17         C1B                   84.9       100\n",
       "C1C         C1C_S18        18         C1C                   56.5       100\n",
       "C2A    C2A_60ng_S19        19         C2A                    6.3        60\n",
       "C2B_1 C2B_100ng_S20        20       C2B_1                   31.1       100\n",
       "C2C_1 C2C_100ng_S22        22       C2C_1                   15.7       100\n",
       "      Lib_conc [ng/ul]    Group Timepoint   Replicate         Day extraction\n",
       "             <numeric> <factor>  <factor> <character> <character>   <factor>\n",
       "C1A               1.15        C         1           A          11          1\n",
       "C1B               1.91        C         1           B          11          1\n",
       "C1C               2.24        C         1           C          11          2\n",
       "C2A               1.87        C         2           A          18          4\n",
       "C2B_1             2.28        C         2           B          18          2\n",
       "C2C_1             2.80        C         2           C          18          2\n",
       "      techincal_replicate    phase groupandtime treatment sizeFactor\n",
       "                <numeric> <factor>     <factor>  <factor>  <numeric>\n",
       "C1A                     0  logExp            C1        C1   0.964852\n",
       "C1B                     0  logExp            C1        C1   2.154182\n",
       "C1C                     0  logExp            C1        C1   1.778720\n",
       "C2A                     0  decline           C2        NA   0.516160\n",
       "C2B_1                   0  decline           C2        NA   1.219677\n",
       "C2C_1                   0  decline           C2        NA   1.895929"
      ]
     },
     "metadata": {},
     "output_type": "display_data"
    }
   ],
   "source": [
    "head(colData(vsd))"
   ]
  },
  {
   "cell_type": "code",
   "execution_count": 49,
   "id": "c927bc72",
   "metadata": {},
   "outputs": [
    {
     "data": {
      "text/html": [
       "<table class=\"dataframe\">\n",
       "<caption>A matrix: 3 × 21 of type dbl</caption>\n",
       "<thead>\n",
       "\t<tr><th></th><th scope=col>C1A</th><th scope=col>C1B</th><th scope=col>C1C</th><th scope=col>C2A</th><th scope=col>C2B_1</th><th scope=col>C2C_1</th><th scope=col>C3A_1</th><th scope=col>C3B</th><th scope=col>C3C_1</th><th scope=col>C4A</th><th scope=col>⋯</th><th scope=col>C4C</th><th scope=col>C5A</th><th scope=col>C5B</th><th scope=col>C5C</th><th scope=col>P1A</th><th scope=col>P1B</th><th scope=col>P1C</th><th scope=col>P2A</th><th scope=col>P2B</th><th scope=col>P2C</th></tr>\n",
       "</thead>\n",
       "<tbody>\n",
       "\t<tr><th scope=row>TX50_RS00020</th><td>10.291414</td><td>10.241683</td><td>11.404707</td><td>10.31949</td><td>10.820574</td><td>10.920803</td><td>10.356679</td><td>10.706605</td><td>10.885098</td><td>10.772748</td><td>⋯</td><td>10.678484</td><td>10.867058</td><td>10.804925</td><td>10.590729</td><td>10.247575</td><td>10.237350</td><td>10.113287</td><td>11.503846</td><td>11.842300</td><td>11.853959</td></tr>\n",
       "\t<tr><th scope=row>TX50_RS00025</th><td> 7.018175</td><td> 7.195818</td><td> 7.774288</td><td> 7.37244</td><td> 6.871924</td><td> 7.100079</td><td> 6.608066</td><td> 6.451211</td><td> 6.063830</td><td> 6.806327</td><td>⋯</td><td> 6.695153</td><td> 6.950017</td><td> 6.354628</td><td> 6.998547</td><td> 7.206704</td><td> 6.809937</td><td> 7.264091</td><td> 6.931639</td><td> 7.342743</td><td> 7.454666</td></tr>\n",
       "\t<tr><th scope=row>TX50_RS00030</th><td> 8.766592</td><td> 8.904465</td><td> 9.920469</td><td> 9.01226</td><td> 8.967106</td><td> 9.231050</td><td> 9.682596</td><td> 9.519202</td><td> 9.742882</td><td> 9.717575</td><td>⋯</td><td>10.162805</td><td> 9.568051</td><td> 9.907885</td><td> 9.927062</td><td> 8.906712</td><td> 9.059080</td><td> 8.901813</td><td>10.773011</td><td>11.258060</td><td>11.413123</td></tr>\n",
       "</tbody>\n",
       "</table>\n"
      ],
      "text/latex": [
       "A matrix: 3 × 21 of type dbl\n",
       "\\begin{tabular}{r|lllllllllllllllllllll}\n",
       "  & C1A & C1B & C1C & C2A & C2B\\_1 & C2C\\_1 & C3A\\_1 & C3B & C3C\\_1 & C4A & ⋯ & C4C & C5A & C5B & C5C & P1A & P1B & P1C & P2A & P2B & P2C\\\\\n",
       "\\hline\n",
       "\tTX50\\_RS00020 & 10.291414 & 10.241683 & 11.404707 & 10.31949 & 10.820574 & 10.920803 & 10.356679 & 10.706605 & 10.885098 & 10.772748 & ⋯ & 10.678484 & 10.867058 & 10.804925 & 10.590729 & 10.247575 & 10.237350 & 10.113287 & 11.503846 & 11.842300 & 11.853959\\\\\n",
       "\tTX50\\_RS00025 &  7.018175 &  7.195818 &  7.774288 &  7.37244 &  6.871924 &  7.100079 &  6.608066 &  6.451211 &  6.063830 &  6.806327 & ⋯ &  6.695153 &  6.950017 &  6.354628 &  6.998547 &  7.206704 &  6.809937 &  7.264091 &  6.931639 &  7.342743 &  7.454666\\\\\n",
       "\tTX50\\_RS00030 &  8.766592 &  8.904465 &  9.920469 &  9.01226 &  8.967106 &  9.231050 &  9.682596 &  9.519202 &  9.742882 &  9.717575 & ⋯ & 10.162805 &  9.568051 &  9.907885 &  9.927062 &  8.906712 &  9.059080 &  8.901813 & 10.773011 & 11.258060 & 11.413123\\\\\n",
       "\\end{tabular}\n"
      ],
      "text/markdown": [
       "\n",
       "A matrix: 3 × 21 of type dbl\n",
       "\n",
       "| <!--/--> | C1A | C1B | C1C | C2A | C2B_1 | C2C_1 | C3A_1 | C3B | C3C_1 | C4A | ⋯ | C4C | C5A | C5B | C5C | P1A | P1B | P1C | P2A | P2B | P2C |\n",
       "|---|---|---|---|---|---|---|---|---|---|---|---|---|---|---|---|---|---|---|---|---|---|\n",
       "| TX50_RS00020 | 10.291414 | 10.241683 | 11.404707 | 10.31949 | 10.820574 | 10.920803 | 10.356679 | 10.706605 | 10.885098 | 10.772748 | ⋯ | 10.678484 | 10.867058 | 10.804925 | 10.590729 | 10.247575 | 10.237350 | 10.113287 | 11.503846 | 11.842300 | 11.853959 |\n",
       "| TX50_RS00025 |  7.018175 |  7.195818 |  7.774288 |  7.37244 |  6.871924 |  7.100079 |  6.608066 |  6.451211 |  6.063830 |  6.806327 | ⋯ |  6.695153 |  6.950017 |  6.354628 |  6.998547 |  7.206704 |  6.809937 |  7.264091 |  6.931639 |  7.342743 |  7.454666 |\n",
       "| TX50_RS00030 |  8.766592 |  8.904465 |  9.920469 |  9.01226 |  8.967106 |  9.231050 |  9.682596 |  9.519202 |  9.742882 |  9.717575 | ⋯ | 10.162805 |  9.568051 |  9.907885 |  9.927062 |  8.906712 |  9.059080 |  8.901813 | 10.773011 | 11.258060 | 11.413123 |\n",
       "\n"
      ],
      "text/plain": [
       "             C1A       C1B       C1C       C2A      C2B_1     C2C_1    \n",
       "TX50_RS00020 10.291414 10.241683 11.404707 10.31949 10.820574 10.920803\n",
       "TX50_RS00025  7.018175  7.195818  7.774288  7.37244  6.871924  7.100079\n",
       "TX50_RS00030  8.766592  8.904465  9.920469  9.01226  8.967106  9.231050\n",
       "             C3A_1     C3B       C3C_1     C4A       ⋯ C4C       C5A      \n",
       "TX50_RS00020 10.356679 10.706605 10.885098 10.772748 ⋯ 10.678484 10.867058\n",
       "TX50_RS00025  6.608066  6.451211  6.063830  6.806327 ⋯  6.695153  6.950017\n",
       "TX50_RS00030  9.682596  9.519202  9.742882  9.717575 ⋯ 10.162805  9.568051\n",
       "             C5B       C5C       P1A       P1B       P1C       P2A      \n",
       "TX50_RS00020 10.804925 10.590729 10.247575 10.237350 10.113287 11.503846\n",
       "TX50_RS00025  6.354628  6.998547  7.206704  6.809937  7.264091  6.931639\n",
       "TX50_RS00030  9.907885  9.927062  8.906712  9.059080  8.901813 10.773011\n",
       "             P2B       P2C      \n",
       "TX50_RS00020 11.842300 11.853959\n",
       "TX50_RS00025  7.342743  7.454666\n",
       "TX50_RS00030 11.258060 11.413123"
      ]
     },
     "metadata": {},
     "output_type": "display_data"
    }
   ],
   "source": [
    "rld <- rlog(dds, blind = FALSE)\n",
    "head(assay(rld), 3)"
   ]
  },
  {
   "cell_type": "code",
   "execution_count": 50,
   "id": "74475777",
   "metadata": {
    "scrolled": true
   },
   "outputs": [
    {
     "data": {
      "text/plain": [
       "           C1A      C1B      C1C      C2A    C2B_1    C2C_1    C3A_1      C3B\n",
       "C1B   19.46836                                                               \n",
       "C1C   51.98906 52.28083                                                      \n",
       "C2A   38.09352 35.60140 52.36411                                             \n",
       "C2B_1 31.50918 32.77533 34.68816 31.99933                                    \n",
       "C2C_1 32.74597 34.05856 31.63673 37.12041 15.99659                           \n",
       "C3A_1 52.49696 50.66289 51.36069 41.62088 37.65798 38.81939                  \n",
       "C3B   45.76613 45.44404 44.63521 43.19326 29.65792 27.51400 34.53702         \n",
       "C3C_1 55.72943 54.94104 48.70558 43.96937 36.90948 37.53843 31.17910 23.94948\n",
       "C4A   43.87321 43.21658 42.86588 36.56352 27.73864 28.75997 33.69686 21.14918\n",
       "C4B   44.09764 43.37667 44.12975 37.41189 28.94986 29.20173 33.02842 21.88539\n",
       "C4C   55.46014 54.47562 49.91577 56.76177 41.09653 38.44773 46.38102 27.23644\n",
       "C5A   40.85671 39.34807 45.10501 37.07746 29.39482 29.12566 32.37497 30.41688\n",
       "C5B   48.55729 47.65595 48.39127 42.61004 35.31360 34.62831 31.20186 34.03122\n",
       "C5C   42.05597 40.06212 46.26894 36.81057 30.78578 30.56579 29.88589 31.68936\n",
       "P1A   19.50203 10.95781 51.22887 33.94075 31.61541 32.81155 49.53050 44.09316\n",
       "P1B   22.38087 16.83857 51.36454 36.68584 32.52228 32.03040 47.68698 43.19458\n",
       "P1C   17.83851 11.11359 50.91109 34.95817 30.70019 31.51787 48.30136 42.89017\n",
       "P2A   74.86651 73.02827 42.69057 65.60855 56.18841 55.20182 55.58816 58.71869\n",
       "P2B   76.60695 75.01449 42.97602 68.15180 58.12415 56.61307 59.43393 59.99756\n",
       "P2C   76.52296 74.80467 43.58227 68.90213 57.76014 55.32250 56.87767 57.73454\n",
       "         C3C_1      C4A      C4B      C4C      C5A      C5B      C5C      P1A\n",
       "C1B                                                                          \n",
       "C1C                                                                          \n",
       "C2A                                                                          \n",
       "C2B_1                                                                        \n",
       "C2C_1                                                                        \n",
       "C3A_1                                                                        \n",
       "C3B                                                                          \n",
       "C3C_1                                                                        \n",
       "C4A   23.72386                                                               \n",
       "C4B   23.73845 17.64562                                                      \n",
       "C4C   36.08161 31.03061 31.29281                                             \n",
       "C5A   32.94511 26.36039 26.15763 40.67450                                    \n",
       "C5B   34.45795 30.52933 29.48373 42.67130 24.99812                           \n",
       "C5C   33.45227 26.54031 26.32218 41.30382 21.23936 23.63408                  \n",
       "P1A   53.31387 41.93173 41.38665 53.86239 38.31408 46.58017 39.36591         \n",
       "P1B   53.31302 41.57356 41.28146 51.83560 37.99652 44.38792 37.78438 15.29789\n",
       "P1C   52.82514 40.77497 40.87744 51.85240 37.56690 45.55788 38.15754 10.78477\n",
       "P2A   53.73684 54.85766 55.79274 60.56208 57.66469 56.98188 57.39825 71.62836\n",
       "P2B   55.36542 55.99209 57.11638 61.49632 59.38720 59.91263 60.11766 73.59245\n",
       "P2C   53.52070 54.62707 55.75325 58.09565 57.41829 56.38622 57.41827 73.58333\n",
       "           P1B      P1C      P2A      P2B\n",
       "C1B                                      \n",
       "C1C                                      \n",
       "C2A                                      \n",
       "C2B_1                                    \n",
       "C2C_1                                    \n",
       "C3A_1                                    \n",
       "C3B                                      \n",
       "C3C_1                                    \n",
       "C4A                                      \n",
       "C4B                                      \n",
       "C4C                                      \n",
       "C5A                                      \n",
       "C5B                                      \n",
       "C5C                                      \n",
       "P1A                                      \n",
       "P1B                                      \n",
       "P1C   12.36339                           \n",
       "P2A   71.19863 71.30006                  \n",
       "P2B   73.57727 73.33864 20.00196         \n",
       "P2C   72.41745 72.79073 22.79237 17.51180"
      ]
     },
     "metadata": {},
     "output_type": "display_data"
    }
   ],
   "source": [
    "sampleDists <- dist(t(assay(vsd)))\n",
    "sampleDists"
   ]
  },
  {
   "cell_type": "code",
   "execution_count": 51,
   "id": "15972d57",
   "metadata": {},
   "outputs": [
    {
     "data": {
      "image/png": "[encoded data removed]",
      "text/plain": [
       "plot without title"
      ]
     },
     "metadata": {
      "image/png": {
       "height": 1500,
       "width": 1500
      }
     },
     "output_type": "display_data"
    }
   ],
   "source": [
    "sampleDists <- dist(t(assay(vsd)))\n",
    "#sampleDists\n",
    "sampleDistMatrix <- as.matrix( sampleDists )\n",
    "rownames(sampleDistMatrix) <- vsd$sample\n",
    "colnames(sampleDistMatrix) <- vsd$sample\n",
    "colors <- colorRampPalette( rev(brewer.pal(9, \"Blues\")) )(255)\n",
    "ann_df = colData(vsd)[c('Timepoint', 'Group')]\n",
    "\n",
    "pheatmap(sampleDistMatrix,\n",
    "         clustering_distance_rows = sampleDists,\n",
    "         clustering_distance_cols = sampleDists,\n",
    "         col = colors,\n",
    "         annotation_row = ann_df,\n",
    "         annotation_col = ann_df,\n",
    "         annotation_colors = ann_colors,\n",
    "         main = \"MED4 Distance between Samples (DESeq VST)\"\n",
    ")"
   ]
  },
  {
   "cell_type": "code",
   "execution_count": 52,
   "id": "e997cbc1",
   "metadata": {},
   "outputs": [
    {
     "data": {
      "text/html": [
       "<table class=\"dataframe\">\n",
       "<caption>A matrix: 6 × 21 of type dbl</caption>\n",
       "<thead>\n",
       "\t<tr><th></th><th scope=col>C1A</th><th scope=col>C1B</th><th scope=col>C1C</th><th scope=col>C2A</th><th scope=col>C2B_1</th><th scope=col>C2C_1</th><th scope=col>C3A_1</th><th scope=col>C3B</th><th scope=col>C3C_1</th><th scope=col>C4A</th><th scope=col>⋯</th><th scope=col>C4C</th><th scope=col>C5A</th><th scope=col>C5B</th><th scope=col>C5C</th><th scope=col>P1A</th><th scope=col>P1B</th><th scope=col>P1C</th><th scope=col>P2A</th><th scope=col>P2B</th><th scope=col>P2C</th></tr>\n",
       "</thead>\n",
       "<tbody>\n",
       "\t<tr><th scope=row>C1A</th><td> 0.00000</td><td>19.46836</td><td>51.98906</td><td>38.09352</td><td>31.50918</td><td>32.74597</td><td>52.49696</td><td>45.76613</td><td>55.72943</td><td>43.87321</td><td>⋯</td><td>55.46014</td><td>40.85671</td><td>48.55729</td><td>42.05597</td><td>19.50203</td><td>22.38087</td><td>17.83851</td><td>74.86651</td><td>76.60695</td><td>76.52296</td></tr>\n",
       "\t<tr><th scope=row>C1B</th><td>19.46836</td><td> 0.00000</td><td>52.28083</td><td>35.60140</td><td>32.77533</td><td>34.05856</td><td>50.66289</td><td>45.44404</td><td>54.94104</td><td>43.21658</td><td>⋯</td><td>54.47562</td><td>39.34807</td><td>47.65595</td><td>40.06212</td><td>10.95781</td><td>16.83857</td><td>11.11359</td><td>73.02827</td><td>75.01449</td><td>74.80467</td></tr>\n",
       "\t<tr><th scope=row>C1C</th><td>51.98906</td><td>52.28083</td><td> 0.00000</td><td>52.36411</td><td>34.68816</td><td>31.63673</td><td>51.36069</td><td>44.63521</td><td>48.70558</td><td>42.86588</td><td>⋯</td><td>49.91577</td><td>45.10501</td><td>48.39127</td><td>46.26894</td><td>51.22887</td><td>51.36454</td><td>50.91109</td><td>42.69057</td><td>42.97602</td><td>43.58227</td></tr>\n",
       "\t<tr><th scope=row>C2A</th><td>38.09352</td><td>35.60140</td><td>52.36411</td><td> 0.00000</td><td>31.99933</td><td>37.12041</td><td>41.62088</td><td>43.19326</td><td>43.96937</td><td>36.56352</td><td>⋯</td><td>56.76177</td><td>37.07746</td><td>42.61004</td><td>36.81057</td><td>33.94075</td><td>36.68584</td><td>34.95817</td><td>65.60855</td><td>68.15180</td><td>68.90213</td></tr>\n",
       "\t<tr><th scope=row>C2B_1</th><td>31.50918</td><td>32.77533</td><td>34.68816</td><td>31.99933</td><td> 0.00000</td><td>15.99659</td><td>37.65798</td><td>29.65792</td><td>36.90948</td><td>27.73864</td><td>⋯</td><td>41.09653</td><td>29.39482</td><td>35.31360</td><td>30.78578</td><td>31.61541</td><td>32.52228</td><td>30.70019</td><td>56.18841</td><td>58.12415</td><td>57.76014</td></tr>\n",
       "\t<tr><th scope=row>C2C_1</th><td>32.74597</td><td>34.05856</td><td>31.63673</td><td>37.12041</td><td>15.99659</td><td> 0.00000</td><td>38.81939</td><td>27.51400</td><td>37.53843</td><td>28.75997</td><td>⋯</td><td>38.44773</td><td>29.12566</td><td>34.62831</td><td>30.56579</td><td>32.81155</td><td>32.03040</td><td>31.51787</td><td>55.20182</td><td>56.61307</td><td>55.32250</td></tr>\n",
       "</tbody>\n",
       "</table>\n"
      ],
      "text/latex": [
       "A matrix: 6 × 21 of type dbl\n",
       "\\begin{tabular}{r|lllllllllllllllllllll}\n",
       "  & C1A & C1B & C1C & C2A & C2B\\_1 & C2C\\_1 & C3A\\_1 & C3B & C3C\\_1 & C4A & ⋯ & C4C & C5A & C5B & C5C & P1A & P1B & P1C & P2A & P2B & P2C\\\\\n",
       "\\hline\n",
       "\tC1A &  0.00000 & 19.46836 & 51.98906 & 38.09352 & 31.50918 & 32.74597 & 52.49696 & 45.76613 & 55.72943 & 43.87321 & ⋯ & 55.46014 & 40.85671 & 48.55729 & 42.05597 & 19.50203 & 22.38087 & 17.83851 & 74.86651 & 76.60695 & 76.52296\\\\\n",
       "\tC1B & 19.46836 &  0.00000 & 52.28083 & 35.60140 & 32.77533 & 34.05856 & 50.66289 & 45.44404 & 54.94104 & 43.21658 & ⋯ & 54.47562 & 39.34807 & 47.65595 & 40.06212 & 10.95781 & 16.83857 & 11.11359 & 73.02827 & 75.01449 & 74.80467\\\\\n",
       "\tC1C & 51.98906 & 52.28083 &  0.00000 & 52.36411 & 34.68816 & 31.63673 & 51.36069 & 44.63521 & 48.70558 & 42.86588 & ⋯ & 49.91577 & 45.10501 & 48.39127 & 46.26894 & 51.22887 & 51.36454 & 50.91109 & 42.69057 & 42.97602 & 43.58227\\\\\n",
       "\tC2A & 38.09352 & 35.60140 & 52.36411 &  0.00000 & 31.99933 & 37.12041 & 41.62088 & 43.19326 & 43.96937 & 36.56352 & ⋯ & 56.76177 & 37.07746 & 42.61004 & 36.81057 & 33.94075 & 36.68584 & 34.95817 & 65.60855 & 68.15180 & 68.90213\\\\\n",
       "\tC2B\\_1 & 31.50918 & 32.77533 & 34.68816 & 31.99933 &  0.00000 & 15.99659 & 37.65798 & 29.65792 & 36.90948 & 27.73864 & ⋯ & 41.09653 & 29.39482 & 35.31360 & 30.78578 & 31.61541 & 32.52228 & 30.70019 & 56.18841 & 58.12415 & 57.76014\\\\\n",
       "\tC2C\\_1 & 32.74597 & 34.05856 & 31.63673 & 37.12041 & 15.99659 &  0.00000 & 38.81939 & 27.51400 & 37.53843 & 28.75997 & ⋯ & 38.44773 & 29.12566 & 34.62831 & 30.56579 & 32.81155 & 32.03040 & 31.51787 & 55.20182 & 56.61307 & 55.32250\\\\\n",
       "\\end{tabular}\n"
      ],
      "text/markdown": [
       "\n",
       "A matrix: 6 × 21 of type dbl\n",
       "\n",
       "| <!--/--> | C1A | C1B | C1C | C2A | C2B_1 | C2C_1 | C3A_1 | C3B | C3C_1 | C4A | ⋯ | C4C | C5A | C5B | C5C | P1A | P1B | P1C | P2A | P2B | P2C |\n",
       "|---|---|---|---|---|---|---|---|---|---|---|---|---|---|---|---|---|---|---|---|---|---|\n",
       "| C1A |  0.00000 | 19.46836 | 51.98906 | 38.09352 | 31.50918 | 32.74597 | 52.49696 | 45.76613 | 55.72943 | 43.87321 | ⋯ | 55.46014 | 40.85671 | 48.55729 | 42.05597 | 19.50203 | 22.38087 | 17.83851 | 74.86651 | 76.60695 | 76.52296 |\n",
       "| C1B | 19.46836 |  0.00000 | 52.28083 | 35.60140 | 32.77533 | 34.05856 | 50.66289 | 45.44404 | 54.94104 | 43.21658 | ⋯ | 54.47562 | 39.34807 | 47.65595 | 40.06212 | 10.95781 | 16.83857 | 11.11359 | 73.02827 | 75.01449 | 74.80467 |\n",
       "| C1C | 51.98906 | 52.28083 |  0.00000 | 52.36411 | 34.68816 | 31.63673 | 51.36069 | 44.63521 | 48.70558 | 42.86588 | ⋯ | 49.91577 | 45.10501 | 48.39127 | 46.26894 | 51.22887 | 51.36454 | 50.91109 | 42.69057 | 42.97602 | 43.58227 |\n",
       "| C2A | 38.09352 | 35.60140 | 52.36411 |  0.00000 | 31.99933 | 37.12041 | 41.62088 | 43.19326 | 43.96937 | 36.56352 | ⋯ | 56.76177 | 37.07746 | 42.61004 | 36.81057 | 33.94075 | 36.68584 | 34.95817 | 65.60855 | 68.15180 | 68.90213 |\n",
       "| C2B_1 | 31.50918 | 32.77533 | 34.68816 | 31.99933 |  0.00000 | 15.99659 | 37.65798 | 29.65792 | 36.90948 | 27.73864 | ⋯ | 41.09653 | 29.39482 | 35.31360 | 30.78578 | 31.61541 | 32.52228 | 30.70019 | 56.18841 | 58.12415 | 57.76014 |\n",
       "| C2C_1 | 32.74597 | 34.05856 | 31.63673 | 37.12041 | 15.99659 |  0.00000 | 38.81939 | 27.51400 | 37.53843 | 28.75997 | ⋯ | 38.44773 | 29.12566 | 34.62831 | 30.56579 | 32.81155 | 32.03040 | 31.51787 | 55.20182 | 56.61307 | 55.32250 |\n",
       "\n"
      ],
      "text/plain": [
       "      C1A      C1B      C1C      C2A      C2B_1    C2C_1    C3A_1    C3B     \n",
       "C1A    0.00000 19.46836 51.98906 38.09352 31.50918 32.74597 52.49696 45.76613\n",
       "C1B   19.46836  0.00000 52.28083 35.60140 32.77533 34.05856 50.66289 45.44404\n",
       "C1C   51.98906 52.28083  0.00000 52.36411 34.68816 31.63673 51.36069 44.63521\n",
       "C2A   38.09352 35.60140 52.36411  0.00000 31.99933 37.12041 41.62088 43.19326\n",
       "C2B_1 31.50918 32.77533 34.68816 31.99933  0.00000 15.99659 37.65798 29.65792\n",
       "C2C_1 32.74597 34.05856 31.63673 37.12041 15.99659  0.00000 38.81939 27.51400\n",
       "      C3C_1    C4A      ⋯ C4C      C5A      C5B      C5C      P1A      P1B     \n",
       "C1A   55.72943 43.87321 ⋯ 55.46014 40.85671 48.55729 42.05597 19.50203 22.38087\n",
       "C1B   54.94104 43.21658 ⋯ 54.47562 39.34807 47.65595 40.06212 10.95781 16.83857\n",
       "C1C   48.70558 42.86588 ⋯ 49.91577 45.10501 48.39127 46.26894 51.22887 51.36454\n",
       "C2A   43.96937 36.56352 ⋯ 56.76177 37.07746 42.61004 36.81057 33.94075 36.68584\n",
       "C2B_1 36.90948 27.73864 ⋯ 41.09653 29.39482 35.31360 30.78578 31.61541 32.52228\n",
       "C2C_1 37.53843 28.75997 ⋯ 38.44773 29.12566 34.62831 30.56579 32.81155 32.03040\n",
       "      P1C      P2A      P2B      P2C     \n",
       "C1A   17.83851 74.86651 76.60695 76.52296\n",
       "C1B   11.11359 73.02827 75.01449 74.80467\n",
       "C1C   50.91109 42.69057 42.97602 43.58227\n",
       "C2A   34.95817 65.60855 68.15180 68.90213\n",
       "C2B_1 30.70019 56.18841 58.12415 57.76014\n",
       "C2C_1 31.51787 55.20182 56.61307 55.32250"
      ]
     },
     "metadata": {},
     "output_type": "display_data"
    }
   ],
   "source": [
    "head(sampleDistMatrix)"
   ]
  },
  {
   "cell_type": "code",
   "execution_count": 53,
   "id": "cf4a260b",
   "metadata": {},
   "outputs": [],
   "source": [
    "m = as.data.frame(sampleDistMatrix)\n",
    "m$sample1 = rownames(m)\n",
    "mdist = pivot_longer(m, cols=colnames(sampleDistMatrix), \n",
    "            names_to='sample2',\n",
    "            values_to='dist')\n",
    "mdist = mdist %>% filter(sample1 != sample2)"
   ]
  },
  {
   "cell_type": "code",
   "execution_count": 54,
   "id": "756fc36f",
   "metadata": {},
   "outputs": [
    {
     "data": {
      "text/html": [
       "<table class=\"dataframe\">\n",
       "<caption>A tibble: 6 × 31</caption>\n",
       "<thead>\n",
       "\t<tr><th scope=col>sample1</th><th scope=col>sample2</th><th scope=col>dist</th><th scope=col>sample_id</th><th scope=col>TGCnew.</th><th scope=col>Conc.Qubit.TGC..ng.ul.</th><th scope=col>init_RNA</th><th scope=col>Lib_conc..ng.ul.</th><th scope=col>Group</th><th scope=col>Timepoint</th><th scope=col>⋯</th><th scope=col>Lib_conc..ng.ul._2</th><th scope=col>Group_2</th><th scope=col>Timepoint_2</th><th scope=col>Replicate_2</th><th scope=col>Day_2</th><th scope=col>extraction_2</th><th scope=col>techincal_replicate_2</th><th scope=col>phase_2</th><th scope=col>groupandtime_2</th><th scope=col>treatment_2</th></tr>\n",
       "\t<tr><th scope=col>&lt;chr&gt;</th><th scope=col>&lt;chr&gt;</th><th scope=col>&lt;dbl&gt;</th><th scope=col>&lt;chr&gt;</th><th scope=col>&lt;dbl&gt;</th><th scope=col>&lt;dbl&gt;</th><th scope=col>&lt;dbl&gt;</th><th scope=col>&lt;dbl&gt;</th><th scope=col>&lt;fct&gt;</th><th scope=col>&lt;fct&gt;</th><th scope=col>⋯</th><th scope=col>&lt;dbl&gt;</th><th scope=col>&lt;fct&gt;</th><th scope=col>&lt;fct&gt;</th><th scope=col>&lt;chr&gt;</th><th scope=col>&lt;chr&gt;</th><th scope=col>&lt;fct&gt;</th><th scope=col>&lt;dbl&gt;</th><th scope=col>&lt;fct&gt;</th><th scope=col>&lt;fct&gt;</th><th scope=col>&lt;fct&gt;</th></tr>\n",
       "</thead>\n",
       "<tbody>\n",
       "\t<tr><td>C1A</td><td>C1B  </td><td>19.46836</td><td>C1A_S16</td><td>16</td><td>300</td><td>100</td><td>1.15</td><td>C</td><td>1</td><td>⋯</td><td>1.91</td><td>C</td><td>1</td><td>B</td><td>11</td><td>1</td><td>0</td><td>logExp   </td><td>C1</td><td>C1       </td></tr>\n",
       "\t<tr><td>C1A</td><td>C1C  </td><td>51.98906</td><td>C1A_S16</td><td>16</td><td>300</td><td>100</td><td>1.15</td><td>C</td><td>1</td><td>⋯</td><td>2.24</td><td>C</td><td>1</td><td>C</td><td>11</td><td>2</td><td>0</td><td>logExp   </td><td>C1</td><td>C1       </td></tr>\n",
       "\t<tr><td>C1A</td><td>C2A  </td><td>38.09352</td><td>C1A_S16</td><td>16</td><td>300</td><td>100</td><td>1.15</td><td>C</td><td>1</td><td>⋯</td><td>1.87</td><td>C</td><td>2</td><td>A</td><td>18</td><td>4</td><td>0</td><td>decline  </td><td>C2</td><td>NA       </td></tr>\n",
       "\t<tr><td>C1A</td><td>C2B_1</td><td>31.50918</td><td>C1A_S16</td><td>16</td><td>300</td><td>100</td><td>1.15</td><td>C</td><td>1</td><td>⋯</td><td>2.28</td><td>C</td><td>2</td><td>B</td><td>18</td><td>2</td><td>0</td><td>decline  </td><td>C2</td><td>NA       </td></tr>\n",
       "\t<tr><td>C1A</td><td>C2C_1</td><td>32.74597</td><td>C1A_S16</td><td>16</td><td>300</td><td>100</td><td>1.15</td><td>C</td><td>1</td><td>⋯</td><td>2.80</td><td>C</td><td>2</td><td>C</td><td>18</td><td>2</td><td>0</td><td>decline  </td><td>C2</td><td>NA       </td></tr>\n",
       "\t<tr><td>C1A</td><td>C3A_1</td><td>52.49696</td><td>C1A_S16</td><td>16</td><td>300</td><td>100</td><td>1.15</td><td>C</td><td>1</td><td>⋯</td><td>1.20</td><td>C</td><td>3</td><td>A</td><td>31</td><td>4</td><td>0</td><td>long-term</td><td>C3</td><td>long-term</td></tr>\n",
       "</tbody>\n",
       "</table>\n"
      ],
      "text/latex": [
       "A tibble: 6 × 31\n",
       "\\begin{tabular}{lllllllllllllllllllll}\n",
       " sample1 & sample2 & dist & sample\\_id & TGCnew. & Conc.Qubit.TGC..ng.ul. & init\\_RNA & Lib\\_conc..ng.ul. & Group & Timepoint & ⋯ & Lib\\_conc..ng.ul.\\_2 & Group\\_2 & Timepoint\\_2 & Replicate\\_2 & Day\\_2 & extraction\\_2 & techincal\\_replicate\\_2 & phase\\_2 & groupandtime\\_2 & treatment\\_2\\\\\n",
       " <chr> & <chr> & <dbl> & <chr> & <dbl> & <dbl> & <dbl> & <dbl> & <fct> & <fct> & ⋯ & <dbl> & <fct> & <fct> & <chr> & <chr> & <fct> & <dbl> & <fct> & <fct> & <fct>\\\\\n",
       "\\hline\n",
       "\t C1A & C1B   & 19.46836 & C1A\\_S16 & 16 & 300 & 100 & 1.15 & C & 1 & ⋯ & 1.91 & C & 1 & B & 11 & 1 & 0 & logExp    & C1 & C1       \\\\\n",
       "\t C1A & C1C   & 51.98906 & C1A\\_S16 & 16 & 300 & 100 & 1.15 & C & 1 & ⋯ & 2.24 & C & 1 & C & 11 & 2 & 0 & logExp    & C1 & C1       \\\\\n",
       "\t C1A & C2A   & 38.09352 & C1A\\_S16 & 16 & 300 & 100 & 1.15 & C & 1 & ⋯ & 1.87 & C & 2 & A & 18 & 4 & 0 & decline   & C2 & NA       \\\\\n",
       "\t C1A & C2B\\_1 & 31.50918 & C1A\\_S16 & 16 & 300 & 100 & 1.15 & C & 1 & ⋯ & 2.28 & C & 2 & B & 18 & 2 & 0 & decline   & C2 & NA       \\\\\n",
       "\t C1A & C2C\\_1 & 32.74597 & C1A\\_S16 & 16 & 300 & 100 & 1.15 & C & 1 & ⋯ & 2.80 & C & 2 & C & 18 & 2 & 0 & decline   & C2 & NA       \\\\\n",
       "\t C1A & C3A\\_1 & 52.49696 & C1A\\_S16 & 16 & 300 & 100 & 1.15 & C & 1 & ⋯ & 1.20 & C & 3 & A & 31 & 4 & 0 & long-term & C3 & long-term\\\\\n",
       "\\end{tabular}\n"
      ],
      "text/markdown": [
       "\n",
       "A tibble: 6 × 31\n",
       "\n",
       "| sample1 &lt;chr&gt; | sample2 &lt;chr&gt; | dist &lt;dbl&gt; | sample_id &lt;chr&gt; | TGCnew. &lt;dbl&gt; | Conc.Qubit.TGC..ng.ul. &lt;dbl&gt; | init_RNA &lt;dbl&gt; | Lib_conc..ng.ul. &lt;dbl&gt; | Group &lt;fct&gt; | Timepoint &lt;fct&gt; | ⋯ ⋯ | Lib_conc..ng.ul._2 &lt;dbl&gt; | Group_2 &lt;fct&gt; | Timepoint_2 &lt;fct&gt; | Replicate_2 &lt;chr&gt; | Day_2 &lt;chr&gt; | extraction_2 &lt;fct&gt; | techincal_replicate_2 &lt;dbl&gt; | phase_2 &lt;fct&gt; | groupandtime_2 &lt;fct&gt; | treatment_2 &lt;fct&gt; |\n",
       "|---|---|---|---|---|---|---|---|---|---|---|---|---|---|---|---|---|---|---|---|---|\n",
       "| C1A | C1B   | 19.46836 | C1A_S16 | 16 | 300 | 100 | 1.15 | C | 1 | ⋯ | 1.91 | C | 1 | B | 11 | 1 | 0 | logExp    | C1 | C1        |\n",
       "| C1A | C1C   | 51.98906 | C1A_S16 | 16 | 300 | 100 | 1.15 | C | 1 | ⋯ | 2.24 | C | 1 | C | 11 | 2 | 0 | logExp    | C1 | C1        |\n",
       "| C1A | C2A   | 38.09352 | C1A_S16 | 16 | 300 | 100 | 1.15 | C | 1 | ⋯ | 1.87 | C | 2 | A | 18 | 4 | 0 | decline   | C2 | NA        |\n",
       "| C1A | C2B_1 | 31.50918 | C1A_S16 | 16 | 300 | 100 | 1.15 | C | 1 | ⋯ | 2.28 | C | 2 | B | 18 | 2 | 0 | decline   | C2 | NA        |\n",
       "| C1A | C2C_1 | 32.74597 | C1A_S16 | 16 | 300 | 100 | 1.15 | C | 1 | ⋯ | 2.80 | C | 2 | C | 18 | 2 | 0 | decline   | C2 | NA        |\n",
       "| C1A | C3A_1 | 52.49696 | C1A_S16 | 16 | 300 | 100 | 1.15 | C | 1 | ⋯ | 1.20 | C | 3 | A | 31 | 4 | 0 | long-term | C3 | long-term |\n",
       "\n"
      ],
      "text/plain": [
       "  sample1 sample2 dist     sample_id TGCnew. Conc.Qubit.TGC..ng.ul. init_RNA\n",
       "1 C1A     C1B     19.46836 C1A_S16   16      300                    100     \n",
       "2 C1A     C1C     51.98906 C1A_S16   16      300                    100     \n",
       "3 C1A     C2A     38.09352 C1A_S16   16      300                    100     \n",
       "4 C1A     C2B_1   31.50918 C1A_S16   16      300                    100     \n",
       "5 C1A     C2C_1   32.74597 C1A_S16   16      300                    100     \n",
       "6 C1A     C3A_1   52.49696 C1A_S16   16      300                    100     \n",
       "  Lib_conc..ng.ul. Group Timepoint ⋯ Lib_conc..ng.ul._2 Group_2 Timepoint_2\n",
       "1 1.15             C     1         ⋯ 1.91               C       1          \n",
       "2 1.15             C     1         ⋯ 2.24               C       1          \n",
       "3 1.15             C     1         ⋯ 1.87               C       2          \n",
       "4 1.15             C     1         ⋯ 2.28               C       2          \n",
       "5 1.15             C     1         ⋯ 2.80               C       2          \n",
       "6 1.15             C     1         ⋯ 1.20               C       3          \n",
       "  Replicate_2 Day_2 extraction_2 techincal_replicate_2 phase_2   groupandtime_2\n",
       "1 B           11    1            0                     logExp    C1            \n",
       "2 C           11    2            0                     logExp    C1            \n",
       "3 A           18    4            0                     decline   C2            \n",
       "4 B           18    2            0                     decline   C2            \n",
       "5 C           18    2            0                     decline   C2            \n",
       "6 A           31    4            0                     long-term C3            \n",
       "  treatment_2\n",
       "1 C1         \n",
       "2 C1         \n",
       "3 NA         \n",
       "4 NA         \n",
       "5 NA         \n",
       "6 long-term  "
      ]
     },
     "metadata": {},
     "output_type": "display_data"
    }
   ],
   "source": [
    "mdist = left_join(mdist, colData(dds), \n",
    "          by=c('sample1' = 'sample'), suffix=c('', '_1'), copy=TRUE)\n",
    "mdist = left_join(mdist, colData(dds), \n",
    "          by=c('sample2' = 'sample'), suffix=c('', '_2'), copy=TRUE)\n",
    "head(mdist)\n"
   ]
  },
  {
   "cell_type": "code",
   "execution_count": 55,
   "id": "c646359b",
   "metadata": {},
   "outputs": [
    {
     "name": "stdout",
     "output_type": "stream",
     "text": [
      "c(\"sample1\", \"sample2\", \"dist\", \"sample_id\", \"TGCnew.\", \"Conc.Qubit.TGC..ng.ul.\", \n",
      "\"init_RNA\", \"Lib_conc..ng.ul.\", \"Group\", \"Timepoint\", \"Replicate\", \n",
      "\"Day\", \"extraction\", \"techincal_replicate\", \"phase\", \"groupandtime\", \n",
      "\"treatment\", \"sample_id_2\", \"TGCnew._2\", \"Conc.Qubit.TGC..ng.ul._2\", \n",
      "\"init_RNA_2\", \"Lib_conc..ng.ul._2\", \"Group_2\", \"Timepoint_2\", \n",
      "\"Replicate_2\", \"Day_2\", \"extraction_2\", \"techincal_replicate_2\", \n",
      "\"phase_2\", \"groupandtime_2\", \"treatment_2\")\n"
     ]
    }
   ],
   "source": [
    "dput(colnames(mdist))"
   ]
  },
  {
   "cell_type": "code",
   "execution_count": 56,
   "id": "387763df",
   "metadata": {},
   "outputs": [
    {
     "name": "stdout",
     "output_type": "stream",
     "text": [
      "c(\"Distance from C to C\", \"Distance from C to P\", \"Distance from P to P\"\n",
      ")\n",
      "c(\"11\", \"21\", \"22\", \"31\", \"32\", \"33\", \"41\", \"42\", \"43\", \"44\", \n",
      "\"51\", \"52\", \"53\", \"54\", \"55\")\n"
     ]
    }
   ],
   "source": [
    "cgroup_levels = c(\"PP\",  \"CP\", \"CC\")\n",
    "cgroup_levels = c(\"Distance from P to P\",  \"Distance from C to P\", \n",
    "                  \"Distance from C to C\")\n",
    "ctime_levels = c(\n",
    "    \"11\", \n",
    "    \"21\", '22', \n",
    "    '31', '32', \"33\", \n",
    "    '41', '42', \"43\", \"44\", \n",
    "    '51', '52', \"53\", \"54\", \"55\"\n",
    ")\n",
    "cself= c('11', '22', '33','44', '55')\n",
    "mdist = mdist %>% \n",
    "   mutate(combgroup = paste('Distance from', Group, 'to', Group_2),\n",
    "          combtime = paste0(Timepoint, Timepoint_2),\n",
    "          self = combtime %in% cself\n",
    "         ) %>%\n",
    "   rename(Distance_to_timepoint = Timepoint_2 ) %>%\n",
    "   filter(combgroup %in% cgroup_levels, combtime %in% ctime_levels)\n",
    "  \n",
    "dput(unique(mdist$combgroup))\n",
    "dput(unique(mdist$combtime))"
   ]
  },
  {
   "cell_type": "code",
   "execution_count": 57,
   "id": "e0dbcb5b",
   "metadata": {},
   "outputs": [
    {
     "data": {
      "image/png": "[encoded data removed]",
      "text/plain": [
       "plot without title"
      ]
     },
     "metadata": {
      "image/png": {
       "height": 1500,
       "width": 1500
      }
     },
     "output_type": "display_data"
    }
   ],
   "source": [
    "ggplot(mdist, aes(x=Timepoint, y=dist, fill=Distance_to_timepoint, \n",
    "                  color=combgroup)) +\n",
    "   #geom_point() +\n",
    "   #geom_line(aes(group=Timepoint_2))\n",
    "   geom_boxplot(varwidth = TRUE) +\n",
    "   scale_fill_manual(values = ann_colors$Timepoint) +\n",
    "   facet_wrap(~combgroup, ncol=1)"
   ]
  },
  {
   "cell_type": "code",
   "execution_count": 58,
   "id": "411b3c9c",
   "metadata": {},
   "outputs": [
    {
     "data": {
      "image/png": "[encoded data removed]",
      "text/plain": [
       "plot without title"
      ]
     },
     "metadata": {
      "image/png": {
       "height": 1500,
       "width": 1500
      }
     },
     "output_type": "display_data"
    }
   ],
   "source": [
    "ggplot(mdist, aes(x=Timepoint, y=dist, fill=Distance_to_timepoint, \n",
    "                  color=self,\n",
    "                  group=Distance_to_timepoint)) +\n",
    "   geom_point(shape = 21, stroke = 0.5,\n",
    "       position=position_dodge(width=0.5), #color='grey',\n",
    "             size=3) +\n",
    "   stat_summary(aes(color=Distance_to_timepoint), fun=mean, geom=\"line\") +\n",
    "   #geom_line(aes(group=Timepoint_2))\n",
    "   #geom_boxplot(varwidth = TRUE) +\n",
    "   scale_fill_manual(values = ann_colors$Timepoint) +\n",
    "   scale_color_manual(values = ann_colors$Timepoint) +\n",
    "   facet_wrap(~combgroup, ncol=1) +\n",
    "  ggtitle(\"MED4 Distance between samples (DESeq VST)\") +\n",
    "  theme_light(base_size = 15)\n"
   ]
  },
  {
   "cell_type": "code",
   "execution_count": 59,
   "id": "c6cc86ac-c38f-4e3a-aed6-15eb3be61c99",
   "metadata": {},
   "outputs": [
    {
     "data": {
      "image/png": "[encoded data removed]",
      "text/plain": [
       "plot without title"
      ]
     },
     "metadata": {
      "image/png": {
       "height": 450,
       "width": 450
      }
     },
     "output_type": "display_data"
    }
   ],
   "source": [
    "options(repr.plot.width = 3, repr.plot.height = 3, repr.plot.res = 300)\n",
    "pcaData <- plotPCA(vsd, intgroup = c( \"Timepoint\", \"Group\", 'sample', 'groupandtime'), \n",
    "                   returnData = TRUE)\n",
    "percentVar <- round(100 * attr(pcaData, \"percentVar\"))\n",
    "gpal = brewer.pal(4, 'Dark2')\n",
    "\n",
    "p <- ggplot(pcaData, aes(x = PC1,  y = PC2, \n",
    "                    color = groupandtime, shape = groupandtime, fill=groupandtime, label=sample)) +\n",
    "  geom_point(size =1, stroke = 0.7, position=position_jitter(h=0.1,w=0.1)) +\n",
    "  xlab(paste0(\"PC1 (\", percentVar[1], \"%)\")) +\n",
    "  ylab(paste0(\"PC2 (\", percentVar[2], \"%)\")) +\n",
    "  coord_fixed(ratio=2) +\n",
    "  #geom_text(nudge_y = 1) +\n",
    "  scale_color_manual(values = ann_colors$Group.Timepoint) +\n",
    "  scale_fill_manual(values = ann_colors$Group.Timepoint) +\n",
    "  scale_shape_manual(values=ann_colors$Group.Timepoint.shapes)+\n",
    "  #ggtitle(\"1A3 PCA (DESeq VST)\") +\n",
    "  theme_classic(base_size = 10)  \n",
    "p\n"
   ]
  },
  {
   "cell_type": "code",
   "execution_count": 60,
   "id": "4f6870e3-d379-40d6-870a-ac0525c6ec02",
   "metadata": {},
   "outputs": [],
   "source": [
    "ggsave('figures/med4_rnaseq_pca.svg', width = 3, height = 3)"
   ]
  },
  {
   "cell_type": "code",
   "execution_count": 61,
   "id": "d4f83b7d",
   "metadata": {},
   "outputs": [
    {
     "data": {
      "text/html": [
       "<table class=\"dataframe\">\n",
       "<caption>A matrix: 1855 × 21 of type dbl</caption>\n",
       "<thead>\n",
       "\t<tr><th></th><th scope=col>C1A</th><th scope=col>C1B</th><th scope=col>C1C</th><th scope=col>C2A</th><th scope=col>C2B_1</th><th scope=col>C2C_1</th><th scope=col>C3A_1</th><th scope=col>C3B</th><th scope=col>C3C_1</th><th scope=col>C4A</th><th scope=col>⋯</th><th scope=col>C4C</th><th scope=col>C5A</th><th scope=col>C5B</th><th scope=col>C5C</th><th scope=col>P1A</th><th scope=col>P1B</th><th scope=col>P1C</th><th scope=col>P2A</th><th scope=col>P2B</th><th scope=col>P2C</th></tr>\n",
       "</thead>\n",
       "<tbody>\n",
       "\t<tr><th scope=row>TX50_RS00020</th><td>10.199306</td><td>10.138608</td><td>11.552435</td><td>10.233089</td><td>10.846940</td><td>10.968598</td><td>10.277762</td><td>10.708205</td><td>10.925488</td><td>10.788772</td><td>⋯</td><td>10.673880</td><td>10.903510</td><td>10.828046</td><td>10.566447</td><td>10.145981</td><td>10.133392</td><td> 9.980252</td><td>11.671632</td><td>12.075326</td><td>12.089237</td></tr>\n",
       "\t<tr><th scope=row>TX50_RS00025</th><td> 7.201485</td><td> 7.403180</td><td> 8.070099</td><td> 7.613555</td><td> 7.034628</td><td> 7.294078</td><td> 6.716129</td><td> 6.561249</td><td> 6.098862</td><td> 6.959015</td><td>⋯</td><td> 6.833144</td><td> 7.123598</td><td> 6.415651</td><td> 7.179944</td><td> 7.415239</td><td> 6.965448</td><td> 7.480714</td><td> 7.102511</td><td> 7.573653</td><td> 7.703449</td></tr>\n",
       "\t<tr><th scope=row>TX50_RS00030</th><td> 8.599562</td><td> 8.771120</td><td>10.002316</td><td> 8.897714</td><td> 8.846223</td><td> 9.168677</td><td> 9.715876</td><td> 9.518070</td><td> 9.788721</td><td> 9.758011</td><td>⋯</td><td>10.293683</td><td> 9.577001</td><td> 9.988663</td><td>10.011130</td><td> 8.774283</td><td> 8.959921</td><td> 8.768441</td><td>11.021224</td><td>11.593740</td><td>11.775872</td></tr>\n",
       "\t<tr><th scope=row>TX50_RS00035</th><td> 8.466332</td><td> 8.538664</td><td> 8.319138</td><td> 8.517611</td><td> 8.372679</td><td> 8.572956</td><td> 8.523269</td><td> 8.581421</td><td> 8.191762</td><td> 8.752619</td><td>⋯</td><td> 8.794819</td><td> 8.502947</td><td> 8.517462</td><td> 8.733940</td><td> 8.441880</td><td> 8.775660</td><td> 8.489322</td><td> 9.186228</td><td> 9.908075</td><td>10.219909</td></tr>\n",
       "\t<tr><th scope=row>TX50_RS00040</th><td> 9.316846</td><td> 9.542356</td><td>10.613334</td><td> 9.655292</td><td>10.014346</td><td> 9.940660</td><td> 9.331278</td><td> 9.159758</td><td> 9.212120</td><td> 9.648415</td><td>⋯</td><td> 9.543625</td><td> 9.515104</td><td> 9.410598</td><td> 9.472152</td><td> 9.356303</td><td> 9.506277</td><td> 9.259842</td><td>10.600202</td><td>10.181465</td><td>10.279694</td></tr>\n",
       "\t<tr><th scope=row>TX50_RS00045</th><td> 7.051232</td><td> 6.830920</td><td> 8.314047</td><td> 7.850284</td><td> 7.113894</td><td> 7.198608</td><td> 6.205762</td><td> 7.496614</td><td> 7.157745</td><td> 7.534383</td><td>⋯</td><td> 6.630732</td><td> 7.045868</td><td> 6.858691</td><td> 6.946624</td><td> 6.840204</td><td> 6.424365</td><td> 6.866480</td><td> 8.181493</td><td> 8.883846</td><td> 8.507696</td></tr>\n",
       "\t<tr><th scope=row>TX50_RS00050</th><td> 7.290374</td><td> 7.180581</td><td> 9.022826</td><td> 8.155148</td><td> 8.027323</td><td> 8.286385</td><td> 8.576445</td><td> 8.728353</td><td> 9.030678</td><td> 8.633386</td><td>⋯</td><td> 8.966721</td><td> 8.164532</td><td> 8.134548</td><td> 8.415303</td><td> 7.126584</td><td> 7.037307</td><td> 7.336723</td><td> 9.393630</td><td> 9.588777</td><td> 9.752545</td></tr>\n",
       "\t<tr><th scope=row>TX50_RS00055</th><td>10.874508</td><td>10.269712</td><td>11.462462</td><td> 9.692929</td><td>11.111961</td><td>11.334858</td><td>11.155128</td><td>11.450094</td><td>11.221289</td><td>10.988171</td><td>⋯</td><td>11.197964</td><td>10.889165</td><td>10.859164</td><td>10.691494</td><td>10.154281</td><td>10.558601</td><td>10.430667</td><td>10.896282</td><td>10.544279</td><td>10.895647</td></tr>\n",
       "\t<tr><th scope=row>TX50_RS00060</th><td> 7.511811</td><td> 7.768824</td><td> 8.475512</td><td> 7.627780</td><td> 7.475503</td><td> 7.946936</td><td> 7.907539</td><td> 6.906372</td><td> 7.349883</td><td> 7.554001</td><td>⋯</td><td> 6.517609</td><td> 7.506472</td><td> 6.654329</td><td> 7.629933</td><td> 7.621234</td><td> 7.578901</td><td> 7.566741</td><td> 7.125462</td><td> 7.209630</td><td> 7.136205</td></tr>\n",
       "\t<tr><th scope=row>TX50_RS00065</th><td> 8.300663</td><td> 8.011588</td><td> 7.499263</td><td> 7.599188</td><td> 7.608964</td><td> 7.401745</td><td> 8.101511</td><td> 8.008881</td><td> 7.670865</td><td> 8.065156</td><td>⋯</td><td> 8.567706</td><td> 7.435199</td><td> 8.086769</td><td> 8.005596</td><td> 8.105516</td><td> 8.200119</td><td> 7.840141</td><td> 7.019157</td><td> 6.848277</td><td> 7.028420</td></tr>\n",
       "\t<tr><th scope=row>TX50_RS00070</th><td> 7.251546</td><td> 7.367041</td><td> 6.999250</td><td> 7.540238</td><td> 6.861575</td><td> 7.085123</td><td> 6.852349</td><td> 6.976748</td><td> 6.476374</td><td> 6.512452</td><td>⋯</td><td> 7.270998</td><td> 7.197329</td><td> 6.697611</td><td> 7.140251</td><td> 7.387283</td><td> 7.409066</td><td> 7.235215</td><td> 6.674167</td><td> 6.539371</td><td> 6.758146</td></tr>\n",
       "\t<tr><th scope=row>TX50_RS00075</th><td> 8.295910</td><td> 8.464729</td><td> 9.430412</td><td> 7.655815</td><td> 8.291900</td><td> 8.473658</td><td> 7.582800</td><td> 8.189552</td><td> 7.644472</td><td> 8.656223</td><td>⋯</td><td> 8.423635</td><td> 8.317503</td><td> 8.070484</td><td> 8.080749</td><td> 8.354888</td><td> 8.577754</td><td> 8.467831</td><td> 8.208544</td><td> 8.878440</td><td> 8.756974</td></tr>\n",
       "\t<tr><th scope=row>TX50_RS00080</th><td>11.488024</td><td>11.695863</td><td>11.566945</td><td>11.577301</td><td>11.726643</td><td>11.479382</td><td>12.423730</td><td>11.732665</td><td>12.824960</td><td>12.088263</td><td>⋯</td><td>11.907180</td><td>11.478950</td><td>11.611462</td><td>11.583955</td><td>12.021134</td><td>11.892619</td><td>11.966578</td><td>11.718929</td><td>11.659804</td><td>12.123574</td></tr>\n",
       "\t<tr><th scope=row>TX50_RS00085</th><td> 5.894437</td><td> 6.713928</td><td> 7.109463</td><td> 7.240189</td><td> 6.788182</td><td> 7.134863</td><td> 7.707359</td><td> 7.206272</td><td> 7.413831</td><td> 7.298812</td><td>⋯</td><td> 7.220475</td><td> 8.847028</td><td> 7.366355</td><td> 7.310808</td><td> 6.325575</td><td> 6.566610</td><td> 6.569618</td><td> 7.629126</td><td> 7.863866</td><td> 8.491598</td></tr>\n",
       "\t<tr><th scope=row>TX50_RS00090</th><td> 8.202491</td><td> 7.964054</td><td> 7.976500</td><td> 8.999545</td><td> 8.705927</td><td> 8.505429</td><td> 9.930130</td><td> 8.738477</td><td> 9.705125</td><td> 9.237531</td><td>⋯</td><td> 9.559929</td><td> 9.201657</td><td> 9.552100</td><td> 9.597993</td><td> 8.172476</td><td> 8.011423</td><td> 8.200997</td><td> 8.608475</td><td> 8.434913</td><td> 8.854587</td></tr>\n",
       "\t<tr><th scope=row>TX50_RS00095</th><td>10.554839</td><td>10.703981</td><td> 9.369170</td><td>11.528935</td><td>10.880583</td><td>10.771998</td><td>11.425200</td><td>11.711307</td><td>11.797814</td><td>11.378348</td><td>⋯</td><td>11.330367</td><td>10.669158</td><td>10.894255</td><td>11.006864</td><td>10.877704</td><td>11.034578</td><td>10.614789</td><td> 9.975119</td><td> 9.878603</td><td>10.487666</td></tr>\n",
       "\t<tr><th scope=row>TX50_RS00100</th><td> 8.474767</td><td> 9.019805</td><td> 9.022826</td><td> 9.343007</td><td> 9.257264</td><td> 9.091254</td><td>10.301635</td><td> 9.806050</td><td>10.208561</td><td> 9.795512</td><td>⋯</td><td>10.333343</td><td> 9.883499</td><td>10.485536</td><td>10.011130</td><td> 9.159593</td><td> 9.418892</td><td> 9.184465</td><td> 9.273312</td><td> 9.178086</td><td> 9.800683</td></tr>\n",
       "\t<tr><th scope=row>TX50_RS00105</th><td> 6.311912</td><td> 6.634767</td><td> 6.398931</td><td> 6.441958</td><td> 5.887196</td><td> 6.544887</td><td> 7.582800</td><td> 7.060114</td><td> 7.194648</td><td> 7.164742</td><td>⋯</td><td> 7.733819</td><td> 7.596317</td><td> 7.986175</td><td> 7.914610</td><td> 6.606030</td><td> 7.052798</td><td> 6.653422</td><td> 6.850166</td><td> 6.837124</td><td> 6.947833</td></tr>\n",
       "\t<tr><th scope=row>TX50_RS00110</th><td> 5.294160</td><td> 6.229281</td><td> 5.918239</td><td> 7.144362</td><td> 6.228666</td><td> 6.036804</td><td> 8.425211</td><td> 6.639457</td><td> 8.097697</td><td> 7.251496</td><td>⋯</td><td> 6.500688</td><td> 8.119831</td><td> 6.415651</td><td> 7.160235</td><td> 6.230041</td><td> 6.162103</td><td> 5.995145</td><td> 7.440980</td><td> 7.505049</td><td> 7.426600</td></tr>\n",
       "\t<tr><th scope=row>TX50_RS00115</th><td>11.113263</td><td>10.838807</td><td>11.339212</td><td>10.737495</td><td>10.753421</td><td>10.790590</td><td> 9.779597</td><td> 9.965344</td><td> 9.633234</td><td> 9.578424</td><td>⋯</td><td> 8.691292</td><td>10.088647</td><td>10.429224</td><td> 9.952361</td><td>10.651773</td><td>10.494702</td><td>10.391985</td><td>10.152640</td><td> 9.826233</td><td> 9.903078</td></tr>\n",
       "\t<tr><th scope=row>TX50_RS00120</th><td> 5.642450</td><td> 5.871265</td><td> 5.680585</td><td> 6.624280</td><td> 5.542141</td><td> 5.407381</td><td> 6.272434</td><td> 5.764912</td><td> 6.592029</td><td> 6.294864</td><td>⋯</td><td> 5.315766</td><td> 5.498004</td><td> 5.766990</td><td> 5.585095</td><td> 5.755727</td><td> 5.501736</td><td> 5.517234</td><td> 5.703318</td><td> 5.218580</td><td> 5.007641</td></tr>\n",
       "\t<tr><th scope=row>TX50_RS00125</th><td> 6.896015</td><td> 7.506443</td><td> 7.481182</td><td> 7.988909</td><td> 7.244819</td><td> 6.792906</td><td> 7.127305</td><td> 7.863710</td><td> 8.038161</td><td> 7.701990</td><td>⋯</td><td> 7.864411</td><td> 7.182883</td><td> 6.968602</td><td> 7.078572</td><td> 7.336197</td><td> 7.102016</td><td> 7.225621</td><td> 7.203014</td><td> 7.092779</td><td> 7.072512</td></tr>\n",
       "\t<tr><th scope=row>TX50_RS00130</th><td>13.044456</td><td>13.334471</td><td>11.002601</td><td>12.052306</td><td>12.217199</td><td>12.301443</td><td>12.253649</td><td>11.394378</td><td>10.480331</td><td>10.701474</td><td>⋯</td><td>10.874575</td><td>11.662731</td><td>11.744327</td><td>11.839266</td><td>13.246119</td><td>13.408479</td><td>13.258880</td><td> 9.815476</td><td> 9.746900</td><td>10.266752</td></tr>\n",
       "\t<tr><th scope=row>TX50_RS00135</th><td> 7.891901</td><td> 8.082545</td><td> 7.719550</td><td> 8.286364</td><td> 7.559572</td><td> 7.657243</td><td> 7.754312</td><td> 7.940320</td><td> 8.136063</td><td> 8.058311</td><td>⋯</td><td> 7.797158</td><td> 8.369335</td><td> 8.054012</td><td> 8.171948</td><td> 7.699055</td><td> 7.775709</td><td> 7.773770</td><td> 8.001383</td><td> 8.086623</td><td> 8.155894</td></tr>\n",
       "\t<tr><th scope=row>TX50_RS00140</th><td>11.490625</td><td>11.155951</td><td>10.062720</td><td>11.855918</td><td>10.931135</td><td>10.464162</td><td>10.913173</td><td>10.198580</td><td>10.804258</td><td>10.725419</td><td>⋯</td><td> 9.553837</td><td>11.239875</td><td>11.257993</td><td>11.165573</td><td>11.100222</td><td>11.223724</td><td>11.155513</td><td> 9.581142</td><td> 9.438963</td><td> 9.214635</td></tr>\n",
       "\t<tr><th scope=row>TX50_RS00145</th><td>10.302371</td><td>10.255537</td><td> 9.586274</td><td> 9.393758</td><td> 9.587567</td><td> 9.891833</td><td> 9.773919</td><td>10.251660</td><td> 9.377270</td><td> 9.494764</td><td>⋯</td><td>10.085634</td><td> 9.577001</td><td> 9.330865</td><td> 9.196351</td><td> 9.925568</td><td>10.429689</td><td>10.366456</td><td> 8.203175</td><td> 7.969408</td><td> 8.760337</td></tr>\n",
       "\t<tr><th scope=row>TX50_RS00150</th><td>10.328190</td><td>10.385388</td><td>10.211060</td><td> 9.377039</td><td> 9.792209</td><td>10.008722</td><td>10.389654</td><td>10.162390</td><td> 9.867737</td><td> 9.719509</td><td>⋯</td><td> 9.619477</td><td>10.047502</td><td>10.167601</td><td>10.144616</td><td>10.298967</td><td>10.498229</td><td>10.278968</td><td> 8.982013</td><td> 9.284079</td><td> 9.253326</td></tr>\n",
       "\t<tr><th scope=row>TX50_RS00155</th><td> 6.693086</td><td> 7.013801</td><td> 7.565107</td><td> 7.062802</td><td> 6.516394</td><td> 6.955726</td><td> 7.295711</td><td> 7.191571</td><td> 7.631092</td><td> 7.002592</td><td>⋯</td><td> 6.764104</td><td> 7.649747</td><td> 7.655792</td><td> 7.256178</td><td> 6.933583</td><td> 7.033408</td><td> 6.878797</td><td> 8.153924</td><td> 8.271267</td><td> 8.450551</td></tr>\n",
       "\t<tr><th scope=row>TX50_RS00160</th><td> 7.814212</td><td> 8.157230</td><td> 7.615693</td><td> 8.010769</td><td> 7.268090</td><td> 7.096326</td><td> 7.327144</td><td> 7.429344</td><td> 7.819794</td><td> 7.263472</td><td>⋯</td><td> 6.299876</td><td> 6.724834</td><td> 7.655792</td><td> 7.292828</td><td> 8.315935</td><td> 8.217355</td><td> 8.204251</td><td> 7.729733</td><td> 7.689450</td><td> 7.830573</td></tr>\n",
       "\t<tr><th scope=row>TX50_RS00165</th><td> 5.731654</td><td> 5.131694</td><td>10.580339</td><td> 6.595471</td><td> 7.061540</td><td> 6.577354</td><td> 5.721180</td><td> 6.595295</td><td> 6.175443</td><td> 6.363720</td><td>⋯</td><td> 5.696632</td><td> 5.909818</td><td> 4.683732</td><td> 4.524964</td><td> 5.631303</td><td> 5.454491</td><td> 5.600889</td><td> 8.884787</td><td>11.206471</td><td> 9.738978</td></tr>\n",
       "\t<tr><th scope=row>⋮</th><td>⋮</td><td>⋮</td><td>⋮</td><td>⋮</td><td>⋮</td><td>⋮</td><td>⋮</td><td>⋮</td><td>⋮</td><td>⋮</td><td>⋱</td><td>⋮</td><td>⋮</td><td>⋮</td><td>⋮</td><td>⋮</td><td>⋮</td><td>⋮</td><td>⋮</td><td>⋮</td><td>⋮</td></tr>\n",
       "\t<tr><th scope=row>TX50_RS09745</th><td> 7.560238</td><td> 6.894514</td><td>5.819242</td><td> 8.295294</td><td> 6.901881</td><td> 6.561213</td><td> 6.511538</td><td> 6.072345</td><td> 5.792061</td><td> 6.363720</td><td>⋯</td><td> 6.155433</td><td> 6.169112</td><td> 5.591104</td><td> 5.585095</td><td> 7.286594</td><td> 7.270373</td><td> 6.895057</td><td> 5.465877</td><td> 5.478397</td><td> 4.613629</td></tr>\n",
       "\t<tr><th scope=row>TX50_RS09750</th><td>10.333994</td><td> 7.840791</td><td>5.997830</td><td>10.076225</td><td> 8.241949</td><td> 6.918307</td><td> 5.266635</td><td> 5.592640</td><td> 5.792061</td><td> 7.432066</td><td>⋯</td><td> 6.412919</td><td> 7.750996</td><td> 7.070669</td><td> 6.851373</td><td> 8.174292</td><td> 7.167487</td><td> 8.062647</td><td> 4.045565</td><td> 3.818684</td><td> 2.999353</td></tr>\n",
       "\t<tr><th scope=row>TX50_RS09755</th><td> 7.318821</td><td> 7.367041</td><td>8.524816</td><td> 6.030931</td><td> 7.608964</td><td> 7.959231</td><td> 7.015866</td><td> 8.211531</td><td> 8.191762</td><td> 8.377101</td><td>⋯</td><td> 9.208263</td><td> 7.123598</td><td> 6.563607</td><td> 7.179944</td><td> 6.769558</td><td> 7.636468</td><td> 7.909580</td><td> 7.668658</td><td> 8.534521</td><td> 9.040298</td></tr>\n",
       "\t<tr><th scope=row>TX50_RS09760</th><td> 3.726176</td><td> 3.597137</td><td>4.761746</td><td> 2.999353</td><td> 2.999353</td><td> 4.025579</td><td> 5.123967</td><td> 3.617951</td><td> 3.961236</td><td> 3.569829</td><td>⋯</td><td> 3.734252</td><td> 3.857787</td><td> 4.476912</td><td> 2.999353</td><td> 3.528901</td><td> 3.894531</td><td> 3.651061</td><td> 5.984198</td><td> 4.518288</td><td> 5.452804</td></tr>\n",
       "\t<tr><th scope=row>TX50_RS09765</th><td> 6.253689</td><td> 6.220223</td><td>5.331495</td><td> 6.341190</td><td> 6.022871</td><td> 5.676272</td><td> 5.123967</td><td> 5.843596</td><td> 5.931883</td><td> 5.159365</td><td>⋯</td><td> 6.155433</td><td> 5.044715</td><td> 5.151213</td><td> 4.375595</td><td> 5.992149</td><td> 6.211659</td><td> 5.842125</td><td> 5.031525</td><td> 4.983330</td><td> 4.003960</td></tr>\n",
       "\t<tr><th scope=row>TX50_RS09770</th><td> 5.294160</td><td> 5.529026</td><td>4.943996</td><td> 3.984377</td><td> 5.040329</td><td> 2.999353</td><td> 2.999353</td><td> 3.617951</td><td> 2.999353</td><td> 3.569829</td><td>⋯</td><td> 2.999353</td><td> 3.857787</td><td> 2.999353</td><td> 2.999353</td><td> 5.407706</td><td> 3.426583</td><td> 3.913494</td><td> 2.999353</td><td> 2.999353</td><td> 2.999353</td></tr>\n",
       "\t<tr><th scope=row>TX50_RS09775</th><td> 7.016877</td><td> 6.888848</td><td>6.266874</td><td> 7.509832</td><td> 6.840987</td><td> 6.370391</td><td> 5.902069</td><td> 6.723876</td><td> 6.822300</td><td> 6.318191</td><td>⋯</td><td> 6.198234</td><td> 6.724834</td><td> 6.415651</td><td> 6.355779</td><td> 7.296653</td><td> 6.670974</td><td> 6.942754</td><td> 7.148051</td><td> 7.349346</td><td> 6.570511</td></tr>\n",
       "\t<tr><th scope=row>TX50_RS09780</th><td> 9.569977</td><td> 8.714831</td><td>7.890148</td><td> 6.907842</td><td> 9.078427</td><td> 9.106522</td><td> 8.119546</td><td> 9.155987</td><td> 8.479684</td><td> 8.398934</td><td>⋯</td><td> 9.775957</td><td> 8.603744</td><td> 8.587775</td><td> 8.601741</td><td> 8.337165</td><td> 8.642965</td><td> 8.866121</td><td> 6.436907</td><td> 6.683593</td><td> 6.688871</td></tr>\n",
       "\t<tr><th scope=row>TX50_RS09785</th><td> 7.667266</td><td> 7.089783</td><td>6.631043</td><td> 6.474017</td><td> 6.490111</td><td> 6.799788</td><td> 5.395399</td><td> 6.502631</td><td> 6.350454</td><td> 5.649220</td><td>⋯</td><td> 6.550858</td><td> 6.783602</td><td> 4.859737</td><td> 6.284233</td><td> 6.679892</td><td> 6.828042</td><td> 6.700509</td><td> 6.720244</td><td> 5.644920</td><td> 6.523458</td></tr>\n",
       "\t<tr><th scope=row>TX50_RS09790</th><td> 7.280765</td><td> 7.291913</td><td>6.749530</td><td> 7.398035</td><td> 7.298543</td><td> 7.167090</td><td> 7.015866</td><td> 7.305172</td><td> 7.020545</td><td> 7.164742</td><td>⋯</td><td> 6.961958</td><td> 6.980496</td><td> 6.609691</td><td> 7.199386</td><td> 7.451688</td><td> 6.948977</td><td> 7.306714</td><td> 6.473324</td><td> 6.497360</td><td> 6.491202</td></tr>\n",
       "\t<tr><th scope=row>TX50_RS09795</th><td> 8.959432</td><td> 9.055494</td><td>8.216460</td><td> 7.627780</td><td> 8.036371</td><td> 6.244233</td><td> 3.930984</td><td> 5.764912</td><td> 5.580469</td><td> 5.572379</td><td>⋯</td><td> 4.340337</td><td> 7.552097</td><td> 5.591104</td><td> 5.808411</td><td> 9.143004</td><td> 5.114018</td><td> 7.330771</td><td> 5.308808</td><td> 5.884174</td><td> 5.228747</td></tr>\n",
       "\t<tr><th scope=row>TX50_RS09800</th><td>12.118186</td><td> 9.979869</td><td>8.290911</td><td>11.078542</td><td>10.383668</td><td> 9.906180</td><td> 8.665029</td><td> 9.606380</td><td> 9.717819</td><td>10.116814</td><td>⋯</td><td> 8.969775</td><td>10.367085</td><td> 9.351215</td><td> 9.616137</td><td>10.418636</td><td> 9.781079</td><td>10.208672</td><td> 5.905731</td><td> 6.162191</td><td> 5.486761</td></tr>\n",
       "\t<tr><th scope=row>TX50_RS09805</th><td> 9.690700</td><td> 7.304711</td><td>5.127863</td><td> 6.734022</td><td> 7.096654</td><td> 6.806636</td><td> 4.295823</td><td> 6.296902</td><td> 4.833011</td><td> 6.609895</td><td>⋯</td><td> 6.280124</td><td> 5.044715</td><td> 2.999353</td><td> 4.375595</td><td> 7.772881</td><td> 7.153194</td><td> 7.760563</td><td> 4.362600</td><td> 4.309845</td><td> 2.999353</td></tr>\n",
       "\t<tr><th scope=row>TX50_RS09810</th><td>10.880072</td><td> 9.199169</td><td>6.190299</td><td> 8.562681</td><td> 7.914069</td><td> 7.867614</td><td> 5.984388</td><td> 6.682292</td><td> 4.930404</td><td> 6.247024</td><td>⋯</td><td> 5.994441</td><td> 5.873742</td><td> 5.922986</td><td> 6.247054</td><td> 9.170548</td><td> 8.282670</td><td> 9.065243</td><td> 4.806544</td><td> 4.518288</td><td> 3.873614</td></tr>\n",
       "\t<tr><th scope=row>TX50_RS09815</th><td>12.179104</td><td>10.676418</td><td>8.570355</td><td>10.281054</td><td>10.502588</td><td>10.559016</td><td> 9.846043</td><td>11.423289</td><td> 9.990512</td><td>10.251840</td><td>⋯</td><td>10.506294</td><td> 9.879038</td><td> 9.085719</td><td> 9.867054</td><td>10.761481</td><td>10.548430</td><td>11.046756</td><td> 5.031525</td><td> 4.518288</td><td> 4.117195</td></tr>\n",
       "\t<tr><th scope=row>TX50_RS09820</th><td>12.631978</td><td>10.312474</td><td>8.468657</td><td>12.056905</td><td>10.975282</td><td>10.470076</td><td> 9.914732</td><td>10.120439</td><td>10.046934</td><td>10.662542</td><td>⋯</td><td> 9.452690</td><td>10.455119</td><td>10.730448</td><td>10.186500</td><td>10.582731</td><td>10.403593</td><td>10.615705</td><td> 9.707807</td><td>10.597051</td><td>10.618447</td></tr>\n",
       "\t<tr><th scope=row>TX50_RS09825</th><td> 7.299920</td><td> 6.971565</td><td>7.615693</td><td> 7.083632</td><td> 8.161549</td><td> 8.317746</td><td> 8.736853</td><td> 8.595415</td><td> 9.090479</td><td> 8.687599</td><td>⋯</td><td>10.014961</td><td> 8.781605</td><td> 8.867588</td><td> 8.266937</td><td> 7.057221</td><td> 7.120504</td><td> 7.417557</td><td> 8.370593</td><td> 8.759979</td><td> 8.760337</td></tr>\n",
       "\t<tr><th scope=row>TX50_RS09830</th><td> 6.921018</td><td> 7.670198</td><td>7.453628</td><td>10.796833</td><td> 9.732277</td><td> 8.949117</td><td>13.370350</td><td>12.183379</td><td>13.040807</td><td>10.383535</td><td>⋯</td><td>10.759303</td><td>11.173130</td><td>11.705341</td><td>10.957913</td><td> 7.946660</td><td> 7.780358</td><td> 7.439841</td><td>11.012047</td><td> 9.666089</td><td>10.437104</td></tr>\n",
       "\t<tr><th scope=row>TX50_RS09835</th><td> 3.515982</td><td> 4.452336</td><td>3.991767</td><td> 4.647671</td><td> 3.459362</td><td> 2.999353</td><td> 4.963647</td><td> 3.966727</td><td> 4.611255</td><td> 4.455892</td><td>⋯</td><td> 4.028002</td><td> 5.044715</td><td> 4.222256</td><td> 5.585095</td><td> 4.041592</td><td> 3.601380</td><td> 3.956577</td><td> 3.530984</td><td> 4.309845</td><td> 3.716743</td></tr>\n",
       "\t<tr><th scope=row>TX50_RS09840</th><td> 6.981678</td><td> 6.751919</td><td>7.270928</td><td> 9.709718</td><td> 8.376245</td><td> 7.694511</td><td>12.237239</td><td>11.595332</td><td>12.484085</td><td>10.882748</td><td>⋯</td><td>10.818937</td><td>11.238134</td><td>11.587363</td><td>10.774610</td><td> 6.653950</td><td> 7.064307</td><td> 6.686546</td><td>10.188384</td><td> 9.706298</td><td> 9.520467</td></tr>\n",
       "\t<tr><th scope=row>TX50_RS09845</th><td> 5.788068</td><td> 5.111385</td><td>5.331495</td><td> 5.377760</td><td> 5.114549</td><td> 5.581551</td><td> 6.336100</td><td> 6.120215</td><td> 6.845734</td><td> 6.363720</td><td>⋯</td><td> 6.111289</td><td> 6.227088</td><td> 6.820093</td><td> 5.701279</td><td> 4.989852</td><td> 5.288363</td><td> 5.332603</td><td> 4.978936</td><td> 6.580175</td><td> 6.862434</td></tr>\n",
       "\t<tr><th scope=row>TX50_RS09850</th><td> 7.834031</td><td> 6.916956</td><td>6.920759</td><td> 6.680207</td><td> 7.874248</td><td> 7.672267</td><td> 6.617506</td><td> 7.670825</td><td> 7.212749</td><td> 7.852090</td><td>⋯</td><td> 8.049151</td><td> 7.168290</td><td> 7.226118</td><td> 6.826534</td><td> 7.096170</td><td> 6.635311</td><td> 7.238399</td><td> 6.436907</td><td> 6.069108</td><td> 6.824213</td></tr>\n",
       "\t<tr><th scope=row>TX50_RS09855</th><td> 6.192959</td><td> 5.882875</td><td>5.997830</td><td> 4.765749</td><td> 5.736837</td><td> 4.996523</td><td> 5.395399</td><td> 5.065664</td><td> 5.329868</td><td> 4.244314</td><td>⋯</td><td> 4.894546</td><td> 5.498004</td><td> 2.999353</td><td> 5.161124</td><td> 5.949694</td><td> 4.778040</td><td> 5.332603</td><td> 4.267713</td><td> 5.536197</td><td> 5.100656</td></tr>\n",
       "\t<tr><th scope=row>TX50_RS09860</th><td> 6.233735</td><td> 5.799490</td><td>7.322643</td><td> 5.377760</td><td> 6.022871</td><td> 6.351700</td><td> 5.123967</td><td> 5.785006</td><td> 5.259150</td><td> 5.159365</td><td>⋯</td><td> 5.315766</td><td> 5.290655</td><td> 6.466702</td><td> 5.585095</td><td> 5.923587</td><td> 6.162103</td><td> 6.258630</td><td> 7.931643</td><td> 6.985870</td><td> 7.817708</td></tr>\n",
       "\t<tr><th scope=row>TX50_RS09865</th><td> 4.411381</td><td> 5.090753</td><td>4.547031</td><td> 4.647671</td><td> 4.920237</td><td> 4.141028</td><td> 2.999353</td><td> 4.135909</td><td> 4.727246</td><td> 4.712663</td><td>⋯</td><td> 4.426222</td><td> 4.975164</td><td> 5.922986</td><td> 5.075099</td><td> 5.735755</td><td> 4.530824</td><td> 4.603905</td><td> 4.449703</td><td> 4.453130</td><td> 4.394017</td></tr>\n",
       "\t<tr><th scope=row>TX50_RS09870</th><td> 5.078642</td><td> 5.643684</td><td>5.432440</td><td> 5.742717</td><td> 5.667025</td><td> 5.581551</td><td> 5.902069</td><td> 4.959050</td><td> 6.350454</td><td> 5.611339</td><td>⋯</td><td> 5.466939</td><td> 5.110687</td><td> 4.222256</td><td> 5.644418</td><td> 5.631303</td><td> 5.547390</td><td> 5.772288</td><td> 5.878562</td><td> 6.125695</td><td> 5.674412</td></tr>\n",
       "\t<tr><th scope=row>TX50_RS09875</th><td> 6.539743</td><td> 6.614270</td><td>7.011923</td><td> 5.445812</td><td> 5.781488</td><td> 7.004143</td><td> 5.902069</td><td> 6.268949</td><td> 6.283030</td><td> 5.856917</td><td>⋯</td><td> 5.944826</td><td> 6.532423</td><td> 4.222256</td><td> 6.801256</td><td> 6.700311</td><td> 6.218598</td><td> 6.419817</td><td> 6.836300</td><td> 7.192261</td><td> 7.586930</td></tr>\n",
       "\t<tr><th scope=row>TX50_RS09880</th><td> 6.750083</td><td> 7.099616</td><td>7.485724</td><td> 7.813436</td><td> 7.172649</td><td> 6.609096</td><td> 7.015866</td><td> 6.478489</td><td> 7.020545</td><td> 7.251496</td><td>⋯</td><td> 5.393480</td><td> 7.045868</td><td> 6.362692</td><td> 6.488863</td><td> 7.269672</td><td> 6.650705</td><td> 6.845713</td><td> 8.481190</td><td> 8.653237</td><td> 8.119682</td></tr>\n",
       "\t<tr><th scope=row>TX50_RS09885</th><td> 7.095792</td><td> 7.109382</td><td>7.382338</td><td> 7.364428</td><td> 6.911782</td><td> 7.214111</td><td> 6.565509</td><td> 6.976748</td><td> 6.774245</td><td> 7.164742</td><td>⋯</td><td> 6.974223</td><td> 6.821478</td><td> 6.968602</td><td> 6.923399</td><td> 7.276465</td><td> 7.347679</td><td> 7.189882</td><td> 9.758079</td><td> 9.957605</td><td> 9.336763</td></tr>\n",
       "\t<tr><th scope=row>TX50_RS09890</th><td> 8.247498</td><td> 8.111916</td><td>7.127035</td><td> 6.375582</td><td> 7.130928</td><td> 7.698185</td><td> 7.230702</td><td> 7.298329</td><td> 6.999827</td><td> 6.929207</td><td>⋯</td><td> 7.199757</td><td> 7.596317</td><td> 7.003439</td><td> 7.672232</td><td> 8.063009</td><td> 8.121733</td><td> 8.178015</td><td> 7.192189</td><td> 6.870326</td><td> 6.982927</td></tr>\n",
       "</tbody>\n",
       "</table>\n"
      ],
      "text/latex": [
       "A matrix: 1855 × 21 of type dbl\n",
       "\\begin{tabular}{r|lllllllllllllllllllll}\n",
       "  & C1A & C1B & C1C & C2A & C2B\\_1 & C2C\\_1 & C3A\\_1 & C3B & C3C\\_1 & C4A & ⋯ & C4C & C5A & C5B & C5C & P1A & P1B & P1C & P2A & P2B & P2C\\\\\n",
       "\\hline\n",
       "\tTX50\\_RS00020 & 10.199306 & 10.138608 & 11.552435 & 10.233089 & 10.846940 & 10.968598 & 10.277762 & 10.708205 & 10.925488 & 10.788772 & ⋯ & 10.673880 & 10.903510 & 10.828046 & 10.566447 & 10.145981 & 10.133392 &  9.980252 & 11.671632 & 12.075326 & 12.089237\\\\\n",
       "\tTX50\\_RS00025 &  7.201485 &  7.403180 &  8.070099 &  7.613555 &  7.034628 &  7.294078 &  6.716129 &  6.561249 &  6.098862 &  6.959015 & ⋯ &  6.833144 &  7.123598 &  6.415651 &  7.179944 &  7.415239 &  6.965448 &  7.480714 &  7.102511 &  7.573653 &  7.703449\\\\\n",
       "\tTX50\\_RS00030 &  8.599562 &  8.771120 & 10.002316 &  8.897714 &  8.846223 &  9.168677 &  9.715876 &  9.518070 &  9.788721 &  9.758011 & ⋯ & 10.293683 &  9.577001 &  9.988663 & 10.011130 &  8.774283 &  8.959921 &  8.768441 & 11.021224 & 11.593740 & 11.775872\\\\\n",
       "\tTX50\\_RS00035 &  8.466332 &  8.538664 &  8.319138 &  8.517611 &  8.372679 &  8.572956 &  8.523269 &  8.581421 &  8.191762 &  8.752619 & ⋯ &  8.794819 &  8.502947 &  8.517462 &  8.733940 &  8.441880 &  8.775660 &  8.489322 &  9.186228 &  9.908075 & 10.219909\\\\\n",
       "\tTX50\\_RS00040 &  9.316846 &  9.542356 & 10.613334 &  9.655292 & 10.014346 &  9.940660 &  9.331278 &  9.159758 &  9.212120 &  9.648415 & ⋯ &  9.543625 &  9.515104 &  9.410598 &  9.472152 &  9.356303 &  9.506277 &  9.259842 & 10.600202 & 10.181465 & 10.279694\\\\\n",
       "\tTX50\\_RS00045 &  7.051232 &  6.830920 &  8.314047 &  7.850284 &  7.113894 &  7.198608 &  6.205762 &  7.496614 &  7.157745 &  7.534383 & ⋯ &  6.630732 &  7.045868 &  6.858691 &  6.946624 &  6.840204 &  6.424365 &  6.866480 &  8.181493 &  8.883846 &  8.507696\\\\\n",
       "\tTX50\\_RS00050 &  7.290374 &  7.180581 &  9.022826 &  8.155148 &  8.027323 &  8.286385 &  8.576445 &  8.728353 &  9.030678 &  8.633386 & ⋯ &  8.966721 &  8.164532 &  8.134548 &  8.415303 &  7.126584 &  7.037307 &  7.336723 &  9.393630 &  9.588777 &  9.752545\\\\\n",
       "\tTX50\\_RS00055 & 10.874508 & 10.269712 & 11.462462 &  9.692929 & 11.111961 & 11.334858 & 11.155128 & 11.450094 & 11.221289 & 10.988171 & ⋯ & 11.197964 & 10.889165 & 10.859164 & 10.691494 & 10.154281 & 10.558601 & 10.430667 & 10.896282 & 10.544279 & 10.895647\\\\\n",
       "\tTX50\\_RS00060 &  7.511811 &  7.768824 &  8.475512 &  7.627780 &  7.475503 &  7.946936 &  7.907539 &  6.906372 &  7.349883 &  7.554001 & ⋯ &  6.517609 &  7.506472 &  6.654329 &  7.629933 &  7.621234 &  7.578901 &  7.566741 &  7.125462 &  7.209630 &  7.136205\\\\\n",
       "\tTX50\\_RS00065 &  8.300663 &  8.011588 &  7.499263 &  7.599188 &  7.608964 &  7.401745 &  8.101511 &  8.008881 &  7.670865 &  8.065156 & ⋯ &  8.567706 &  7.435199 &  8.086769 &  8.005596 &  8.105516 &  8.200119 &  7.840141 &  7.019157 &  6.848277 &  7.028420\\\\\n",
       "\tTX50\\_RS00070 &  7.251546 &  7.367041 &  6.999250 &  7.540238 &  6.861575 &  7.085123 &  6.852349 &  6.976748 &  6.476374 &  6.512452 & ⋯ &  7.270998 &  7.197329 &  6.697611 &  7.140251 &  7.387283 &  7.409066 &  7.235215 &  6.674167 &  6.539371 &  6.758146\\\\\n",
       "\tTX50\\_RS00075 &  8.295910 &  8.464729 &  9.430412 &  7.655815 &  8.291900 &  8.473658 &  7.582800 &  8.189552 &  7.644472 &  8.656223 & ⋯ &  8.423635 &  8.317503 &  8.070484 &  8.080749 &  8.354888 &  8.577754 &  8.467831 &  8.208544 &  8.878440 &  8.756974\\\\\n",
       "\tTX50\\_RS00080 & 11.488024 & 11.695863 & 11.566945 & 11.577301 & 11.726643 & 11.479382 & 12.423730 & 11.732665 & 12.824960 & 12.088263 & ⋯ & 11.907180 & 11.478950 & 11.611462 & 11.583955 & 12.021134 & 11.892619 & 11.966578 & 11.718929 & 11.659804 & 12.123574\\\\\n",
       "\tTX50\\_RS00085 &  5.894437 &  6.713928 &  7.109463 &  7.240189 &  6.788182 &  7.134863 &  7.707359 &  7.206272 &  7.413831 &  7.298812 & ⋯ &  7.220475 &  8.847028 &  7.366355 &  7.310808 &  6.325575 &  6.566610 &  6.569618 &  7.629126 &  7.863866 &  8.491598\\\\\n",
       "\tTX50\\_RS00090 &  8.202491 &  7.964054 &  7.976500 &  8.999545 &  8.705927 &  8.505429 &  9.930130 &  8.738477 &  9.705125 &  9.237531 & ⋯ &  9.559929 &  9.201657 &  9.552100 &  9.597993 &  8.172476 &  8.011423 &  8.200997 &  8.608475 &  8.434913 &  8.854587\\\\\n",
       "\tTX50\\_RS00095 & 10.554839 & 10.703981 &  9.369170 & 11.528935 & 10.880583 & 10.771998 & 11.425200 & 11.711307 & 11.797814 & 11.378348 & ⋯ & 11.330367 & 10.669158 & 10.894255 & 11.006864 & 10.877704 & 11.034578 & 10.614789 &  9.975119 &  9.878603 & 10.487666\\\\\n",
       "\tTX50\\_RS00100 &  8.474767 &  9.019805 &  9.022826 &  9.343007 &  9.257264 &  9.091254 & 10.301635 &  9.806050 & 10.208561 &  9.795512 & ⋯ & 10.333343 &  9.883499 & 10.485536 & 10.011130 &  9.159593 &  9.418892 &  9.184465 &  9.273312 &  9.178086 &  9.800683\\\\\n",
       "\tTX50\\_RS00105 &  6.311912 &  6.634767 &  6.398931 &  6.441958 &  5.887196 &  6.544887 &  7.582800 &  7.060114 &  7.194648 &  7.164742 & ⋯ &  7.733819 &  7.596317 &  7.986175 &  7.914610 &  6.606030 &  7.052798 &  6.653422 &  6.850166 &  6.837124 &  6.947833\\\\\n",
       "\tTX50\\_RS00110 &  5.294160 &  6.229281 &  5.918239 &  7.144362 &  6.228666 &  6.036804 &  8.425211 &  6.639457 &  8.097697 &  7.251496 & ⋯ &  6.500688 &  8.119831 &  6.415651 &  7.160235 &  6.230041 &  6.162103 &  5.995145 &  7.440980 &  7.505049 &  7.426600\\\\\n",
       "\tTX50\\_RS00115 & 11.113263 & 10.838807 & 11.339212 & 10.737495 & 10.753421 & 10.790590 &  9.779597 &  9.965344 &  9.633234 &  9.578424 & ⋯ &  8.691292 & 10.088647 & 10.429224 &  9.952361 & 10.651773 & 10.494702 & 10.391985 & 10.152640 &  9.826233 &  9.903078\\\\\n",
       "\tTX50\\_RS00120 &  5.642450 &  5.871265 &  5.680585 &  6.624280 &  5.542141 &  5.407381 &  6.272434 &  5.764912 &  6.592029 &  6.294864 & ⋯ &  5.315766 &  5.498004 &  5.766990 &  5.585095 &  5.755727 &  5.501736 &  5.517234 &  5.703318 &  5.218580 &  5.007641\\\\\n",
       "\tTX50\\_RS00125 &  6.896015 &  7.506443 &  7.481182 &  7.988909 &  7.244819 &  6.792906 &  7.127305 &  7.863710 &  8.038161 &  7.701990 & ⋯ &  7.864411 &  7.182883 &  6.968602 &  7.078572 &  7.336197 &  7.102016 &  7.225621 &  7.203014 &  7.092779 &  7.072512\\\\\n",
       "\tTX50\\_RS00130 & 13.044456 & 13.334471 & 11.002601 & 12.052306 & 12.217199 & 12.301443 & 12.253649 & 11.394378 & 10.480331 & 10.701474 & ⋯ & 10.874575 & 11.662731 & 11.744327 & 11.839266 & 13.246119 & 13.408479 & 13.258880 &  9.815476 &  9.746900 & 10.266752\\\\\n",
       "\tTX50\\_RS00135 &  7.891901 &  8.082545 &  7.719550 &  8.286364 &  7.559572 &  7.657243 &  7.754312 &  7.940320 &  8.136063 &  8.058311 & ⋯ &  7.797158 &  8.369335 &  8.054012 &  8.171948 &  7.699055 &  7.775709 &  7.773770 &  8.001383 &  8.086623 &  8.155894\\\\\n",
       "\tTX50\\_RS00140 & 11.490625 & 11.155951 & 10.062720 & 11.855918 & 10.931135 & 10.464162 & 10.913173 & 10.198580 & 10.804258 & 10.725419 & ⋯ &  9.553837 & 11.239875 & 11.257993 & 11.165573 & 11.100222 & 11.223724 & 11.155513 &  9.581142 &  9.438963 &  9.214635\\\\\n",
       "\tTX50\\_RS00145 & 10.302371 & 10.255537 &  9.586274 &  9.393758 &  9.587567 &  9.891833 &  9.773919 & 10.251660 &  9.377270 &  9.494764 & ⋯ & 10.085634 &  9.577001 &  9.330865 &  9.196351 &  9.925568 & 10.429689 & 10.366456 &  8.203175 &  7.969408 &  8.760337\\\\\n",
       "\tTX50\\_RS00150 & 10.328190 & 10.385388 & 10.211060 &  9.377039 &  9.792209 & 10.008722 & 10.389654 & 10.162390 &  9.867737 &  9.719509 & ⋯ &  9.619477 & 10.047502 & 10.167601 & 10.144616 & 10.298967 & 10.498229 & 10.278968 &  8.982013 &  9.284079 &  9.253326\\\\\n",
       "\tTX50\\_RS00155 &  6.693086 &  7.013801 &  7.565107 &  7.062802 &  6.516394 &  6.955726 &  7.295711 &  7.191571 &  7.631092 &  7.002592 & ⋯ &  6.764104 &  7.649747 &  7.655792 &  7.256178 &  6.933583 &  7.033408 &  6.878797 &  8.153924 &  8.271267 &  8.450551\\\\\n",
       "\tTX50\\_RS00160 &  7.814212 &  8.157230 &  7.615693 &  8.010769 &  7.268090 &  7.096326 &  7.327144 &  7.429344 &  7.819794 &  7.263472 & ⋯ &  6.299876 &  6.724834 &  7.655792 &  7.292828 &  8.315935 &  8.217355 &  8.204251 &  7.729733 &  7.689450 &  7.830573\\\\\n",
       "\tTX50\\_RS00165 &  5.731654 &  5.131694 & 10.580339 &  6.595471 &  7.061540 &  6.577354 &  5.721180 &  6.595295 &  6.175443 &  6.363720 & ⋯ &  5.696632 &  5.909818 &  4.683732 &  4.524964 &  5.631303 &  5.454491 &  5.600889 &  8.884787 & 11.206471 &  9.738978\\\\\n",
       "\t⋮ & ⋮ & ⋮ & ⋮ & ⋮ & ⋮ & ⋮ & ⋮ & ⋮ & ⋮ & ⋮ & ⋱ & ⋮ & ⋮ & ⋮ & ⋮ & ⋮ & ⋮ & ⋮ & ⋮ & ⋮ & ⋮\\\\\n",
       "\tTX50\\_RS09745 &  7.560238 &  6.894514 & 5.819242 &  8.295294 &  6.901881 &  6.561213 &  6.511538 &  6.072345 &  5.792061 &  6.363720 & ⋯ &  6.155433 &  6.169112 &  5.591104 &  5.585095 &  7.286594 &  7.270373 &  6.895057 &  5.465877 &  5.478397 &  4.613629\\\\\n",
       "\tTX50\\_RS09750 & 10.333994 &  7.840791 & 5.997830 & 10.076225 &  8.241949 &  6.918307 &  5.266635 &  5.592640 &  5.792061 &  7.432066 & ⋯ &  6.412919 &  7.750996 &  7.070669 &  6.851373 &  8.174292 &  7.167487 &  8.062647 &  4.045565 &  3.818684 &  2.999353\\\\\n",
       "\tTX50\\_RS09755 &  7.318821 &  7.367041 & 8.524816 &  6.030931 &  7.608964 &  7.959231 &  7.015866 &  8.211531 &  8.191762 &  8.377101 & ⋯ &  9.208263 &  7.123598 &  6.563607 &  7.179944 &  6.769558 &  7.636468 &  7.909580 &  7.668658 &  8.534521 &  9.040298\\\\\n",
       "\tTX50\\_RS09760 &  3.726176 &  3.597137 & 4.761746 &  2.999353 &  2.999353 &  4.025579 &  5.123967 &  3.617951 &  3.961236 &  3.569829 & ⋯ &  3.734252 &  3.857787 &  4.476912 &  2.999353 &  3.528901 &  3.894531 &  3.651061 &  5.984198 &  4.518288 &  5.452804\\\\\n",
       "\tTX50\\_RS09765 &  6.253689 &  6.220223 & 5.331495 &  6.341190 &  6.022871 &  5.676272 &  5.123967 &  5.843596 &  5.931883 &  5.159365 & ⋯ &  6.155433 &  5.044715 &  5.151213 &  4.375595 &  5.992149 &  6.211659 &  5.842125 &  5.031525 &  4.983330 &  4.003960\\\\\n",
       "\tTX50\\_RS09770 &  5.294160 &  5.529026 & 4.943996 &  3.984377 &  5.040329 &  2.999353 &  2.999353 &  3.617951 &  2.999353 &  3.569829 & ⋯ &  2.999353 &  3.857787 &  2.999353 &  2.999353 &  5.407706 &  3.426583 &  3.913494 &  2.999353 &  2.999353 &  2.999353\\\\\n",
       "\tTX50\\_RS09775 &  7.016877 &  6.888848 & 6.266874 &  7.509832 &  6.840987 &  6.370391 &  5.902069 &  6.723876 &  6.822300 &  6.318191 & ⋯ &  6.198234 &  6.724834 &  6.415651 &  6.355779 &  7.296653 &  6.670974 &  6.942754 &  7.148051 &  7.349346 &  6.570511\\\\\n",
       "\tTX50\\_RS09780 &  9.569977 &  8.714831 & 7.890148 &  6.907842 &  9.078427 &  9.106522 &  8.119546 &  9.155987 &  8.479684 &  8.398934 & ⋯ &  9.775957 &  8.603744 &  8.587775 &  8.601741 &  8.337165 &  8.642965 &  8.866121 &  6.436907 &  6.683593 &  6.688871\\\\\n",
       "\tTX50\\_RS09785 &  7.667266 &  7.089783 & 6.631043 &  6.474017 &  6.490111 &  6.799788 &  5.395399 &  6.502631 &  6.350454 &  5.649220 & ⋯ &  6.550858 &  6.783602 &  4.859737 &  6.284233 &  6.679892 &  6.828042 &  6.700509 &  6.720244 &  5.644920 &  6.523458\\\\\n",
       "\tTX50\\_RS09790 &  7.280765 &  7.291913 & 6.749530 &  7.398035 &  7.298543 &  7.167090 &  7.015866 &  7.305172 &  7.020545 &  7.164742 & ⋯ &  6.961958 &  6.980496 &  6.609691 &  7.199386 &  7.451688 &  6.948977 &  7.306714 &  6.473324 &  6.497360 &  6.491202\\\\\n",
       "\tTX50\\_RS09795 &  8.959432 &  9.055494 & 8.216460 &  7.627780 &  8.036371 &  6.244233 &  3.930984 &  5.764912 &  5.580469 &  5.572379 & ⋯ &  4.340337 &  7.552097 &  5.591104 &  5.808411 &  9.143004 &  5.114018 &  7.330771 &  5.308808 &  5.884174 &  5.228747\\\\\n",
       "\tTX50\\_RS09800 & 12.118186 &  9.979869 & 8.290911 & 11.078542 & 10.383668 &  9.906180 &  8.665029 &  9.606380 &  9.717819 & 10.116814 & ⋯ &  8.969775 & 10.367085 &  9.351215 &  9.616137 & 10.418636 &  9.781079 & 10.208672 &  5.905731 &  6.162191 &  5.486761\\\\\n",
       "\tTX50\\_RS09805 &  9.690700 &  7.304711 & 5.127863 &  6.734022 &  7.096654 &  6.806636 &  4.295823 &  6.296902 &  4.833011 &  6.609895 & ⋯ &  6.280124 &  5.044715 &  2.999353 &  4.375595 &  7.772881 &  7.153194 &  7.760563 &  4.362600 &  4.309845 &  2.999353\\\\\n",
       "\tTX50\\_RS09810 & 10.880072 &  9.199169 & 6.190299 &  8.562681 &  7.914069 &  7.867614 &  5.984388 &  6.682292 &  4.930404 &  6.247024 & ⋯ &  5.994441 &  5.873742 &  5.922986 &  6.247054 &  9.170548 &  8.282670 &  9.065243 &  4.806544 &  4.518288 &  3.873614\\\\\n",
       "\tTX50\\_RS09815 & 12.179104 & 10.676418 & 8.570355 & 10.281054 & 10.502588 & 10.559016 &  9.846043 & 11.423289 &  9.990512 & 10.251840 & ⋯ & 10.506294 &  9.879038 &  9.085719 &  9.867054 & 10.761481 & 10.548430 & 11.046756 &  5.031525 &  4.518288 &  4.117195\\\\\n",
       "\tTX50\\_RS09820 & 12.631978 & 10.312474 & 8.468657 & 12.056905 & 10.975282 & 10.470076 &  9.914732 & 10.120439 & 10.046934 & 10.662542 & ⋯ &  9.452690 & 10.455119 & 10.730448 & 10.186500 & 10.582731 & 10.403593 & 10.615705 &  9.707807 & 10.597051 & 10.618447\\\\\n",
       "\tTX50\\_RS09825 &  7.299920 &  6.971565 & 7.615693 &  7.083632 &  8.161549 &  8.317746 &  8.736853 &  8.595415 &  9.090479 &  8.687599 & ⋯ & 10.014961 &  8.781605 &  8.867588 &  8.266937 &  7.057221 &  7.120504 &  7.417557 &  8.370593 &  8.759979 &  8.760337\\\\\n",
       "\tTX50\\_RS09830 &  6.921018 &  7.670198 & 7.453628 & 10.796833 &  9.732277 &  8.949117 & 13.370350 & 12.183379 & 13.040807 & 10.383535 & ⋯ & 10.759303 & 11.173130 & 11.705341 & 10.957913 &  7.946660 &  7.780358 &  7.439841 & 11.012047 &  9.666089 & 10.437104\\\\\n",
       "\tTX50\\_RS09835 &  3.515982 &  4.452336 & 3.991767 &  4.647671 &  3.459362 &  2.999353 &  4.963647 &  3.966727 &  4.611255 &  4.455892 & ⋯ &  4.028002 &  5.044715 &  4.222256 &  5.585095 &  4.041592 &  3.601380 &  3.956577 &  3.530984 &  4.309845 &  3.716743\\\\\n",
       "\tTX50\\_RS09840 &  6.981678 &  6.751919 & 7.270928 &  9.709718 &  8.376245 &  7.694511 & 12.237239 & 11.595332 & 12.484085 & 10.882748 & ⋯ & 10.818937 & 11.238134 & 11.587363 & 10.774610 &  6.653950 &  7.064307 &  6.686546 & 10.188384 &  9.706298 &  9.520467\\\\\n",
       "\tTX50\\_RS09845 &  5.788068 &  5.111385 & 5.331495 &  5.377760 &  5.114549 &  5.581551 &  6.336100 &  6.120215 &  6.845734 &  6.363720 & ⋯ &  6.111289 &  6.227088 &  6.820093 &  5.701279 &  4.989852 &  5.288363 &  5.332603 &  4.978936 &  6.580175 &  6.862434\\\\\n",
       "\tTX50\\_RS09850 &  7.834031 &  6.916956 & 6.920759 &  6.680207 &  7.874248 &  7.672267 &  6.617506 &  7.670825 &  7.212749 &  7.852090 & ⋯ &  8.049151 &  7.168290 &  7.226118 &  6.826534 &  7.096170 &  6.635311 &  7.238399 &  6.436907 &  6.069108 &  6.824213\\\\\n",
       "\tTX50\\_RS09855 &  6.192959 &  5.882875 & 5.997830 &  4.765749 &  5.736837 &  4.996523 &  5.395399 &  5.065664 &  5.329868 &  4.244314 & ⋯ &  4.894546 &  5.498004 &  2.999353 &  5.161124 &  5.949694 &  4.778040 &  5.332603 &  4.267713 &  5.536197 &  5.100656\\\\\n",
       "\tTX50\\_RS09860 &  6.233735 &  5.799490 & 7.322643 &  5.377760 &  6.022871 &  6.351700 &  5.123967 &  5.785006 &  5.259150 &  5.159365 & ⋯ &  5.315766 &  5.290655 &  6.466702 &  5.585095 &  5.923587 &  6.162103 &  6.258630 &  7.931643 &  6.985870 &  7.817708\\\\\n",
       "\tTX50\\_RS09865 &  4.411381 &  5.090753 & 4.547031 &  4.647671 &  4.920237 &  4.141028 &  2.999353 &  4.135909 &  4.727246 &  4.712663 & ⋯ &  4.426222 &  4.975164 &  5.922986 &  5.075099 &  5.735755 &  4.530824 &  4.603905 &  4.449703 &  4.453130 &  4.394017\\\\\n",
       "\tTX50\\_RS09870 &  5.078642 &  5.643684 & 5.432440 &  5.742717 &  5.667025 &  5.581551 &  5.902069 &  4.959050 &  6.350454 &  5.611339 & ⋯ &  5.466939 &  5.110687 &  4.222256 &  5.644418 &  5.631303 &  5.547390 &  5.772288 &  5.878562 &  6.125695 &  5.674412\\\\\n",
       "\tTX50\\_RS09875 &  6.539743 &  6.614270 & 7.011923 &  5.445812 &  5.781488 &  7.004143 &  5.902069 &  6.268949 &  6.283030 &  5.856917 & ⋯ &  5.944826 &  6.532423 &  4.222256 &  6.801256 &  6.700311 &  6.218598 &  6.419817 &  6.836300 &  7.192261 &  7.586930\\\\\n",
       "\tTX50\\_RS09880 &  6.750083 &  7.099616 & 7.485724 &  7.813436 &  7.172649 &  6.609096 &  7.015866 &  6.478489 &  7.020545 &  7.251496 & ⋯ &  5.393480 &  7.045868 &  6.362692 &  6.488863 &  7.269672 &  6.650705 &  6.845713 &  8.481190 &  8.653237 &  8.119682\\\\\n",
       "\tTX50\\_RS09885 &  7.095792 &  7.109382 & 7.382338 &  7.364428 &  6.911782 &  7.214111 &  6.565509 &  6.976748 &  6.774245 &  7.164742 & ⋯ &  6.974223 &  6.821478 &  6.968602 &  6.923399 &  7.276465 &  7.347679 &  7.189882 &  9.758079 &  9.957605 &  9.336763\\\\\n",
       "\tTX50\\_RS09890 &  8.247498 &  8.111916 & 7.127035 &  6.375582 &  7.130928 &  7.698185 &  7.230702 &  7.298329 &  6.999827 &  6.929207 & ⋯ &  7.199757 &  7.596317 &  7.003439 &  7.672232 &  8.063009 &  8.121733 &  8.178015 &  7.192189 &  6.870326 &  6.982927\\\\\n",
       "\\end{tabular}\n"
      ],
      "text/markdown": [
       "\n",
       "A matrix: 1855 × 21 of type dbl\n",
       "\n",
       "| <!--/--> | C1A | C1B | C1C | C2A | C2B_1 | C2C_1 | C3A_1 | C3B | C3C_1 | C4A | ⋯ | C4C | C5A | C5B | C5C | P1A | P1B | P1C | P2A | P2B | P2C |\n",
       "|---|---|---|---|---|---|---|---|---|---|---|---|---|---|---|---|---|---|---|---|---|---|\n",
       "| TX50_RS00020 | 10.199306 | 10.138608 | 11.552435 | 10.233089 | 10.846940 | 10.968598 | 10.277762 | 10.708205 | 10.925488 | 10.788772 | ⋯ | 10.673880 | 10.903510 | 10.828046 | 10.566447 | 10.145981 | 10.133392 |  9.980252 | 11.671632 | 12.075326 | 12.089237 |\n",
       "| TX50_RS00025 |  7.201485 |  7.403180 |  8.070099 |  7.613555 |  7.034628 |  7.294078 |  6.716129 |  6.561249 |  6.098862 |  6.959015 | ⋯ |  6.833144 |  7.123598 |  6.415651 |  7.179944 |  7.415239 |  6.965448 |  7.480714 |  7.102511 |  7.573653 |  7.703449 |\n",
       "| TX50_RS00030 |  8.599562 |  8.771120 | 10.002316 |  8.897714 |  8.846223 |  9.168677 |  9.715876 |  9.518070 |  9.788721 |  9.758011 | ⋯ | 10.293683 |  9.577001 |  9.988663 | 10.011130 |  8.774283 |  8.959921 |  8.768441 | 11.021224 | 11.593740 | 11.775872 |\n",
       "| TX50_RS00035 |  8.466332 |  8.538664 |  8.319138 |  8.517611 |  8.372679 |  8.572956 |  8.523269 |  8.581421 |  8.191762 |  8.752619 | ⋯ |  8.794819 |  8.502947 |  8.517462 |  8.733940 |  8.441880 |  8.775660 |  8.489322 |  9.186228 |  9.908075 | 10.219909 |\n",
       "| TX50_RS00040 |  9.316846 |  9.542356 | 10.613334 |  9.655292 | 10.014346 |  9.940660 |  9.331278 |  9.159758 |  9.212120 |  9.648415 | ⋯ |  9.543625 |  9.515104 |  9.410598 |  9.472152 |  9.356303 |  9.506277 |  9.259842 | 10.600202 | 10.181465 | 10.279694 |\n",
       "| TX50_RS00045 |  7.051232 |  6.830920 |  8.314047 |  7.850284 |  7.113894 |  7.198608 |  6.205762 |  7.496614 |  7.157745 |  7.534383 | ⋯ |  6.630732 |  7.045868 |  6.858691 |  6.946624 |  6.840204 |  6.424365 |  6.866480 |  8.181493 |  8.883846 |  8.507696 |\n",
       "| TX50_RS00050 |  7.290374 |  7.180581 |  9.022826 |  8.155148 |  8.027323 |  8.286385 |  8.576445 |  8.728353 |  9.030678 |  8.633386 | ⋯ |  8.966721 |  8.164532 |  8.134548 |  8.415303 |  7.126584 |  7.037307 |  7.336723 |  9.393630 |  9.588777 |  9.752545 |\n",
       "| TX50_RS00055 | 10.874508 | 10.269712 | 11.462462 |  9.692929 | 11.111961 | 11.334858 | 11.155128 | 11.450094 | 11.221289 | 10.988171 | ⋯ | 11.197964 | 10.889165 | 10.859164 | 10.691494 | 10.154281 | 10.558601 | 10.430667 | 10.896282 | 10.544279 | 10.895647 |\n",
       "| TX50_RS00060 |  7.511811 |  7.768824 |  8.475512 |  7.627780 |  7.475503 |  7.946936 |  7.907539 |  6.906372 |  7.349883 |  7.554001 | ⋯ |  6.517609 |  7.506472 |  6.654329 |  7.629933 |  7.621234 |  7.578901 |  7.566741 |  7.125462 |  7.209630 |  7.136205 |\n",
       "| TX50_RS00065 |  8.300663 |  8.011588 |  7.499263 |  7.599188 |  7.608964 |  7.401745 |  8.101511 |  8.008881 |  7.670865 |  8.065156 | ⋯ |  8.567706 |  7.435199 |  8.086769 |  8.005596 |  8.105516 |  8.200119 |  7.840141 |  7.019157 |  6.848277 |  7.028420 |\n",
       "| TX50_RS00070 |  7.251546 |  7.367041 |  6.999250 |  7.540238 |  6.861575 |  7.085123 |  6.852349 |  6.976748 |  6.476374 |  6.512452 | ⋯ |  7.270998 |  7.197329 |  6.697611 |  7.140251 |  7.387283 |  7.409066 |  7.235215 |  6.674167 |  6.539371 |  6.758146 |\n",
       "| TX50_RS00075 |  8.295910 |  8.464729 |  9.430412 |  7.655815 |  8.291900 |  8.473658 |  7.582800 |  8.189552 |  7.644472 |  8.656223 | ⋯ |  8.423635 |  8.317503 |  8.070484 |  8.080749 |  8.354888 |  8.577754 |  8.467831 |  8.208544 |  8.878440 |  8.756974 |\n",
       "| TX50_RS00080 | 11.488024 | 11.695863 | 11.566945 | 11.577301 | 11.726643 | 11.479382 | 12.423730 | 11.732665 | 12.824960 | 12.088263 | ⋯ | 11.907180 | 11.478950 | 11.611462 | 11.583955 | 12.021134 | 11.892619 | 11.966578 | 11.718929 | 11.659804 | 12.123574 |\n",
       "| TX50_RS00085 |  5.894437 |  6.713928 |  7.109463 |  7.240189 |  6.788182 |  7.134863 |  7.707359 |  7.206272 |  7.413831 |  7.298812 | ⋯ |  7.220475 |  8.847028 |  7.366355 |  7.310808 |  6.325575 |  6.566610 |  6.569618 |  7.629126 |  7.863866 |  8.491598 |\n",
       "| TX50_RS00090 |  8.202491 |  7.964054 |  7.976500 |  8.999545 |  8.705927 |  8.505429 |  9.930130 |  8.738477 |  9.705125 |  9.237531 | ⋯ |  9.559929 |  9.201657 |  9.552100 |  9.597993 |  8.172476 |  8.011423 |  8.200997 |  8.608475 |  8.434913 |  8.854587 |\n",
       "| TX50_RS00095 | 10.554839 | 10.703981 |  9.369170 | 11.528935 | 10.880583 | 10.771998 | 11.425200 | 11.711307 | 11.797814 | 11.378348 | ⋯ | 11.330367 | 10.669158 | 10.894255 | 11.006864 | 10.877704 | 11.034578 | 10.614789 |  9.975119 |  9.878603 | 10.487666 |\n",
       "| TX50_RS00100 |  8.474767 |  9.019805 |  9.022826 |  9.343007 |  9.257264 |  9.091254 | 10.301635 |  9.806050 | 10.208561 |  9.795512 | ⋯ | 10.333343 |  9.883499 | 10.485536 | 10.011130 |  9.159593 |  9.418892 |  9.184465 |  9.273312 |  9.178086 |  9.800683 |\n",
       "| TX50_RS00105 |  6.311912 |  6.634767 |  6.398931 |  6.441958 |  5.887196 |  6.544887 |  7.582800 |  7.060114 |  7.194648 |  7.164742 | ⋯ |  7.733819 |  7.596317 |  7.986175 |  7.914610 |  6.606030 |  7.052798 |  6.653422 |  6.850166 |  6.837124 |  6.947833 |\n",
       "| TX50_RS00110 |  5.294160 |  6.229281 |  5.918239 |  7.144362 |  6.228666 |  6.036804 |  8.425211 |  6.639457 |  8.097697 |  7.251496 | ⋯ |  6.500688 |  8.119831 |  6.415651 |  7.160235 |  6.230041 |  6.162103 |  5.995145 |  7.440980 |  7.505049 |  7.426600 |\n",
       "| TX50_RS00115 | 11.113263 | 10.838807 | 11.339212 | 10.737495 | 10.753421 | 10.790590 |  9.779597 |  9.965344 |  9.633234 |  9.578424 | ⋯ |  8.691292 | 10.088647 | 10.429224 |  9.952361 | 10.651773 | 10.494702 | 10.391985 | 10.152640 |  9.826233 |  9.903078 |\n",
       "| TX50_RS00120 |  5.642450 |  5.871265 |  5.680585 |  6.624280 |  5.542141 |  5.407381 |  6.272434 |  5.764912 |  6.592029 |  6.294864 | ⋯ |  5.315766 |  5.498004 |  5.766990 |  5.585095 |  5.755727 |  5.501736 |  5.517234 |  5.703318 |  5.218580 |  5.007641 |\n",
       "| TX50_RS00125 |  6.896015 |  7.506443 |  7.481182 |  7.988909 |  7.244819 |  6.792906 |  7.127305 |  7.863710 |  8.038161 |  7.701990 | ⋯ |  7.864411 |  7.182883 |  6.968602 |  7.078572 |  7.336197 |  7.102016 |  7.225621 |  7.203014 |  7.092779 |  7.072512 |\n",
       "| TX50_RS00130 | 13.044456 | 13.334471 | 11.002601 | 12.052306 | 12.217199 | 12.301443 | 12.253649 | 11.394378 | 10.480331 | 10.701474 | ⋯ | 10.874575 | 11.662731 | 11.744327 | 11.839266 | 13.246119 | 13.408479 | 13.258880 |  9.815476 |  9.746900 | 10.266752 |\n",
       "| TX50_RS00135 |  7.891901 |  8.082545 |  7.719550 |  8.286364 |  7.559572 |  7.657243 |  7.754312 |  7.940320 |  8.136063 |  8.058311 | ⋯ |  7.797158 |  8.369335 |  8.054012 |  8.171948 |  7.699055 |  7.775709 |  7.773770 |  8.001383 |  8.086623 |  8.155894 |\n",
       "| TX50_RS00140 | 11.490625 | 11.155951 | 10.062720 | 11.855918 | 10.931135 | 10.464162 | 10.913173 | 10.198580 | 10.804258 | 10.725419 | ⋯ |  9.553837 | 11.239875 | 11.257993 | 11.165573 | 11.100222 | 11.223724 | 11.155513 |  9.581142 |  9.438963 |  9.214635 |\n",
       "| TX50_RS00145 | 10.302371 | 10.255537 |  9.586274 |  9.393758 |  9.587567 |  9.891833 |  9.773919 | 10.251660 |  9.377270 |  9.494764 | ⋯ | 10.085634 |  9.577001 |  9.330865 |  9.196351 |  9.925568 | 10.429689 | 10.366456 |  8.203175 |  7.969408 |  8.760337 |\n",
       "| TX50_RS00150 | 10.328190 | 10.385388 | 10.211060 |  9.377039 |  9.792209 | 10.008722 | 10.389654 | 10.162390 |  9.867737 |  9.719509 | ⋯ |  9.619477 | 10.047502 | 10.167601 | 10.144616 | 10.298967 | 10.498229 | 10.278968 |  8.982013 |  9.284079 |  9.253326 |\n",
       "| TX50_RS00155 |  6.693086 |  7.013801 |  7.565107 |  7.062802 |  6.516394 |  6.955726 |  7.295711 |  7.191571 |  7.631092 |  7.002592 | ⋯ |  6.764104 |  7.649747 |  7.655792 |  7.256178 |  6.933583 |  7.033408 |  6.878797 |  8.153924 |  8.271267 |  8.450551 |\n",
       "| TX50_RS00160 |  7.814212 |  8.157230 |  7.615693 |  8.010769 |  7.268090 |  7.096326 |  7.327144 |  7.429344 |  7.819794 |  7.263472 | ⋯ |  6.299876 |  6.724834 |  7.655792 |  7.292828 |  8.315935 |  8.217355 |  8.204251 |  7.729733 |  7.689450 |  7.830573 |\n",
       "| TX50_RS00165 |  5.731654 |  5.131694 | 10.580339 |  6.595471 |  7.061540 |  6.577354 |  5.721180 |  6.595295 |  6.175443 |  6.363720 | ⋯ |  5.696632 |  5.909818 |  4.683732 |  4.524964 |  5.631303 |  5.454491 |  5.600889 |  8.884787 | 11.206471 |  9.738978 |\n",
       "| ⋮ | ⋮ | ⋮ | ⋮ | ⋮ | ⋮ | ⋮ | ⋮ | ⋮ | ⋮ | ⋮ | ⋱ | ⋮ | ⋮ | ⋮ | ⋮ | ⋮ | ⋮ | ⋮ | ⋮ | ⋮ | ⋮ |\n",
       "| TX50_RS09745 |  7.560238 |  6.894514 | 5.819242 |  8.295294 |  6.901881 |  6.561213 |  6.511538 |  6.072345 |  5.792061 |  6.363720 | ⋯ |  6.155433 |  6.169112 |  5.591104 |  5.585095 |  7.286594 |  7.270373 |  6.895057 |  5.465877 |  5.478397 |  4.613629 |\n",
       "| TX50_RS09750 | 10.333994 |  7.840791 | 5.997830 | 10.076225 |  8.241949 |  6.918307 |  5.266635 |  5.592640 |  5.792061 |  7.432066 | ⋯ |  6.412919 |  7.750996 |  7.070669 |  6.851373 |  8.174292 |  7.167487 |  8.062647 |  4.045565 |  3.818684 |  2.999353 |\n",
       "| TX50_RS09755 |  7.318821 |  7.367041 | 8.524816 |  6.030931 |  7.608964 |  7.959231 |  7.015866 |  8.211531 |  8.191762 |  8.377101 | ⋯ |  9.208263 |  7.123598 |  6.563607 |  7.179944 |  6.769558 |  7.636468 |  7.909580 |  7.668658 |  8.534521 |  9.040298 |\n",
       "| TX50_RS09760 |  3.726176 |  3.597137 | 4.761746 |  2.999353 |  2.999353 |  4.025579 |  5.123967 |  3.617951 |  3.961236 |  3.569829 | ⋯ |  3.734252 |  3.857787 |  4.476912 |  2.999353 |  3.528901 |  3.894531 |  3.651061 |  5.984198 |  4.518288 |  5.452804 |\n",
       "| TX50_RS09765 |  6.253689 |  6.220223 | 5.331495 |  6.341190 |  6.022871 |  5.676272 |  5.123967 |  5.843596 |  5.931883 |  5.159365 | ⋯ |  6.155433 |  5.044715 |  5.151213 |  4.375595 |  5.992149 |  6.211659 |  5.842125 |  5.031525 |  4.983330 |  4.003960 |\n",
       "| TX50_RS09770 |  5.294160 |  5.529026 | 4.943996 |  3.984377 |  5.040329 |  2.999353 |  2.999353 |  3.617951 |  2.999353 |  3.569829 | ⋯ |  2.999353 |  3.857787 |  2.999353 |  2.999353 |  5.407706 |  3.426583 |  3.913494 |  2.999353 |  2.999353 |  2.999353 |\n",
       "| TX50_RS09775 |  7.016877 |  6.888848 | 6.266874 |  7.509832 |  6.840987 |  6.370391 |  5.902069 |  6.723876 |  6.822300 |  6.318191 | ⋯ |  6.198234 |  6.724834 |  6.415651 |  6.355779 |  7.296653 |  6.670974 |  6.942754 |  7.148051 |  7.349346 |  6.570511 |\n",
       "| TX50_RS09780 |  9.569977 |  8.714831 | 7.890148 |  6.907842 |  9.078427 |  9.106522 |  8.119546 |  9.155987 |  8.479684 |  8.398934 | ⋯ |  9.775957 |  8.603744 |  8.587775 |  8.601741 |  8.337165 |  8.642965 |  8.866121 |  6.436907 |  6.683593 |  6.688871 |\n",
       "| TX50_RS09785 |  7.667266 |  7.089783 | 6.631043 |  6.474017 |  6.490111 |  6.799788 |  5.395399 |  6.502631 |  6.350454 |  5.649220 | ⋯ |  6.550858 |  6.783602 |  4.859737 |  6.284233 |  6.679892 |  6.828042 |  6.700509 |  6.720244 |  5.644920 |  6.523458 |\n",
       "| TX50_RS09790 |  7.280765 |  7.291913 | 6.749530 |  7.398035 |  7.298543 |  7.167090 |  7.015866 |  7.305172 |  7.020545 |  7.164742 | ⋯ |  6.961958 |  6.980496 |  6.609691 |  7.199386 |  7.451688 |  6.948977 |  7.306714 |  6.473324 |  6.497360 |  6.491202 |\n",
       "| TX50_RS09795 |  8.959432 |  9.055494 | 8.216460 |  7.627780 |  8.036371 |  6.244233 |  3.930984 |  5.764912 |  5.580469 |  5.572379 | ⋯ |  4.340337 |  7.552097 |  5.591104 |  5.808411 |  9.143004 |  5.114018 |  7.330771 |  5.308808 |  5.884174 |  5.228747 |\n",
       "| TX50_RS09800 | 12.118186 |  9.979869 | 8.290911 | 11.078542 | 10.383668 |  9.906180 |  8.665029 |  9.606380 |  9.717819 | 10.116814 | ⋯ |  8.969775 | 10.367085 |  9.351215 |  9.616137 | 10.418636 |  9.781079 | 10.208672 |  5.905731 |  6.162191 |  5.486761 |\n",
       "| TX50_RS09805 |  9.690700 |  7.304711 | 5.127863 |  6.734022 |  7.096654 |  6.806636 |  4.295823 |  6.296902 |  4.833011 |  6.609895 | ⋯ |  6.280124 |  5.044715 |  2.999353 |  4.375595 |  7.772881 |  7.153194 |  7.760563 |  4.362600 |  4.309845 |  2.999353 |\n",
       "| TX50_RS09810 | 10.880072 |  9.199169 | 6.190299 |  8.562681 |  7.914069 |  7.867614 |  5.984388 |  6.682292 |  4.930404 |  6.247024 | ⋯ |  5.994441 |  5.873742 |  5.922986 |  6.247054 |  9.170548 |  8.282670 |  9.065243 |  4.806544 |  4.518288 |  3.873614 |\n",
       "| TX50_RS09815 | 12.179104 | 10.676418 | 8.570355 | 10.281054 | 10.502588 | 10.559016 |  9.846043 | 11.423289 |  9.990512 | 10.251840 | ⋯ | 10.506294 |  9.879038 |  9.085719 |  9.867054 | 10.761481 | 10.548430 | 11.046756 |  5.031525 |  4.518288 |  4.117195 |\n",
       "| TX50_RS09820 | 12.631978 | 10.312474 | 8.468657 | 12.056905 | 10.975282 | 10.470076 |  9.914732 | 10.120439 | 10.046934 | 10.662542 | ⋯ |  9.452690 | 10.455119 | 10.730448 | 10.186500 | 10.582731 | 10.403593 | 10.615705 |  9.707807 | 10.597051 | 10.618447 |\n",
       "| TX50_RS09825 |  7.299920 |  6.971565 | 7.615693 |  7.083632 |  8.161549 |  8.317746 |  8.736853 |  8.595415 |  9.090479 |  8.687599 | ⋯ | 10.014961 |  8.781605 |  8.867588 |  8.266937 |  7.057221 |  7.120504 |  7.417557 |  8.370593 |  8.759979 |  8.760337 |\n",
       "| TX50_RS09830 |  6.921018 |  7.670198 | 7.453628 | 10.796833 |  9.732277 |  8.949117 | 13.370350 | 12.183379 | 13.040807 | 10.383535 | ⋯ | 10.759303 | 11.173130 | 11.705341 | 10.957913 |  7.946660 |  7.780358 |  7.439841 | 11.012047 |  9.666089 | 10.437104 |\n",
       "| TX50_RS09835 |  3.515982 |  4.452336 | 3.991767 |  4.647671 |  3.459362 |  2.999353 |  4.963647 |  3.966727 |  4.611255 |  4.455892 | ⋯ |  4.028002 |  5.044715 |  4.222256 |  5.585095 |  4.041592 |  3.601380 |  3.956577 |  3.530984 |  4.309845 |  3.716743 |\n",
       "| TX50_RS09840 |  6.981678 |  6.751919 | 7.270928 |  9.709718 |  8.376245 |  7.694511 | 12.237239 | 11.595332 | 12.484085 | 10.882748 | ⋯ | 10.818937 | 11.238134 | 11.587363 | 10.774610 |  6.653950 |  7.064307 |  6.686546 | 10.188384 |  9.706298 |  9.520467 |\n",
       "| TX50_RS09845 |  5.788068 |  5.111385 | 5.331495 |  5.377760 |  5.114549 |  5.581551 |  6.336100 |  6.120215 |  6.845734 |  6.363720 | ⋯ |  6.111289 |  6.227088 |  6.820093 |  5.701279 |  4.989852 |  5.288363 |  5.332603 |  4.978936 |  6.580175 |  6.862434 |\n",
       "| TX50_RS09850 |  7.834031 |  6.916956 | 6.920759 |  6.680207 |  7.874248 |  7.672267 |  6.617506 |  7.670825 |  7.212749 |  7.852090 | ⋯ |  8.049151 |  7.168290 |  7.226118 |  6.826534 |  7.096170 |  6.635311 |  7.238399 |  6.436907 |  6.069108 |  6.824213 |\n",
       "| TX50_RS09855 |  6.192959 |  5.882875 | 5.997830 |  4.765749 |  5.736837 |  4.996523 |  5.395399 |  5.065664 |  5.329868 |  4.244314 | ⋯ |  4.894546 |  5.498004 |  2.999353 |  5.161124 |  5.949694 |  4.778040 |  5.332603 |  4.267713 |  5.536197 |  5.100656 |\n",
       "| TX50_RS09860 |  6.233735 |  5.799490 | 7.322643 |  5.377760 |  6.022871 |  6.351700 |  5.123967 |  5.785006 |  5.259150 |  5.159365 | ⋯ |  5.315766 |  5.290655 |  6.466702 |  5.585095 |  5.923587 |  6.162103 |  6.258630 |  7.931643 |  6.985870 |  7.817708 |\n",
       "| TX50_RS09865 |  4.411381 |  5.090753 | 4.547031 |  4.647671 |  4.920237 |  4.141028 |  2.999353 |  4.135909 |  4.727246 |  4.712663 | ⋯ |  4.426222 |  4.975164 |  5.922986 |  5.075099 |  5.735755 |  4.530824 |  4.603905 |  4.449703 |  4.453130 |  4.394017 |\n",
       "| TX50_RS09870 |  5.078642 |  5.643684 | 5.432440 |  5.742717 |  5.667025 |  5.581551 |  5.902069 |  4.959050 |  6.350454 |  5.611339 | ⋯ |  5.466939 |  5.110687 |  4.222256 |  5.644418 |  5.631303 |  5.547390 |  5.772288 |  5.878562 |  6.125695 |  5.674412 |\n",
       "| TX50_RS09875 |  6.539743 |  6.614270 | 7.011923 |  5.445812 |  5.781488 |  7.004143 |  5.902069 |  6.268949 |  6.283030 |  5.856917 | ⋯ |  5.944826 |  6.532423 |  4.222256 |  6.801256 |  6.700311 |  6.218598 |  6.419817 |  6.836300 |  7.192261 |  7.586930 |\n",
       "| TX50_RS09880 |  6.750083 |  7.099616 | 7.485724 |  7.813436 |  7.172649 |  6.609096 |  7.015866 |  6.478489 |  7.020545 |  7.251496 | ⋯ |  5.393480 |  7.045868 |  6.362692 |  6.488863 |  7.269672 |  6.650705 |  6.845713 |  8.481190 |  8.653237 |  8.119682 |\n",
       "| TX50_RS09885 |  7.095792 |  7.109382 | 7.382338 |  7.364428 |  6.911782 |  7.214111 |  6.565509 |  6.976748 |  6.774245 |  7.164742 | ⋯ |  6.974223 |  6.821478 |  6.968602 |  6.923399 |  7.276465 |  7.347679 |  7.189882 |  9.758079 |  9.957605 |  9.336763 |\n",
       "| TX50_RS09890 |  8.247498 |  8.111916 | 7.127035 |  6.375582 |  7.130928 |  7.698185 |  7.230702 |  7.298329 |  6.999827 |  6.929207 | ⋯ |  7.199757 |  7.596317 |  7.003439 |  7.672232 |  8.063009 |  8.121733 |  8.178015 |  7.192189 |  6.870326 |  6.982927 |\n",
       "\n"
      ],
      "text/plain": [
       "             C1A       C1B       C1C       C2A       C2B_1     C2C_1    \n",
       "TX50_RS00020 10.199306 10.138608 11.552435 10.233089 10.846940 10.968598\n",
       "TX50_RS00025  7.201485  7.403180  8.070099  7.613555  7.034628  7.294078\n",
       "TX50_RS00030  8.599562  8.771120 10.002316  8.897714  8.846223  9.168677\n",
       "TX50_RS00035  8.466332  8.538664  8.319138  8.517611  8.372679  8.572956\n",
       "TX50_RS00040  9.316846  9.542356 10.613334  9.655292 10.014346  9.940660\n",
       "TX50_RS00045  7.051232  6.830920  8.314047  7.850284  7.113894  7.198608\n",
       "TX50_RS00050  7.290374  7.180581  9.022826  8.155148  8.027323  8.286385\n",
       "TX50_RS00055 10.874508 10.269712 11.462462  9.692929 11.111961 11.334858\n",
       "TX50_RS00060  7.511811  7.768824  8.475512  7.627780  7.475503  7.946936\n",
       "TX50_RS00065  8.300663  8.011588  7.499263  7.599188  7.608964  7.401745\n",
       "TX50_RS00070  7.251546  7.367041  6.999250  7.540238  6.861575  7.085123\n",
       "TX50_RS00075  8.295910  8.464729  9.430412  7.655815  8.291900  8.473658\n",
       "TX50_RS00080 11.488024 11.695863 11.566945 11.577301 11.726643 11.479382\n",
       "TX50_RS00085  5.894437  6.713928  7.109463  7.240189  6.788182  7.134863\n",
       "TX50_RS00090  8.202491  7.964054  7.976500  8.999545  8.705927  8.505429\n",
       "TX50_RS00095 10.554839 10.703981  9.369170 11.528935 10.880583 10.771998\n",
       "TX50_RS00100  8.474767  9.019805  9.022826  9.343007  9.257264  9.091254\n",
       "TX50_RS00105  6.311912  6.634767  6.398931  6.441958  5.887196  6.544887\n",
       "TX50_RS00110  5.294160  6.229281  5.918239  7.144362  6.228666  6.036804\n",
       "TX50_RS00115 11.113263 10.838807 11.339212 10.737495 10.753421 10.790590\n",
       "TX50_RS00120  5.642450  5.871265  5.680585  6.624280  5.542141  5.407381\n",
       "TX50_RS00125  6.896015  7.506443  7.481182  7.988909  7.244819  6.792906\n",
       "TX50_RS00130 13.044456 13.334471 11.002601 12.052306 12.217199 12.301443\n",
       "TX50_RS00135  7.891901  8.082545  7.719550  8.286364  7.559572  7.657243\n",
       "TX50_RS00140 11.490625 11.155951 10.062720 11.855918 10.931135 10.464162\n",
       "TX50_RS00145 10.302371 10.255537  9.586274  9.393758  9.587567  9.891833\n",
       "TX50_RS00150 10.328190 10.385388 10.211060  9.377039  9.792209 10.008722\n",
       "TX50_RS00155  6.693086  7.013801  7.565107  7.062802  6.516394  6.955726\n",
       "TX50_RS00160  7.814212  8.157230  7.615693  8.010769  7.268090  7.096326\n",
       "TX50_RS00165  5.731654  5.131694 10.580339  6.595471  7.061540  6.577354\n",
       "⋮            ⋮         ⋮         ⋮         ⋮         ⋮         ⋮        \n",
       "TX50_RS09745  7.560238  6.894514 5.819242   8.295294  6.901881  6.561213\n",
       "TX50_RS09750 10.333994  7.840791 5.997830  10.076225  8.241949  6.918307\n",
       "TX50_RS09755  7.318821  7.367041 8.524816   6.030931  7.608964  7.959231\n",
       "TX50_RS09760  3.726176  3.597137 4.761746   2.999353  2.999353  4.025579\n",
       "TX50_RS09765  6.253689  6.220223 5.331495   6.341190  6.022871  5.676272\n",
       "TX50_RS09770  5.294160  5.529026 4.943996   3.984377  5.040329  2.999353\n",
       "TX50_RS09775  7.016877  6.888848 6.266874   7.509832  6.840987  6.370391\n",
       "TX50_RS09780  9.569977  8.714831 7.890148   6.907842  9.078427  9.106522\n",
       "TX50_RS09785  7.667266  7.089783 6.631043   6.474017  6.490111  6.799788\n",
       "TX50_RS09790  7.280765  7.291913 6.749530   7.398035  7.298543  7.167090\n",
       "TX50_RS09795  8.959432  9.055494 8.216460   7.627780  8.036371  6.244233\n",
       "TX50_RS09800 12.118186  9.979869 8.290911  11.078542 10.383668  9.906180\n",
       "TX50_RS09805  9.690700  7.304711 5.127863   6.734022  7.096654  6.806636\n",
       "TX50_RS09810 10.880072  9.199169 6.190299   8.562681  7.914069  7.867614\n",
       "TX50_RS09815 12.179104 10.676418 8.570355  10.281054 10.502588 10.559016\n",
       "TX50_RS09820 12.631978 10.312474 8.468657  12.056905 10.975282 10.470076\n",
       "TX50_RS09825  7.299920  6.971565 7.615693   7.083632  8.161549  8.317746\n",
       "TX50_RS09830  6.921018  7.670198 7.453628  10.796833  9.732277  8.949117\n",
       "TX50_RS09835  3.515982  4.452336 3.991767   4.647671  3.459362  2.999353\n",
       "TX50_RS09840  6.981678  6.751919 7.270928   9.709718  8.376245  7.694511\n",
       "TX50_RS09845  5.788068  5.111385 5.331495   5.377760  5.114549  5.581551\n",
       "TX50_RS09850  7.834031  6.916956 6.920759   6.680207  7.874248  7.672267\n",
       "TX50_RS09855  6.192959  5.882875 5.997830   4.765749  5.736837  4.996523\n",
       "TX50_RS09860  6.233735  5.799490 7.322643   5.377760  6.022871  6.351700\n",
       "TX50_RS09865  4.411381  5.090753 4.547031   4.647671  4.920237  4.141028\n",
       "TX50_RS09870  5.078642  5.643684 5.432440   5.742717  5.667025  5.581551\n",
       "TX50_RS09875  6.539743  6.614270 7.011923   5.445812  5.781488  7.004143\n",
       "TX50_RS09880  6.750083  7.099616 7.485724   7.813436  7.172649  6.609096\n",
       "TX50_RS09885  7.095792  7.109382 7.382338   7.364428  6.911782  7.214111\n",
       "TX50_RS09890  8.247498  8.111916 7.127035   6.375582  7.130928  7.698185\n",
       "             C3A_1     C3B       C3C_1     C4A       ⋯ C4C       C5A      \n",
       "TX50_RS00020 10.277762 10.708205 10.925488 10.788772 ⋯ 10.673880 10.903510\n",
       "TX50_RS00025  6.716129  6.561249  6.098862  6.959015 ⋯  6.833144  7.123598\n",
       "TX50_RS00030  9.715876  9.518070  9.788721  9.758011 ⋯ 10.293683  9.577001\n",
       "TX50_RS00035  8.523269  8.581421  8.191762  8.752619 ⋯  8.794819  8.502947\n",
       "TX50_RS00040  9.331278  9.159758  9.212120  9.648415 ⋯  9.543625  9.515104\n",
       "TX50_RS00045  6.205762  7.496614  7.157745  7.534383 ⋯  6.630732  7.045868\n",
       "TX50_RS00050  8.576445  8.728353  9.030678  8.633386 ⋯  8.966721  8.164532\n",
       "TX50_RS00055 11.155128 11.450094 11.221289 10.988171 ⋯ 11.197964 10.889165\n",
       "TX50_RS00060  7.907539  6.906372  7.349883  7.554001 ⋯  6.517609  7.506472\n",
       "TX50_RS00065  8.101511  8.008881  7.670865  8.065156 ⋯  8.567706  7.435199\n",
       "TX50_RS00070  6.852349  6.976748  6.476374  6.512452 ⋯  7.270998  7.197329\n",
       "TX50_RS00075  7.582800  8.189552  7.644472  8.656223 ⋯  8.423635  8.317503\n",
       "TX50_RS00080 12.423730 11.732665 12.824960 12.088263 ⋯ 11.907180 11.478950\n",
       "TX50_RS00085  7.707359  7.206272  7.413831  7.298812 ⋯  7.220475  8.847028\n",
       "TX50_RS00090  9.930130  8.738477  9.705125  9.237531 ⋯  9.559929  9.201657\n",
       "TX50_RS00095 11.425200 11.711307 11.797814 11.378348 ⋯ 11.330367 10.669158\n",
       "TX50_RS00100 10.301635  9.806050 10.208561  9.795512 ⋯ 10.333343  9.883499\n",
       "TX50_RS00105  7.582800  7.060114  7.194648  7.164742 ⋯  7.733819  7.596317\n",
       "TX50_RS00110  8.425211  6.639457  8.097697  7.251496 ⋯  6.500688  8.119831\n",
       "TX50_RS00115  9.779597  9.965344  9.633234  9.578424 ⋯  8.691292 10.088647\n",
       "TX50_RS00120  6.272434  5.764912  6.592029  6.294864 ⋯  5.315766  5.498004\n",
       "TX50_RS00125  7.127305  7.863710  8.038161  7.701990 ⋯  7.864411  7.182883\n",
       "TX50_RS00130 12.253649 11.394378 10.480331 10.701474 ⋯ 10.874575 11.662731\n",
       "TX50_RS00135  7.754312  7.940320  8.136063  8.058311 ⋯  7.797158  8.369335\n",
       "TX50_RS00140 10.913173 10.198580 10.804258 10.725419 ⋯  9.553837 11.239875\n",
       "TX50_RS00145  9.773919 10.251660  9.377270  9.494764 ⋯ 10.085634  9.577001\n",
       "TX50_RS00150 10.389654 10.162390  9.867737  9.719509 ⋯  9.619477 10.047502\n",
       "TX50_RS00155  7.295711  7.191571  7.631092  7.002592 ⋯  6.764104  7.649747\n",
       "TX50_RS00160  7.327144  7.429344  7.819794  7.263472 ⋯  6.299876  6.724834\n",
       "TX50_RS00165  5.721180  6.595295  6.175443  6.363720 ⋯  5.696632  5.909818\n",
       "⋮            ⋮         ⋮         ⋮         ⋮         ⋱ ⋮         ⋮        \n",
       "TX50_RS09745  6.511538  6.072345  5.792061  6.363720 ⋯  6.155433  6.169112\n",
       "TX50_RS09750  5.266635  5.592640  5.792061  7.432066 ⋯  6.412919  7.750996\n",
       "TX50_RS09755  7.015866  8.211531  8.191762  8.377101 ⋯  9.208263  7.123598\n",
       "TX50_RS09760  5.123967  3.617951  3.961236  3.569829 ⋯  3.734252  3.857787\n",
       "TX50_RS09765  5.123967  5.843596  5.931883  5.159365 ⋯  6.155433  5.044715\n",
       "TX50_RS09770  2.999353  3.617951  2.999353  3.569829 ⋯  2.999353  3.857787\n",
       "TX50_RS09775  5.902069  6.723876  6.822300  6.318191 ⋯  6.198234  6.724834\n",
       "TX50_RS09780  8.119546  9.155987  8.479684  8.398934 ⋯  9.775957  8.603744\n",
       "TX50_RS09785  5.395399  6.502631  6.350454  5.649220 ⋯  6.550858  6.783602\n",
       "TX50_RS09790  7.015866  7.305172  7.020545  7.164742 ⋯  6.961958  6.980496\n",
       "TX50_RS09795  3.930984  5.764912  5.580469  5.572379 ⋯  4.340337  7.552097\n",
       "TX50_RS09800  8.665029  9.606380  9.717819 10.116814 ⋯  8.969775 10.367085\n",
       "TX50_RS09805  4.295823  6.296902  4.833011  6.609895 ⋯  6.280124  5.044715\n",
       "TX50_RS09810  5.984388  6.682292  4.930404  6.247024 ⋯  5.994441  5.873742\n",
       "TX50_RS09815  9.846043 11.423289  9.990512 10.251840 ⋯ 10.506294  9.879038\n",
       "TX50_RS09820  9.914732 10.120439 10.046934 10.662542 ⋯  9.452690 10.455119\n",
       "TX50_RS09825  8.736853  8.595415  9.090479  8.687599 ⋯ 10.014961  8.781605\n",
       "TX50_RS09830 13.370350 12.183379 13.040807 10.383535 ⋯ 10.759303 11.173130\n",
       "TX50_RS09835  4.963647  3.966727  4.611255  4.455892 ⋯  4.028002  5.044715\n",
       "TX50_RS09840 12.237239 11.595332 12.484085 10.882748 ⋯ 10.818937 11.238134\n",
       "TX50_RS09845  6.336100  6.120215  6.845734  6.363720 ⋯  6.111289  6.227088\n",
       "TX50_RS09850  6.617506  7.670825  7.212749  7.852090 ⋯  8.049151  7.168290\n",
       "TX50_RS09855  5.395399  5.065664  5.329868  4.244314 ⋯  4.894546  5.498004\n",
       "TX50_RS09860  5.123967  5.785006  5.259150  5.159365 ⋯  5.315766  5.290655\n",
       "TX50_RS09865  2.999353  4.135909  4.727246  4.712663 ⋯  4.426222  4.975164\n",
       "TX50_RS09870  5.902069  4.959050  6.350454  5.611339 ⋯  5.466939  5.110687\n",
       "TX50_RS09875  5.902069  6.268949  6.283030  5.856917 ⋯  5.944826  6.532423\n",
       "TX50_RS09880  7.015866  6.478489  7.020545  7.251496 ⋯  5.393480  7.045868\n",
       "TX50_RS09885  6.565509  6.976748  6.774245  7.164742 ⋯  6.974223  6.821478\n",
       "TX50_RS09890  7.230702  7.298329  6.999827  6.929207 ⋯  7.199757  7.596317\n",
       "             C5B       C5C       P1A       P1B       P1C       P2A      \n",
       "TX50_RS00020 10.828046 10.566447 10.145981 10.133392  9.980252 11.671632\n",
       "TX50_RS00025  6.415651  7.179944  7.415239  6.965448  7.480714  7.102511\n",
       "TX50_RS00030  9.988663 10.011130  8.774283  8.959921  8.768441 11.021224\n",
       "TX50_RS00035  8.517462  8.733940  8.441880  8.775660  8.489322  9.186228\n",
       "TX50_RS00040  9.410598  9.472152  9.356303  9.506277  9.259842 10.600202\n",
       "TX50_RS00045  6.858691  6.946624  6.840204  6.424365  6.866480  8.181493\n",
       "TX50_RS00050  8.134548  8.415303  7.126584  7.037307  7.336723  9.393630\n",
       "TX50_RS00055 10.859164 10.691494 10.154281 10.558601 10.430667 10.896282\n",
       "TX50_RS00060  6.654329  7.629933  7.621234  7.578901  7.566741  7.125462\n",
       "TX50_RS00065  8.086769  8.005596  8.105516  8.200119  7.840141  7.019157\n",
       "TX50_RS00070  6.697611  7.140251  7.387283  7.409066  7.235215  6.674167\n",
       "TX50_RS00075  8.070484  8.080749  8.354888  8.577754  8.467831  8.208544\n",
       "TX50_RS00080 11.611462 11.583955 12.021134 11.892619 11.966578 11.718929\n",
       "TX50_RS00085  7.366355  7.310808  6.325575  6.566610  6.569618  7.629126\n",
       "TX50_RS00090  9.552100  9.597993  8.172476  8.011423  8.200997  8.608475\n",
       "TX50_RS00095 10.894255 11.006864 10.877704 11.034578 10.614789  9.975119\n",
       "TX50_RS00100 10.485536 10.011130  9.159593  9.418892  9.184465  9.273312\n",
       "TX50_RS00105  7.986175  7.914610  6.606030  7.052798  6.653422  6.850166\n",
       "TX50_RS00110  6.415651  7.160235  6.230041  6.162103  5.995145  7.440980\n",
       "TX50_RS00115 10.429224  9.952361 10.651773 10.494702 10.391985 10.152640\n",
       "TX50_RS00120  5.766990  5.585095  5.755727  5.501736  5.517234  5.703318\n",
       "TX50_RS00125  6.968602  7.078572  7.336197  7.102016  7.225621  7.203014\n",
       "TX50_RS00130 11.744327 11.839266 13.246119 13.408479 13.258880  9.815476\n",
       "TX50_RS00135  8.054012  8.171948  7.699055  7.775709  7.773770  8.001383\n",
       "TX50_RS00140 11.257993 11.165573 11.100222 11.223724 11.155513  9.581142\n",
       "TX50_RS00145  9.330865  9.196351  9.925568 10.429689 10.366456  8.203175\n",
       "TX50_RS00150 10.167601 10.144616 10.298967 10.498229 10.278968  8.982013\n",
       "TX50_RS00155  7.655792  7.256178  6.933583  7.033408  6.878797  8.153924\n",
       "TX50_RS00160  7.655792  7.292828  8.315935  8.217355  8.204251  7.729733\n",
       "TX50_RS00165  4.683732  4.524964  5.631303  5.454491  5.600889  8.884787\n",
       "⋮            ⋮         ⋮         ⋮         ⋮         ⋮         ⋮        \n",
       "TX50_RS09745  5.591104  5.585095  7.286594  7.270373  6.895057  5.465877\n",
       "TX50_RS09750  7.070669  6.851373  8.174292  7.167487  8.062647  4.045565\n",
       "TX50_RS09755  6.563607  7.179944  6.769558  7.636468  7.909580  7.668658\n",
       "TX50_RS09760  4.476912  2.999353  3.528901  3.894531  3.651061  5.984198\n",
       "TX50_RS09765  5.151213  4.375595  5.992149  6.211659  5.842125  5.031525\n",
       "TX50_RS09770  2.999353  2.999353  5.407706  3.426583  3.913494  2.999353\n",
       "TX50_RS09775  6.415651  6.355779  7.296653  6.670974  6.942754  7.148051\n",
       "TX50_RS09780  8.587775  8.601741  8.337165  8.642965  8.866121  6.436907\n",
       "TX50_RS09785  4.859737  6.284233  6.679892  6.828042  6.700509  6.720244\n",
       "TX50_RS09790  6.609691  7.199386  7.451688  6.948977  7.306714  6.473324\n",
       "TX50_RS09795  5.591104  5.808411  9.143004  5.114018  7.330771  5.308808\n",
       "TX50_RS09800  9.351215  9.616137 10.418636  9.781079 10.208672  5.905731\n",
       "TX50_RS09805  2.999353  4.375595  7.772881  7.153194  7.760563  4.362600\n",
       "TX50_RS09810  5.922986  6.247054  9.170548  8.282670  9.065243  4.806544\n",
       "TX50_RS09815  9.085719  9.867054 10.761481 10.548430 11.046756  5.031525\n",
       "TX50_RS09820 10.730448 10.186500 10.582731 10.403593 10.615705  9.707807\n",
       "TX50_RS09825  8.867588  8.266937  7.057221  7.120504  7.417557  8.370593\n",
       "TX50_RS09830 11.705341 10.957913  7.946660  7.780358  7.439841 11.012047\n",
       "TX50_RS09835  4.222256  5.585095  4.041592  3.601380  3.956577  3.530984\n",
       "TX50_RS09840 11.587363 10.774610  6.653950  7.064307  6.686546 10.188384\n",
       "TX50_RS09845  6.820093  5.701279  4.989852  5.288363  5.332603  4.978936\n",
       "TX50_RS09850  7.226118  6.826534  7.096170  6.635311  7.238399  6.436907\n",
       "TX50_RS09855  2.999353  5.161124  5.949694  4.778040  5.332603  4.267713\n",
       "TX50_RS09860  6.466702  5.585095  5.923587  6.162103  6.258630  7.931643\n",
       "TX50_RS09865  5.922986  5.075099  5.735755  4.530824  4.603905  4.449703\n",
       "TX50_RS09870  4.222256  5.644418  5.631303  5.547390  5.772288  5.878562\n",
       "TX50_RS09875  4.222256  6.801256  6.700311  6.218598  6.419817  6.836300\n",
       "TX50_RS09880  6.362692  6.488863  7.269672  6.650705  6.845713  8.481190\n",
       "TX50_RS09885  6.968602  6.923399  7.276465  7.347679  7.189882  9.758079\n",
       "TX50_RS09890  7.003439  7.672232  8.063009  8.121733  8.178015  7.192189\n",
       "             P2B       P2C      \n",
       "TX50_RS00020 12.075326 12.089237\n",
       "TX50_RS00025  7.573653  7.703449\n",
       "TX50_RS00030 11.593740 11.775872\n",
       "TX50_RS00035  9.908075 10.219909\n",
       "TX50_RS00040 10.181465 10.279694\n",
       "TX50_RS00045  8.883846  8.507696\n",
       "TX50_RS00050  9.588777  9.752545\n",
       "TX50_RS00055 10.544279 10.895647\n",
       "TX50_RS00060  7.209630  7.136205\n",
       "TX50_RS00065  6.848277  7.028420\n",
       "TX50_RS00070  6.539371  6.758146\n",
       "TX50_RS00075  8.878440  8.756974\n",
       "TX50_RS00080 11.659804 12.123574\n",
       "TX50_RS00085  7.863866  8.491598\n",
       "TX50_RS00090  8.434913  8.854587\n",
       "TX50_RS00095  9.878603 10.487666\n",
       "TX50_RS00100  9.178086  9.800683\n",
       "TX50_RS00105  6.837124  6.947833\n",
       "TX50_RS00110  7.505049  7.426600\n",
       "TX50_RS00115  9.826233  9.903078\n",
       "TX50_RS00120  5.218580  5.007641\n",
       "TX50_RS00125  7.092779  7.072512\n",
       "TX50_RS00130  9.746900 10.266752\n",
       "TX50_RS00135  8.086623  8.155894\n",
       "TX50_RS00140  9.438963  9.214635\n",
       "TX50_RS00145  7.969408  8.760337\n",
       "TX50_RS00150  9.284079  9.253326\n",
       "TX50_RS00155  8.271267  8.450551\n",
       "TX50_RS00160  7.689450  7.830573\n",
       "TX50_RS00165 11.206471  9.738978\n",
       "⋮            ⋮         ⋮        \n",
       "TX50_RS09745  5.478397  4.613629\n",
       "TX50_RS09750  3.818684  2.999353\n",
       "TX50_RS09755  8.534521  9.040298\n",
       "TX50_RS09760  4.518288  5.452804\n",
       "TX50_RS09765  4.983330  4.003960\n",
       "TX50_RS09770  2.999353  2.999353\n",
       "TX50_RS09775  7.349346  6.570511\n",
       "TX50_RS09780  6.683593  6.688871\n",
       "TX50_RS09785  5.644920  6.523458\n",
       "TX50_RS09790  6.497360  6.491202\n",
       "TX50_RS09795  5.884174  5.228747\n",
       "TX50_RS09800  6.162191  5.486761\n",
       "TX50_RS09805  4.309845  2.999353\n",
       "TX50_RS09810  4.518288  3.873614\n",
       "TX50_RS09815  4.518288  4.117195\n",
       "TX50_RS09820 10.597051 10.618447\n",
       "TX50_RS09825  8.759979  8.760337\n",
       "TX50_RS09830  9.666089 10.437104\n",
       "TX50_RS09835  4.309845  3.716743\n",
       "TX50_RS09840  9.706298  9.520467\n",
       "TX50_RS09845  6.580175  6.862434\n",
       "TX50_RS09850  6.069108  6.824213\n",
       "TX50_RS09855  5.536197  5.100656\n",
       "TX50_RS09860  6.985870  7.817708\n",
       "TX50_RS09865  4.453130  4.394017\n",
       "TX50_RS09870  6.125695  5.674412\n",
       "TX50_RS09875  7.192261  7.586930\n",
       "TX50_RS09880  8.653237  8.119682\n",
       "TX50_RS09885  9.957605  9.336763\n",
       "TX50_RS09890  6.870326  6.982927"
      ]
     },
     "metadata": {},
     "output_type": "display_data"
    }
   ],
   "source": [
    "assay(vsd)# [,c('C1', 'C2', 'C3', 'C4', 'C5')] #%>% select(starts_with('C')) # %>% rowSds() %>% hist()\n",
    "#hist(rowSds(assay(vsd)))"
   ]
  },
  {
   "cell_type": "code",
   "execution_count": 62,
   "id": "35b8c9dc",
   "metadata": {},
   "outputs": [],
   "source": [
    "alpha=0.01"
   ]
  },
  {
   "cell_type": "code",
   "execution_count": null,
   "id": "a684626c",
   "metadata": {},
   "outputs": [],
   "source": []
  },
  {
   "cell_type": "code",
   "execution_count": 63,
   "id": "64fef056",
   "metadata": {},
   "outputs": [
    {
     "name": "stderr",
     "output_type": "stream",
     "text": [
      "estimating size factors\n",
      "\n",
      "estimating dispersions\n",
      "\n",
      "gene-wise dispersion estimates\n",
      "\n",
      "mean-dispersion relationship\n",
      "\n",
      "final dispersion estimates\n",
      "\n",
      "fitting model and testing\n",
      "\n"
     ]
    },
    {
     "data": {
      "text/plain": [
       "log2 fold change (MLE): groupandtime C5 vs C1 \n",
       "Wald test p-value: groupandtime C5 vs C1 \n",
       "DataFrame with 1855 rows and 6 columns\n",
       "              baseMean log2FoldChange     lfcSE       stat    pvalue      padj\n",
       "             <numeric>      <numeric> <numeric>  <numeric> <numeric> <numeric>\n",
       "TX50_RS00020  1911.213     -0.0160602  0.327351 -0.0490611 0.9608706 0.9764726\n",
       "TX50_RS00025   129.727     -0.7165433  0.326763 -2.1928501 0.0283182 0.0980868\n",
       "TX50_RS00030  1008.790      0.6137147  0.332978  1.8431107 0.0653129 0.1823736\n",
       "TX50_RS00035   436.526      0.1515493  0.239016  0.6340558 0.5260444 0.6991894\n",
       "TX50_RS00040   836.808     -0.4847600  0.274255 -1.7675497 0.0771362 0.2014421\n",
       "...                ...            ...       ...        ...       ...       ...\n",
       "TX50_RS09870   34.4138      -0.388335  0.474122  -0.819061  0.412752  0.601722\n",
       "TX50_RS09875   73.9437      -0.572321  0.523881  -1.092463  0.274630  0.465844\n",
       "TX50_RS09880  139.8116      -0.536454  0.454133  -1.181270  0.237495  0.423433\n",
       "TX50_RS09885  219.9974      -0.345215  0.241943  -1.426843  0.153625  0.320862\n",
       "TX50_RS09890  163.0409      -0.476263  0.345510  -1.378437  0.168068  0.340071"
      ]
     },
     "metadata": {},
     "output_type": "display_data"
    }
   ],
   "source": [
    "dds <- DESeq(dds)\n",
    "res <- results(dds, alpha=alpha)\n",
    "res"
   ]
  },
  {
   "cell_type": "code",
   "execution_count": 64,
   "id": "c19bd430",
   "metadata": {},
   "outputs": [
    {
     "name": "stdout",
     "output_type": "stream",
     "text": [
      "\n",
      "out of 1855 with nonzero total read count\n",
      "adjusted p-value < 0.01\n",
      "LFC > 0 (up)       : 109, 5.9%\n",
      "LFC < 0 (down)     : 111, 6%\n",
      "outliers [1]       : 4, 0.22%\n",
      "low counts [2]     : 36, 1.9%\n",
      "(mean count < 10)\n",
      "[1] see 'cooksCutoff' argument of ?results\n",
      "[2] see 'independentFiltering' argument of ?results\n",
      "\n"
     ]
    },
    {
     "data": {
      "text/plain": [
       "NULL"
      ]
     },
     "metadata": {},
     "output_type": "display_data"
    }
   ],
   "source": [
    "s = summary(res)\n",
    "s"
   ]
  },
  {
   "cell_type": "code",
   "execution_count": 65,
   "id": "5fb78d33",
   "metadata": {},
   "outputs": [],
   "source": [
    "sum_dds <- function(name) {\n",
    "    res = results(dds, contrast=name)\n",
    "    sum = table(as.data.frame(res) %>% mutate(\n",
    "           contrast = paste0(name[2],'vs', name[3]),\n",
    "        na_pvalue = is.na(pvalue),\n",
    "               na_padj = is.na(padj),\n",
    "               significant = padj < 0.05,\n",
    "               direction = if_else(log2FoldChange > 0, 'up', 'down'),\n",
    "               status = if_else(na_pvalue, 'outlier',\n",
    "                                if_else(na_padj, 'lowcount', \n",
    "                                        if_else(significant, direction, 'no_significant'\n",
    "                                        \n",
    "                               )))\n",
    "               ) %>% select(status))\n",
    "    #sum = cbind(sum, name=name)\n",
    "    return(sum)\n",
    "    }\n"
   ]
  },
  {
   "cell_type": "code",
   "execution_count": 66,
   "id": "f15e358b",
   "metadata": {},
   "outputs": [],
   "source": [
    "get_dds <- function(name) {\n",
    "    res = results(dds, contrast=name)\n",
    "    res = as.data.frame(res) %>% \n",
    "       mutate(\n",
    "           contrast = paste0(name[2],'vs', name[3]),\n",
    "           na_pvalue = is.na(pvalue),\n",
    "           na_padj = is.na(padj),\n",
    "           significant = padj < 0.05,\n",
    "           direction = if_else(log2FoldChange > 0, 'up', 'down'),\n",
    "           status = if_else(na_pvalue, 'outlier',\n",
    "                            if_else(na_padj, 'lowcount', \n",
    "                                    if_else(significant, direction, 'no_significant'\n",
    "                                           )))\n",
    "       ) \n",
    "    return(res)\n",
    "}\n"
   ]
  },
  {
   "cell_type": "code",
   "execution_count": 67,
   "id": "46a44006",
   "metadata": {
    "scrolled": true
   },
   "outputs": [
    {
     "data": {
      "text/html": [
       "<ol>\n",
       "\t<li><style>\n",
       ".list-inline {list-style: none; margin:0; padding: 0}\n",
       ".list-inline>li {display: inline-block}\n",
       ".list-inline>li:not(:last-child)::after {content: \"\\00b7\"; padding: 0 .5ex}\n",
       "</style>\n",
       "<ol class=list-inline><li>'groupandtime'</li><li>'P2'</li><li>'P1'</li></ol>\n",
       "</li>\n",
       "\t<li><style>\n",
       ".list-inline {list-style: none; margin:0; padding: 0}\n",
       ".list-inline>li {display: inline-block}\n",
       ".list-inline>li:not(:last-child)::after {content: \"\\00b7\"; padding: 0 .5ex}\n",
       "</style>\n",
       "<ol class=list-inline><li>'groupandtime'</li><li>'C1'</li><li>'P1'</li></ol>\n",
       "</li>\n",
       "\t<li><style>\n",
       ".list-inline {list-style: none; margin:0; padding: 0}\n",
       ".list-inline>li {display: inline-block}\n",
       ".list-inline>li:not(:last-child)::after {content: \"\\00b7\"; padding: 0 .5ex}\n",
       "</style>\n",
       "<ol class=list-inline><li>'groupandtime'</li><li>'C2'</li><li>'C1'</li></ol>\n",
       "</li>\n",
       "\t<li><style>\n",
       ".list-inline {list-style: none; margin:0; padding: 0}\n",
       ".list-inline>li {display: inline-block}\n",
       ".list-inline>li:not(:last-child)::after {content: \"\\00b7\"; padding: 0 .5ex}\n",
       "</style>\n",
       "<ol class=list-inline><li>'groupandtime'</li><li>'C3'</li><li>'C1'</li></ol>\n",
       "</li>\n",
       "\t<li><style>\n",
       ".list-inline {list-style: none; margin:0; padding: 0}\n",
       ".list-inline>li {display: inline-block}\n",
       ".list-inline>li:not(:last-child)::after {content: \"\\00b7\"; padding: 0 .5ex}\n",
       "</style>\n",
       "<ol class=list-inline><li>'groupandtime'</li><li>'C4'</li><li>'C1'</li></ol>\n",
       "</li>\n",
       "\t<li><style>\n",
       ".list-inline {list-style: none; margin:0; padding: 0}\n",
       ".list-inline>li {display: inline-block}\n",
       ".list-inline>li:not(:last-child)::after {content: \"\\00b7\"; padding: 0 .5ex}\n",
       "</style>\n",
       "<ol class=list-inline><li>'groupandtime'</li><li>'C5'</li><li>'C1'</li></ol>\n",
       "</li>\n",
       "\t<li><style>\n",
       ".list-inline {list-style: none; margin:0; padding: 0}\n",
       ".list-inline>li {display: inline-block}\n",
       ".list-inline>li:not(:last-child)::after {content: \"\\00b7\"; padding: 0 .5ex}\n",
       "</style>\n",
       "<ol class=list-inline><li>'groupandtime'</li><li>'C3'</li><li>'C2'</li></ol>\n",
       "</li>\n",
       "\t<li><style>\n",
       ".list-inline {list-style: none; margin:0; padding: 0}\n",
       ".list-inline>li {display: inline-block}\n",
       ".list-inline>li:not(:last-child)::after {content: \"\\00b7\"; padding: 0 .5ex}\n",
       "</style>\n",
       "<ol class=list-inline><li>'groupandtime'</li><li>'C4'</li><li>'C3'</li></ol>\n",
       "</li>\n",
       "\t<li><style>\n",
       ".list-inline {list-style: none; margin:0; padding: 0}\n",
       ".list-inline>li {display: inline-block}\n",
       ".list-inline>li:not(:last-child)::after {content: \"\\00b7\"; padding: 0 .5ex}\n",
       "</style>\n",
       "<ol class=list-inline><li>'groupandtime'</li><li>'C5'</li><li>'C3'</li></ol>\n",
       "</li>\n",
       "\t<li><style>\n",
       ".list-inline {list-style: none; margin:0; padding: 0}\n",
       ".list-inline>li {display: inline-block}\n",
       ".list-inline>li:not(:last-child)::after {content: \"\\00b7\"; padding: 0 .5ex}\n",
       "</style>\n",
       "<ol class=list-inline><li>'groupandtime'</li><li>'C5'</li><li>'C4'</li></ol>\n",
       "</li>\n",
       "</ol>\n"
      ],
      "text/latex": [
       "\\begin{enumerate}\n",
       "\\item \\begin{enumerate*}\n",
       "\\item 'groupandtime'\n",
       "\\item 'P2'\n",
       "\\item 'P1'\n",
       "\\end{enumerate*}\n",
       "\n",
       "\\item \\begin{enumerate*}\n",
       "\\item 'groupandtime'\n",
       "\\item 'C1'\n",
       "\\item 'P1'\n",
       "\\end{enumerate*}\n",
       "\n",
       "\\item \\begin{enumerate*}\n",
       "\\item 'groupandtime'\n",
       "\\item 'C2'\n",
       "\\item 'C1'\n",
       "\\end{enumerate*}\n",
       "\n",
       "\\item \\begin{enumerate*}\n",
       "\\item 'groupandtime'\n",
       "\\item 'C3'\n",
       "\\item 'C1'\n",
       "\\end{enumerate*}\n",
       "\n",
       "\\item \\begin{enumerate*}\n",
       "\\item 'groupandtime'\n",
       "\\item 'C4'\n",
       "\\item 'C1'\n",
       "\\end{enumerate*}\n",
       "\n",
       "\\item \\begin{enumerate*}\n",
       "\\item 'groupandtime'\n",
       "\\item 'C5'\n",
       "\\item 'C1'\n",
       "\\end{enumerate*}\n",
       "\n",
       "\\item \\begin{enumerate*}\n",
       "\\item 'groupandtime'\n",
       "\\item 'C3'\n",
       "\\item 'C2'\n",
       "\\end{enumerate*}\n",
       "\n",
       "\\item \\begin{enumerate*}\n",
       "\\item 'groupandtime'\n",
       "\\item 'C4'\n",
       "\\item 'C3'\n",
       "\\end{enumerate*}\n",
       "\n",
       "\\item \\begin{enumerate*}\n",
       "\\item 'groupandtime'\n",
       "\\item 'C5'\n",
       "\\item 'C3'\n",
       "\\end{enumerate*}\n",
       "\n",
       "\\item \\begin{enumerate*}\n",
       "\\item 'groupandtime'\n",
       "\\item 'C5'\n",
       "\\item 'C4'\n",
       "\\end{enumerate*}\n",
       "\n",
       "\\end{enumerate}\n"
      ],
      "text/markdown": [
       "1. 1. 'groupandtime'\n",
       "2. 'P2'\n",
       "3. 'P1'\n",
       "\n",
       "\n",
       "\n",
       "2. 1. 'groupandtime'\n",
       "2. 'C1'\n",
       "3. 'P1'\n",
       "\n",
       "\n",
       "\n",
       "3. 1. 'groupandtime'\n",
       "2. 'C2'\n",
       "3. 'C1'\n",
       "\n",
       "\n",
       "\n",
       "4. 1. 'groupandtime'\n",
       "2. 'C3'\n",
       "3. 'C1'\n",
       "\n",
       "\n",
       "\n",
       "5. 1. 'groupandtime'\n",
       "2. 'C4'\n",
       "3. 'C1'\n",
       "\n",
       "\n",
       "\n",
       "6. 1. 'groupandtime'\n",
       "2. 'C5'\n",
       "3. 'C1'\n",
       "\n",
       "\n",
       "\n",
       "7. 1. 'groupandtime'\n",
       "2. 'C3'\n",
       "3. 'C2'\n",
       "\n",
       "\n",
       "\n",
       "8. 1. 'groupandtime'\n",
       "2. 'C4'\n",
       "3. 'C3'\n",
       "\n",
       "\n",
       "\n",
       "9. 1. 'groupandtime'\n",
       "2. 'C5'\n",
       "3. 'C3'\n",
       "\n",
       "\n",
       "\n",
       "10. 1. 'groupandtime'\n",
       "2. 'C5'\n",
       "3. 'C4'\n",
       "\n",
       "\n",
       "\n",
       "\n",
       "\n"
      ],
      "text/plain": [
       "[[1]]\n",
       "[1] \"groupandtime\" \"P2\"           \"P1\"          \n",
       "\n",
       "[[2]]\n",
       "[1] \"groupandtime\" \"C1\"           \"P1\"          \n",
       "\n",
       "[[3]]\n",
       "[1] \"groupandtime\" \"C2\"           \"C1\"          \n",
       "\n",
       "[[4]]\n",
       "[1] \"groupandtime\" \"C3\"           \"C1\"          \n",
       "\n",
       "[[5]]\n",
       "[1] \"groupandtime\" \"C4\"           \"C1\"          \n",
       "\n",
       "[[6]]\n",
       "[1] \"groupandtime\" \"C5\"           \"C1\"          \n",
       "\n",
       "[[7]]\n",
       "[1] \"groupandtime\" \"C3\"           \"C2\"          \n",
       "\n",
       "[[8]]\n",
       "[1] \"groupandtime\" \"C4\"           \"C3\"          \n",
       "\n",
       "[[9]]\n",
       "[1] \"groupandtime\" \"C5\"           \"C3\"          \n",
       "\n",
       "[[10]]\n",
       "[1] \"groupandtime\" \"C5\"           \"C4\"          \n"
      ]
     },
     "metadata": {},
     "output_type": "display_data"
    }
   ],
   "source": [
    "results_names = resultsNames(dds)\n",
    "\n",
    "\n",
    "contrasts_to_check = list (\n",
    "    c('groupandtime','P2','P1'), \n",
    "    c('groupandtime','C1','P1'),\n",
    "    c('groupandtime','C2','C1'), \n",
    "    c('groupandtime','C3','C1'), \n",
    "    c('groupandtime','C4','C1'), \n",
    "    c('groupandtime','C5','C1'),\n",
    "    c('groupandtime','C3','C2'), \n",
    "    c('groupandtime','C4','C3'), \n",
    "    c('groupandtime','C5','C3'),\n",
    "    c('groupandtime','C5','C4')\n",
    ")\n",
    "\n",
    "contrasts_to_check"
   ]
  },
  {
   "cell_type": "code",
   "execution_count": 68,
   "id": "3ba01fb3",
   "metadata": {},
   "outputs": [
    {
     "data": {
      "text/html": [
       "<table class=\"dataframe\">\n",
       "<caption>A tibble: 10 × 6</caption>\n",
       "<thead>\n",
       "\t<tr><th scope=col>down</th><th scope=col>no_significant</th><th scope=col>outlier</th><th scope=col>up</th><th scope=col>lowcount</th><th scope=col>name</th></tr>\n",
       "\t<tr><th scope=col>&lt;table[1d]&gt;</th><th scope=col>&lt;table[1d]&gt;</th><th scope=col>&lt;table[1d]&gt;</th><th scope=col>&lt;table[1d]&gt;</th><th scope=col>&lt;table[1d]&gt;</th><th scope=col>&lt;list&gt;</th></tr>\n",
       "</thead>\n",
       "<tbody>\n",
       "\t<tr><td>574</td><td> 724</td><td>4</td><td>553</td><td> NA</td><td>groupand....</td></tr>\n",
       "\t<tr><td>  2</td><td>1243</td><td>4</td><td> 30</td><td>576</td><td>groupand....</td></tr>\n",
       "\t<tr><td> 15</td><td>1059</td><td>4</td><td> 22</td><td>755</td><td>groupand....</td></tr>\n",
       "\t<tr><td>309</td><td>1306</td><td>4</td><td>236</td><td> NA</td><td>groupand....</td></tr>\n",
       "\t<tr><td>313</td><td>1317</td><td>4</td><td>221</td><td> NA</td><td>groupand....</td></tr>\n",
       "\t<tr><td>230</td><td>1449</td><td>4</td><td>172</td><td> NA</td><td>groupand....</td></tr>\n",
       "\t<tr><td>107</td><td>1586</td><td>4</td><td>122</td><td> 36</td><td>groupand....</td></tr>\n",
       "\t<tr><td> 14</td><td>1116</td><td>4</td><td>  2</td><td>719</td><td>groupand....</td></tr>\n",
       "\t<tr><td> 57</td><td>1749</td><td>4</td><td> 45</td><td> NA</td><td>groupand....</td></tr>\n",
       "\t<tr><td> 50</td><td>1724</td><td>4</td><td> 41</td><td> 36</td><td>groupand....</td></tr>\n",
       "</tbody>\n",
       "</table>\n"
      ],
      "text/latex": [
       "A tibble: 10 × 6\n",
       "\\begin{tabular}{llllll}\n",
       " down & no\\_significant & outlier & up & lowcount & name\\\\\n",
       " <table{[}1d{]}> & <table{[}1d{]}> & <table{[}1d{]}> & <table{[}1d{]}> & <table{[}1d{]}> & <list>\\\\\n",
       "\\hline\n",
       "\t 574 &  724 & 4 & 553 &  NA & groupand....\\\\\n",
       "\t   2 & 1243 & 4 &  30 & 576 & groupand....\\\\\n",
       "\t  15 & 1059 & 4 &  22 & 755 & groupand....\\\\\n",
       "\t 309 & 1306 & 4 & 236 &  NA & groupand....\\\\\n",
       "\t 313 & 1317 & 4 & 221 &  NA & groupand....\\\\\n",
       "\t 230 & 1449 & 4 & 172 &  NA & groupand....\\\\\n",
       "\t 107 & 1586 & 4 & 122 &  36 & groupand....\\\\\n",
       "\t  14 & 1116 & 4 &   2 & 719 & groupand....\\\\\n",
       "\t  57 & 1749 & 4 &  45 &  NA & groupand....\\\\\n",
       "\t  50 & 1724 & 4 &  41 &  36 & groupand....\\\\\n",
       "\\end{tabular}\n"
      ],
      "text/markdown": [
       "\n",
       "A tibble: 10 × 6\n",
       "\n",
       "| down &lt;table[1d]&gt; | no_significant &lt;table[1d]&gt; | outlier &lt;table[1d]&gt; | up &lt;table[1d]&gt; | lowcount &lt;table[1d]&gt; | name &lt;list&gt; |\n",
       "|---|---|---|---|---|---|\n",
       "| 574 |  724 | 4 | 553 |  NA | groupand.... |\n",
       "|   2 | 1243 | 4 |  30 | 576 | groupand.... |\n",
       "|  15 | 1059 | 4 |  22 | 755 | groupand.... |\n",
       "| 309 | 1306 | 4 | 236 |  NA | groupand.... |\n",
       "| 313 | 1317 | 4 | 221 |  NA | groupand.... |\n",
       "| 230 | 1449 | 4 | 172 |  NA | groupand.... |\n",
       "| 107 | 1586 | 4 | 122 |  36 | groupand.... |\n",
       "|  14 | 1116 | 4 |   2 | 719 | groupand.... |\n",
       "|  57 | 1749 | 4 |  45 |  NA | groupand.... |\n",
       "|  50 | 1724 | 4 |  41 |  36 | groupand.... |\n",
       "\n"
      ],
      "text/plain": [
       "   down no_significant outlier up  lowcount name        \n",
       "1  574   724           4       553  NA      groupand....\n",
       "2    2  1243           4        30 576      groupand....\n",
       "3   15  1059           4        22 755      groupand....\n",
       "4  309  1306           4       236  NA      groupand....\n",
       "5  313  1317           4       221  NA      groupand....\n",
       "6  230  1449           4       172  NA      groupand....\n",
       "7  107  1586           4       122  36      groupand....\n",
       "8   14  1116           4         2 719      groupand....\n",
       "9   57  1749           4        45  NA      groupand....\n",
       "10  50  1724           4        41  36      groupand...."
      ]
     },
     "metadata": {},
     "output_type": "display_data"
    }
   ],
   "source": [
    "#bind_rows(\n",
    "sum_df = lapply(contrasts_to_check, sum_dds) %>% bind_rows \n",
    "sum_df$name= contrasts_to_check\n",
    "sum_df\n"
   ]
  },
  {
   "cell_type": "code",
   "execution_count": 69,
   "id": "d27fc032",
   "metadata": {},
   "outputs": [],
   "source": [
    "#bind_rows(\n",
    "res_df = lapply(contrasts_to_check, get_dds) %>% \n",
    "  bind_rows %>%\n",
    "  rownames_to_column(var = 'gene_id') \n",
    "\n",
    "write_csv(res_df, file.path('DE_results','MED4_DE_DESEQ_results.csv'))\n"
   ]
  },
  {
   "cell_type": "code",
   "execution_count": 70,
   "id": "94cd7721",
   "metadata": {},
   "outputs": [
    {
     "name": "stderr",
     "output_type": "stream",
     "text": [
      "Warning message:\n",
      "\"\u001b[1m\u001b[22mThere was 1 warning in `mutate()`.\n",
      "\u001b[1m\u001b[22m\u001b[36mℹ\u001b[39m In argument: `name = str_remove(name, \"groupandtime_\")`.\n",
      "Caused by warning in `stri_replace_first_regex()`:\n",
      "\u001b[33m!\u001b[39m argument is not an atomic vector; coercing\"\n"
     ]
    }
   ],
   "source": [
    "sum_df = sum_df %>% \n",
    "   filter(name != 'Intercept') %>% \n",
    "   mutate(tot_fc = up + down, \n",
    "         name = str_remove(name, 'groupandtime_'))"
   ]
  },
  {
   "cell_type": "code",
   "execution_count": 71,
   "id": "f3ff57da",
   "metadata": {},
   "outputs": [
    {
     "data": {
      "text/html": [
       "<table class=\"dataframe\">\n",
       "<caption>A tibble: 10 × 7</caption>\n",
       "<thead>\n",
       "\t<tr><th scope=col>down</th><th scope=col>no_significant</th><th scope=col>outlier</th><th scope=col>up</th><th scope=col>lowcount</th><th scope=col>name</th><th scope=col>tot_fc</th></tr>\n",
       "\t<tr><th scope=col>&lt;table[1d]&gt;</th><th scope=col>&lt;table[1d]&gt;</th><th scope=col>&lt;table[1d]&gt;</th><th scope=col>&lt;table[1d]&gt;</th><th scope=col>&lt;table[1d]&gt;</th><th scope=col>&lt;chr&gt;</th><th scope=col>&lt;table[1d]&gt;</th></tr>\n",
       "</thead>\n",
       "<tbody>\n",
       "\t<tr><td>574</td><td> 724</td><td>4</td><td>553</td><td> NA</td><td>c(\"groupandtime\", \"P2\", \"P1\")</td><td>1127</td></tr>\n",
       "\t<tr><td>  2</td><td>1243</td><td>4</td><td> 30</td><td>576</td><td>c(\"groupandtime\", \"C1\", \"P1\")</td><td>  32</td></tr>\n",
       "\t<tr><td> 15</td><td>1059</td><td>4</td><td> 22</td><td>755</td><td>c(\"groupandtime\", \"C2\", \"C1\")</td><td>  37</td></tr>\n",
       "\t<tr><td>309</td><td>1306</td><td>4</td><td>236</td><td> NA</td><td>c(\"groupandtime\", \"C3\", \"C1\")</td><td> 545</td></tr>\n",
       "\t<tr><td>313</td><td>1317</td><td>4</td><td>221</td><td> NA</td><td>c(\"groupandtime\", \"C4\", \"C1\")</td><td> 534</td></tr>\n",
       "\t<tr><td>230</td><td>1449</td><td>4</td><td>172</td><td> NA</td><td>c(\"groupandtime\", \"C5\", \"C1\")</td><td> 402</td></tr>\n",
       "\t<tr><td>107</td><td>1586</td><td>4</td><td>122</td><td> 36</td><td>c(\"groupandtime\", \"C3\", \"C2\")</td><td> 229</td></tr>\n",
       "\t<tr><td> 14</td><td>1116</td><td>4</td><td>  2</td><td>719</td><td>c(\"groupandtime\", \"C4\", \"C3\")</td><td>  16</td></tr>\n",
       "\t<tr><td> 57</td><td>1749</td><td>4</td><td> 45</td><td> NA</td><td>c(\"groupandtime\", \"C5\", \"C3\")</td><td> 102</td></tr>\n",
       "\t<tr><td> 50</td><td>1724</td><td>4</td><td> 41</td><td> 36</td><td>c(\"groupandtime\", \"C5\", \"C4\")</td><td>  91</td></tr>\n",
       "</tbody>\n",
       "</table>\n"
      ],
      "text/latex": [
       "A tibble: 10 × 7\n",
       "\\begin{tabular}{lllllll}\n",
       " down & no\\_significant & outlier & up & lowcount & name & tot\\_fc\\\\\n",
       " <table{[}1d{]}> & <table{[}1d{]}> & <table{[}1d{]}> & <table{[}1d{]}> & <table{[}1d{]}> & <chr> & <table{[}1d{]}>\\\\\n",
       "\\hline\n",
       "\t 574 &  724 & 4 & 553 &  NA & c(\"groupandtime\", \"P2\", \"P1\") & 1127\\\\\n",
       "\t   2 & 1243 & 4 &  30 & 576 & c(\"groupandtime\", \"C1\", \"P1\") &   32\\\\\n",
       "\t  15 & 1059 & 4 &  22 & 755 & c(\"groupandtime\", \"C2\", \"C1\") &   37\\\\\n",
       "\t 309 & 1306 & 4 & 236 &  NA & c(\"groupandtime\", \"C3\", \"C1\") &  545\\\\\n",
       "\t 313 & 1317 & 4 & 221 &  NA & c(\"groupandtime\", \"C4\", \"C1\") &  534\\\\\n",
       "\t 230 & 1449 & 4 & 172 &  NA & c(\"groupandtime\", \"C5\", \"C1\") &  402\\\\\n",
       "\t 107 & 1586 & 4 & 122 &  36 & c(\"groupandtime\", \"C3\", \"C2\") &  229\\\\\n",
       "\t  14 & 1116 & 4 &   2 & 719 & c(\"groupandtime\", \"C4\", \"C3\") &   16\\\\\n",
       "\t  57 & 1749 & 4 &  45 &  NA & c(\"groupandtime\", \"C5\", \"C3\") &  102\\\\\n",
       "\t  50 & 1724 & 4 &  41 &  36 & c(\"groupandtime\", \"C5\", \"C4\") &   91\\\\\n",
       "\\end{tabular}\n"
      ],
      "text/markdown": [
       "\n",
       "A tibble: 10 × 7\n",
       "\n",
       "| down &lt;table[1d]&gt; | no_significant &lt;table[1d]&gt; | outlier &lt;table[1d]&gt; | up &lt;table[1d]&gt; | lowcount &lt;table[1d]&gt; | name &lt;chr&gt; | tot_fc &lt;table[1d]&gt; |\n",
       "|---|---|---|---|---|---|---|\n",
       "| 574 |  724 | 4 | 553 |  NA | c(\"groupandtime\", \"P2\", \"P1\") | 1127 |\n",
       "|   2 | 1243 | 4 |  30 | 576 | c(\"groupandtime\", \"C1\", \"P1\") |   32 |\n",
       "|  15 | 1059 | 4 |  22 | 755 | c(\"groupandtime\", \"C2\", \"C1\") |   37 |\n",
       "| 309 | 1306 | 4 | 236 |  NA | c(\"groupandtime\", \"C3\", \"C1\") |  545 |\n",
       "| 313 | 1317 | 4 | 221 |  NA | c(\"groupandtime\", \"C4\", \"C1\") |  534 |\n",
       "| 230 | 1449 | 4 | 172 |  NA | c(\"groupandtime\", \"C5\", \"C1\") |  402 |\n",
       "| 107 | 1586 | 4 | 122 |  36 | c(\"groupandtime\", \"C3\", \"C2\") |  229 |\n",
       "|  14 | 1116 | 4 |   2 | 719 | c(\"groupandtime\", \"C4\", \"C3\") |   16 |\n",
       "|  57 | 1749 | 4 |  45 |  NA | c(\"groupandtime\", \"C5\", \"C3\") |  102 |\n",
       "|  50 | 1724 | 4 |  41 |  36 | c(\"groupandtime\", \"C5\", \"C4\") |   91 |\n",
       "\n"
      ],
      "text/plain": [
       "   down no_significant outlier up  lowcount name                         \n",
       "1  574   724           4       553  NA      c(\"groupandtime\", \"P2\", \"P1\")\n",
       "2    2  1243           4        30 576      c(\"groupandtime\", \"C1\", \"P1\")\n",
       "3   15  1059           4        22 755      c(\"groupandtime\", \"C2\", \"C1\")\n",
       "4  309  1306           4       236  NA      c(\"groupandtime\", \"C3\", \"C1\")\n",
       "5  313  1317           4       221  NA      c(\"groupandtime\", \"C4\", \"C1\")\n",
       "6  230  1449           4       172  NA      c(\"groupandtime\", \"C5\", \"C1\")\n",
       "7  107  1586           4       122  36      c(\"groupandtime\", \"C3\", \"C2\")\n",
       "8   14  1116           4         2 719      c(\"groupandtime\", \"C4\", \"C3\")\n",
       "9   57  1749           4        45  NA      c(\"groupandtime\", \"C5\", \"C3\")\n",
       "10  50  1724           4        41  36      c(\"groupandtime\", \"C5\", \"C4\")\n",
       "   tot_fc\n",
       "1  1127  \n",
       "2    32  \n",
       "3    37  \n",
       "4   545  \n",
       "5   534  \n",
       "6   402  \n",
       "7   229  \n",
       "8    16  \n",
       "9   102  \n",
       "10   91  "
      ]
     },
     "metadata": {},
     "output_type": "display_data"
    }
   ],
   "source": [
    "sum_df"
   ]
  },
  {
   "cell_type": "code",
   "execution_count": 72,
   "id": "79ebe922",
   "metadata": {},
   "outputs": [],
   "source": [
    "write.csv(as.data.frame(assay(vsd)), \n",
    "          file.path('DE_results','MED4_DE_DESEQ_vsd.csv'))"
   ]
  },
  {
   "cell_type": "code",
   "execution_count": 73,
   "id": "45508cfe",
   "metadata": {},
   "outputs": [
    {
     "data": {
      "text/plain": [
       "~groupandtime"
      ]
     },
     "metadata": {},
     "output_type": "display_data"
    }
   ],
   "source": [
    "dds@design"
   ]
  },
  {
   "cell_type": "code",
   "execution_count": 74,
   "id": "45024b6e",
   "metadata": {},
   "outputs": [
    {
     "name": "stdout",
     "output_type": "stream",
     "text": [
      "\n",
      "out of 1855 with nonzero total read count\n",
      "adjusted p-value < 0.1\n",
      "LFC > 0 (up)       : 5, 0.27%\n",
      "LFC < 0 (down)     : 58, 3.1%\n",
      "outliers [1]       : 4, 0.22%\n",
      "low counts [2]     : 576, 31%\n",
      "(mean count < 121)\n",
      "[1] see 'cooksCutoff' argument of ?results\n",
      "[2] see 'independentFiltering' argument of ?results\n",
      "\n"
     ]
    }
   ],
   "source": [
    "summary(results(dds, name='groupandtime_P1_vs_C1'\n",
    "        ))"
   ]
  },
  {
   "cell_type": "code",
   "execution_count": 75,
   "id": "3977a15c",
   "metadata": {},
   "outputs": [
    {
     "name": "stderr",
     "output_type": "stream",
     "text": [
      "using 'apeglm' for LFC shrinkage. If used in published research, please cite:\n",
      "    Zhu, A., Ibrahim, J.G., Love, M.I. (2018) Heavy-tailed prior distributions for\n",
      "    sequence count data: removing the noise and preserving large differences.\n",
      "    Bioinformatics. https://doi.org/10.1093/bioinformatics/bty895\n",
      "\n"
     ]
    },
    {
     "data": {
      "text/plain": [
       "log2 fold change (MAP): groupandtime P1 vs C1 \n",
       "Wald test p-value: groupandtime P1 vs C1 \n",
       "DataFrame with 1855 rows and 5 columns\n",
       "              baseMean log2FoldChange     lfcSE    pvalue      padj\n",
       "             <numeric>      <numeric> <numeric> <numeric> <numeric>\n",
       "TX50_RS00020  1911.213     -0.2239945  0.322660 0.0298894  0.246576\n",
       "TX50_RS00025   129.727     -0.0790937  0.163821 0.2753817  0.614907\n",
       "TX50_RS00030  1008.790     -0.0992174  0.179778 0.1778188  0.540225\n",
       "TX50_RS00035   436.526      0.0455694  0.138106 0.5508449  0.786481\n",
       "TX50_RS00040   836.808     -0.2436606  0.284504 0.0333957  0.259631\n",
       "...                ...            ...       ...       ...       ...\n",
       "TX50_RS09870   34.4138      0.0469703  0.158762  0.414171        NA\n",
       "TX50_RS09875   73.9437     -0.0311112  0.158171  0.513530        NA\n",
       "TX50_RS09880  139.8116     -0.0271562  0.154779  0.604984  0.817979\n",
       "TX50_RS09885  219.9974      0.0277898  0.131271  0.725801  0.895009\n",
       "TX50_RS09890  163.0409      0.0454722  0.152769  0.488913  0.747891"
      ]
     },
     "metadata": {},
     "output_type": "display_data"
    }
   ],
   "source": [
    "resLFC <- lfcShrink(dds, coef=\"groupandtime_P1_vs_C1\", type=\"apeglm\")\n",
    "resLFC"
   ]
  },
  {
   "cell_type": "code",
   "execution_count": 76,
   "id": "0dd09522",
   "metadata": {},
   "outputs": [],
   "source": [
    "resOrdered <- res[order(res$pvalue),]"
   ]
  },
  {
   "cell_type": "code",
   "execution_count": 77,
   "id": "51c52f94",
   "metadata": {},
   "outputs": [
    {
     "name": "stdout",
     "output_type": "stream",
     "text": [
      "\n",
      "out of 1855 with nonzero total read count\n",
      "adjusted p-value < 0.1\n",
      "LFC > 0 (up)       : 5, 0.27%\n",
      "LFC < 0 (down)     : 58, 3.1%\n",
      "outliers [1]       : 4, 0.22%\n",
      "low counts [2]     : 576, 31%\n",
      "(mean count < 121)\n",
      "[1] see 'cooksCutoff' argument of ?results\n",
      "[2] see 'independentFiltering' argument of ?results\n",
      "\n"
     ]
    }
   ],
   "source": [
    "summary(resLFC)"
   ]
  },
  {
   "cell_type": "code",
   "execution_count": 78,
   "id": "e2234791",
   "metadata": {},
   "outputs": [
    {
     "name": "stdout",
     "output_type": "stream",
     "text": [
      "\n",
      "out of 1855 with nonzero total read count\n",
      "adjusted p-value < 0.01\n",
      "LFC > 0 (up)       : 109, 5.9%\n",
      "LFC < 0 (down)     : 111, 6%\n",
      "outliers [1]       : 4, 0.22%\n",
      "low counts [2]     : 36, 1.9%\n",
      "(mean count < 10)\n",
      "[1] see 'cooksCutoff' argument of ?results\n",
      "[2] see 'independentFiltering' argument of ?results\n",
      "\n"
     ]
    }
   ],
   "source": [
    "summary(res)"
   ]
  },
  {
   "cell_type": "code",
   "execution_count": 79,
   "id": "b06df777",
   "metadata": {},
   "outputs": [
    {
     "data": {
      "text/html": [
       "524"
      ],
      "text/latex": [
       "524"
      ],
      "text/markdown": [
       "524"
      ],
      "text/plain": [
       "[1] 524"
      ]
     },
     "metadata": {},
     "output_type": "display_data"
    }
   ],
   "source": [
    "sum(res$padj < 0.1, na.rm=TRUE)"
   ]
  },
  {
   "cell_type": "code",
   "execution_count": 80,
   "id": "46472e82",
   "metadata": {},
   "outputs": [
    {
     "data": {
      "image/png": "[encoded data removed]",
      "text/plain": [
       "Plot with title \"Histogram of res$pvalue[res$baseMean > 1]\""
      ]
     },
     "metadata": {
      "image/png": {
       "height": 450,
       "width": 450
      }
     },
     "output_type": "display_data"
    }
   ],
   "source": [
    "hist(res$pvalue[res$baseMean > 1], breaks = 0:20/20,\n",
    "     col = \"grey50\", border = \"white\")"
   ]
  },
  {
   "cell_type": "code",
   "execution_count": 81,
   "id": "a4ef7862",
   "metadata": {},
   "outputs": [
    {
     "data": {
      "image/png": "[encoded data removed]",
      "text/plain": [
       "Plot with title \"\""
      ]
     },
     "metadata": {
      "image/png": {
       "height": 450,
       "width": 450
      }
     },
     "output_type": "display_data"
    }
   ],
   "source": [
    "plotMA(res, #ylim=c(-2,2)\n",
    "      )"
   ]
  },
  {
   "cell_type": "code",
   "execution_count": 82,
   "id": "41bb8259",
   "metadata": {
    "scrolled": true
   },
   "outputs": [
    {
     "data": {
      "image/png": "[encoded data removed]",
      "text/plain": [
       "Plot with title \"\""
      ]
     },
     "metadata": {
      "image/png": {
       "height": 450,
       "width": 450
      }
     },
     "output_type": "display_data"
    }
   ],
   "source": [
    "plotMA(resLFC, ylim=c(-2,2))"
   ]
  },
  {
   "cell_type": "code",
   "execution_count": 83,
   "id": "086336cc",
   "metadata": {},
   "outputs": [
    {
     "data": {
      "image/png": "[encoded data removed]",
      "text/plain": [
       "Plot with title \"TX50_RS01845\""
      ]
     },
     "metadata": {
      "image/png": {
       "height": 450,
       "width": 450
      }
     },
     "output_type": "display_data"
    }
   ],
   "source": [
    "plotCounts(dds, gene=which.min(res$padj), intgroup=\"groupandtime\")"
   ]
  },
  {
   "cell_type": "code",
   "execution_count": 84,
   "id": "e6621760",
   "metadata": {},
   "outputs": [
    {
     "data": {
      "text/html": [
       "349"
      ],
      "text/latex": [
       "349"
      ],
      "text/markdown": [
       "349"
      ],
      "text/plain": [
       "[1] 349"
      ]
     },
     "metadata": {},
     "output_type": "display_data"
    }
   ],
   "source": [
    "which.min(res$padj)"
   ]
  },
  {
   "cell_type": "code",
   "execution_count": 85,
   "id": "03f44d26",
   "metadata": {},
   "outputs": [
    {
     "data": {
      "text/html": [
       "<table class=\"dataframe\">\n",
       "<caption>A data.frame: 1 × 5</caption>\n",
       "<thead>\n",
       "\t<tr><th></th><th scope=col>gene_id</th><th scope=col>gene</th><th scope=col>product</th><th scope=col>protein_id</th><th scope=col>old_locus_tag</th></tr>\n",
       "\t<tr><th></th><th scope=col>&lt;chr&gt;</th><th scope=col>&lt;chr&gt;</th><th scope=col>&lt;chr&gt;</th><th scope=col>&lt;chr&gt;</th><th scope=col>&lt;lgl&gt;</th></tr>\n",
       "</thead>\n",
       "<tbody>\n",
       "\t<tr><th scope=row>TX50_RS01845</th><td>TX50_RS01845</td><td></td><td>hypothetical protein</td><td>WP_225866761.1</td><td>NA</td></tr>\n",
       "</tbody>\n",
       "</table>\n"
      ],
      "text/latex": [
       "A data.frame: 1 × 5\n",
       "\\begin{tabular}{r|lllll}\n",
       "  & gene\\_id & gene & product & protein\\_id & old\\_locus\\_tag\\\\\n",
       "  & <chr> & <chr> & <chr> & <chr> & <lgl>\\\\\n",
       "\\hline\n",
       "\tTX50\\_RS01845 & TX50\\_RS01845 &  & hypothetical protein & WP\\_225866761.1 & NA\\\\\n",
       "\\end{tabular}\n"
      ],
      "text/markdown": [
       "\n",
       "A data.frame: 1 × 5\n",
       "\n",
       "| <!--/--> | gene_id &lt;chr&gt; | gene &lt;chr&gt; | product &lt;chr&gt; | protein_id &lt;chr&gt; | old_locus_tag &lt;lgl&gt; |\n",
       "|---|---|---|---|---|---|\n",
       "| TX50_RS01845 | TX50_RS01845 | <!----> | hypothetical protein | WP_225866761.1 | NA |\n",
       "\n"
      ],
      "text/plain": [
       "             gene_id      gene product              protein_id    \n",
       "TX50_RS01845 TX50_RS01845      hypothetical protein WP_225866761.1\n",
       "             old_locus_tag\n",
       "TX50_RS01845 NA           "
      ]
     },
     "metadata": {},
     "output_type": "display_data"
    }
   ],
   "source": [
    "genes[349,]"
   ]
  },
  {
   "cell_type": "code",
   "execution_count": 86,
   "id": "beb4c7f3",
   "metadata": {},
   "outputs": [
    {
     "data": {
      "text/html": [
       "<table class=\"dataframe\">\n",
       "<caption>A matrix: 21 × 9 of type int</caption>\n",
       "<thead>\n",
       "\t<tr><th></th><th scope=col>TX50_RS01920</th><th scope=col>TX50_RS02775</th><th scope=col>TX50_RS03835</th><th scope=col>TX50_RS04835</th><th scope=col>TX50_RS05495</th><th scope=col>TX50_RS06065</th><th scope=col>TX50_RS07590</th><th scope=col>TX50_RS08720</th><th scope=col>TX50_RS09435</th></tr>\n",
       "</thead>\n",
       "<tbody>\n",
       "\t<tr><th scope=row>C1A</th><td>8</td><td>2</td><td>0</td><td> 2</td><td> 0</td><td> 0</td><td>1</td><td> 2</td><td>0</td></tr>\n",
       "\t<tr><th scope=row>C1B</th><td>2</td><td>1</td><td>1</td><td>10</td><td>17</td><td>13</td><td>3</td><td> 6</td><td>2</td></tr>\n",
       "\t<tr><th scope=row>C1C</th><td>5</td><td>5</td><td>5</td><td> 4</td><td> 1</td><td> 3</td><td>4</td><td> 6</td><td>2</td></tr>\n",
       "\t<tr><th scope=row>C2A</th><td>0</td><td>3</td><td>1</td><td> 6</td><td> 1</td><td> 0</td><td>2</td><td> 1</td><td>0</td></tr>\n",
       "\t<tr><th scope=row>C2B_1</th><td>4</td><td>1</td><td>0</td><td> 1</td><td> 2</td><td> 2</td><td>2</td><td> 3</td><td>2</td></tr>\n",
       "\t<tr><th scope=row>C2C_1</th><td>1</td><td>6</td><td>0</td><td> 4</td><td> 0</td><td> 0</td><td>6</td><td> 0</td><td>2</td></tr>\n",
       "\t<tr><th scope=row>C3A_1</th><td>0</td><td>0</td><td>0</td><td> 1</td><td> 1</td><td> 0</td><td>1</td><td> 0</td><td>1</td></tr>\n",
       "\t<tr><th scope=row>C3B</th><td>2</td><td>0</td><td>1</td><td> 4</td><td> 2</td><td> 1</td><td>4</td><td> 2</td><td>0</td></tr>\n",
       "\t<tr><th scope=row>C3C_1</th><td>1</td><td>4</td><td>0</td><td>18</td><td> 1</td><td> 0</td><td>0</td><td> 1</td><td>0</td></tr>\n",
       "\t<tr><th scope=row>C4A</th><td>0</td><td>0</td><td>0</td><td> 1</td><td> 1</td><td> 4</td><td>3</td><td> 0</td><td>1</td></tr>\n",
       "\t<tr><th scope=row>C4B</th><td>4</td><td>0</td><td>0</td><td> 0</td><td> 3</td><td> 2</td><td>0</td><td> 0</td><td>0</td></tr>\n",
       "\t<tr><th scope=row>C4C</th><td>1</td><td>0</td><td>0</td><td> 0</td><td> 0</td><td> 2</td><td>0</td><td> 3</td><td>0</td></tr>\n",
       "\t<tr><th scope=row>C5A</th><td>0</td><td>1</td><td>0</td><td> 5</td><td> 1</td><td> 0</td><td>0</td><td>12</td><td>4</td></tr>\n",
       "\t<tr><th scope=row>C5B</th><td>0</td><td>0</td><td>0</td><td> 0</td><td> 3</td><td> 0</td><td>0</td><td> 4</td><td>0</td></tr>\n",
       "\t<tr><th scope=row>C5C</th><td>1</td><td>5</td><td>2</td><td> 0</td><td> 1</td><td> 5</td><td>7</td><td> 2</td><td>0</td></tr>\n",
       "\t<tr><th scope=row>P1A</th><td>5</td><td>5</td><td>4</td><td> 6</td><td> 5</td><td> 3</td><td>3</td><td> 0</td><td>2</td></tr>\n",
       "\t<tr><th scope=row>P1B</th><td>0</td><td>4</td><td>0</td><td> 0</td><td> 9</td><td> 2</td><td>1</td><td> 9</td><td>0</td></tr>\n",
       "\t<tr><th scope=row>P1C</th><td>9</td><td>4</td><td>2</td><td> 0</td><td> 6</td><td> 7</td><td>9</td><td> 3</td><td>4</td></tr>\n",
       "\t<tr><th scope=row>P2A</th><td>2</td><td>1</td><td>9</td><td> 5</td><td> 6</td><td> 2</td><td>1</td><td> 0</td><td>2</td></tr>\n",
       "\t<tr><th scope=row>P2B</th><td>6</td><td>1</td><td>3</td><td> 4</td><td> 9</td><td> 1</td><td>2</td><td> 0</td><td>0</td></tr>\n",
       "\t<tr><th scope=row>P2C</th><td>5</td><td>1</td><td>1</td><td> 3</td><td> 1</td><td> 0</td><td>2</td><td> 3</td><td>0</td></tr>\n",
       "</tbody>\n",
       "</table>\n"
      ],
      "text/latex": [
       "A matrix: 21 × 9 of type int\n",
       "\\begin{tabular}{r|lllllllll}\n",
       "  & TX50\\_RS01920 & TX50\\_RS02775 & TX50\\_RS03835 & TX50\\_RS04835 & TX50\\_RS05495 & TX50\\_RS06065 & TX50\\_RS07590 & TX50\\_RS08720 & TX50\\_RS09435\\\\\n",
       "\\hline\n",
       "\tC1A & 8 & 2 & 0 &  2 &  0 &  0 & 1 &  2 & 0\\\\\n",
       "\tC1B & 2 & 1 & 1 & 10 & 17 & 13 & 3 &  6 & 2\\\\\n",
       "\tC1C & 5 & 5 & 5 &  4 &  1 &  3 & 4 &  6 & 2\\\\\n",
       "\tC2A & 0 & 3 & 1 &  6 &  1 &  0 & 2 &  1 & 0\\\\\n",
       "\tC2B\\_1 & 4 & 1 & 0 &  1 &  2 &  2 & 2 &  3 & 2\\\\\n",
       "\tC2C\\_1 & 1 & 6 & 0 &  4 &  0 &  0 & 6 &  0 & 2\\\\\n",
       "\tC3A\\_1 & 0 & 0 & 0 &  1 &  1 &  0 & 1 &  0 & 1\\\\\n",
       "\tC3B & 2 & 0 & 1 &  4 &  2 &  1 & 4 &  2 & 0\\\\\n",
       "\tC3C\\_1 & 1 & 4 & 0 & 18 &  1 &  0 & 0 &  1 & 0\\\\\n",
       "\tC4A & 0 & 0 & 0 &  1 &  1 &  4 & 3 &  0 & 1\\\\\n",
       "\tC4B & 4 & 0 & 0 &  0 &  3 &  2 & 0 &  0 & 0\\\\\n",
       "\tC4C & 1 & 0 & 0 &  0 &  0 &  2 & 0 &  3 & 0\\\\\n",
       "\tC5A & 0 & 1 & 0 &  5 &  1 &  0 & 0 & 12 & 4\\\\\n",
       "\tC5B & 0 & 0 & 0 &  0 &  3 &  0 & 0 &  4 & 0\\\\\n",
       "\tC5C & 1 & 5 & 2 &  0 &  1 &  5 & 7 &  2 & 0\\\\\n",
       "\tP1A & 5 & 5 & 4 &  6 &  5 &  3 & 3 &  0 & 2\\\\\n",
       "\tP1B & 0 & 4 & 0 &  0 &  9 &  2 & 1 &  9 & 0\\\\\n",
       "\tP1C & 9 & 4 & 2 &  0 &  6 &  7 & 9 &  3 & 4\\\\\n",
       "\tP2A & 2 & 1 & 9 &  5 &  6 &  2 & 1 &  0 & 2\\\\\n",
       "\tP2B & 6 & 1 & 3 &  4 &  9 &  1 & 2 &  0 & 0\\\\\n",
       "\tP2C & 5 & 1 & 1 &  3 &  1 &  0 & 2 &  3 & 0\\\\\n",
       "\\end{tabular}\n"
      ],
      "text/markdown": [
       "\n",
       "A matrix: 21 × 9 of type int\n",
       "\n",
       "| <!--/--> | TX50_RS01920 | TX50_RS02775 | TX50_RS03835 | TX50_RS04835 | TX50_RS05495 | TX50_RS06065 | TX50_RS07590 | TX50_RS08720 | TX50_RS09435 |\n",
       "|---|---|---|---|---|---|---|---|---|---|\n",
       "| C1A | 8 | 2 | 0 |  2 |  0 |  0 | 1 |  2 | 0 |\n",
       "| C1B | 2 | 1 | 1 | 10 | 17 | 13 | 3 |  6 | 2 |\n",
       "| C1C | 5 | 5 | 5 |  4 |  1 |  3 | 4 |  6 | 2 |\n",
       "| C2A | 0 | 3 | 1 |  6 |  1 |  0 | 2 |  1 | 0 |\n",
       "| C2B_1 | 4 | 1 | 0 |  1 |  2 |  2 | 2 |  3 | 2 |\n",
       "| C2C_1 | 1 | 6 | 0 |  4 |  0 |  0 | 6 |  0 | 2 |\n",
       "| C3A_1 | 0 | 0 | 0 |  1 |  1 |  0 | 1 |  0 | 1 |\n",
       "| C3B | 2 | 0 | 1 |  4 |  2 |  1 | 4 |  2 | 0 |\n",
       "| C3C_1 | 1 | 4 | 0 | 18 |  1 |  0 | 0 |  1 | 0 |\n",
       "| C4A | 0 | 0 | 0 |  1 |  1 |  4 | 3 |  0 | 1 |\n",
       "| C4B | 4 | 0 | 0 |  0 |  3 |  2 | 0 |  0 | 0 |\n",
       "| C4C | 1 | 0 | 0 |  0 |  0 |  2 | 0 |  3 | 0 |\n",
       "| C5A | 0 | 1 | 0 |  5 |  1 |  0 | 0 | 12 | 4 |\n",
       "| C5B | 0 | 0 | 0 |  0 |  3 |  0 | 0 |  4 | 0 |\n",
       "| C5C | 1 | 5 | 2 |  0 |  1 |  5 | 7 |  2 | 0 |\n",
       "| P1A | 5 | 5 | 4 |  6 |  5 |  3 | 3 |  0 | 2 |\n",
       "| P1B | 0 | 4 | 0 |  0 |  9 |  2 | 1 |  9 | 0 |\n",
       "| P1C | 9 | 4 | 2 |  0 |  6 |  7 | 9 |  3 | 4 |\n",
       "| P2A | 2 | 1 | 9 |  5 |  6 |  2 | 1 |  0 | 2 |\n",
       "| P2B | 6 | 1 | 3 |  4 |  9 |  1 | 2 |  0 | 0 |\n",
       "| P2C | 5 | 1 | 1 |  3 |  1 |  0 | 2 |  3 | 0 |\n",
       "\n"
      ],
      "text/plain": [
       "      TX50_RS01920 TX50_RS02775 TX50_RS03835 TX50_RS04835 TX50_RS05495\n",
       "C1A   8            2            0             2            0          \n",
       "C1B   2            1            1            10           17          \n",
       "C1C   5            5            5             4            1          \n",
       "C2A   0            3            1             6            1          \n",
       "C2B_1 4            1            0             1            2          \n",
       "C2C_1 1            6            0             4            0          \n",
       "C3A_1 0            0            0             1            1          \n",
       "C3B   2            0            1             4            2          \n",
       "C3C_1 1            4            0            18            1          \n",
       "C4A   0            0            0             1            1          \n",
       "C4B   4            0            0             0            3          \n",
       "C4C   1            0            0             0            0          \n",
       "C5A   0            1            0             5            1          \n",
       "C5B   0            0            0             0            3          \n",
       "C5C   1            5            2             0            1          \n",
       "P1A   5            5            4             6            5          \n",
       "P1B   0            4            0             0            9          \n",
       "P1C   9            4            2             0            6          \n",
       "P2A   2            1            9             5            6          \n",
       "P2B   6            1            3             4            9          \n",
       "P2C   5            1            1             3            1          \n",
       "      TX50_RS06065 TX50_RS07590 TX50_RS08720 TX50_RS09435\n",
       "C1A    0           1             2           0           \n",
       "C1B   13           3             6           2           \n",
       "C1C    3           4             6           2           \n",
       "C2A    0           2             1           0           \n",
       "C2B_1  2           2             3           2           \n",
       "C2C_1  0           6             0           2           \n",
       "C3A_1  0           1             0           1           \n",
       "C3B    1           4             2           0           \n",
       "C3C_1  0           0             1           0           \n",
       "C4A    4           3             0           1           \n",
       "C4B    2           0             0           0           \n",
       "C4C    2           0             3           0           \n",
       "C5A    0           0            12           4           \n",
       "C5B    0           0             4           0           \n",
       "C5C    5           7             2           0           \n",
       "P1A    3           3             0           2           \n",
       "P1B    2           1             9           0           \n",
       "P1C    7           9             3           4           \n",
       "P2A    2           1             0           2           \n",
       "P2B    1           2             0           0           \n",
       "P2C    0           2             3           0           "
      ]
     },
     "metadata": {},
     "output_type": "display_data"
    }
   ],
   "source": [
    "t(counts(dds)[(rowSums(counts(dds) >= 10) < 3),])"
   ]
  },
  {
   "cell_type": "code",
   "execution_count": 87,
   "id": "1f619b37",
   "metadata": {},
   "outputs": [
    {
     "data": {
      "text/html": [
       "<table class=\"dataframe\">\n",
       "<caption>A data.frame: 9 × 5</caption>\n",
       "<thead>\n",
       "\t<tr><th></th><th scope=col>gene_id</th><th scope=col>gene</th><th scope=col>product</th><th scope=col>protein_id</th><th scope=col>old_locus_tag</th></tr>\n",
       "\t<tr><th></th><th scope=col>&lt;chr&gt;</th><th scope=col>&lt;chr&gt;</th><th scope=col>&lt;chr&gt;</th><th scope=col>&lt;chr&gt;</th><th scope=col>&lt;lgl&gt;</th></tr>\n",
       "</thead>\n",
       "<tbody>\n",
       "\t<tr><th scope=row>TX50_RS01920</th><td>TX50_RS01920</td><td>    </td><td>hypothetical protein                            </td><td>WP_036930928.1</td><td>NA</td></tr>\n",
       "\t<tr><th scope=row>TX50_RS02775</th><td>TX50_RS02775</td><td>    </td><td>hypothetical protein                            </td><td>WP_011132152.1</td><td>NA</td></tr>\n",
       "\t<tr><th scope=row>TX50_RS03835</th><td>TX50_RS03835</td><td>    </td><td>helix-turn-helix domain-containing protein      </td><td>WP_011132352.1</td><td>NA</td></tr>\n",
       "\t<tr><th scope=row>TX50_RS04810</th><td>TX50_RS04810</td><td>    </td><td>ATP phosphoribosyltransferase regulatory subunit</td><td>WP_011132533.1</td><td>NA</td></tr>\n",
       "\t<tr><th scope=row>TX50_RS05470</th><td>TX50_RS05470</td><td>    </td><td>Nif11 family protein                            </td><td>WP_011132653.1</td><td>NA</td></tr>\n",
       "\t<tr><th scope=row>TX50_RS06025</th><td>TX50_RS06025</td><td>    </td><td>HupE/UreJ family protein                        </td><td>WP_011132756.1</td><td>NA</td></tr>\n",
       "\t<tr><th scope=row>TX50_RS07540</th><td>TX50_RS07540</td><td>    </td><td>hypothetical protein                            </td><td>WP_011133031.1</td><td>NA</td></tr>\n",
       "\t<tr><th scope=row>TX50_RS08670</th><td>TX50_RS08670</td><td>mreC</td><td>rod shape-determining protein MreC              </td><td>WP_011133248.1</td><td>NA</td></tr>\n",
       "\t<tr><th scope=row>TX50_RS09370</th><td>TX50_RS09370</td><td>    </td><td>DUF3721 domain-containing protein               </td><td>WP_011133050.1</td><td>NA</td></tr>\n",
       "</tbody>\n",
       "</table>\n"
      ],
      "text/latex": [
       "A data.frame: 9 × 5\n",
       "\\begin{tabular}{r|lllll}\n",
       "  & gene\\_id & gene & product & protein\\_id & old\\_locus\\_tag\\\\\n",
       "  & <chr> & <chr> & <chr> & <chr> & <lgl>\\\\\n",
       "\\hline\n",
       "\tTX50\\_RS01920 & TX50\\_RS01920 &      & hypothetical protein                             & WP\\_036930928.1 & NA\\\\\n",
       "\tTX50\\_RS02775 & TX50\\_RS02775 &      & hypothetical protein                             & WP\\_011132152.1 & NA\\\\\n",
       "\tTX50\\_RS03835 & TX50\\_RS03835 &      & helix-turn-helix domain-containing protein       & WP\\_011132352.1 & NA\\\\\n",
       "\tTX50\\_RS04810 & TX50\\_RS04810 &      & ATP phosphoribosyltransferase regulatory subunit & WP\\_011132533.1 & NA\\\\\n",
       "\tTX50\\_RS05470 & TX50\\_RS05470 &      & Nif11 family protein                             & WP\\_011132653.1 & NA\\\\\n",
       "\tTX50\\_RS06025 & TX50\\_RS06025 &      & HupE/UreJ family protein                         & WP\\_011132756.1 & NA\\\\\n",
       "\tTX50\\_RS07540 & TX50\\_RS07540 &      & hypothetical protein                             & WP\\_011133031.1 & NA\\\\\n",
       "\tTX50\\_RS08670 & TX50\\_RS08670 & mreC & rod shape-determining protein MreC               & WP\\_011133248.1 & NA\\\\\n",
       "\tTX50\\_RS09370 & TX50\\_RS09370 &      & DUF3721 domain-containing protein                & WP\\_011133050.1 & NA\\\\\n",
       "\\end{tabular}\n"
      ],
      "text/markdown": [
       "\n",
       "A data.frame: 9 × 5\n",
       "\n",
       "| <!--/--> | gene_id &lt;chr&gt; | gene &lt;chr&gt; | product &lt;chr&gt; | protein_id &lt;chr&gt; | old_locus_tag &lt;lgl&gt; |\n",
       "|---|---|---|---|---|---|\n",
       "| TX50_RS01920 | TX50_RS01920 | <!----> | hypothetical protein                             | WP_036930928.1 | NA |\n",
       "| TX50_RS02775 | TX50_RS02775 | <!----> | hypothetical protein                             | WP_011132152.1 | NA |\n",
       "| TX50_RS03835 | TX50_RS03835 | <!----> | helix-turn-helix domain-containing protein       | WP_011132352.1 | NA |\n",
       "| TX50_RS04810 | TX50_RS04810 | <!----> | ATP phosphoribosyltransferase regulatory subunit | WP_011132533.1 | NA |\n",
       "| TX50_RS05470 | TX50_RS05470 | <!----> | Nif11 family protein                             | WP_011132653.1 | NA |\n",
       "| TX50_RS06025 | TX50_RS06025 | <!----> | HupE/UreJ family protein                         | WP_011132756.1 | NA |\n",
       "| TX50_RS07540 | TX50_RS07540 | <!----> | hypothetical protein                             | WP_011133031.1 | NA |\n",
       "| TX50_RS08670 | TX50_RS08670 | mreC | rod shape-determining protein MreC               | WP_011133248.1 | NA |\n",
       "| TX50_RS09370 | TX50_RS09370 | <!----> | DUF3721 domain-containing protein                | WP_011133050.1 | NA |\n",
       "\n"
      ],
      "text/plain": [
       "             gene_id      gene product                                         \n",
       "TX50_RS01920 TX50_RS01920      hypothetical protein                            \n",
       "TX50_RS02775 TX50_RS02775      hypothetical protein                            \n",
       "TX50_RS03835 TX50_RS03835      helix-turn-helix domain-containing protein      \n",
       "TX50_RS04810 TX50_RS04810      ATP phosphoribosyltransferase regulatory subunit\n",
       "TX50_RS05470 TX50_RS05470      Nif11 family protein                            \n",
       "TX50_RS06025 TX50_RS06025      HupE/UreJ family protein                        \n",
       "TX50_RS07540 TX50_RS07540      hypothetical protein                            \n",
       "TX50_RS08670 TX50_RS08670 mreC rod shape-determining protein MreC              \n",
       "TX50_RS09370 TX50_RS09370      DUF3721 domain-containing protein               \n",
       "             protein_id     old_locus_tag\n",
       "TX50_RS01920 WP_036930928.1 NA           \n",
       "TX50_RS02775 WP_011132152.1 NA           \n",
       "TX50_RS03835 WP_011132352.1 NA           \n",
       "TX50_RS04810 WP_011132533.1 NA           \n",
       "TX50_RS05470 WP_011132653.1 NA           \n",
       "TX50_RS06025 WP_011132756.1 NA           \n",
       "TX50_RS07540 WP_011133031.1 NA           \n",
       "TX50_RS08670 WP_011133248.1 NA           \n",
       "TX50_RS09370 WP_011133050.1 NA           "
      ]
     },
     "metadata": {},
     "output_type": "display_data"
    }
   ],
   "source": [
    "genes[(rowSums(counts(dds) >= 10) < 3),]"
   ]
  },
  {
   "cell_type": "code",
   "execution_count": null,
   "id": "aec0c907",
   "metadata": {},
   "outputs": [],
   "source": []
  },
  {
   "cell_type": "code",
   "execution_count": null,
   "id": "eca09956",
   "metadata": {},
   "outputs": [],
   "source": []
  },
  {
   "cell_type": "code",
   "execution_count": null,
   "id": "8957a464",
   "metadata": {},
   "outputs": [],
   "source": []
  },
  {
   "cell_type": "code",
   "execution_count": null,
   "id": "956ec781",
   "metadata": {},
   "outputs": [],
   "source": []
  }
 ],
 "metadata": {
  "kernelspec": {
   "display_name": "R",
   "language": "R",
   "name": "ir"
  },
  "language_info": {
   "codemirror_mode": "r",
   "file_extension": ".r",
   "mimetype": "text/x-r-source",
   "name": "R",
   "pygments_lexer": "r",
   "version": "4.2.2"
  }
 },
 "nbformat": 4,
 "nbformat_minor": 5
}

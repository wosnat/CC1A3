{
 "cells": [
  {
   "cell_type": "markdown",
   "id": "030252fb-b718-46ac-b3d3-595fd1539969",
   "metadata": {},
   "source": [
    "# create figures for HOT1A3 DE Axenic"
   ]
  },
  {
   "cell_type": "code",
   "execution_count": 1,
   "id": "3a05fc89-bc64-41b3-ae48-4e334fb57d77",
   "metadata": {},
   "outputs": [
    {
     "name": "stderr",
     "output_type": "stream",
     "text": [
      "Warning message:\n",
      "\"package 'DESeq2' was built under R version 4.2.2\"\n",
      "Loading required package: S4Vectors\n",
      "\n",
      "Warning message:\n",
      "\"package 'S4Vectors' was built under R version 4.2.2\"\n",
      "Loading required package: stats4\n",
      "\n",
      "Loading required package: BiocGenerics\n",
      "\n",
      "Warning message:\n",
      "\"package 'BiocGenerics' was built under R version 4.2.1\"\n",
      "\n",
      "Attaching package: 'BiocGenerics'\n",
      "\n",
      "\n",
      "The following objects are masked from 'package:stats':\n",
      "\n",
      "    IQR, mad, sd, var, xtabs\n",
      "\n",
      "\n",
      "The following objects are masked from 'package:base':\n",
      "\n",
      "    anyDuplicated, aperm, append, as.data.frame, basename, cbind,\n",
      "    colnames, dirname, do.call, duplicated, eval, evalq, Filter, Find,\n",
      "    get, grep, grepl, intersect, is.unsorted, lapply, Map, mapply,\n",
      "    match, mget, order, paste, pmax, pmax.int, pmin, pmin.int,\n",
      "    Position, rank, rbind, Reduce, rownames, sapply, setdiff, sort,\n",
      "    table, tapply, union, unique, unsplit, which.max, which.min\n",
      "\n",
      "\n",
      "\n",
      "Attaching package: 'S4Vectors'\n",
      "\n",
      "\n",
      "The following objects are masked from 'package:base':\n",
      "\n",
      "    expand.grid, I, unname\n",
      "\n",
      "\n",
      "Loading required package: IRanges\n",
      "\n",
      "Warning message:\n",
      "\"package 'IRanges' was built under R version 4.2.1\"\n",
      "\n",
      "Attaching package: 'IRanges'\n",
      "\n",
      "\n",
      "The following object is masked from 'package:grDevices':\n",
      "\n",
      "    windows\n",
      "\n",
      "\n",
      "Loading required package: GenomicRanges\n",
      "\n",
      "Warning message:\n",
      "\"package 'GenomicRanges' was built under R version 4.2.2\"\n",
      "Loading required package: GenomeInfoDb\n",
      "\n",
      "Warning message:\n",
      "\"package 'GenomeInfoDb' was built under R version 4.2.2\"\n",
      "Loading required package: SummarizedExperiment\n",
      "\n",
      "Warning message:\n",
      "\"package 'SummarizedExperiment' was built under R version 4.2.1\"\n",
      "Loading required package: MatrixGenerics\n",
      "\n",
      "Warning message:\n",
      "\"package 'MatrixGenerics' was built under R version 4.2.1\"\n",
      "Loading required package: matrixStats\n",
      "\n",
      "Warning message:\n",
      "\"package 'matrixStats' was built under R version 4.2.2\"\n",
      "\n",
      "Attaching package: 'MatrixGenerics'\n",
      "\n",
      "\n",
      "The following objects are masked from 'package:matrixStats':\n",
      "\n",
      "    colAlls, colAnyNAs, colAnys, colAvgsPerRowSet, colCollapse,\n",
      "    colCounts, colCummaxs, colCummins, colCumprods, colCumsums,\n",
      "    colDiffs, colIQRDiffs, colIQRs, colLogSumExps, colMadDiffs,\n",
      "    colMads, colMaxs, colMeans2, colMedians, colMins, colOrderStats,\n",
      "    colProds, colQuantiles, colRanges, colRanks, colSdDiffs, colSds,\n",
      "    colSums2, colTabulates, colVarDiffs, colVars, colWeightedMads,\n",
      "    colWeightedMeans, colWeightedMedians, colWeightedSds,\n",
      "    colWeightedVars, rowAlls, rowAnyNAs, rowAnys, rowAvgsPerColSet,\n",
      "    rowCollapse, rowCounts, rowCummaxs, rowCummins, rowCumprods,\n",
      "    rowCumsums, rowDiffs, rowIQRDiffs, rowIQRs, rowLogSumExps,\n",
      "    rowMadDiffs, rowMads, rowMaxs, rowMeans2, rowMedians, rowMins,\n",
      "    rowOrderStats, rowProds, rowQuantiles, rowRanges, rowRanks,\n",
      "    rowSdDiffs, rowSds, rowSums2, rowTabulates, rowVarDiffs, rowVars,\n",
      "    rowWeightedMads, rowWeightedMeans, rowWeightedMedians,\n",
      "    rowWeightedSds, rowWeightedVars\n",
      "\n",
      "\n",
      "Loading required package: Biobase\n",
      "\n",
      "Warning message:\n",
      "\"package 'Biobase' was built under R version 4.2.1\"\n",
      "Welcome to Bioconductor\n",
      "\n",
      "    Vignettes contain introductory material; view with\n",
      "    'browseVignettes()'. To cite Bioconductor, see\n",
      "    'citation(\"Biobase\")', and for packages 'citation(\"pkgname\")'.\n",
      "\n",
      "\n",
      "\n",
      "Attaching package: 'Biobase'\n",
      "\n",
      "\n",
      "The following object is masked from 'package:MatrixGenerics':\n",
      "\n",
      "    rowMedians\n",
      "\n",
      "\n",
      "The following objects are masked from 'package:matrixStats':\n",
      "\n",
      "    anyMissing, rowMedians\n",
      "\n",
      "\n",
      "Warning message:\n",
      "\"package 'reshape2' was built under R version 4.2.1\"\n",
      "Warning message:\n",
      "\"package 'gplots' was built under R version 4.2.2\"\n",
      "\n",
      "Attaching package: 'gplots'\n",
      "\n",
      "\n",
      "The following object is masked from 'package:IRanges':\n",
      "\n",
      "    space\n",
      "\n",
      "\n",
      "The following object is masked from 'package:S4Vectors':\n",
      "\n",
      "    space\n",
      "\n",
      "\n",
      "The following object is masked from 'package:stats':\n",
      "\n",
      "    lowess\n",
      "\n",
      "\n",
      "Warning message:\n",
      "\"package 'GGally' was built under R version 4.2.2\"\n",
      "Loading required package: ggplot2\n",
      "\n",
      "Warning message:\n",
      "\"package 'ggplot2' was built under R version 4.2.2\"\n",
      "Registered S3 method overwritten by 'GGally':\n",
      "  method from   \n",
      "  +.gg   ggplot2\n",
      "\n",
      "Warning message:\n",
      "\"package 'goseq' was built under R version 4.2.1\"\n",
      "Loading required package: BiasedUrn\n",
      "\n",
      "Warning message:\n",
      "\"package 'BiasedUrn' was built under R version 4.2.1\"\n",
      "Loading required package: geneLenDataBase\n",
      "\n",
      "\n",
      "Attaching package: 'geneLenDataBase'\n",
      "\n",
      "\n",
      "The following object is masked from 'package:S4Vectors':\n",
      "\n",
      "    unfactor\n",
      "\n",
      "\n",
      "\n",
      "\n",
      "Warning message:\n",
      "\"package 'readxl' was built under R version 4.2.2\"\n",
      "Warning message:\n",
      "\"package 'tidyverse' was built under R version 4.2.2\"\n",
      "Warning message:\n",
      "\"package 'tibble' was built under R version 4.2.1\"\n",
      "Warning message:\n",
      "\"package 'tidyr' was built under R version 4.2.2\"\n",
      "Warning message:\n",
      "\"package 'readr' was built under R version 4.2.2\"\n",
      "Warning message:\n",
      "\"package 'purrr' was built under R version 4.2.2\"\n",
      "Warning message:\n",
      "\"package 'dplyr' was built under R version 4.2.2\"\n",
      "Warning message:\n",
      "\"package 'stringr' was built under R version 4.2.2\"\n",
      "Warning message:\n",
      "\"package 'forcats' was built under R version 4.2.2\"\n",
      "Warning message:\n",
      "\"package 'lubridate' was built under R version 4.2.2\"\n",
      "── \u001b[1mAttaching core tidyverse packages\u001b[22m ──────────────────────────────────────────────────────────────── tidyverse 2.0.0 ──\n",
      "\u001b[32m✔\u001b[39m \u001b[34mdplyr    \u001b[39m 1.1.0     \u001b[32m✔\u001b[39m \u001b[34mreadr    \u001b[39m 2.1.4\n",
      "\u001b[32m✔\u001b[39m \u001b[34mforcats  \u001b[39m 1.0.0     \u001b[32m✔\u001b[39m \u001b[34mstringr  \u001b[39m 1.5.0\n",
      "\u001b[32m✔\u001b[39m \u001b[34mlubridate\u001b[39m 1.9.2     \u001b[32m✔\u001b[39m \u001b[34mtibble   \u001b[39m 3.1.8\n",
      "\u001b[32m✔\u001b[39m \u001b[34mpurrr    \u001b[39m 1.0.1     \u001b[32m✔\u001b[39m \u001b[34mtidyr    \u001b[39m 1.3.0\n",
      "── \u001b[1mConflicts\u001b[22m ────────────────────────────────────────────────────────────────────────────────── tidyverse_conflicts() ──\n",
      "\u001b[31m✖\u001b[39m \u001b[34mlubridate\u001b[39m::\u001b[32m%within%()\u001b[39m masks \u001b[34mIRanges\u001b[39m::%within%()\n",
      "\u001b[31m✖\u001b[39m \u001b[34mdplyr\u001b[39m::\u001b[32mcollapse()\u001b[39m     masks \u001b[34mIRanges\u001b[39m::collapse()\n",
      "\u001b[31m✖\u001b[39m \u001b[34mdplyr\u001b[39m::\u001b[32mcombine()\u001b[39m      masks \u001b[34mBiobase\u001b[39m::combine(), \u001b[34mBiocGenerics\u001b[39m::combine()\n",
      "\u001b[31m✖\u001b[39m \u001b[34mdplyr\u001b[39m::\u001b[32mcount()\u001b[39m        masks \u001b[34mmatrixStats\u001b[39m::count()\n",
      "\u001b[31m✖\u001b[39m \u001b[34mdplyr\u001b[39m::\u001b[32mdesc()\u001b[39m         masks \u001b[34mIRanges\u001b[39m::desc()\n",
      "\u001b[31m✖\u001b[39m \u001b[34mtidyr\u001b[39m::\u001b[32mexpand()\u001b[39m       masks \u001b[34mS4Vectors\u001b[39m::expand()\n",
      "\u001b[31m✖\u001b[39m \u001b[34mdplyr\u001b[39m::\u001b[32mfilter()\u001b[39m       masks \u001b[34mstats\u001b[39m::filter()\n",
      "\u001b[31m✖\u001b[39m \u001b[34mdplyr\u001b[39m::\u001b[32mfirst()\u001b[39m        masks \u001b[34mS4Vectors\u001b[39m::first()\n",
      "\u001b[31m✖\u001b[39m \u001b[34mdplyr\u001b[39m::\u001b[32mlag()\u001b[39m          masks \u001b[34mstats\u001b[39m::lag()\n",
      "\u001b[31m✖\u001b[39m \u001b[34mggplot2\u001b[39m::\u001b[32mPosition()\u001b[39m   masks \u001b[34mBiocGenerics\u001b[39m::Position(), \u001b[34mbase\u001b[39m::Position()\n",
      "\u001b[31m✖\u001b[39m \u001b[34mpurrr\u001b[39m::\u001b[32mreduce()\u001b[39m       masks \u001b[34mGenomicRanges\u001b[39m::reduce(), \u001b[34mIRanges\u001b[39m::reduce()\n",
      "\u001b[31m✖\u001b[39m \u001b[34mdplyr\u001b[39m::\u001b[32mrename()\u001b[39m       masks \u001b[34mS4Vectors\u001b[39m::rename()\n",
      "\u001b[31m✖\u001b[39m \u001b[34mlubridate\u001b[39m::\u001b[32msecond()\u001b[39m   masks \u001b[34mS4Vectors\u001b[39m::second()\n",
      "\u001b[31m✖\u001b[39m \u001b[34mlubridate\u001b[39m::\u001b[32msecond<-()\u001b[39m masks \u001b[34mS4Vectors\u001b[39m::second<-()\n",
      "\u001b[31m✖\u001b[39m \u001b[34mdplyr\u001b[39m::\u001b[32mslice()\u001b[39m        masks \u001b[34mIRanges\u001b[39m::slice()\n",
      "\u001b[36mℹ\u001b[39m Use the conflicted package (\u001b[3m\u001b[34m<http://conflicted.r-lib.org/>\u001b[39m\u001b[23m) to force all conflicts to become errors\n",
      "Warning message:\n",
      "\"package 'pheatmap' was built under R version 4.2.2\"\n",
      "Warning message:\n",
      "\"package 'corrplot' was built under R version 4.2.1\"\n",
      "corrplot 0.92 loaded\n",
      "\n",
      "Warning message:\n",
      "\"package 'circlize' was built under R version 4.2.2\"\n",
      "========================================\n",
      "circlize version 0.4.15\n",
      "CRAN page: https://cran.r-project.org/package=circlize\n",
      "Github page: https://github.com/jokergoo/circlize\n",
      "Documentation: https://jokergoo.github.io/circlize_book/book/\n",
      "\n",
      "If you use it in published research, please cite:\n",
      "Gu, Z. circlize implements and enhances circular visualization\n",
      "  in R. Bioinformatics 2014.\n",
      "\n",
      "This message can be suppressed by:\n",
      "  suppressPackageStartupMessages(library(circlize))\n",
      "========================================\n",
      "\n",
      "\n"
     ]
    }
   ],
   "source": [
    "library(DESeq2)\n",
    "library(RColorBrewer)\n",
    "library(reshape2)\n",
    "library(\"gplots\")\n",
    "library(\"GGally\")                      # Load GGally package\n",
    "library(goseq)\n",
    "library(readxl)\n",
    "library(tidyverse)\n",
    "library(\"pheatmap\")\n",
    "library(corrplot)\n",
    "library(circlize)"
   ]
  },
  {
   "cell_type": "code",
   "execution_count": 2,
   "id": "b274d793-d983-43ae-93ec-a9d2f0b06b30",
   "metadata": {},
   "outputs": [
    {
     "name": "stderr",
     "output_type": "stream",
     "text": [
      "Warning message:\n",
      "\"package 'ggrepel' was built under R version 4.2.1\"\n"
     ]
    }
   ],
   "source": [
    "library(ggrepel)"
   ]
  },
  {
   "cell_type": "code",
   "execution_count": 3,
   "id": "8c1fea0f-cfcd-4de3-95dc-854a96083a41",
   "metadata": {},
   "outputs": [],
   "source": [
    "options(repr.plot.width = 10, repr.plot.height = 10, repr.plot.res = 300)"
   ]
  },
  {
   "cell_type": "code",
   "execution_count": 4,
   "id": "8dd51165-8d1d-4d1e-9415-96fe38fdfc74",
   "metadata": {},
   "outputs": [
    {
     "name": "stderr",
     "output_type": "stream",
     "text": [
      "Warning message:\n",
      "\"package 'ComplexHeatmap' was built under R version 4.2.1\"\n",
      "Loading required package: grid\n",
      "\n",
      "========================================\n",
      "ComplexHeatmap version 2.14.0\n",
      "Bioconductor page: http://bioconductor.org/packages/ComplexHeatmap/\n",
      "Github page: https://github.com/jokergoo/ComplexHeatmap\n",
      "Documentation: http://jokergoo.github.io/ComplexHeatmap-reference\n",
      "\n",
      "If you use it in published research, please cite either one:\n",
      "- Gu, Z. Complex Heatmap Visualization. iMeta 2022.\n",
      "- Gu, Z. Complex heatmaps reveal patterns and correlations in multidimensional \n",
      "    genomic data. Bioinformatics 2016.\n",
      "\n",
      "\n",
      "The new InteractiveComplexHeatmap package can directly export static \n",
      "complex heatmaps into an interactive Shiny app with zero effort. Have a try!\n",
      "\n",
      "This message can be suppressed by:\n",
      "  suppressPackageStartupMessages(library(ComplexHeatmap))\n",
      "========================================\n",
      "! pheatmap() has been masked by ComplexHeatmap::pheatmap(). Most of the arguments\n",
      "   in the original pheatmap() are identically supported in the new function. You \n",
      "   can still use the original function by explicitly calling pheatmap::pheatmap().\n",
      "\n",
      "\n",
      "\n",
      "Attaching package: 'ComplexHeatmap'\n",
      "\n",
      "\n",
      "The following object is masked from 'package:pheatmap':\n",
      "\n",
      "    pheatmap\n",
      "\n",
      "\n"
     ]
    }
   ],
   "source": [
    "source('../src/common_functions.R')"
   ]
  },
  {
   "cell_type": "code",
   "execution_count": null,
   "id": "5a2e5727-9358-4556-b74e-64a546d96223",
   "metadata": {},
   "outputs": [],
   "source": []
  },
  {
   "cell_type": "code",
   "execution_count": 6,
   "id": "8c0332ec-6b8f-476b-8b98-ebc43dc7b76a",
   "metadata": {},
   "outputs": [
    {
     "name": "stderr",
     "output_type": "stream",
     "text": [
      "Warning message:\n",
      "\"\u001b[1m\u001b[22mOne or more parsing issues, call `problems()` on your data frame for details, e.g.:\n",
      "  dat <- vroom(...)\n",
      "  problems(dat)\"\n",
      "\u001b[1mRows: \u001b[22m\u001b[34m97675\u001b[39m \u001b[1mColumns: \u001b[22m\u001b[34m36\u001b[39m\n",
      "\u001b[36m──\u001b[39m \u001b[1mColumn specification\u001b[22m \u001b[36m────────────────────────────────────────────────────────────────────────────────────────────────\u001b[39m\n",
      "\u001b[1mDelimiter:\u001b[22m \",\"\n",
      "\u001b[31mchr\u001b[39m (25): contrast, protein_id, Assay, contrast1, seq_id, Name, gene, gene_s...\n",
      "\u001b[32mdbl\u001b[39m  (7): logFC, AveExpr, pvalue, padj, start, end, gene_length\n",
      "\u001b[33mlgl\u001b[39m  (4): exception, down, up, is_de\n",
      "\n",
      "\u001b[36mℹ\u001b[39m Use `spec()` to retrieve the full column specification for this data.\n",
      "\u001b[36mℹ\u001b[39m Specify the column types or set `show_col_types = FALSE` to quiet this message.\n"
     ]
    }
   ],
   "source": [
    "df_all_orig = read_csv(file.path('DE_results', 'HOT1A3_all_FC_results.csv'))\n",
    "\n"
   ]
  },
  {
   "cell_type": "code",
   "execution_count": 7,
   "id": "f6ed240e-3623-4c75-861a-5886349e11a3",
   "metadata": {},
   "outputs": [],
   "source": [
    "df_all = df_all_orig %>%\n",
    "    filter(contrast1 %in% c('LATEvsC1_prot', 'LATEvsC1P1_rna'))"
   ]
  },
  {
   "cell_type": "code",
   "execution_count": 8,
   "id": "c1e28655-2a0f-4b9a-885e-c4b1b543f1e5",
   "metadata": {},
   "outputs": [],
   "source": [
    "df_degenes = df_all %>% \n",
    "    filter(padj < 0.05)"
   ]
  },
  {
   "cell_type": "code",
   "execution_count": 9,
   "id": "8a6cd1cb-33d4-4b03-859a-8f44aecea18f",
   "metadata": {},
   "outputs": [],
   "source": [
    "df_degenes2 = df_all %>% \n",
    "    filter(padj < 0.05) %>%\n",
    "    filter (abs(logFC)>1.5)"
   ]
  },
  {
   "cell_type": "raw",
   "id": "5ecefec6-99f3-414c-8876-a62796b24e2e",
   "metadata": {},
   "source": [
    "df_all = df_all %>% \n",
    "    mutate(\n",
    "        Category = if_else(is.na(Category), 'Uncharacterized', Category),\n",
    "        Category = if_else(Category == 'Poorly characterized', 'Uncharacterized', Category)\n",
    "          )"
   ]
  },
  {
   "cell_type": "code",
   "execution_count": 12,
   "id": "8b8e7cb0-6447-4d85-a5e9-efe4c9d31356",
   "metadata": {},
   "outputs": [
    {
     "ename": "ERROR",
     "evalue": "\u001b[1m\u001b[33mError\u001b[39m in `count()`:\u001b[22m\n\u001b[1m\u001b[22m\u001b[33m!\u001b[39m Must group by variables found in `.data`.\n\u001b[31m✖\u001b[39m Column `Category` is not found.\n",
     "output_type": "error",
     "traceback": [
      "\u001b[1m\u001b[33mError\u001b[39m in `count()`:\u001b[22m\n\u001b[1m\u001b[22m\u001b[33m!\u001b[39m Must group by variables found in `.data`.\n\u001b[31m✖\u001b[39m Column `Category` is not found.\nTraceback:\n",
      "1. df_all %>% count(Category) %>% arrange(desc(n))",
      "2. arrange(., desc(n))",
      "3. count(., Category)",
      "4. count.data.frame(., Category)",
      "5. group_by(x, ..., .add = TRUE, .drop = .drop)",
      "6. group_by.data.frame(x, ..., .add = TRUE, .drop = .drop)",
      "7. group_by_prepare(.data, ..., .add = .add, error_call = current_env())",
      "8. abort(bullets, call = error_call)",
      "9. signal_abort(cnd, .file)"
     ]
    }
   ],
   "source": [
    "df_all %>% count(Category) %>% arrange(desc(n)) "
   ]
  },
  {
   "cell_type": "code",
   "execution_count": null,
   "id": "2c18124e-0d46-4ea2-a9bd-3d8093270d94",
   "metadata": {},
   "outputs": [],
   "source": [
    "unique(df_all$contrast1)"
   ]
  },
  {
   "cell_type": "code",
   "execution_count": null,
   "id": "71772c0c-f3ae-41a9-b26e-5748dee5de71",
   "metadata": {},
   "outputs": [],
   "source": [
    "t(head(df_all))"
   ]
  },
  {
   "cell_type": "code",
   "execution_count": null,
   "id": "1bb52632-e16a-421d-847e-414fdca0047a",
   "metadata": {},
   "outputs": [],
   "source": [
    "# number of differentiall expressed genes\n",
    "df_all %>%\n",
    "    filter(padj < 0.05) %>% count(Assay, down)"
   ]
  },
  {
   "cell_type": "markdown",
   "id": "1f41df98-9d3a-4bb7-8956-567bba6f0284",
   "metadata": {},
   "source": [
    "# Top up and down regulated genes"
   ]
  },
  {
   "cell_type": "code",
   "execution_count": null,
   "id": "9d4903d4-5576-40d0-abb3-2614322100d5",
   "metadata": {},
   "outputs": [],
   "source": [
    "df_all %>%\n",
    "    filter(padj < 0.05) %>% top_n(-50, logFC) %>% \n",
    "    select(Assay,logFC,gene, product, Category) #%>% \n",
    "    #select(Assay,logFC,gene)"
   ]
  },
  {
   "cell_type": "code",
   "execution_count": null,
   "id": "88f8ee0e-7e68-455b-a331-b5c44dadbbcd",
   "metadata": {},
   "outputs": [],
   "source": [
    "get_top_gene_id <- function(df_all, assay, top_number) {\n",
    "    df_all %>%\n",
    "        filter(padj < 0.05) %>% \n",
    "        filter(Assay == assay) %>% \n",
    "        top_n(top_number, logFC) %>% \n",
    "        select(gene_id, Assay)\n",
    "}\n",
    "number_of_top_ids = 5\n",
    "top_up_de_genes = bind_rows(list(get_top_gene_id(df_all, 'Proteome', number_of_top_ids), get_top_gene_id(df_all, 'RNA', number_of_top_ids)))\n",
    "top_down_de_genes = bind_rows(list(get_top_gene_id(df_all, 'Proteome', -number_of_top_ids), get_top_gene_id(df_all, 'RNA', -number_of_top_ids)))\n"
   ]
  },
  {
   "cell_type": "code",
   "execution_count": null,
   "id": "f383b784-9c69-4512-835a-e76c7158ffb0",
   "metadata": {},
   "outputs": [],
   "source": [
    "dput(names(df_all))"
   ]
  },
  {
   "cell_type": "code",
   "execution_count": null,
   "id": "8da64ffd-a39b-4eea-8f8f-9e7b34935298",
   "metadata": {},
   "outputs": [],
   "source": [
    "df_pivot_for_top = df_all %>%\n",
    "    pivot_wider(\n",
    "        names_from = 'Assay',\n",
    "        values_from = c(\"logFC\", #\"AveExpr\", \"pvalue\",\n",
    "                        \"padj\", ),\n",
    "        id_cols=c(\"gene_id\",  \"gene\",  \"product\",  \"sub\", \n",
    "                  #\"module\",\n",
    "                  \"path\"\n",
    "                  #\"pathway\",\n",
    "                 # \"ecpath\"\n",
    "                 )\n",
    "    ) %>% select(gene_id, gene, product, sub, path, logFC_Proteome, padj_Proteome,logFC_RNA,padj_RNA)\n"
   ]
  },
  {
   "cell_type": "code",
   "execution_count": null,
   "id": "0434dac3-5e50-46bb-be0d-0c513d5c0ca0",
   "metadata": {},
   "outputs": [],
   "source": [
    "dput(names(df_pivot_for_top))"
   ]
  },
  {
   "cell_type": "code",
   "execution_count": null,
   "id": "6f5630ad-b42a-4d07-8d8c-4d19fcd95877",
   "metadata": {},
   "outputs": [],
   "source": [
    "df_pivot_for_top %>% filter(gene_id %in% top_up_de_genes$gene_id) %>% arrange(desc(logFC_RNA), desc(logFC_Proteome) )"
   ]
  },
  {
   "cell_type": "code",
   "execution_count": null,
   "id": "2ff6a82c-545d-49d4-9141-ce10a4ff3877",
   "metadata": {},
   "outputs": [],
   "source": [
    "df_pivot_for_top %>% filter(gene_id %in% top_down_de_genes$gene_id)%>% arrange(logFC_RNA, logFC_Proteome) "
   ]
  },
  {
   "cell_type": "markdown",
   "id": "a9a4cb5b-818f-4496-bdec-76c1d666fe51",
   "metadata": {},
   "source": [
    "# Vulcano plot"
   ]
  },
  {
   "cell_type": "code",
   "execution_count": null,
   "id": "9004da25-b2f8-465c-905f-fa5657e6d1f8",
   "metadata": {},
   "outputs": [],
   "source": [
    "df_degenes2 = df_all %>% \n",
    "    filter(padj < 0.05) %>%\n",
    "    filter (abs(logFC)>2)"
   ]
  },
  {
   "cell_type": "code",
   "execution_count": null,
   "id": "8f16bec9-f42b-4740-8f9c-d50286ca9bec",
   "metadata": {},
   "outputs": [],
   "source": [
    "df_degenes = df_all %>% \n",
    "    filter(padj < 0.05) "
   ]
  },
  {
   "cell_type": "code",
   "execution_count": null,
   "id": "c29aa7f9-8d2a-4d77-8d35-d44c5fa15b93",
   "metadata": {},
   "outputs": [],
   "source": [
    "df_degenes2 %>% count(Assay, Category) %>% pivot_wider(names_from=Assay, values_from = n) %>% arrange(desc(Proteome), desc(RNA) )"
   ]
  },
  {
   "cell_type": "raw",
   "id": "e535fa4c-fcdf-4086-936b-924bba199c70",
   "metadata": {},
   "source": [
    "df_degenes2 %>% filter(Category=='Other') %>% count(product)"
   ]
  },
  {
   "cell_type": "code",
   "execution_count": null,
   "id": "b1c0662e-7574-469a-8b1e-07b494969368",
   "metadata": {},
   "outputs": [],
   "source": [
    "# these are all pseudo genes\n",
    "df_all %>% filter(is.na(Category)) #%>% count(product)"
   ]
  },
  {
   "cell_type": "code",
   "execution_count": null,
   "id": "e032742c-c1d9-41de-876d-ec6c8e02b2ed",
   "metadata": {},
   "outputs": [],
   "source": [
    "df_all = df_all %>% filter(!is.na(Category)) #%>% count(product)\n"
   ]
  },
  {
   "cell_type": "code",
   "execution_count": null,
   "id": "b8c49a97-387a-41b5-b50f-0e264c7aad48",
   "metadata": {},
   "outputs": [],
   "source": [
    "df_degenes%>% count(gene) %>% arrange()"
   ]
  },
  {
   "cell_type": "code",
   "execution_count": null,
   "id": "62a10d1b-9b90-4e2d-9d47-afb0d60b3aa7",
   "metadata": {},
   "outputs": [],
   "source": [
    "names(df_all)"
   ]
  },
  {
   "cell_type": "code",
   "execution_count": null,
   "id": "29be504d-9282-440e-a846-43536ca51af1",
   "metadata": {},
   "outputs": [],
   "source": [
    "df_all$log.padj = -log10(df_all$padj)"
   ]
  },
  {
   "cell_type": "code",
   "execution_count": null,
   "id": "37076074-f027-4c9b-b44d-d4ef9abaae74",
   "metadata": {},
   "outputs": [],
   "source": [
    "df_all$Category = factor(df_all$Category, levels = category.order)"
   ]
  },
  {
   "cell_type": "code",
   "execution_count": null,
   "id": "8affa446-7e95-479d-9b6a-eb1eebbe57de",
   "metadata": {},
   "outputs": [],
   "source": [
    "options(repr.plot.width = 5, repr.plot.height = 4, repr.plot.res = 300)"
   ]
  },
  {
   "cell_type": "code",
   "execution_count": null,
   "id": "382e8fa2-0fff-4307-a93a-e941b98b9dd0",
   "metadata": {},
   "outputs": [],
   "source": [
    "colSums(is.na(df_all))"
   ]
  },
  {
   "cell_type": "code",
   "execution_count": null,
   "id": "96255ce5-b53e-41b2-8fb8-7088573d5cd6",
   "metadata": {},
   "outputs": [],
   "source": [
    "library(ggrepel)\n",
    "assay = 'Proteome'\n",
    "\n",
    "df_labels = df_all %>%\n",
    "  filter(Assay == assay, abs(logFC) > 1, log.padj > 3, !is.na(gene), gene != '')\n",
    "\n",
    "# Use ggplot2 allows more flexibility in plotting\n",
    "df_all %>% filter(Assay == assay) %>%\n",
    "ggplot(aes(x = logFC, y =log.padj, color=Category, fill=Category, shape=Membrane.transport \n",
    "          )) + \n",
    "    geom_vline(xintercept = c(-1,1), colour = \"red\", linetype=\"dotted\" ) + # Add fold change cutoffs\n",
    "    geom_hline(yintercept = 3, colour = \"red\", linetype=\"dotted\" ) + # Add significance cutoffs\n",
    "    geom_point(size=0, stroke=1 )+\n",
    "    theme_bw(base_size = 8) + # change theme\n",
    "    #theme_bw() + # change theme\n",
    "    xlab(expression(\"log2FC\")) + # x-axis label\n",
    "    ylab(expression(\" -log10(padj)\")) + # y-axis label\n",
    "    #geom_vline(xintercept = 0, colour = \"black\") + # Add 0 lines\n",
    "    scale_colour_manual(values = category.cols)+\n",
    "    scale_fill_manual(values = category.cols)+\n",
    "    scale_shape_manual(values = c(21,4)) +\n",
    "    geom_text_repel(data=df_labels,\n",
    "                    aes( logFC, log.padj ,label=gene), max.overlaps = Inf, size=2)  #+ # add gene label\n",
    "    #facet_wrap(~contrast, ncol=2)"
   ]
  },
  {
   "cell_type": "code",
   "execution_count": null,
   "id": "6061811f-23f1-47a1-b1ff-66e920a301ef",
   "metadata": {},
   "outputs": [],
   "source": [
    "ggsave('figures/HOT1A3_longterm_DE_Proteome.svg')"
   ]
  },
  {
   "cell_type": "code",
   "execution_count": null,
   "id": "3788a978-db53-480c-a4cf-c9726fa42d82",
   "metadata": {},
   "outputs": [],
   "source": [
    "library(ggrepel)\n",
    "assay = 'RNA'\n",
    "\n",
    "\n",
    "ymax <- 15\n",
    "df_all$capped.log.padj <- pmin(df_all$log.padj, ymax)\n",
    "xmax <- 5\n",
    "df_all$capped.logFC <- pmin(df_all$logFC, xmax)\n",
    "\n",
    "\n",
    "df_labels = df_all %>%\n",
    "  filter(Assay == assay, abs(logFC) > 1, log.padj > 3, !is.na(gene), gene != '')\n",
    "\n",
    "# Use ggplot2 allows more flexibility in plotting\n",
    "df_all %>% filter(Assay == assay) %>%\n",
    "ggplot(aes(x = capped.logFC, y =capped.log.padj, color=Category, fill=Category, shape=Membrane.transport \n",
    "          )) + \n",
    "    geom_vline(xintercept = c(-1,1), colour = \"red\", linetype=\"dotted\" ) + # Add fold change cutoffs\n",
    "    geom_hline(yintercept = 3, colour = \"red\", linetype=\"dotted\" ) + # Add significance cutoffs\n",
    "    geom_point(size=0, stroke=1 )+\n",
    "    theme_bw(base_size = 8) + # change theme\n",
    "    #theme_bw() + # change theme\n",
    "    xlab(expression(\"log2FC\")) + # x-axis label\n",
    "    ylab(expression(\" -log10(padj)\")) + # y-axis label\n",
    "    #geom_vline(xintercept = 0, colour = \"black\") + # Add 0 lines\n",
    "    scale_colour_manual(values = category.cols)+\n",
    "    scale_fill_manual(values = category.cols)+\n",
    "    scale_shape_manual(values = c(21,4)) +\n",
    "    geom_text_repel(data=df_labels,\n",
    "                    aes( capped.logFC, capped.log.padj ,label=gene), max.overlaps = Inf, size=2)  #+ # add gene label\n",
    "    #facet_wrap(~contrast, ncol=2)"
   ]
  },
  {
   "cell_type": "code",
   "execution_count": null,
   "id": "37f9f7d2-a653-4130-bc88-b73ec8c6f6db",
   "metadata": {},
   "outputs": [],
   "source": [
    "ggsave('figures/HOT1A3_longterm_DE_RNA.svg')"
   ]
  },
  {
   "cell_type": "code",
   "execution_count": null,
   "id": "5826237a-2f2a-4b5e-987e-ec0f4afd0dcd",
   "metadata": {},
   "outputs": [],
   "source": []
  },
  {
   "cell_type": "code",
   "execution_count": null,
   "id": "a0f244cf-76e2-4dc0-8e45-083a54a29f53",
   "metadata": {},
   "outputs": [],
   "source": []
  },
  {
   "cell_type": "code",
   "execution_count": null,
   "id": "0b808d89-fefd-4a32-ab9d-e2caf9bfa79b",
   "metadata": {},
   "outputs": [],
   "source": [
    "df_all$kegg_gene"
   ]
  },
  {
   "cell_type": "code",
   "execution_count": null,
   "id": "fce26a35-104f-42bf-ac54-da2673e221bd",
   "metadata": {},
   "outputs": [],
   "source": []
  },
  {
   "cell_type": "code",
   "execution_count": null,
   "id": "3a6da52e-4bc7-44ca-84cf-a05dc64a86c6",
   "metadata": {},
   "outputs": [],
   "source": []
  },
  {
   "cell_type": "code",
   "execution_count": null,
   "id": "3baf2360-a500-4081-a1b0-9e525397e2ac",
   "metadata": {},
   "outputs": [],
   "source": []
  },
  {
   "cell_type": "code",
   "execution_count": null,
   "id": "c09c2b53-4f26-4ce3-8d96-f742654f80d9",
   "metadata": {},
   "outputs": [],
   "source": []
  },
  {
   "cell_type": "code",
   "execution_count": null,
   "id": "d526e0df-7d2a-4626-a513-ab0f68db97af",
   "metadata": {},
   "outputs": [],
   "source": []
  },
  {
   "cell_type": "code",
   "execution_count": null,
   "id": "9db1a68b-a902-4f11-af57-d4b4ecbe351e",
   "metadata": {},
   "outputs": [],
   "source": []
  },
  {
   "cell_type": "code",
   "execution_count": null,
   "id": "7dc7d042-052a-45f4-97b5-2fe2f1726424",
   "metadata": {},
   "outputs": [],
   "source": []
  },
  {
   "cell_type": "code",
   "execution_count": null,
   "id": "469d14f1-0411-4b84-9121-81827d8ad2db",
   "metadata": {},
   "outputs": [],
   "source": [
    "help(left_join)"
   ]
  },
  {
   "cell_type": "code",
   "execution_count": null,
   "id": "104c7bb9-0ab0-458f-baa2-13646e770e61",
   "metadata": {},
   "outputs": [],
   "source": []
  }
 ],
 "metadata": {
  "kernelspec": {
   "display_name": "R",
   "language": "R",
   "name": "ir"
  },
  "language_info": {
   "codemirror_mode": "r",
   "file_extension": ".r",
   "mimetype": "text/x-r-source",
   "name": "R",
   "pygments_lexer": "r",
   "version": "4.2.0"
  }
 },
 "nbformat": 4,
 "nbformat_minor": 5
}

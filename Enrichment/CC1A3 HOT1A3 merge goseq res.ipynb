{
 "cells": [
  {
   "cell_type": "code",
   "execution_count": 1,
   "id": "bb0516cd-1775-4644-b94d-d0650d72aa8c",
   "metadata": {},
   "outputs": [
    {
     "name": "stderr",
     "output_type": "stream",
     "text": [
      "Warning message:\n",
      "\"package 'tidyverse' was built under R version 4.2.2\"\n",
      "Warning message:\n",
      "\"package 'ggplot2' was built under R version 4.2.2\"\n",
      "Warning message:\n",
      "\"package 'tibble' was built under R version 4.2.1\"\n",
      "Warning message:\n",
      "\"package 'tidyr' was built under R version 4.2.2\"\n",
      "Warning message:\n",
      "\"package 'readr' was built under R version 4.2.2\"\n",
      "Warning message:\n",
      "\"package 'purrr' was built under R version 4.2.2\"\n",
      "Warning message:\n",
      "\"package 'dplyr' was built under R version 4.2.2\"\n",
      "Warning message:\n",
      "\"package 'stringr' was built under R version 4.2.2\"\n",
      "Warning message:\n",
      "\"package 'forcats' was built under R version 4.2.2\"\n",
      "Warning message:\n",
      "\"package 'lubridate' was built under R version 4.2.2\"\n",
      "── \u001b[1mAttaching core tidyverse packages\u001b[22m ──────────────────────────────────────────────────────────────── tidyverse 2.0.0 ──\n",
      "\u001b[32m✔\u001b[39m \u001b[34mdplyr    \u001b[39m 1.1.0     \u001b[32m✔\u001b[39m \u001b[34mreadr    \u001b[39m 2.1.4\n",
      "\u001b[32m✔\u001b[39m \u001b[34mforcats  \u001b[39m 1.0.0     \u001b[32m✔\u001b[39m \u001b[34mstringr  \u001b[39m 1.5.0\n",
      "\u001b[32m✔\u001b[39m \u001b[34mggplot2  \u001b[39m 3.4.1     \u001b[32m✔\u001b[39m \u001b[34mtibble   \u001b[39m 3.1.8\n",
      "\u001b[32m✔\u001b[39m \u001b[34mlubridate\u001b[39m 1.9.2     \u001b[32m✔\u001b[39m \u001b[34mtidyr    \u001b[39m 1.3.0\n",
      "\u001b[32m✔\u001b[39m \u001b[34mpurrr    \u001b[39m 1.0.1     \n",
      "── \u001b[1mConflicts\u001b[22m ────────────────────────────────────────────────────────────────────────────────── tidyverse_conflicts() ──\n",
      "\u001b[31m✖\u001b[39m \u001b[34mdplyr\u001b[39m::\u001b[32mfilter()\u001b[39m masks \u001b[34mstats\u001b[39m::filter()\n",
      "\u001b[31m✖\u001b[39m \u001b[34mdplyr\u001b[39m::\u001b[32mlag()\u001b[39m    masks \u001b[34mstats\u001b[39m::lag()\n",
      "\u001b[36mℹ\u001b[39m Use the conflicted package (\u001b[3m\u001b[34m<http://conflicted.r-lib.org/>\u001b[39m\u001b[23m) to force all conflicts to become errors\n"
     ]
    }
   ],
   "source": [
    "library(tidyverse)"
   ]
  },
  {
   "cell_type": "code",
   "execution_count": 2,
   "id": "f5adcae9-7e7d-4e14-858c-d10e4bdbe686",
   "metadata": {},
   "outputs": [
    {
     "name": "stderr",
     "output_type": "stream",
     "text": [
      "\u001b[1mRows: \u001b[22m\u001b[34m8668\u001b[39m \u001b[1mColumns: \u001b[22m\u001b[34m17\u001b[39m\n",
      "\u001b[36m──\u001b[39m \u001b[1mColumn specification\u001b[22m \u001b[36m────────────────────────────────────────────────────────────────────────────────────────────────\u001b[39m\n",
      "\u001b[1mDelimiter:\u001b[22m \",\"\n",
      "\u001b[31mchr\u001b[39m (12): category, type, enrich, contrast, organism, main, sub, module, Cat...\n",
      "\u001b[32mdbl\u001b[39m  (5): over_represented_pvalue, padj, under_represented_pvalue, numDEInCa...\n",
      "\n",
      "\u001b[36mℹ\u001b[39m Use `spec()` to retrieve the full column specification for this data.\n",
      "\u001b[36mℹ\u001b[39m Specify the column types or set `show_col_types = FALSE` to quiet this message.\n",
      "\u001b[1mRows: \u001b[22m\u001b[34m1728\u001b[39m \u001b[1mColumns: \u001b[22m\u001b[34m17\u001b[39m\n",
      "\u001b[36m──\u001b[39m \u001b[1mColumn specification\u001b[22m \u001b[36m────────────────────────────────────────────────────────────────────────────────────────────────\u001b[39m\n",
      "\u001b[1mDelimiter:\u001b[22m \",\"\n",
      "\u001b[31mchr\u001b[39m (11): category, type, enrich, contrast, organism, main, sub, module, Cat...\n",
      "\u001b[32mdbl\u001b[39m  (5): over_represented_pvalue, padj, under_represented_pvalue, numDEInCa...\n",
      "\u001b[33mlgl\u001b[39m  (1): path\n",
      "\n",
      "\u001b[36mℹ\u001b[39m Use `spec()` to retrieve the full column specification for this data.\n",
      "\u001b[36mℹ\u001b[39m Specify the column types or set `show_col_types = FALSE` to quiet this message.\n"
     ]
    }
   ],
   "source": [
    "goseq_path = read_csv(file.path('DE_results', 'HOT1A3_GOSEQ_results_path.csv'))\n",
    "goseq_sub = read_csv(file.path('DE_results', 'HOT1A3_GOSEQ_results_sub.csv'))\n"
   ]
  },
  {
   "cell_type": "code",
   "execution_count": 4,
   "id": "c9cb1026-9495-4156-97e5-3d41af26c95f",
   "metadata": {},
   "outputs": [],
   "source": [
    "goseq_res = bind_rows(goseq_sub, goseq_path)"
   ]
  },
  {
   "cell_type": "code",
   "execution_count": 5,
   "id": "da416b29-7f72-43ce-8bc0-4725bb395e5e",
   "metadata": {},
   "outputs": [],
   "source": [
    "goseq_res %>% write_csv(file.path('DE_results', 'HOT1A3_GOSEQ_results.csv'))"
   ]
  },
  {
   "cell_type": "code",
   "execution_count": null,
   "id": "573f9786-141b-4d69-8c30-40ec1513b77d",
   "metadata": {},
   "outputs": [],
   "source": []
  }
 ],
 "metadata": {
  "kernelspec": {
   "display_name": "R",
   "language": "R",
   "name": "ir"
  },
  "language_info": {
   "codemirror_mode": "r",
   "file_extension": ".r",
   "mimetype": "text/x-r-source",
   "name": "R",
   "pygments_lexer": "r",
   "version": "4.2.0"
  }
 },
 "nbformat": 4,
 "nbformat_minor": 5
}
